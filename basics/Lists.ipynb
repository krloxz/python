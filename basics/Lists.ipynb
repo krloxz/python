{
 "cells": [
  {
   "cell_type": "markdown",
   "id": "e47b7e67-7e7c-494f-bb84-80a460f369fc",
   "metadata": {},
   "source": [
    "## Creating Lists"
   ]
  },
  {
   "cell_type": "code",
   "execution_count": 1,
   "id": "ae2204c2-7708-4a43-bdd5-740f04961778",
   "metadata": {},
   "outputs": [
    {
     "data": {
      "text/plain": [
       "[]"
      ]
     },
     "execution_count": 1,
     "metadata": {},
     "output_type": "execute_result"
    }
   ],
   "source": [
    "empty_list = []\n",
    "empty_list"
   ]
  },
  {
   "cell_type": "code",
   "execution_count": 2,
   "id": "ab00c173-4b18-4ecd-893c-f64184fd9f7c",
   "metadata": {},
   "outputs": [
    {
     "data": {
      "text/plain": [
       "[0.9, 1.4, 2.8]"
      ]
     },
     "execution_count": 2,
     "metadata": {},
     "output_type": "execute_result"
    }
   ],
   "source": [
    "prices = [0.9, 1.4, 2.8]\n",
    "prices"
   ]
  },
  {
   "cell_type": "code",
   "execution_count": 3,
   "id": "b15ce3b1-6f0e-4520-a9d7-6e88d89ace75",
   "metadata": {},
   "outputs": [
    {
     "data": {
      "text/plain": [
       "list"
      ]
     },
     "execution_count": 3,
     "metadata": {},
     "output_type": "execute_result"
    }
   ],
   "source": [
    "type(prices)"
   ]
  },
  {
   "cell_type": "code",
   "execution_count": 4,
   "id": "c9cffebd-b6a6-45c2-b951-fe0b064b9f7f",
   "metadata": {},
   "outputs": [
    {
     "data": {
      "text/plain": [
       "3"
      ]
     },
     "execution_count": 4,
     "metadata": {},
     "output_type": "execute_result"
    }
   ],
   "source": [
    "len(prices)"
   ]
  },
  {
   "cell_type": "code",
   "execution_count": 5,
   "id": "26b6b343-0623-4699-b00f-016de8c320e9",
   "metadata": {},
   "outputs": [
    {
     "data": {
      "text/plain": [
       "2.8"
      ]
     },
     "execution_count": 5,
     "metadata": {},
     "output_type": "execute_result"
    }
   ],
   "source": [
    "max(prices)"
   ]
  },
  {
   "cell_type": "code",
   "execution_count": 6,
   "id": "bcd46576-39c0-42bc-959e-9fd633cecae1",
   "metadata": {},
   "outputs": [
    {
     "data": {
      "text/plain": [
       "5.1"
      ]
     },
     "execution_count": 6,
     "metadata": {},
     "output_type": "execute_result"
    }
   ],
   "source": [
    "sum(prices)"
   ]
  },
  {
   "cell_type": "markdown",
   "id": "bd47b48b-5426-4c4f-bbde-9a1b0a7d18c8",
   "metadata": {},
   "source": [
    "## Accessing Lists"
   ]
  },
  {
   "cell_type": "code",
   "execution_count": 7,
   "id": "c2b8b131-dd1a-427a-9aba-f69a91b6c388",
   "metadata": {},
   "outputs": [
    {
     "data": {
      "text/plain": [
       "['apple', 'banana', 'orange', 'pineapple', 'mango', 'pear', 'grapes', 'lemon']"
      ]
     },
     "execution_count": 7,
     "metadata": {},
     "output_type": "execute_result"
    }
   ],
   "source": [
    "products = ['apple', 'banana', 'orange', 'pineapple', 'mango', 'pear', 'grapes', 'lemon']\n",
    "products"
   ]
  },
  {
   "cell_type": "code",
   "execution_count": 8,
   "id": "078befc8-8690-4a25-b2b6-a7dcbee6a4d3",
   "metadata": {},
   "outputs": [
    {
     "data": {
      "text/plain": [
       "'lemon'"
      ]
     },
     "execution_count": 8,
     "metadata": {},
     "output_type": "execute_result"
    }
   ],
   "source": [
    "products[-1]"
   ]
  },
  {
   "cell_type": "code",
   "execution_count": 9,
   "id": "d12c5d22-af45-4b05-8b5c-d5fa64b372d7",
   "metadata": {},
   "outputs": [
    {
     "data": {
      "text/plain": [
       "7"
      ]
     },
     "execution_count": 9,
     "metadata": {},
     "output_type": "execute_result"
    }
   ],
   "source": [
    "products.index('lemon')"
   ]
  },
  {
   "cell_type": "code",
   "execution_count": 10,
   "id": "f46c8e3c-d57d-45c1-b7de-ffd86a2f9733",
   "metadata": {},
   "outputs": [
    {
     "data": {
      "text/plain": [
       "'lemon'"
      ]
     },
     "execution_count": 10,
     "metadata": {},
     "output_type": "execute_result"
    }
   ],
   "source": [
    "products[7]"
   ]
  },
  {
   "cell_type": "code",
   "execution_count": 11,
   "id": "de17a299-2322-4130-89af-5ab959592b30",
   "metadata": {},
   "outputs": [
    {
     "ename": "IndexError",
     "evalue": "list index out of range",
     "output_type": "error",
     "traceback": [
      "\u001b[0;31m---------------------------------------------------------------------------\u001b[0m",
      "\u001b[0;31mIndexError\u001b[0m                                Traceback (most recent call last)",
      "Cell \u001b[0;32mIn[11], line 1\u001b[0m\n\u001b[0;32m----> 1\u001b[0m \u001b[43mproducts\u001b[49m\u001b[43m[\u001b[49m\u001b[38;5;241;43m10\u001b[39;49m\u001b[43m]\u001b[49m\n",
      "\u001b[0;31mIndexError\u001b[0m: list index out of range"
     ]
    }
   ],
   "source": [
    "products[10]"
   ]
  },
  {
   "cell_type": "code",
   "execution_count": 12,
   "id": "320f5a56-970a-457c-81be-de02736c148b",
   "metadata": {},
   "outputs": [
    {
     "data": {
      "text/plain": [
       "True"
      ]
     },
     "execution_count": 12,
     "metadata": {},
     "output_type": "execute_result"
    }
   ],
   "source": [
    "'mango' in products"
   ]
  },
  {
   "cell_type": "code",
   "execution_count": 13,
   "id": "cacbd38d-af6b-49b2-8a04-0ae15b1c2597",
   "metadata": {},
   "outputs": [
    {
     "data": {
      "text/plain": [
       "False"
      ]
     },
     "execution_count": 13,
     "metadata": {},
     "output_type": "execute_result"
    }
   ],
   "source": [
    "'apple' not in products"
   ]
  },
  {
   "cell_type": "code",
   "execution_count": 14,
   "id": "1d2735d1-b3fc-42d2-a71a-987e3cdb8a91",
   "metadata": {},
   "outputs": [
    {
     "data": {
      "text/plain": [
       "['apple', 'lime', 'orange', 'pineapple', 'mango', 'pear', 'grapes', 'lemon']"
      ]
     },
     "execution_count": 14,
     "metadata": {},
     "output_type": "execute_result"
    }
   ],
   "source": [
    "products[1] = 'lime'\n",
    "products"
   ]
  },
  {
   "cell_type": "code",
   "execution_count": 15,
   "id": "dfc43d1d-5678-4085-be3e-dc0f393cd16a",
   "metadata": {},
   "outputs": [
    {
     "data": {
      "text/plain": [
       "['orange', 'pineapple']"
      ]
     },
     "execution_count": 15,
     "metadata": {},
     "output_type": "execute_result"
    }
   ],
   "source": [
    "products[2:4]"
   ]
  },
  {
   "cell_type": "code",
   "execution_count": 16,
   "id": "5134d1af-abeb-44bc-b71e-a2b7b1ae677e",
   "metadata": {},
   "outputs": [
    {
     "data": {
      "text/plain": [
       "['orange', 'pineapple', 'mango', 'pear', 'grapes', 'lemon']"
      ]
     },
     "execution_count": 16,
     "metadata": {},
     "output_type": "execute_result"
    }
   ],
   "source": [
    "products[2:]"
   ]
  },
  {
   "cell_type": "code",
   "execution_count": 17,
   "id": "d0314b26-b256-42e5-9948-f081eb9eeba9",
   "metadata": {},
   "outputs": [
    {
     "data": {
      "text/plain": [
       "['apple', 'lime', 'orange', 'pineapple', 'mango', 'pear']"
      ]
     },
     "execution_count": 17,
     "metadata": {},
     "output_type": "execute_result"
    }
   ],
   "source": [
    "products[:6]"
   ]
  },
  {
   "cell_type": "code",
   "execution_count": 18,
   "id": "98f8892e-7cf8-402b-ba77-c696bafa5894",
   "metadata": {},
   "outputs": [
    {
     "data": {
      "text/plain": [
       "['orange', 'pineapple']"
      ]
     },
     "execution_count": 18,
     "metadata": {},
     "output_type": "execute_result"
    }
   ],
   "source": [
    "products[-6:-4]"
   ]
  },
  {
   "cell_type": "code",
   "execution_count": 19,
   "id": "b49dffef-0652-4b08-bb1c-fb706c3203c2",
   "metadata": {},
   "outputs": [
    {
     "data": {
      "text/plain": [
       "['orange', 'pineapple', 'mango', 'pear', 'grapes', 'lemon']"
      ]
     },
     "execution_count": 19,
     "metadata": {},
     "output_type": "execute_result"
    }
   ],
   "source": [
    "products[-6:]"
   ]
  },
  {
   "cell_type": "code",
   "execution_count": 20,
   "id": "0a31649b-20d2-4527-bc45-30e54e522e13",
   "metadata": {},
   "outputs": [
    {
     "data": {
      "text/plain": [
       "['apple', 'lime', 'orange', 'pineapple', 'mango', 'pear']"
      ]
     },
     "execution_count": 20,
     "metadata": {},
     "output_type": "execute_result"
    }
   ],
   "source": [
    "products[:-2]"
   ]
  },
  {
   "cell_type": "markdown",
   "id": "a70b6717-d794-4f6a-ac1e-27c8501a068d",
   "metadata": {},
   "source": [
    "## Manipulating Lists"
   ]
  },
  {
   "cell_type": "code",
   "execution_count": 21,
   "id": "8f1664a8-7c97-489d-8fe6-1815ba39efa9",
   "metadata": {},
   "outputs": [
    {
     "data": {
      "text/plain": [
       "['apple',\n",
       " 'lime',\n",
       " 'orange',\n",
       " 'pineapple',\n",
       " 'mango',\n",
       " 'pear',\n",
       " 'grapes',\n",
       " 'lemon',\n",
       " 'banana']"
      ]
     },
     "execution_count": 21,
     "metadata": {},
     "output_type": "execute_result"
    }
   ],
   "source": [
    "products.append('banana')\n",
    "products"
   ]
  },
  {
   "cell_type": "code",
   "execution_count": 22,
   "id": "09b3782e-2198-44f7-b0c3-ac7d34e5ca8a",
   "metadata": {},
   "outputs": [
    {
     "data": {
      "text/plain": [
       "['apple', 'lime', 'orange', 'pineapple', 'mango', 'pear', 'grapes', 'lemon']"
      ]
     },
     "execution_count": 22,
     "metadata": {},
     "output_type": "execute_result"
    }
   ],
   "source": [
    "products.pop()\n",
    "products"
   ]
  },
  {
   "cell_type": "code",
   "execution_count": 23,
   "id": "2b345328-8dcc-44ea-b507-4e159ccd1a6e",
   "metadata": {},
   "outputs": [
    {
     "data": {
      "text/plain": [
       "['lime', 'orange', 'pineapple', 'mango', 'pear', 'grapes', 'lemon']"
      ]
     },
     "execution_count": 23,
     "metadata": {},
     "output_type": "execute_result"
    }
   ],
   "source": [
    "products.remove('apple')\n",
    "products"
   ]
  },
  {
   "cell_type": "code",
   "execution_count": 24,
   "id": "50d14da4-1f4b-4fd6-9b9c-e8078b051ce0",
   "metadata": {},
   "outputs": [
    {
     "data": {
      "text/plain": [
       "['lime', 'banana', 'orange', 'pineapple', 'mango', 'pear', 'grapes', 'lemon']"
      ]
     },
     "execution_count": 24,
     "metadata": {},
     "output_type": "execute_result"
    }
   ],
   "source": [
    "products.insert(1, 'banana')\n",
    "products"
   ]
  },
  {
   "cell_type": "code",
   "execution_count": 25,
   "id": "0c295cef-7a48-4e21-b223-88e11ff7113a",
   "metadata": {},
   "outputs": [
    {
     "data": {
      "text/plain": [
       "['lime',\n",
       " 'banana',\n",
       " 'orange',\n",
       " 'pineapple',\n",
       " 'mango',\n",
       " 'pear',\n",
       " 'grapes',\n",
       " 'lemon',\n",
       " 'TV',\n",
       " 'laptop']"
      ]
     },
     "execution_count": 25,
     "metadata": {},
     "output_type": "execute_result"
    }
   ],
   "source": [
    "electronics = ['TV', 'laptop']\n",
    "products.extend(electronics)\n",
    "products"
   ]
  },
  {
   "cell_type": "code",
   "execution_count": 26,
   "id": "a871970a-528a-4996-bb79-9bd4a70ce6e7",
   "metadata": {},
   "outputs": [
    {
     "data": {
      "text/plain": [
       "[]"
      ]
     },
     "execution_count": 26,
     "metadata": {},
     "output_type": "execute_result"
    }
   ],
   "source": [
    "electronics.clear()\n",
    "electronics"
   ]
  },
  {
   "cell_type": "code",
   "execution_count": 31,
   "id": "c4c241bb-286e-45e8-8776-74a6bfb0bbf5",
   "metadata": {},
   "outputs": [
    {
     "ename": "NameError",
     "evalue": "name 'electronics' is not defined",
     "output_type": "error",
     "traceback": [
      "\u001b[0;31m---------------------------------------------------------------------------\u001b[0m",
      "\u001b[0;31mNameError\u001b[0m                                 Traceback (most recent call last)",
      "Cell \u001b[0;32mIn[31], line 3\u001b[0m\n\u001b[1;32m      1\u001b[0m electronics \u001b[38;5;241m=\u001b[39m [\u001b[38;5;124m'\u001b[39m\u001b[38;5;124mTV\u001b[39m\u001b[38;5;124m'\u001b[39m, \u001b[38;5;124m'\u001b[39m\u001b[38;5;124mlaptop\u001b[39m\u001b[38;5;124m'\u001b[39m]\n\u001b[1;32m      2\u001b[0m \u001b[38;5;28;01mdel\u001b[39;00m electronics \u001b[38;5;66;03m# Delete the list variable entirely\u001b[39;00m\n\u001b[0;32m----> 3\u001b[0m \u001b[43melectronics\u001b[49m\n",
      "\u001b[0;31mNameError\u001b[0m: name 'electronics' is not defined"
     ]
    }
   ],
   "source": [
    "electronics = ['TV', 'laptop']\n",
    "del electronics # Delete the list variable entirely\n",
    "electronics"
   ]
  },
  {
   "cell_type": "markdown",
   "id": "6611a9a5-f9ae-4f8d-845a-cd58222a5d0f",
   "metadata": {},
   "source": [
    "## Other Methods"
   ]
  },
  {
   "cell_type": "code",
   "execution_count": 32,
   "id": "e9312fe0-7813-4963-9ed0-e1c6a69dd434",
   "metadata": {},
   "outputs": [
    {
     "data": {
      "text/plain": [
       "['TV',\n",
       " 'banana',\n",
       " 'grapes',\n",
       " 'laptop',\n",
       " 'lemon',\n",
       " 'lime',\n",
       " 'mango',\n",
       " 'orange',\n",
       " 'pear',\n",
       " 'pineapple']"
      ]
     },
     "execution_count": 32,
     "metadata": {},
     "output_type": "execute_result"
    }
   ],
   "source": [
    "products.sort()\n",
    "products"
   ]
  },
  {
   "cell_type": "code",
   "execution_count": 33,
   "id": "2a058e66-1fa4-4b08-a8ed-4a8df306dcbc",
   "metadata": {},
   "outputs": [
    {
     "name": "stdout",
     "output_type": "stream",
     "text": [
      "Help on list object:\n",
      "\n",
      "class list(object)\n",
      " |  list(iterable=(), /)\n",
      " |\n",
      " |  Built-in mutable sequence.\n",
      " |\n",
      " |  If no argument is given, the constructor creates a new empty list.\n",
      " |  The argument must be an iterable if specified.\n",
      " |\n",
      " |  Methods defined here:\n",
      " |\n",
      " |  __add__(self, value, /)\n",
      " |      Return self+value.\n",
      " |\n",
      " |  __contains__(self, key, /)\n",
      " |      Return bool(key in self).\n",
      " |\n",
      " |  __delitem__(self, key, /)\n",
      " |      Delete self[key].\n",
      " |\n",
      " |  __eq__(self, value, /)\n",
      " |      Return self==value.\n",
      " |\n",
      " |  __ge__(self, value, /)\n",
      " |      Return self>=value.\n",
      " |\n",
      " |  __getattribute__(self, name, /)\n",
      " |      Return getattr(self, name).\n",
      " |\n",
      " |  __getitem__(self, index, /)\n",
      " |      Return self[index].\n",
      " |\n",
      " |  __gt__(self, value, /)\n",
      " |      Return self>value.\n",
      " |\n",
      " |  __iadd__(self, value, /)\n",
      " |      Implement self+=value.\n",
      " |\n",
      " |  __imul__(self, value, /)\n",
      " |      Implement self*=value.\n",
      " |\n",
      " |  __init__(self, /, *args, **kwargs)\n",
      " |      Initialize self.  See help(type(self)) for accurate signature.\n",
      " |\n",
      " |  __iter__(self, /)\n",
      " |      Implement iter(self).\n",
      " |\n",
      " |  __le__(self, value, /)\n",
      " |      Return self<=value.\n",
      " |\n",
      " |  __len__(self, /)\n",
      " |      Return len(self).\n",
      " |\n",
      " |  __lt__(self, value, /)\n",
      " |      Return self<value.\n",
      " |\n",
      " |  __mul__(self, value, /)\n",
      " |      Return self*value.\n",
      " |\n",
      " |  __ne__(self, value, /)\n",
      " |      Return self!=value.\n",
      " |\n",
      " |  __repr__(self, /)\n",
      " |      Return repr(self).\n",
      " |\n",
      " |  __reversed__(self, /)\n",
      " |      Return a reverse iterator over the list.\n",
      " |\n",
      " |  __rmul__(self, value, /)\n",
      " |      Return value*self.\n",
      " |\n",
      " |  __setitem__(self, key, value, /)\n",
      " |      Set self[key] to value.\n",
      " |\n",
      " |  __sizeof__(self, /)\n",
      " |      Return the size of the list in memory, in bytes.\n",
      " |\n",
      " |  append(self, object, /)\n",
      " |      Append object to the end of the list.\n",
      " |\n",
      " |  clear(self, /)\n",
      " |      Remove all items from list.\n",
      " |\n",
      " |  copy(self, /)\n",
      " |      Return a shallow copy of the list.\n",
      " |\n",
      " |  count(self, value, /)\n",
      " |      Return number of occurrences of value.\n",
      " |\n",
      " |  extend(self, iterable, /)\n",
      " |      Extend list by appending elements from the iterable.\n",
      " |\n",
      " |  index(self, value, start=0, stop=9223372036854775807, /)\n",
      " |      Return first index of value.\n",
      " |\n",
      " |      Raises ValueError if the value is not present.\n",
      " |\n",
      " |  insert(self, index, object, /)\n",
      " |      Insert object before index.\n",
      " |\n",
      " |  pop(self, index=-1, /)\n",
      " |      Remove and return item at index (default last).\n",
      " |\n",
      " |      Raises IndexError if list is empty or index is out of range.\n",
      " |\n",
      " |  remove(self, value, /)\n",
      " |      Remove first occurrence of value.\n",
      " |\n",
      " |      Raises ValueError if the value is not present.\n",
      " |\n",
      " |  reverse(self, /)\n",
      " |      Reverse *IN PLACE*.\n",
      " |\n",
      " |  sort(self, /, *, key=None, reverse=False)\n",
      " |      Sort the list in ascending order and return None.\n",
      " |\n",
      " |      The sort is in-place (i.e. the list itself is modified) and stable (i.e. the\n",
      " |      order of two equal elements is maintained).\n",
      " |\n",
      " |      If a key function is given, apply it once to each list item and sort them,\n",
      " |      ascending or descending, according to their function values.\n",
      " |\n",
      " |      The reverse flag can be set to sort in descending order.\n",
      " |\n",
      " |  ----------------------------------------------------------------------\n",
      " |  Class methods defined here:\n",
      " |\n",
      " |  __class_getitem__(object, /)\n",
      " |      See PEP 585\n",
      " |\n",
      " |  ----------------------------------------------------------------------\n",
      " |  Static methods defined here:\n",
      " |\n",
      " |  __new__(*args, **kwargs)\n",
      " |      Create and return a new object.  See help(type) for accurate signature.\n",
      " |\n",
      " |  ----------------------------------------------------------------------\n",
      " |  Data and other attributes defined here:\n",
      " |\n",
      " |  __hash__ = None\n",
      "\n"
     ]
    }
   ],
   "source": [
    "help(products)"
   ]
  },
  {
   "cell_type": "code",
   "execution_count": 34,
   "id": "7f65cf4e-f194-4270-a1f3-84f32147d9a7",
   "metadata": {},
   "outputs": [
    {
     "data": {
      "text/plain": [
       "['pineapple',\n",
       " 'pear',\n",
       " 'orange',\n",
       " 'mango',\n",
       " 'lime',\n",
       " 'lemon',\n",
       " 'laptop',\n",
       " 'grapes',\n",
       " 'banana',\n",
       " 'TV']"
      ]
     },
     "execution_count": 34,
     "metadata": {},
     "output_type": "execute_result"
    }
   ],
   "source": [
    "products.sort(reverse=True)\n",
    "products"
   ]
  },
  {
   "cell_type": "code",
   "execution_count": 35,
   "id": "9f8c7e08-7890-47f8-9901-142ab4d2f3e5",
   "metadata": {},
   "outputs": [
    {
     "data": {
      "text/plain": [
       "['pineapple', 'apple', 'orange', 'pear']"
      ]
     },
     "execution_count": 35,
     "metadata": {},
     "output_type": "execute_result"
    }
   ],
   "source": [
    "fruits = ['pear', 'orange', 'apple', 'pineapple']\n",
    "fruits.reverse()\n",
    "fruits"
   ]
  },
  {
   "cell_type": "code",
   "execution_count": 36,
   "id": "ed227202-e2e1-4a0d-9af6-f434c7b3714b",
   "metadata": {},
   "outputs": [
    {
     "data": {
      "text/plain": [
       "['pineapple',\n",
       " 'pear',\n",
       " 'orange',\n",
       " 'mango',\n",
       " 'lime',\n",
       " 'lemon',\n",
       " 'laptop',\n",
       " 'grapes',\n",
       " 'banana',\n",
       " 'TV',\n",
       " 'pineapple',\n",
       " 'apple',\n",
       " 'orange',\n",
       " 'pear']"
      ]
     },
     "execution_count": 36,
     "metadata": {},
     "output_type": "execute_result"
    }
   ],
   "source": [
    "basket = products + fruits\n",
    "basket"
   ]
  },
  {
   "cell_type": "code",
   "execution_count": 37,
   "id": "2d49ca94-0d8f-4951-b74e-1a122efd0c54",
   "metadata": {},
   "outputs": [
    {
     "data": {
      "text/plain": [
       "2"
      ]
     },
     "execution_count": 37,
     "metadata": {},
     "output_type": "execute_result"
    }
   ],
   "source": [
    "basket.count('orange')"
   ]
  },
  {
   "cell_type": "code",
   "execution_count": 38,
   "id": "2c0427a7-8a34-4b8e-912a-b2e60526ad7f",
   "metadata": {},
   "outputs": [
    {
     "data": {
      "text/plain": [
       "['Welcome', 'to', 'our', 'store']"
      ]
     },
     "execution_count": 38,
     "metadata": {},
     "output_type": "execute_result"
    }
   ],
   "source": [
    "text = 'Welcome to our store'\n",
    "text.split()"
   ]
  },
  {
   "cell_type": "code",
   "execution_count": null,
   "id": "a54e2c8b-b2b8-42bf-af92-0584c44754a5",
   "metadata": {},
   "outputs": [],
   "source": []
  }
 ],
 "metadata": {
  "kernelspec": {
   "display_name": "Python 3 (ipykernel)",
   "language": "python",
   "name": "python3"
  },
  "language_info": {
   "codemirror_mode": {
    "name": "ipython",
    "version": 3
   },
   "file_extension": ".py",
   "mimetype": "text/x-python",
   "name": "python",
   "nbconvert_exporter": "python",
   "pygments_lexer": "ipython3",
   "version": "3.13.2"
  }
 },
 "nbformat": 4,
 "nbformat_minor": 5
}
