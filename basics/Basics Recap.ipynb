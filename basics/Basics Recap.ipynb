{
 "cells": [
  {
   "cell_type": "markdown",
   "id": "2e64cbef-6c2b-4164-8fda-9d93eea996d4",
   "metadata": {},
   "source": [
    "## Basic types"
   ]
  },
  {
   "cell_type": "code",
   "execution_count": 1,
   "id": "ad506c1a-ad9f-4754-b518-fc025dd16f32",
   "metadata": {},
   "outputs": [
    {
     "data": {
      "text/plain": [
       "5.5"
      ]
     },
     "execution_count": 1,
     "metadata": {},
     "output_type": "execute_result"
    }
   ],
   "source": [
    "float_num = float('5.5')\n",
    "float_num"
   ]
  },
  {
   "cell_type": "code",
   "execution_count": 2,
   "id": "592d2120-12ed-4579-88cc-fd0f1eee3735",
   "metadata": {},
   "outputs": [
    {
     "data": {
      "text/plain": [
       "5"
      ]
     },
     "execution_count": 2,
     "metadata": {},
     "output_type": "execute_result"
    }
   ],
   "source": [
    "int_num = int(float_num)\n",
    "int_num"
   ]
  },
  {
   "cell_type": "code",
   "execution_count": 3,
   "id": "0bec08fe-ce59-4831-a50e-202f18c7a302",
   "metadata": {},
   "outputs": [
    {
     "data": {
      "text/plain": [
       "'5'"
      ]
     },
     "execution_count": 3,
     "metadata": {},
     "output_type": "execute_result"
    }
   ],
   "source": [
    "str_num = str(int_num)\n",
    "str_num"
   ]
  },
  {
   "cell_type": "markdown",
   "id": "4643cf70-5fb4-41bb-89eb-a37339ac897c",
   "metadata": {},
   "source": [
    "## Thruthy and Falsy"
   ]
  },
  {
   "cell_type": "code",
   "execution_count": 4,
   "id": "f86b008c-3c08-45c8-81a8-bd7789f95307",
   "metadata": {},
   "outputs": [
    {
     "data": {
      "text/plain": [
       "False"
      ]
     },
     "execution_count": 4,
     "metadata": {},
     "output_type": "execute_result"
    }
   ],
   "source": [
    "bool(None)"
   ]
  },
  {
   "cell_type": "code",
   "execution_count": 5,
   "id": "c095fb21-4da2-4077-b789-242d3961f16f",
   "metadata": {},
   "outputs": [
    {
     "data": {
      "text/plain": [
       "False"
      ]
     },
     "execution_count": 5,
     "metadata": {},
     "output_type": "execute_result"
    }
   ],
   "source": [
    "bool([])"
   ]
  },
  {
   "cell_type": "code",
   "execution_count": 6,
   "id": "e9e91764-6457-4873-ae81-7ed0c18c7771",
   "metadata": {},
   "outputs": [
    {
     "data": {
      "text/plain": [
       "False"
      ]
     },
     "execution_count": 6,
     "metadata": {},
     "output_type": "execute_result"
    }
   ],
   "source": [
    "bool({})"
   ]
  },
  {
   "cell_type": "code",
   "execution_count": 7,
   "id": "f7adad92-ffa8-4d7f-990a-9c2b757ce6f7",
   "metadata": {},
   "outputs": [
    {
     "data": {
      "text/plain": [
       "False"
      ]
     },
     "execution_count": 7,
     "metadata": {},
     "output_type": "execute_result"
    }
   ],
   "source": [
    "bool(())"
   ]
  },
  {
   "cell_type": "code",
   "execution_count": 8,
   "id": "560a4bb1-75c1-43d9-bb5c-fd8682514497",
   "metadata": {},
   "outputs": [
    {
     "data": {
      "text/plain": [
       "False"
      ]
     },
     "execution_count": 8,
     "metadata": {},
     "output_type": "execute_result"
    }
   ],
   "source": [
    "bool(0)"
   ]
  },
  {
   "cell_type": "code",
   "execution_count": 9,
   "id": "2f6eaf1d-4529-4bbf-b645-75d48162342d",
   "metadata": {},
   "outputs": [
    {
     "data": {
      "text/plain": [
       "True"
      ]
     },
     "execution_count": 9,
     "metadata": {},
     "output_type": "execute_result"
    }
   ],
   "source": [
    "bool(3)"
   ]
  },
  {
   "cell_type": "code",
   "execution_count": 10,
   "id": "64a6f956-dfc4-4df5-8a73-b98eef790477",
   "metadata": {},
   "outputs": [
    {
     "data": {
      "text/plain": [
       "True"
      ]
     },
     "execution_count": 10,
     "metadata": {},
     "output_type": "execute_result"
    }
   ],
   "source": [
    "bool([1, 3])"
   ]
  },
  {
   "cell_type": "markdown",
   "id": "8d7acfc2-b34b-468e-a88e-6d1f75217c5d",
   "metadata": {},
   "source": [
    "## elif"
   ]
  },
  {
   "cell_type": "code",
   "execution_count": 11,
   "id": "7c3b7b30-88eb-455e-832e-de2f14479263",
   "metadata": {},
   "outputs": [
    {
     "name": "stdout",
     "output_type": "stream",
     "text": [
      "2\n"
     ]
    }
   ],
   "source": [
    "x = 2\n",
    "if x == 1:\n",
    "  print(1)\n",
    "elif x == 2:\n",
    "  print(2)\n",
    "else:\n",
    "  print('other')"
   ]
  },
  {
   "cell_type": "markdown",
   "id": "e85e6b02-4859-4cbc-8acf-b7de924b1a8f",
   "metadata": {},
   "source": [
    "## Iteration"
   ]
  },
  {
   "cell_type": "code",
   "execution_count": 12,
   "id": "432dbc67-469d-4c0b-8a84-ffbe02756daf",
   "metadata": {},
   "outputs": [
    {
     "name": "stdout",
     "output_type": "stream",
     "text": [
      "0 = 1\n",
      "1 = 2\n",
      "2 = 3\n"
     ]
    }
   ],
   "source": [
    "for index, value in enumerate([1, 2, 3]):\n",
    "  print(f'{index} = {value}')"
   ]
  },
  {
   "cell_type": "code",
   "execution_count": 13,
   "id": "3767738b-3226-4ef8-a671-317ad52afa0e",
   "metadata": {},
   "outputs": [
    {
     "name": "stdout",
     "output_type": "stream",
     "text": [
      "orange: 1\n",
      "apple: 2\n"
     ]
    }
   ],
   "source": [
    "for key, value in {'orange': 1, 'apple': 2}.items():\n",
    "  print(f'{key}: {value}')"
   ]
  },
  {
   "cell_type": "code",
   "execution_count": 14,
   "id": "0934d0dd-b684-452a-87ff-260b994f3797",
   "metadata": {},
   "outputs": [
    {
     "data": {
      "text/plain": [
       "[0, 1, 2, 3, 4]"
      ]
     },
     "execution_count": 14,
     "metadata": {},
     "output_type": "execute_result"
    }
   ],
   "source": [
    "list(range(5))"
   ]
  },
  {
   "cell_type": "code",
   "execution_count": 15,
   "id": "e6ce5385-1829-4e81-b4b9-b8f196714b51",
   "metadata": {},
   "outputs": [
    {
     "name": "stdout",
     "output_type": "stream",
     "text": [
      "0\n",
      "1\n",
      "2\n",
      "3\n",
      "4\n"
     ]
    }
   ],
   "source": [
    "for i in range(5):\n",
    "  print(i)"
   ]
  },
  {
   "cell_type": "code",
   "execution_count": 16,
   "id": "92600c81-d77c-4c1f-93f1-a24e4f2546e9",
   "metadata": {},
   "outputs": [
    {
     "name": "stdout",
     "output_type": "stream",
     "text": [
      "Pear is not in the list\n"
     ]
    }
   ],
   "source": [
    "fruits = ['apple', 'banana']\n",
    "for fruit in fruits:\n",
    "  if fruit == 'pear':\n",
    "    break\n",
    "else:\n",
    "  print('Pear is not in the list')"
   ]
  },
  {
   "cell_type": "code",
   "execution_count": 17,
   "id": "a5b42eed-daec-4a14-8409-646da05bc3b9",
   "metadata": {},
   "outputs": [
    {
     "name": "stdout",
     "output_type": "stream",
     "text": [
      "Pear is not in the list, again!\n"
     ]
    }
   ],
   "source": [
    "i = 0\n",
    "while i < len(fruits):\n",
    "  if fruit[i] == 'pear':\n",
    "    break\n",
    "  i += 1\n",
    "else:\n",
    "  print('Pear is not in the list, again!')"
   ]
  },
  {
   "cell_type": "code",
   "execution_count": null,
   "id": "d18e0c8e-23ac-469f-a543-91875e2ef52d",
   "metadata": {},
   "outputs": [],
   "source": []
  }
 ],
 "metadata": {
  "kernelspec": {
   "display_name": "Python 3 (ipykernel)",
   "language": "python",
   "name": "python3"
  },
  "language_info": {
   "codemirror_mode": {
    "name": "ipython",
    "version": 3
   },
   "file_extension": ".py",
   "mimetype": "text/x-python",
   "name": "python",
   "nbconvert_exporter": "python",
   "pygments_lexer": "ipython3",
   "version": "3.13.2"
  }
 },
 "nbformat": 4,
 "nbformat_minor": 5
}
