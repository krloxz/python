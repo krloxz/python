{
 "cells": [
  {
   "cell_type": "markdown",
   "id": "c607cdb9-870f-4416-816b-c7a10ac99101",
   "metadata": {},
   "source": [
    "## Creating a Set"
   ]
  },
  {
   "cell_type": "code",
   "execution_count": 1,
   "id": "7db54e01-2ca4-4b8a-9ef6-f3791ed69761",
   "metadata": {},
   "outputs": [
    {
     "data": {
      "text/plain": [
       "{'doe@example.com', 'jane@example.com', 'john@example.com'}"
      ]
     },
     "execution_count": 1,
     "metadata": {},
     "output_type": "execute_result"
    }
   ],
   "source": [
    "my_set = {'john@example.com', 'jane@example.com', 'doe@example.com'}\n",
    "my_set"
   ]
  },
  {
   "cell_type": "code",
   "execution_count": 2,
   "id": "75ef603d-726a-4842-a7d6-fc71ce62e7d9",
   "metadata": {},
   "outputs": [
    {
     "name": "stdout",
     "output_type": "stream",
     "text": [
      "<class 'set'>\n"
     ]
    }
   ],
   "source": [
    "print(type(my_set))"
   ]
  },
  {
   "cell_type": "markdown",
   "id": "e26b55d7-cb2d-4014-8722-c59f885465b6",
   "metadata": {},
   "source": [
    "#### Set of numbers"
   ]
  },
  {
   "cell_type": "code",
   "execution_count": 3,
   "id": "1f1d1f61-9362-4c63-97c8-0a7856f06165",
   "metadata": {},
   "outputs": [
    {
     "name": "stdout",
     "output_type": "stream",
     "text": [
      "{1, 2, 4, 5.0, 6.7, 13}\n",
      "<class 'set'>\n"
     ]
    }
   ],
   "source": [
    "numbers_set = {1, 2, 13, 4, 5.0, 6.7}\n",
    "print(numbers_set)\n",
    "print(type(numbers_set))"
   ]
  },
  {
   "cell_type": "markdown",
   "id": "d95fbda9-eaaa-4852-a049-655db204b8b0",
   "metadata": {},
   "source": [
    "#### Empty Set"
   ]
  },
  {
   "cell_type": "code",
   "execution_count": 4,
   "id": "ec111859-ad9a-4f14-8bf6-1f0ed753ac5a",
   "metadata": {},
   "outputs": [
    {
     "name": "stdout",
     "output_type": "stream",
     "text": [
      "set()\n",
      "<class 'set'>\n"
     ]
    }
   ],
   "source": [
    "empty_set = set()\n",
    "print(empty_set)\n",
    "print(type(empty_set))"
   ]
  },
  {
   "cell_type": "code",
   "execution_count": 5,
   "id": "1116c046-2e59-4dd0-b7b3-4faeee4db4d4",
   "metadata": {},
   "outputs": [
    {
     "name": "stdout",
     "output_type": "stream",
     "text": [
      "{}\n",
      "<class 'dict'>\n"
     ]
    }
   ],
   "source": [
    "# This is wrong, and creates a dictionary\n",
    "empty = {}\n",
    "print(empty)\n",
    "print(type(empty))"
   ]
  },
  {
   "cell_type": "markdown",
   "id": "08bbdbe5-73bf-4bd3-86b3-efae37a37947",
   "metadata": {},
   "source": [
    "#### From a List"
   ]
  },
  {
   "cell_type": "code",
   "execution_count": 6,
   "id": "9c08eedf-971b-4a3b-b0fd-4b0c57cdc5b6",
   "metadata": {},
   "outputs": [
    {
     "name": "stdout",
     "output_type": "stream",
     "text": [
      "{'jane@example.com', 'john@example.com', 'doe@example.com'}\n",
      "<class 'set'>\n"
     ]
    }
   ],
   "source": [
    "my_set = set(['john@example.com', 'jane@example.com', 'doe@example.com'])\n",
    "print(my_set)\n",
    "print(type(my_set))"
   ]
  },
  {
   "cell_type": "markdown",
   "id": "8aa5487d-9ec9-4fa4-8fcf-da7f1557fda9",
   "metadata": {},
   "source": [
    "## Accessing elements"
   ]
  },
  {
   "cell_type": "code",
   "execution_count": 7,
   "id": "b3e6a9b2-6505-48b8-8b48-f69498403478",
   "metadata": {},
   "outputs": [
    {
     "name": "stdout",
     "output_type": "stream",
     "text": [
      "jane@example.com\n",
      "john@example.com\n",
      "doe@example.com\n"
     ]
    }
   ],
   "source": [
    "for email in my_set:\n",
    "  print(email)"
   ]
  },
  {
   "cell_type": "code",
   "execution_count": 8,
   "id": "dcd77289-d198-418e-9a84-7a11093257be",
   "metadata": {},
   "outputs": [
    {
     "ename": "TypeError",
     "evalue": "'set' object is not subscriptable",
     "output_type": "error",
     "traceback": [
      "\u001b[0;31m---------------------------------------------------------------------------\u001b[0m",
      "\u001b[0;31mTypeError\u001b[0m                                 Traceback (most recent call last)",
      "Cell \u001b[0;32mIn[8], line 2\u001b[0m\n\u001b[1;32m      1\u001b[0m \u001b[38;5;66;03m# This is not allowed:\u001b[39;00m\n\u001b[0;32m----> 2\u001b[0m \u001b[38;5;28mprint\u001b[39m(\u001b[43mmy_set\u001b[49m\u001b[43m[\u001b[49m\u001b[38;5;241;43m0\u001b[39;49m\u001b[43m]\u001b[49m)\n",
      "\u001b[0;31mTypeError\u001b[0m: 'set' object is not subscriptable"
     ]
    }
   ],
   "source": [
    "# This is not allowed:\n",
    "print(my_set[0])"
   ]
  },
  {
   "cell_type": "markdown",
   "id": "a0d4a261-8deb-4929-b3b9-b01a286cc4fd",
   "metadata": {},
   "source": [
    "#### Using 'in' supported"
   ]
  },
  {
   "cell_type": "code",
   "execution_count": 9,
   "id": "9b4bb335-7b3d-45c9-9b83-822bfc5a5436",
   "metadata": {},
   "outputs": [
    {
     "name": "stdout",
     "output_type": "stream",
     "text": [
      "True\n"
     ]
    }
   ],
   "source": [
    "print('john@example.com' in my_set)"
   ]
  },
  {
   "cell_type": "code",
   "execution_count": 10,
   "id": "f7c1cd8c-6552-4c02-a23e-dc3c8692f836",
   "metadata": {},
   "outputs": [
    {
     "name": "stdout",
     "output_type": "stream",
     "text": [
      "False\n"
     ]
    }
   ],
   "source": [
    "print('john@example.com' not in my_set)"
   ]
  },
  {
   "cell_type": "code",
   "execution_count": 11,
   "id": "6ba3d478-3dc8-4451-a00e-f72785b3ef0e",
   "metadata": {},
   "outputs": [
    {
     "name": "stdout",
     "output_type": "stream",
     "text": [
      "False\n"
     ]
    }
   ],
   "source": [
    "print('johnny@example.com' in my_set)"
   ]
  },
  {
   "cell_type": "code",
   "execution_count": 12,
   "id": "920b46b0-209a-405f-b15c-1e68c7895e47",
   "metadata": {},
   "outputs": [
    {
     "name": "stdout",
     "output_type": "stream",
     "text": [
      "True\n"
     ]
    }
   ],
   "source": [
    "print('johnny@example.com' not in my_set)"
   ]
  },
  {
   "cell_type": "markdown",
   "id": "fa914b71-5958-4511-aac0-73c551dacb9d",
   "metadata": {},
   "source": [
    "## Set manipulation"
   ]
  },
  {
   "cell_type": "code",
   "execution_count": 13,
   "id": "75b97d77-d15b-482d-846a-be38544f1ef8",
   "metadata": {},
   "outputs": [
    {
     "data": {
      "text/plain": [
       "{'coffe', 'coffee', 'fruits', 'vegetables'}"
      ]
     },
     "execution_count": 13,
     "metadata": {},
     "output_type": "execute_result"
    }
   ],
   "source": [
    "categories = {'fruits', 'coffee', 'vegetables', 'candy', 'coffe'}\n",
    "categories.discard('candy')\n",
    "categories"
   ]
  },
  {
   "cell_type": "code",
   "execution_count": 14,
   "id": "69176733-2016-4407-8edd-8b67cd287303",
   "metadata": {},
   "outputs": [
    {
     "data": {
      "text/plain": [
       "{'coffe', 'coffee', 'fruits', 'vegetables'}"
      ]
     },
     "execution_count": 14,
     "metadata": {},
     "output_type": "execute_result"
    }
   ],
   "source": [
    "categories.discard('candy')\n",
    "categories"
   ]
  },
  {
   "cell_type": "code",
   "execution_count": 15,
   "id": "e7cb2980-c189-4b6e-bb19-d2e3eec8890f",
   "metadata": {},
   "outputs": [
    {
     "ename": "KeyError",
     "evalue": "'candy'",
     "output_type": "error",
     "traceback": [
      "\u001b[0;31m---------------------------------------------------------------------------\u001b[0m",
      "\u001b[0;31mKeyError\u001b[0m                                  Traceback (most recent call last)",
      "Cell \u001b[0;32mIn[15], line 1\u001b[0m\n\u001b[0;32m----> 1\u001b[0m \u001b[43mcategories\u001b[49m\u001b[38;5;241;43m.\u001b[39;49m\u001b[43mremove\u001b[49m\u001b[43m(\u001b[49m\u001b[38;5;124;43m'\u001b[39;49m\u001b[38;5;124;43mcandy\u001b[39;49m\u001b[38;5;124;43m'\u001b[39;49m\u001b[43m)\u001b[49m\n",
      "\u001b[0;31mKeyError\u001b[0m: 'candy'"
     ]
    }
   ],
   "source": [
    "categories.remove('candy')"
   ]
  },
  {
   "cell_type": "code",
   "execution_count": 16,
   "id": "b5175a96-e8a0-4ba9-99a6-73ea175a7876",
   "metadata": {},
   "outputs": [
    {
     "data": {
      "text/plain": [
       "{'clothing', 'coffe', 'coffee', 'electronics', 'fruits', 'vegetables'}"
      ]
     },
     "execution_count": 16,
     "metadata": {},
     "output_type": "execute_result"
    }
   ],
   "source": [
    "categories.update({'electronics', 'clothing'})\n",
    "categories"
   ]
  },
  {
   "cell_type": "code",
   "execution_count": 17,
   "id": "054026e4-20bb-4c12-8650-3d8f9340661c",
   "metadata": {},
   "outputs": [
    {
     "data": {
      "text/plain": [
       "'electronics'"
      ]
     },
     "execution_count": 17,
     "metadata": {},
     "output_type": "execute_result"
    }
   ],
   "source": [
    "categories.pop()"
   ]
  },
  {
   "cell_type": "code",
   "execution_count": 18,
   "id": "935e9c21-9e4c-4c26-b9f5-7c434d946f66",
   "metadata": {},
   "outputs": [
    {
     "data": {
      "text/plain": [
       "{'clothing', 'coffe', 'coffee', 'fruits', 'vegetables'}"
      ]
     },
     "execution_count": 18,
     "metadata": {},
     "output_type": "execute_result"
    }
   ],
   "source": [
    "categories"
   ]
  },
  {
   "cell_type": "markdown",
   "id": "b31f64ce-c750-48b1-a788-9547030f1855",
   "metadata": {},
   "source": [
    "## Logic operations"
   ]
  },
  {
   "cell_type": "code",
   "execution_count": 19,
   "id": "5dd5c132-1acc-4205-8404-5980da6c8c6f",
   "metadata": {},
   "outputs": [
    {
     "data": {
      "text/plain": [
       "{'beverages',\n",
       " 'clothing',\n",
       " 'coffee',\n",
       " 'electronics',\n",
       " 'fruits',\n",
       " 'meat',\n",
       " 'seafood',\n",
       " 'vegetables'}"
      ]
     },
     "execution_count": 19,
     "metadata": {},
     "output_type": "execute_result"
    }
   ],
   "source": [
    "A = {'coffee', 'electronics', 'vegetables', 'fruits', 'seafood'}\n",
    "B = {'fruits', 'clothing', 'beverages', 'meat', 'vegetables'}\n",
    "A.union(B)"
   ]
  },
  {
   "cell_type": "code",
   "execution_count": 20,
   "id": "53967055-d401-45b2-aa98-abe888bc99c1",
   "metadata": {},
   "outputs": [
    {
     "data": {
      "text/plain": [
       "{'fruits', 'vegetables'}"
      ]
     },
     "execution_count": 20,
     "metadata": {},
     "output_type": "execute_result"
    }
   ],
   "source": [
    "A.intersection(B)"
   ]
  },
  {
   "cell_type": "code",
   "execution_count": 21,
   "id": "82a457f5-9366-4d05-b659-505b504278d8",
   "metadata": {},
   "outputs": [
    {
     "data": {
      "text/plain": [
       "{'beverages', 'clothing', 'meat'}"
      ]
     },
     "execution_count": 21,
     "metadata": {},
     "output_type": "execute_result"
    }
   ],
   "source": [
    "B.difference(A)"
   ]
  },
  {
   "cell_type": "code",
   "execution_count": 22,
   "id": "11bc484e-8921-4935-97c9-d15d4deeb26e",
   "metadata": {},
   "outputs": [
    {
     "data": {
      "text/plain": [
       "False"
      ]
     },
     "execution_count": 22,
     "metadata": {},
     "output_type": "execute_result"
    }
   ],
   "source": [
    "B.issubset(A)"
   ]
  },
  {
   "cell_type": "code",
   "execution_count": 23,
   "id": "23d8e889-90f5-41a8-9d42-421f4939e7db",
   "metadata": {},
   "outputs": [
    {
     "data": {
      "text/plain": [
       "False"
      ]
     },
     "execution_count": 23,
     "metadata": {},
     "output_type": "execute_result"
    }
   ],
   "source": [
    "B.issuperset(A)"
   ]
  },
  {
   "cell_type": "markdown",
   "id": "8e37dd38-ad9b-433c-a996-bc58461821d4",
   "metadata": {},
   "source": [
    "## Characteristics of sets\n",
    "- Immutable\n",
    "- Don't have order\n",
    "- Don't allow duplicates"
   ]
  },
  {
   "cell_type": "code",
   "execution_count": null,
   "id": "ee398681-c552-4f25-875c-0d6f449fff4d",
   "metadata": {},
   "outputs": [],
   "source": []
  }
 ],
 "metadata": {
  "kernelspec": {
   "display_name": "Python 3 (ipykernel)",
   "language": "python",
   "name": "python3"
  },
  "language_info": {
   "codemirror_mode": {
    "name": "ipython",
    "version": 3
   },
   "file_extension": ".py",
   "mimetype": "text/x-python",
   "name": "python",
   "nbconvert_exporter": "python",
   "pygments_lexer": "ipython3",
   "version": "3.13.2"
  }
 },
 "nbformat": 4,
 "nbformat_minor": 5
}
