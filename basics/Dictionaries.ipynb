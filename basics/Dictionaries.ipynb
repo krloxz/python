{
 "cells": [
  {
   "cell_type": "markdown",
   "id": "43422514-7841-4d6f-9098-a22dfa77c1b8",
   "metadata": {},
   "source": [
    "## Creating dictionaries"
   ]
  },
  {
   "cell_type": "code",
   "execution_count": 1,
   "id": "77dd79ae-36a6-4a88-854d-6e26b252292b",
   "metadata": {},
   "outputs": [
    {
     "data": {
      "text/plain": [
       "{'apple': 4, 'mango': 6, 'orange': 8}"
      ]
     },
     "execution_count": 1,
     "metadata": {},
     "output_type": "execute_result"
    }
   ],
   "source": [
    "supply = {'apple': 4, 'mango': 6, 'orange': 8}\n",
    "supply"
   ]
  },
  {
   "cell_type": "code",
   "execution_count": 2,
   "id": "f082fed7-052c-4785-ba7f-0625825d7dd3",
   "metadata": {},
   "outputs": [
    {
     "data": {
      "text/plain": [
       "dict"
      ]
     },
     "execution_count": 2,
     "metadata": {},
     "output_type": "execute_result"
    }
   ],
   "source": [
    "type(supply)"
   ]
  },
  {
   "cell_type": "code",
   "execution_count": 4,
   "id": "dacf11cf-acc3-410e-82c7-2211893ef2f1",
   "metadata": {},
   "outputs": [
    {
     "data": {
      "text/plain": [
       "6"
      ]
     },
     "execution_count": 4,
     "metadata": {},
     "output_type": "execute_result"
    }
   ],
   "source": [
    "# Select a value\n",
    "supply['mango']"
   ]
  },
  {
   "cell_type": "code",
   "execution_count": 5,
   "id": "0c193439-c142-4418-8e78-22abf9141a88",
   "metadata": {},
   "outputs": [
    {
     "data": {
      "text/plain": [
       "{'apple': 4, 'mango': 6, 'orange': 2}"
      ]
     },
     "execution_count": 5,
     "metadata": {},
     "output_type": "execute_result"
    }
   ],
   "source": [
    "# Changing a value\n",
    "supply['orange'] = 2\n",
    "supply"
   ]
  },
  {
   "cell_type": "code",
   "execution_count": 6,
   "id": "a590db3e-e66c-4a2b-9e41-90b52056ba82",
   "metadata": {},
   "outputs": [
    {
     "data": {
      "text/plain": [
       "{'orange': 1.2}"
      ]
     },
     "execution_count": 6,
     "metadata": {},
     "output_type": "execute_result"
    }
   ],
   "source": [
    "# Constructing a new dictionary\n",
    "basket = dict(orange = 1.2)\n",
    "basket"
   ]
  },
  {
   "cell_type": "code",
   "execution_count": 7,
   "id": "8be5cb02-2275-420c-8093-add1ed8fd07a",
   "metadata": {},
   "outputs": [
    {
     "data": {
      "text/plain": [
       "dict"
      ]
     },
     "execution_count": 7,
     "metadata": {},
     "output_type": "execute_result"
    }
   ],
   "source": [
    "type(basket)"
   ]
  },
  {
   "cell_type": "code",
   "execution_count": 8,
   "id": "db4765f9-1edb-4400-a8a1-27d60d30459a",
   "metadata": {},
   "outputs": [
    {
     "data": {
      "text/plain": [
       "{'orange': 1.2, 'lemon': 0.9}"
      ]
     },
     "execution_count": 8,
     "metadata": {},
     "output_type": "execute_result"
    }
   ],
   "source": [
    "# Adding elements\n",
    "basket['lemon'] = 0.9\n",
    "basket"
   ]
  },
  {
   "cell_type": "code",
   "execution_count": 9,
   "id": "2ae67ba0-afcd-4645-99b4-773a55b5f75d",
   "metadata": {},
   "outputs": [
    {
     "data": {
      "text/plain": [
       "{'orange': {'price': 1.2, 'stock': 10}, 'lemon': {'price': 0.9, 'stock': 20}}"
      ]
     },
     "execution_count": 9,
     "metadata": {},
     "output_type": "execute_result"
    }
   ],
   "source": [
    "# Creating a nested dictionary\n",
    "inventory = {'orange': {'price': 1.2, 'stock': 10},\n",
    "             'lemon': {'price': 0.9, 'stock': 20}}\n",
    "inventory"
   ]
  },
  {
   "cell_type": "code",
   "execution_count": 10,
   "id": "07a1f0f6-09fb-4ea6-858e-8e77ba94697b",
   "metadata": {},
   "outputs": [
    {
     "data": {
      "text/plain": [
       "2"
      ]
     },
     "execution_count": 10,
     "metadata": {},
     "output_type": "execute_result"
    }
   ],
   "source": [
    "len(inventory)"
   ]
  },
  {
   "cell_type": "code",
   "execution_count": 11,
   "id": "38514788-d8b0-4df1-9f07-431cfe04c40a",
   "metadata": {},
   "outputs": [
    {
     "data": {
      "text/plain": [
       "1.2"
      ]
     },
     "execution_count": 11,
     "metadata": {},
     "output_type": "execute_result"
    }
   ],
   "source": [
    "# Retriving a value\n",
    "inventory['orange']['price']"
   ]
  },
  {
   "cell_type": "code",
   "execution_count": 12,
   "id": "01277952-d7ce-46f5-8340-1608907d6e0d",
   "metadata": {},
   "outputs": [
    {
     "data": {
      "text/plain": [
       "<zip at 0x1067f4a00>"
      ]
     },
     "execution_count": 12,
     "metadata": {},
     "output_type": "execute_result"
    }
   ],
   "source": [
    "# Convertin lists into dictionaries\n",
    "products = ['orange', 'lemon']\n",
    "prices = [1.2, 0.9]\n",
    "cart = zip(products, prices)\n",
    "cart"
   ]
  },
  {
   "cell_type": "code",
   "execution_count": 13,
   "id": "5d94c39c-c794-46e6-a072-17e0a25e04c6",
   "metadata": {},
   "outputs": [
    {
     "data": {
      "text/plain": [
       "{'orange': 1.2, 'lemon': 0.9}"
      ]
     },
     "execution_count": 13,
     "metadata": {},
     "output_type": "execute_result"
    }
   ],
   "source": [
    "cart = dict(cart)\n",
    "cart"
   ]
  },
  {
   "cell_type": "markdown",
   "id": "e6cae91c-f2ef-49c9-b205-9f37c025338f",
   "metadata": {},
   "source": [
    "## Manipulating dictionaries"
   ]
  },
  {
   "cell_type": "code",
   "execution_count": 14,
   "id": "a5213222-b9fa-45ac-b223-7db54b210cdb",
   "metadata": {},
   "outputs": [
    {
     "data": {
      "text/plain": [
       "{'apple': 50, 'lemon': 10, 'orange': 40}"
      ]
     },
     "execution_count": 14,
     "metadata": {},
     "output_type": "execute_result"
    }
   ],
   "source": [
    "inventory = {'apple': 50, 'lemon': 10, 'orange': 40}\n",
    "inventory"
   ]
  },
  {
   "cell_type": "code",
   "execution_count": 15,
   "id": "6676c4ae-538f-4ebc-8eb5-7bcfedf4616e",
   "metadata": {},
   "outputs": [
    {
     "name": "stdout",
     "output_type": "stream",
     "text": [
      "dict_values([50, 10, 40])\n",
      "100\n"
     ]
    }
   ],
   "source": [
    "# total stock quantity\n",
    "values = inventory.values()\n",
    "print(values)\n",
    "print(sum(values))"
   ]
  },
  {
   "cell_type": "code",
   "execution_count": 16,
   "id": "59da1f1e-b626-424d-8e92-b01bc0b2263f",
   "metadata": {},
   "outputs": [
    {
     "data": {
      "text/plain": [
       "dict_keys(['apple', 'lemon', 'orange'])"
      ]
     },
     "execution_count": 16,
     "metadata": {},
     "output_type": "execute_result"
    }
   ],
   "source": [
    "inventory.keys()"
   ]
  },
  {
   "cell_type": "code",
   "execution_count": 17,
   "id": "2d2a290c-3ad6-435f-bb24-b991e97c09cf",
   "metadata": {},
   "outputs": [
    {
     "data": {
      "text/plain": [
       "dict_items([('apple', 50), ('lemon', 10), ('orange', 40)])"
      ]
     },
     "execution_count": 17,
     "metadata": {},
     "output_type": "execute_result"
    }
   ],
   "source": [
    "inventory.items()"
   ]
  },
  {
   "cell_type": "code",
   "execution_count": 18,
   "id": "ec58e946-f499-4172-8b33-064fb003926b",
   "metadata": {},
   "outputs": [
    {
     "data": {
      "text/plain": [
       "['apple', 'lemon', 'orange']"
      ]
     },
     "execution_count": 18,
     "metadata": {},
     "output_type": "execute_result"
    }
   ],
   "source": [
    "sorted(inventory.keys())"
   ]
  },
  {
   "cell_type": "code",
   "execution_count": 19,
   "id": "bd6bee7a-b765-48d4-a4e4-ffd67de19c58",
   "metadata": {},
   "outputs": [
    {
     "data": {
      "text/plain": [
       "['orange', 'lemon', 'apple']"
      ]
     },
     "execution_count": 19,
     "metadata": {},
     "output_type": "execute_result"
    }
   ],
   "source": [
    "sorted(inventory.keys(), reverse = True)"
   ]
  },
  {
   "cell_type": "code",
   "execution_count": 20,
   "id": "e6b72d7c-dd51-4707-b85c-41daf20509b5",
   "metadata": {},
   "outputs": [
    {
     "data": {
      "text/plain": [
       "True"
      ]
     },
     "execution_count": 20,
     "metadata": {},
     "output_type": "execute_result"
    }
   ],
   "source": [
    "# Membership testing\n",
    "'orange' in inventory"
   ]
  },
  {
   "cell_type": "code",
   "execution_count": 21,
   "id": "1b7e7042-d5e7-4aeb-b727-753faf390a52",
   "metadata": {},
   "outputs": [
    {
     "data": {
      "text/plain": [
       "10"
      ]
     },
     "execution_count": 21,
     "metadata": {},
     "output_type": "execute_result"
    }
   ],
   "source": [
    "# Retrieve values\n",
    "inventory.get('lemon')"
   ]
  },
  {
   "cell_type": "code",
   "execution_count": 23,
   "id": "69b546d8-195f-4aa2-a638-e527b6833749",
   "metadata": {},
   "outputs": [
    {
     "data": {
      "text/plain": [
       "'This key does not exist'"
      ]
     },
     "execution_count": 23,
     "metadata": {},
     "output_type": "execute_result"
    }
   ],
   "source": [
    "inventory.get('laptop', 'This key does not exist')"
   ]
  },
  {
   "cell_type": "code",
   "execution_count": 24,
   "id": "5fcaa52e-4a31-4e69-a3ac-e952b1562781",
   "metadata": {},
   "outputs": [
    {
     "ename": "KeyError",
     "evalue": "'laptop'",
     "output_type": "error",
     "traceback": [
      "\u001b[0;31m---------------------------------------------------------------------------\u001b[0m",
      "\u001b[0;31mKeyError\u001b[0m                                  Traceback (most recent call last)",
      "Cell \u001b[0;32mIn[24], line 1\u001b[0m\n\u001b[0;32m----> 1\u001b[0m \u001b[43minventory\u001b[49m\u001b[43m[\u001b[49m\u001b[38;5;124;43m'\u001b[39;49m\u001b[38;5;124;43mlaptop\u001b[39;49m\u001b[38;5;124;43m'\u001b[39;49m\u001b[43m]\u001b[49m\n",
      "\u001b[0;31mKeyError\u001b[0m: 'laptop'"
     ]
    }
   ],
   "source": [
    "inventory['laptop']"
   ]
  },
  {
   "cell_type": "markdown",
   "id": "a8b7e6cc-1d41-4375-82de-75072294dacc",
   "metadata": {},
   "source": [
    "## Altering dictionaries"
   ]
  },
  {
   "cell_type": "code",
   "execution_count": 25,
   "id": "315d700d-682c-4bc6-9945-cddcd47c61e3",
   "metadata": {},
   "outputs": [
    {
     "data": {
      "text/plain": [
       "{'apple': 30, 'kiwi': 20, 'orange': 10}"
      ]
     },
     "execution_count": 25,
     "metadata": {},
     "output_type": "execute_result"
    }
   ],
   "source": [
    "inventory = {'apple': 30, 'kiwi': 20, 'orange': 10}\n",
    "inventory"
   ]
  },
  {
   "cell_type": "code",
   "execution_count": 26,
   "id": "0b04385a-f52f-478a-b8c6-b3d7c78abe84",
   "metadata": {},
   "outputs": [
    {
     "data": {
      "text/plain": [
       "{'apple': 30, 'kiwi': 20, 'orange': 10, 'mango': 5}"
      ]
     },
     "execution_count": 26,
     "metadata": {},
     "output_type": "execute_result"
    }
   ],
   "source": [
    "# Add a new element\n",
    "inventory.update({'mango': 5})\n",
    "inventory"
   ]
  },
  {
   "cell_type": "code",
   "execution_count": 27,
   "id": "1da64c18-2ef4-44ed-be8f-8a6414233c48",
   "metadata": {},
   "outputs": [
    {
     "data": {
      "text/plain": [
       "{'apple': 30, 'kiwi': 20, 'orange': 100, 'mango': 5}"
      ]
     },
     "execution_count": 27,
     "metadata": {},
     "output_type": "execute_result"
    }
   ],
   "source": [
    "inventory.update({'orange': 100})\n",
    "inventory"
   ]
  },
  {
   "cell_type": "code",
   "execution_count": 28,
   "id": "a9a6b8fc-8127-43ec-9440-28e55c38212f",
   "metadata": {},
   "outputs": [
    {
     "data": {
      "text/plain": [
       "{'apple': 30, 'kiwi': 20, 'orange': 100, 'mango': 5, 'pear': 25, 'lemon': 15}"
      ]
     },
     "execution_count": 28,
     "metadata": {},
     "output_type": "execute_result"
    }
   ],
   "source": [
    "# Add multiple elements\n",
    "inventory.update({'pear': 25, 'lemon': 15})\n",
    "inventory"
   ]
  },
  {
   "cell_type": "code",
   "execution_count": 29,
   "id": "5c24112f-320a-4d6a-945f-25b2e0eb6fbe",
   "metadata": {},
   "outputs": [
    {
     "data": {
      "text/plain": [
       "{'apple': 30, 'kiwi': 20, 'mango': 5, 'pear': 25, 'lemon': 15}"
      ]
     },
     "execution_count": 29,
     "metadata": {},
     "output_type": "execute_result"
    }
   ],
   "source": [
    "# Remove elements\n",
    "inventory.pop('orange')\n",
    "inventory"
   ]
  },
  {
   "cell_type": "code",
   "execution_count": 30,
   "id": "deb70147-a946-4ba4-9eab-10336be42121",
   "metadata": {},
   "outputs": [
    {
     "ename": "KeyError",
     "evalue": "'orange'",
     "output_type": "error",
     "traceback": [
      "\u001b[0;31m---------------------------------------------------------------------------\u001b[0m",
      "\u001b[0;31mKeyError\u001b[0m                                  Traceback (most recent call last)",
      "Cell \u001b[0;32mIn[30], line 1\u001b[0m\n\u001b[0;32m----> 1\u001b[0m \u001b[43minventory\u001b[49m\u001b[38;5;241;43m.\u001b[39;49m\u001b[43mpop\u001b[49m\u001b[43m(\u001b[49m\u001b[38;5;124;43m'\u001b[39;49m\u001b[38;5;124;43morange\u001b[39;49m\u001b[38;5;124;43m'\u001b[39;49m\u001b[43m)\u001b[49m\n",
      "\u001b[0;31mKeyError\u001b[0m: 'orange'"
     ]
    }
   ],
   "source": [
    "inventory.pop('orange')"
   ]
  },
  {
   "cell_type": "code",
   "execution_count": 31,
   "id": "b7ccaec1-7683-4460-b225-c6a114e11b8b",
   "metadata": {},
   "outputs": [
    {
     "data": {
      "text/plain": [
       "'The product is not available'"
      ]
     },
     "execution_count": 31,
     "metadata": {},
     "output_type": "execute_result"
    }
   ],
   "source": [
    "inventory.pop('orange', 'The product is not available')"
   ]
  },
  {
   "cell_type": "code",
   "execution_count": 32,
   "id": "c09a0ea2-4699-418b-a432-2659df48d135",
   "metadata": {},
   "outputs": [
    {
     "data": {
      "text/plain": [
       "{'apple': 30, 'mango': 5, 'pear': 25, 'lemon': 15}"
      ]
     },
     "execution_count": 32,
     "metadata": {},
     "output_type": "execute_result"
    }
   ],
   "source": [
    "del inventory['kiwi']\n",
    "inventory"
   ]
  },
  {
   "cell_type": "code",
   "execution_count": 33,
   "id": "35efb9f3-4931-4d3e-9bb9-d6eb8831a0f7",
   "metadata": {},
   "outputs": [
    {
     "data": {
      "text/plain": [
       "{'apple': 30, 'mango': 5, 'pear': 25}"
      ]
     },
     "execution_count": 33,
     "metadata": {},
     "output_type": "execute_result"
    }
   ],
   "source": [
    "inventory.popitem()\n",
    "inventory"
   ]
  },
  {
   "cell_type": "code",
   "execution_count": 34,
   "id": "6ca38a73-03c3-49ca-9451-6d19fac73ba7",
   "metadata": {},
   "outputs": [
    {
     "data": {
      "text/plain": [
       "{}"
      ]
     },
     "execution_count": 34,
     "metadata": {},
     "output_type": "execute_result"
    }
   ],
   "source": [
    "# Remove all elements\n",
    "inventory.clear()\n",
    "inventory"
   ]
  },
  {
   "cell_type": "markdown",
   "id": "1bb5cfa2-d780-423c-b08a-61a46069a817",
   "metadata": {},
   "source": [
    "## Aliasing and copying"
   ]
  },
  {
   "cell_type": "code",
   "execution_count": 37,
   "id": "285d53df-713f-419b-9dc8-dfbf89723aea",
   "metadata": {},
   "outputs": [
    {
     "name": "stdout",
     "output_type": "stream",
     "text": [
      "{'mango': 30, 'kiwi': 20, 'orange': 10}\n",
      "{'mango': 30, 'kiwi': 20, 'orange': 10}\n"
     ]
    }
   ],
   "source": [
    "inventory = {'mango': 30, 'kiwi': 20, 'orange': 10}\n",
    "inventory_copy = inventory\n",
    "print(inventory)\n",
    "print(inventory_copy)"
   ]
  },
  {
   "cell_type": "code",
   "execution_count": 38,
   "id": "10c328f1-e4ab-419b-a093-068266b8c5c2",
   "metadata": {},
   "outputs": [
    {
     "name": "stdout",
     "output_type": "stream",
     "text": [
      "{'mango': 30, 'kiwi': 20, 'orange': 10, 'lemon': 5}\n",
      "{'mango': 30, 'kiwi': 20, 'orange': 10, 'lemon': 5}\n"
     ]
    }
   ],
   "source": [
    "inventory_copy.update({'lemon': 5})\n",
    "print(inventory)\n",
    "print(inventory_copy)"
   ]
  },
  {
   "cell_type": "code",
   "execution_count": 39,
   "id": "cfe2cab7-4040-461b-8138-a31c0538de99",
   "metadata": {},
   "outputs": [
    {
     "data": {
      "text/plain": [
       "{'mango': 30, 'kiwi': 20, 'orange': 10, 'lemon': 5}"
      ]
     },
     "execution_count": 39,
     "metadata": {},
     "output_type": "execute_result"
    }
   ],
   "source": [
    "supply = inventory.copy()\n",
    "supply"
   ]
  },
  {
   "cell_type": "code",
   "execution_count": 40,
   "id": "76ec4c8e-bea7-4b1f-b575-893b5a1d7b4a",
   "metadata": {},
   "outputs": [
    {
     "name": "stdout",
     "output_type": "stream",
     "text": [
      "{'mango': 30, 'kiwi': 20, 'orange': 10, 'lemon': 5}\n",
      "{'mango': 30, 'kiwi': 20, 'orange': 10, 'lemon': 5, 'apple': 10}\n"
     ]
    }
   ],
   "source": [
    "supply.update({'apple': 10})\n",
    "print(inventory)\n",
    "print(supply)"
   ]
  },
  {
   "cell_type": "code",
   "execution_count": null,
   "id": "2eb65eb1-a3fc-421a-989b-228bb5e94fc1",
   "metadata": {},
   "outputs": [],
   "source": []
  }
 ],
 "metadata": {
  "kernelspec": {
   "display_name": "Python 3 (ipykernel)",
   "language": "python",
   "name": "python3"
  },
  "language_info": {
   "codemirror_mode": {
    "name": "ipython",
    "version": 3
   },
   "file_extension": ".py",
   "mimetype": "text/x-python",
   "name": "python",
   "nbconvert_exporter": "python",
   "pygments_lexer": "ipython3",
   "version": "3.13.2"
  }
 },
 "nbformat": 4,
 "nbformat_minor": 5
}
