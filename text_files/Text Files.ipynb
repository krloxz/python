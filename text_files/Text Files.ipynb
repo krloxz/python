{
 "cells": [
  {
   "cell_type": "markdown",
   "id": "19fb5c6c-3e2f-4010-8338-90294bbed4c0",
   "metadata": {},
   "source": [
    "## CSV Reader"
   ]
  },
  {
   "cell_type": "code",
   "execution_count": 1,
   "id": "f384c83a-9525-4027-95d9-cebf404e0b2d",
   "metadata": {},
   "outputs": [],
   "source": [
    "import csv"
   ]
  },
  {
   "cell_type": "code",
   "execution_count": 2,
   "id": "54412c13-655e-45c7-88f6-e2379642d67e",
   "metadata": {},
   "outputs": [
    {
     "name": "stdout",
     "output_type": "stream",
     "text": [
      "['Xavier Smith', '40', 'Male', 'xavier@lupo.ai']\n",
      "['Irene Doe', '22', 'Female', 'irene@lupo.ai']\n",
      "['Mary John', '50', 'Female', 'mary@lupo.ai']\n"
     ]
    }
   ],
   "source": [
    "with open('./people.csv', newline='') as csvfile:\n",
    "  persons = csv.reader(csvfile, delimiter=',', quotechar='\"')\n",
    "  next(persons)\n",
    "  for person in persons:\n",
    "    print(person)"
   ]
  },
  {
   "cell_type": "code",
   "execution_count": 3,
   "id": "5c8c6d14-bd1d-449e-bf69-7404291d6b4c",
   "metadata": {},
   "outputs": [
    {
     "data": {
      "text/plain": [
       "['excel', 'excel-tab', 'unix']"
      ]
     },
     "execution_count": 3,
     "metadata": {},
     "output_type": "execute_result"
    }
   ],
   "source": [
    "csv.list_dialects()"
   ]
  },
  {
   "cell_type": "code",
   "execution_count": 4,
   "id": "a589d166-13ef-40bb-b3e8-798b6e16af5b",
   "metadata": {},
   "outputs": [
    {
     "name": "stdout",
     "output_type": "stream",
     "text": [
      "['Xavier Smith', '40', 'Male', 'xavier@lupo.ai']\n",
      "['Irene Doe', '22', 'Female', 'irene@lupo.ai']\n",
      "['Mary John', '50', 'Female', 'mary@lupo.ai']\n"
     ]
    }
   ],
   "source": [
    "with open('./people.csv', newline='') as csvfile:\n",
    "  persons = csv.reader(csvfile, dialect='excel')\n",
    "  next(persons)\n",
    "  for person in persons:\n",
    "    print(person)"
   ]
  },
  {
   "cell_type": "markdown",
   "id": "949bea9b-9e4b-4f70-b593-94555185c755",
   "metadata": {},
   "source": [
    "## Numpy"
   ]
  },
  {
   "cell_type": "code",
   "execution_count": 5,
   "id": "7f9aaa60-a805-4493-b671-cbc8131fe712",
   "metadata": {},
   "outputs": [],
   "source": [
    "import numpy as np"
   ]
  },
  {
   "cell_type": "code",
   "execution_count": 6,
   "id": "2c5a85e9-2dbe-4866-8273-1f7230a166b8",
   "metadata": {},
   "outputs": [
    {
     "name": "stdout",
     "output_type": "stream",
     "text": [
      "<class 'numpy.ndarray'>\n",
      "3\n",
      "(3,)\n",
      "[0 0 7]\n"
     ]
    }
   ],
   "source": [
    "sample_array = np.array([0, 0, 7])\n",
    "print(type(sample_array))\n",
    "print(sample_array.size)\n",
    "print(sample_array.shape)\n",
    "print(sample_array)"
   ]
  },
  {
   "cell_type": "code",
   "execution_count": 7,
   "id": "3668e0eb-91e1-4d11-9655-0e623594e9b2",
   "metadata": {},
   "outputs": [
    {
     "name": "stdout",
     "output_type": "stream",
     "text": [
      "<class 'numpy.ndarray'>\n",
      "9\n",
      "(3, 3)\n",
      "[[1 2 3]\n",
      " [4 5 6]\n",
      " [7 8 9]]\n"
     ]
    }
   ],
   "source": [
    "nested_array = np.array([[1, 2, 3], [4, 5, 6], [7, 8, 9]])\n",
    "print(type(nested_array))\n",
    "print(nested_array.size)\n",
    "print(nested_array.shape)\n",
    "print(nested_array)"
   ]
  },
  {
   "cell_type": "code",
   "execution_count": 8,
   "id": "97a065f9-2034-4fda-9ec3-600b6e45b328",
   "metadata": {},
   "outputs": [
    {
     "data": {
      "text/plain": [
       "array([[0., 0., 0.],\n",
       "       [0., 0., 0.]])"
      ]
     },
     "execution_count": 8,
     "metadata": {},
     "output_type": "execute_result"
    }
   ],
   "source": [
    "np.zeros((2, 3))"
   ]
  },
  {
   "cell_type": "code",
   "execution_count": 9,
   "id": "701c1dff-9dd0-4812-a2af-d917edef4cf9",
   "metadata": {},
   "outputs": [
    {
     "data": {
      "text/plain": [
       "array([[1., 1., 1.],\n",
       "       [1., 1., 1.]])"
      ]
     },
     "execution_count": 9,
     "metadata": {},
     "output_type": "execute_result"
    }
   ],
   "source": [
    "np.ones((2, 3))"
   ]
  },
  {
   "cell_type": "code",
   "execution_count": 10,
   "id": "2242f4ec-5338-47b6-89dc-441eea37ca1d",
   "metadata": {},
   "outputs": [
    {
     "data": {
      "text/plain": [
       "array([[1., 1., 1.],\n",
       "       [1., 1., 1.]])"
      ]
     },
     "execution_count": 10,
     "metadata": {},
     "output_type": "execute_result"
    }
   ],
   "source": [
    "np.empty((2, 3))"
   ]
  },
  {
   "cell_type": "code",
   "execution_count": 11,
   "id": "ee9611f9-2128-435e-b050-089078113e81",
   "metadata": {},
   "outputs": [
    {
     "data": {
      "text/plain": [
       "array([1, 2, 3, 4, 5, 6, 7, 8, 9])"
      ]
     },
     "execution_count": 11,
     "metadata": {},
     "output_type": "execute_result"
    }
   ],
   "source": [
    "nested_array.flatten()"
   ]
  },
  {
   "cell_type": "code",
   "execution_count": 12,
   "id": "3acd3491-6986-4081-8596-efe04827b9e0",
   "metadata": {},
   "outputs": [
    {
     "data": {
      "text/plain": [
       "array([0, 1, 2, 3, 4, 5, 6, 7, 8, 9])"
      ]
     },
     "execution_count": 12,
     "metadata": {},
     "output_type": "execute_result"
    }
   ],
   "source": [
    "np.arange(10)"
   ]
  },
  {
   "cell_type": "code",
   "execution_count": 13,
   "id": "768f5855-a36d-4965-81f4-176e57da05e4",
   "metadata": {},
   "outputs": [
    {
     "data": {
      "text/plain": [
       "array([ 1,  2,  3,  4,  5,  6,  7,  8,  9, 10])"
      ]
     },
     "execution_count": 13,
     "metadata": {},
     "output_type": "execute_result"
    }
   ],
   "source": [
    "np.arange(1, 11)"
   ]
  },
  {
   "cell_type": "code",
   "execution_count": 14,
   "id": "ba9e8aa3-5862-4c89-a194-4bb2487cbfa4",
   "metadata": {},
   "outputs": [
    {
     "data": {
      "text/plain": [
       "array([0. , 0.2, 0.4, 0.6, 0.8])"
      ]
     },
     "execution_count": 14,
     "metadata": {},
     "output_type": "execute_result"
    }
   ],
   "source": [
    "np.arange(0, 1, 0.2)"
   ]
  },
  {
   "cell_type": "markdown",
   "id": "0aadfa32-b48c-41b7-9c45-6b916b79a4d8",
   "metadata": {},
   "source": [
    "### Working with files"
   ]
  },
  {
   "cell_type": "code",
   "execution_count": 15,
   "id": "50147c70-f8bd-41a3-b429-fc78ec648a44",
   "metadata": {},
   "outputs": [
    {
     "data": {
      "text/plain": [
       "array([[1., 1., 3.],\n",
       "       [2., 2., 3.],\n",
       "       [3., 4., 3.],\n",
       "       [4., 5., 3.],\n",
       "       [5., 8., 3.]])"
      ]
     },
     "execution_count": 15,
     "metadata": {},
     "output_type": "execute_result"
    }
   ],
   "source": [
    "badges_saved_np = np.loadtxt('badges-five-numpy.txt')\n",
    "badges_saved_np"
   ]
  },
  {
   "cell_type": "code",
   "execution_count": 16,
   "id": "2b133ee8-b640-45cf-aff5-68a43120b80a",
   "metadata": {},
   "outputs": [
    {
     "name": "stdout",
     "output_type": "stream",
     "text": [
      "could not convert string '1,1,3' to float64 at row 0, column 1.\n"
     ]
    }
   ],
   "source": [
    "# Fails when delimiter is missing\n",
    "try:\n",
    "  np.loadtxt('badges-five.txt')\n",
    "except Exception as e:\n",
    "  print(str(e))"
   ]
  },
  {
   "cell_type": "code",
   "execution_count": 17,
   "id": "83b8a5f8-0f98-494a-b218-fdad03985ebd",
   "metadata": {},
   "outputs": [
    {
     "data": {
      "text/plain": [
       "array([[1., 1., 3.],\n",
       "       [2., 2., 3.],\n",
       "       [3., 4., 3.],\n",
       "       [4., 5., 3.],\n",
       "       [5., 8., 3.]])"
      ]
     },
     "execution_count": 17,
     "metadata": {},
     "output_type": "execute_result"
    }
   ],
   "source": [
    "np.loadtxt('badges-five.txt', delimiter=',')"
   ]
  },
  {
   "cell_type": "code",
   "execution_count": 18,
   "id": "ea0d9329-bf01-4020-a41d-840b28889687",
   "metadata": {},
   "outputs": [
    {
     "name": "stdout",
     "output_type": "stream",
     "text": [
      "could not convert string 'Id' to float64 at row 0, column 1.\n"
     ]
    }
   ],
   "source": [
    "# Fails when header is present and not excluded\n",
    "try:\n",
    "  np.loadtxt('badges-five-header.txt', delimiter=',')\n",
    "except Exception as e:\n",
    "  print(str(e))"
   ]
  },
  {
   "cell_type": "code",
   "execution_count": 19,
   "id": "482d6295-5e22-41b9-8a54-60b51b70d25f",
   "metadata": {},
   "outputs": [
    {
     "data": {
      "text/plain": [
       "array([[1., 1., 3.],\n",
       "       [2., 2., 3.],\n",
       "       [3., 4., 3.],\n",
       "       [4., 5., 3.],\n",
       "       [5., 8., 3.]])"
      ]
     },
     "execution_count": 19,
     "metadata": {},
     "output_type": "execute_result"
    }
   ],
   "source": [
    "np.loadtxt('badges-five-header.txt', delimiter=',', skiprows=1)"
   ]
  },
  {
   "cell_type": "code",
   "execution_count": 20,
   "id": "6bcac3e0-b899-4f5f-b5f8-677126eb9dd1",
   "metadata": {},
   "outputs": [
    {
     "data": {
      "text/plain": [
       "array([['1', '1', '3'],\n",
       "       ['2', '2', '3'],\n",
       "       ['3', '4', '3'],\n",
       "       ['4', '5', '3'],\n",
       "       ['5', '8', '3']], dtype='<U1')"
      ]
     },
     "execution_count": 20,
     "metadata": {},
     "output_type": "execute_result"
    }
   ],
   "source": [
    "# Data conversion is supported\n",
    "np.loadtxt('badges-five-header.txt', delimiter=',', skiprows=1, dtype=str)"
   ]
  },
  {
   "cell_type": "code",
   "execution_count": 21,
   "id": "d1c3582a-f18e-45eb-b915-c819ce362a34",
   "metadata": {},
   "outputs": [
    {
     "data": {
      "text/plain": [
       "array([['1', '3'],\n",
       "       ['2', '3'],\n",
       "       ['3', '3'],\n",
       "       ['4', '3'],\n",
       "       ['5', '3']], dtype='<U1')"
      ]
     },
     "execution_count": 21,
     "metadata": {},
     "output_type": "execute_result"
    }
   ],
   "source": [
    "# Column selection is supported\n",
    "np.loadtxt('badges-five-header.txt', delimiter=',', skiprows=1, dtype=str, usecols=(0, 2))"
   ]
  },
  {
   "cell_type": "code",
   "execution_count": 22,
   "id": "ca1665b0-98b6-43cb-8b23-d9520466d587",
   "metadata": {},
   "outputs": [
    {
     "data": {
      "text/plain": [
       "array([[   0, 1001,    3],\n",
       "       [   1, 1002,    3],\n",
       "       [   2, 1004,    3],\n",
       "       [   3, 1005,    3],\n",
       "       [   4, 1008,    3]])"
      ]
     },
     "execution_count": 22,
     "metadata": {},
     "output_type": "execute_result"
    }
   ],
   "source": [
    "# Custom converters can be implemented using simple functions:\n",
    "\n",
    "def rest_one(value):\n",
    "  return int(value) - 1\n",
    "\n",
    "def add_thousand(value):\n",
    "  return int(value) + 1000\n",
    "\n",
    "np.loadtxt('badges-five-header.txt', delimiter=',', skiprows=1, dtype=int, converters={0: rest_one, 1: add_thousand})"
   ]
  },
  {
   "cell_type": "code",
   "execution_count": 23,
   "id": "cede3805-0b46-48c4-aad0-0be8febadda0",
   "metadata": {},
   "outputs": [
    {
     "name": "stdout",
     "output_type": "stream",
     "text": [
      "could not convert string '' to float64 at row 3, column 3.\n"
     ]
    }
   ],
   "source": [
    "# Fails when values are missing\n",
    "try:\n",
    "  np.loadtxt('badges-five-missing-value.txt', delimiter=',', skiprows=1)\n",
    "except Exception as e:\n",
    "  print(str(e))"
   ]
  },
  {
   "cell_type": "code",
   "execution_count": 24,
   "id": "84b8c708-217b-4ed3-8256-9386cc4deb1d",
   "metadata": {},
   "outputs": [
    {
     "data": {
      "text/plain": [
       "array([[nan, nan, nan],\n",
       "       [ 1.,  1.,  3.],\n",
       "       [ 2.,  2.,  3.],\n",
       "       [ 3.,  4.,  3.],\n",
       "       [ 4.,  5., nan],\n",
       "       [ 5.,  8.,  3.]])"
      ]
     },
     "execution_count": 24,
     "metadata": {},
     "output_type": "execute_result"
    }
   ],
   "source": [
    "# Load missing values as 'nan'\n",
    "np.genfromtxt('badges-five-missing-value.txt', delimiter=',')"
   ]
  },
  {
   "cell_type": "code",
   "execution_count": 25,
   "id": "92703a5d-3ce1-4c46-b585-393cafc2e28f",
   "metadata": {},
   "outputs": [
    {
     "data": {
      "text/plain": [
       "array([[ 1.,  1.,  3.],\n",
       "       [ 2.,  2.,  3.],\n",
       "       [ 3.,  4.,  3.],\n",
       "       [ 4.,  5., nan],\n",
       "       [ 5.,  8.,  3.]])"
      ]
     },
     "execution_count": 25,
     "metadata": {},
     "output_type": "execute_result"
    }
   ],
   "source": [
    "# We can skip the header\n",
    "np.genfromtxt('badges-five-missing-value.txt', delimiter=',', skip_header=True)"
   ]
  },
  {
   "cell_type": "code",
   "execution_count": 26,
   "id": "1d9bbae9-d1d8-4d7f-8597-593f1e25dab8",
   "metadata": {},
   "outputs": [
    {
     "data": {
      "text/plain": [
       "array([[1., 1., 3.],\n",
       "       [2., 2., 3.],\n",
       "       [3., 4., 3.],\n",
       "       [4., 5., 0.],\n",
       "       [5., 8., 3.]])"
      ]
     },
     "execution_count": 26,
     "metadata": {},
     "output_type": "execute_result"
    }
   ],
   "source": [
    "# We can specify how to fill the missing value\n",
    "np.genfromtxt('badges-five-missing-value.txt', delimiter=',', skip_header=True, filling_values=0)"
   ]
  },
  {
   "cell_type": "code",
   "execution_count": 27,
   "id": "dd517a87-80c9-4dd1-811b-f02b4ecfad91",
   "metadata": {},
   "outputs": [
    {
     "data": {
      "text/plain": [
       "array([['Name', 'Age', 'Gender', 'Email'],\n",
       "       ['Xavier Smith', '40', 'Male', 'xavier@lupo.ai'],\n",
       "       ['Irene Doe', '22', 'Female', 'irene@lupo.ai'],\n",
       "       ['Mary John', '50', 'Female', 'mary@lupo.ai']], dtype='<U14')"
      ]
     },
     "execution_count": 27,
     "metadata": {},
     "output_type": "execute_result"
    }
   ],
   "source": [
    "# Opening a csv file with mixed data\n",
    "np.genfromtxt('people.csv', delimiter=',', dtype=str)"
   ]
  },
  {
   "cell_type": "markdown",
   "id": "80fb4951-b104-46be-837e-7c8a36c4ffdd",
   "metadata": {},
   "source": [
    "## Pandas"
   ]
  },
  {
   "cell_type": "code",
   "execution_count": 28,
   "id": "98d8ea43-a3a5-4eb5-937e-59fb4de47871",
   "metadata": {},
   "outputs": [],
   "source": [
    "import pandas as pd"
   ]
  },
  {
   "cell_type": "code",
   "execution_count": 29,
   "id": "07b3a710-2406-4df0-8851-aea8b4aef216",
   "metadata": {},
   "outputs": [
    {
     "name": "stdout",
     "output_type": "stream",
     "text": [
      "<class 'pandas.core.frame.DataFrame'>\n"
     ]
    }
   ],
   "source": [
    "posts_csv = pd.read_csv('posts-100.csv')\n",
    "print(type(posts_csv))"
   ]
  },
  {
   "cell_type": "code",
   "execution_count": 30,
   "id": "6f02ab2d-4258-41a2-bdf9-f50b37711d15",
   "metadata": {},
   "outputs": [
    {
     "name": "stdout",
     "output_type": "stream",
     "text": [
      "      5  1  2014-05-13T23:58:30.457   9     448  2014-05-14T00:36:31.077  \\\n",
      "0     7  1  2014-05-14T00:11:06.457   4   388.0  2014-05-16T13:45:00.237   \n",
      "1     9  2  2014-05-14T00:36:31.077   5     NaN  2014-05-14T00:36:31.077   \n",
      "2    10  2  2014-05-14T00:53:43.273  12     NaN  2014-05-14T00:53:43.273   \n",
      "3    14  1  2014-05-14T01:25:59.677  21  1243.0  2014-06-20T17:36:05.023   \n",
      "4    15  1  2014-05-14T01:41:23.110   2   543.0  2014-05-14T01:41:23.110   \n",
      "..  ... ..                      ...  ..     ...                      ...   \n",
      "94  120  2  2014-05-17T18:15:11.937   5     NaN  2014-05-17T18:15:11.937   \n",
      "95  121  2  2014-05-17T18:53:30.123  17     NaN  2014-05-17T18:53:30.123   \n",
      "96  122  2  2014-05-17T20:56:15.577  10     NaN  2014-05-17T20:56:15.577   \n",
      "97  123  5  2014-05-17T21:10:41.990   0     NaN  2014-05-20T13:50:21.763   \n",
      "98  124  4  2014-05-17T21:10:41.990   0     NaN  2014-05-20T13:50:19.543   \n",
      "\n",
      "   How can I do simple machine learning without hard-coding behavior?  \\\n",
      "0   What open-source books (or other materials) pr...                   \n",
      "1                                                 NaN                   \n",
      "2                                                 NaN                   \n",
      "3            Is Data Science the Same as Data Mining?                   \n",
      "4   What are the advantages and disadvantages of S...                   \n",
      "..                                                ...                   \n",
      "94                                                NaN                   \n",
      "95                                                NaN                   \n",
      "96                                                NaN                   \n",
      "97                                                NaN                   \n",
      "98                                                NaN                   \n",
      "\n",
      "            <machine-learning>  1.1  1.2  1.3  2014-05-14T14:40:25.950  \n",
      "0     <education><open-source>  3.0    4  1.0  2014-05-14T08:40:54.950  \n",
      "1                          NaN  NaN    0  NaN                      NaN  \n",
      "2                          NaN  NaN    1  NaN                      NaN  \n",
      "3   <data-mining><definitions>  4.0    1  4.0                      NaN  \n",
      "4                  <databases>  0.0    1  NaN  2014-05-14T07:41:49.437  \n",
      "..                         ...  ...  ...  ...                      ...  \n",
      "94                         NaN  NaN    1  NaN                      NaN  \n",
      "95                         NaN  NaN    2  NaN                      NaN  \n",
      "96                         NaN  NaN    0  NaN                      NaN  \n",
      "97                         NaN  NaN    0  NaN                      NaN  \n",
      "98                         NaN  NaN    0  NaN                      NaN  \n",
      "\n",
      "[99 rows x 12 columns]\n"
     ]
    }
   ],
   "source": [
    "print(posts_csv)"
   ]
  },
  {
   "cell_type": "code",
   "execution_count": 31,
   "id": "eb8c0ab4-eccf-4283-b252-fefa3886464d",
   "metadata": {},
   "outputs": [
    {
     "name": "stdout",
     "output_type": "stream",
     "text": [
      "    5  1  2014-05-13T23:58:30.457   9     448  2014-05-14T00:36:31.077  \\\n",
      "0   7  1  2014-05-14T00:11:06.457   4   388.0  2014-05-16T13:45:00.237   \n",
      "1   9  2  2014-05-14T00:36:31.077   5     NaN  2014-05-14T00:36:31.077   \n",
      "2  10  2  2014-05-14T00:53:43.273  12     NaN  2014-05-14T00:53:43.273   \n",
      "3  14  1  2014-05-14T01:25:59.677  21  1243.0  2014-06-20T17:36:05.023   \n",
      "4  15  1  2014-05-14T01:41:23.110   2   543.0  2014-05-14T01:41:23.110   \n",
      "\n",
      "  How can I do simple machine learning without hard-coding behavior?  \\\n",
      "0  What open-source books (or other materials) pr...                   \n",
      "1                                                NaN                   \n",
      "2                                                NaN                   \n",
      "3           Is Data Science the Same as Data Mining?                   \n",
      "4  What are the advantages and disadvantages of S...                   \n",
      "\n",
      "           <machine-learning>  1.1  1.2  1.3  2014-05-14T14:40:25.950  \n",
      "0    <education><open-source>  3.0    4  1.0  2014-05-14T08:40:54.950  \n",
      "1                         NaN  NaN    0  NaN                      NaN  \n",
      "2                         NaN  NaN    1  NaN                      NaN  \n",
      "3  <data-mining><definitions>  4.0    1  4.0                      NaN  \n",
      "4                 <databases>  0.0    1  NaN  2014-05-14T07:41:49.437  \n"
     ]
    }
   ],
   "source": [
    "print(posts_csv.head())"
   ]
  },
  {
   "cell_type": "code",
   "execution_count": 32,
   "id": "55920d39-b861-435c-8e4c-e11a5f67d6cc",
   "metadata": {},
   "outputs": [
    {
     "name": "stdout",
     "output_type": "stream",
     "text": [
      "    5  1  2014-05-13T23:58:30.457   9    448  2014-05-14T00:36:31.077  \\\n",
      "0   7  1  2014-05-14T00:11:06.457   4  388.0  2014-05-16T13:45:00.237   \n",
      "1   9  2  2014-05-14T00:36:31.077   5    NaN  2014-05-14T00:36:31.077   \n",
      "2  10  2  2014-05-14T00:53:43.273  12    NaN  2014-05-14T00:53:43.273   \n",
      "\n",
      "  How can I do simple machine learning without hard-coding behavior?  \\\n",
      "0  What open-source books (or other materials) pr...                   \n",
      "1                                                NaN                   \n",
      "2                                                NaN                   \n",
      "\n",
      "         <machine-learning>  1.1  1.2  1.3  2014-05-14T14:40:25.950  \n",
      "0  <education><open-source>  3.0    4  1.0  2014-05-14T08:40:54.950  \n",
      "1                       NaN  NaN    0  NaN                      NaN  \n",
      "2                       NaN  NaN    1  NaN                      NaN  \n"
     ]
    }
   ],
   "source": [
    "print(posts_csv.head(3))"
   ]
  },
  {
   "cell_type": "code",
   "execution_count": 33,
   "id": "0c320968-9cdf-493a-9a57-827d823aab6b",
   "metadata": {},
   "outputs": [
    {
     "name": "stdout",
     "output_type": "stream",
     "text": [
      "<class 'numpy.ndarray'>\n"
     ]
    }
   ],
   "source": [
    "print(type(posts_csv.values))"
   ]
  },
  {
   "cell_type": "code",
   "execution_count": 34,
   "id": "a58ff478-1554-4ea5-9abd-06e0fc12c10e",
   "metadata": {},
   "outputs": [
    {
     "name": "stdout",
     "output_type": "stream",
     "text": [
      "[[7 1 '2014-05-14T00:11:06.457' ... 4 1.0 '2014-05-14T08:40:54.950']\n",
      " [9 2 '2014-05-14T00:36:31.077' ... 0 nan nan]\n",
      " [10 2 '2014-05-14T00:53:43.273' ... 1 nan nan]\n",
      " ...\n",
      " [122 2 '2014-05-17T20:56:15.577' ... 0 nan nan]\n",
      " [123 5 '2014-05-17T21:10:41.990' ... 0 nan nan]\n",
      " [124 4 '2014-05-17T21:10:41.990' ... 0 nan nan]]\n"
     ]
    }
   ],
   "source": [
    "print(posts_csv.values)"
   ]
  },
  {
   "cell_type": "markdown",
   "id": "5c1c6923-8fab-4fdf-b04f-d4ea7b3351a7",
   "metadata": {},
   "source": [
    "### Working with rows"
   ]
  },
  {
   "cell_type": "code",
   "execution_count": 35,
   "id": "c8c1ff71-9009-4622-a96e-6e7eef18bebb",
   "metadata": {},
   "outputs": [
    {
     "data": {
      "text/html": [
       "<div>\n",
       "<style scoped>\n",
       "    .dataframe tbody tr th:only-of-type {\n",
       "        vertical-align: middle;\n",
       "    }\n",
       "\n",
       "    .dataframe tbody tr th {\n",
       "        vertical-align: top;\n",
       "    }\n",
       "\n",
       "    .dataframe thead th {\n",
       "        text-align: right;\n",
       "    }\n",
       "</style>\n",
       "<table border=\"1\" class=\"dataframe\">\n",
       "  <thead>\n",
       "    <tr style=\"text-align: right;\">\n",
       "      <th></th>\n",
       "      <th>5</th>\n",
       "      <th>1</th>\n",
       "      <th>2014-05-13T23:58:30.457</th>\n",
       "      <th>9</th>\n",
       "      <th>448</th>\n",
       "      <th>2014-05-14T00:36:31.077</th>\n",
       "      <th>How can I do simple machine learning without hard-coding behavior?</th>\n",
       "      <th>&lt;machine-learning&gt;</th>\n",
       "      <th>1.1</th>\n",
       "      <th>1.2</th>\n",
       "      <th>1.3</th>\n",
       "      <th>2014-05-14T14:40:25.950</th>\n",
       "    </tr>\n",
       "  </thead>\n",
       "  <tbody>\n",
       "    <tr>\n",
       "      <th>0</th>\n",
       "      <td>7</td>\n",
       "      <td>1</td>\n",
       "      <td>2014-05-14T00:11:06.457</td>\n",
       "      <td>4</td>\n",
       "      <td>388.0</td>\n",
       "      <td>2014-05-16T13:45:00.237</td>\n",
       "      <td>What open-source books (or other materials) pr...</td>\n",
       "      <td>&lt;education&gt;&lt;open-source&gt;</td>\n",
       "      <td>3.0</td>\n",
       "      <td>4</td>\n",
       "      <td>1.0</td>\n",
       "      <td>2014-05-14T08:40:54.950</td>\n",
       "    </tr>\n",
       "    <tr>\n",
       "      <th>1</th>\n",
       "      <td>9</td>\n",
       "      <td>2</td>\n",
       "      <td>2014-05-14T00:36:31.077</td>\n",
       "      <td>5</td>\n",
       "      <td>NaN</td>\n",
       "      <td>2014-05-14T00:36:31.077</td>\n",
       "      <td>NaN</td>\n",
       "      <td>NaN</td>\n",
       "      <td>NaN</td>\n",
       "      <td>0</td>\n",
       "      <td>NaN</td>\n",
       "      <td>NaN</td>\n",
       "    </tr>\n",
       "    <tr>\n",
       "      <th>2</th>\n",
       "      <td>10</td>\n",
       "      <td>2</td>\n",
       "      <td>2014-05-14T00:53:43.273</td>\n",
       "      <td>12</td>\n",
       "      <td>NaN</td>\n",
       "      <td>2014-05-14T00:53:43.273</td>\n",
       "      <td>NaN</td>\n",
       "      <td>NaN</td>\n",
       "      <td>NaN</td>\n",
       "      <td>1</td>\n",
       "      <td>NaN</td>\n",
       "      <td>NaN</td>\n",
       "    </tr>\n",
       "  </tbody>\n",
       "</table>\n",
       "</div>"
      ],
      "text/plain": [
       "    5  1  2014-05-13T23:58:30.457   9    448  2014-05-14T00:36:31.077  \\\n",
       "0   7  1  2014-05-14T00:11:06.457   4  388.0  2014-05-16T13:45:00.237   \n",
       "1   9  2  2014-05-14T00:36:31.077   5    NaN  2014-05-14T00:36:31.077   \n",
       "2  10  2  2014-05-14T00:53:43.273  12    NaN  2014-05-14T00:53:43.273   \n",
       "\n",
       "  How can I do simple machine learning without hard-coding behavior?  \\\n",
       "0  What open-source books (or other materials) pr...                   \n",
       "1                                                NaN                   \n",
       "2                                                NaN                   \n",
       "\n",
       "         <machine-learning>  1.1  1.2  1.3  2014-05-14T14:40:25.950  \n",
       "0  <education><open-source>  3.0    4  1.0  2014-05-14T08:40:54.950  \n",
       "1                       NaN  NaN    0  NaN                      NaN  \n",
       "2                       NaN  NaN    1  NaN                      NaN  "
      ]
     },
     "execution_count": 35,
     "metadata": {},
     "output_type": "execute_result"
    }
   ],
   "source": [
    "pd.read_csv('posts-100.csv', nrows=3)"
   ]
  },
  {
   "cell_type": "code",
   "execution_count": 36,
   "id": "aeb50a85-ef42-4e94-9488-e28e48583324",
   "metadata": {},
   "outputs": [
    {
     "data": {
      "text/html": [
       "<div>\n",
       "<style scoped>\n",
       "    .dataframe tbody tr th:only-of-type {\n",
       "        vertical-align: middle;\n",
       "    }\n",
       "\n",
       "    .dataframe tbody tr th {\n",
       "        vertical-align: top;\n",
       "    }\n",
       "\n",
       "    .dataframe thead th {\n",
       "        text-align: right;\n",
       "    }\n",
       "</style>\n",
       "<table border=\"1\" class=\"dataframe\">\n",
       "  <thead>\n",
       "    <tr style=\"text-align: right;\">\n",
       "      <th></th>\n",
       "      <th>10</th>\n",
       "      <th>2</th>\n",
       "      <th>2014-05-14T00:53:43.273</th>\n",
       "      <th>12</th>\n",
       "      <th>Unnamed: 4</th>\n",
       "      <th>2014-05-14T00:53:43.273.1</th>\n",
       "      <th>Unnamed: 6</th>\n",
       "      <th>Unnamed: 7</th>\n",
       "      <th>Unnamed: 8</th>\n",
       "      <th>1</th>\n",
       "      <th>Unnamed: 10</th>\n",
       "      <th>Unnamed: 11</th>\n",
       "    </tr>\n",
       "  </thead>\n",
       "  <tbody>\n",
       "    <tr>\n",
       "      <th>0</th>\n",
       "      <td>14</td>\n",
       "      <td>1</td>\n",
       "      <td>2014-05-14T01:25:59.677</td>\n",
       "      <td>21</td>\n",
       "      <td>1243</td>\n",
       "      <td>2014-06-20T17:36:05.023</td>\n",
       "      <td>Is Data Science the Same as Data Mining?</td>\n",
       "      <td>&lt;data-mining&gt;&lt;definitions&gt;</td>\n",
       "      <td>4</td>\n",
       "      <td>1</td>\n",
       "      <td>4.0</td>\n",
       "      <td>NaN</td>\n",
       "    </tr>\n",
       "    <tr>\n",
       "      <th>1</th>\n",
       "      <td>15</td>\n",
       "      <td>1</td>\n",
       "      <td>2014-05-14T01:41:23.110</td>\n",
       "      <td>2</td>\n",
       "      <td>543</td>\n",
       "      <td>2014-05-14T01:41:23.110</td>\n",
       "      <td>What are the advantages and disadvantages of S...</td>\n",
       "      <td>&lt;databases&gt;</td>\n",
       "      <td>0</td>\n",
       "      <td>1</td>\n",
       "      <td>NaN</td>\n",
       "      <td>2014-05-14T07:41:49.437</td>\n",
       "    </tr>\n",
       "    <tr>\n",
       "      <th>2</th>\n",
       "      <td>16</td>\n",
       "      <td>1</td>\n",
       "      <td>2014-05-14T01:57:56.880</td>\n",
       "      <td>18</td>\n",
       "      <td>322</td>\n",
       "      <td>2014-05-17T16:24:14.523</td>\n",
       "      <td>Use liblinear on big data for semantic analysis</td>\n",
       "      <td>&lt;machine-learning&gt;&lt;bigdata&gt;&lt;libsvm&gt;</td>\n",
       "      <td>2</td>\n",
       "      <td>0</td>\n",
       "      <td>NaN</td>\n",
       "      <td>NaN</td>\n",
       "    </tr>\n",
       "  </tbody>\n",
       "</table>\n",
       "</div>"
      ],
      "text/plain": [
       "   10  2  2014-05-14T00:53:43.273  12  Unnamed: 4 2014-05-14T00:53:43.273.1  \\\n",
       "0  14  1  2014-05-14T01:25:59.677  21        1243   2014-06-20T17:36:05.023   \n",
       "1  15  1  2014-05-14T01:41:23.110   2         543   2014-05-14T01:41:23.110   \n",
       "2  16  1  2014-05-14T01:57:56.880  18         322   2014-05-17T16:24:14.523   \n",
       "\n",
       "                                          Unnamed: 6  \\\n",
       "0           Is Data Science the Same as Data Mining?   \n",
       "1  What are the advantages and disadvantages of S...   \n",
       "2    Use liblinear on big data for semantic analysis   \n",
       "\n",
       "                            Unnamed: 7  Unnamed: 8  1  Unnamed: 10  \\\n",
       "0           <data-mining><definitions>           4  1          4.0   \n",
       "1                          <databases>           0  1          NaN   \n",
       "2  <machine-learning><bigdata><libsvm>           2  0          NaN   \n",
       "\n",
       "               Unnamed: 11  \n",
       "0                      NaN  \n",
       "1  2014-05-14T07:41:49.437  \n",
       "2                      NaN  "
      ]
     },
     "execution_count": 36,
     "metadata": {},
     "output_type": "execute_result"
    }
   ],
   "source": [
    "pd.read_csv('posts-100.csv', nrows=3, skiprows=3)"
   ]
  },
  {
   "cell_type": "code",
   "execution_count": 37,
   "id": "56b4e9ff-b4b4-4c0b-b48b-345c36e3325c",
   "metadata": {},
   "outputs": [
    {
     "data": {
      "text/html": [
       "<div>\n",
       "<style scoped>\n",
       "    .dataframe tbody tr th:only-of-type {\n",
       "        vertical-align: middle;\n",
       "    }\n",
       "\n",
       "    .dataframe tbody tr th {\n",
       "        vertical-align: top;\n",
       "    }\n",
       "\n",
       "    .dataframe thead th {\n",
       "        text-align: right;\n",
       "    }\n",
       "</style>\n",
       "<table border=\"1\" class=\"dataframe\">\n",
       "  <thead>\n",
       "    <tr style=\"text-align: right;\">\n",
       "      <th></th>\n",
       "      <th>5</th>\n",
       "      <th>1</th>\n",
       "      <th>2014-05-13T23:58:30.457</th>\n",
       "      <th>9</th>\n",
       "      <th>448</th>\n",
       "      <th>2014-05-14T00:36:31.077</th>\n",
       "      <th>How can I do simple machine learning without hard-coding behavior?</th>\n",
       "      <th>&lt;machine-learning&gt;</th>\n",
       "      <th>1.1</th>\n",
       "      <th>1.2</th>\n",
       "      <th>1.3</th>\n",
       "      <th>2014-05-14T14:40:25.950</th>\n",
       "    </tr>\n",
       "  </thead>\n",
       "  <tbody>\n",
       "    <tr>\n",
       "      <th>0</th>\n",
       "      <td>9</td>\n",
       "      <td>2</td>\n",
       "      <td>2014-05-14T00:36:31.077</td>\n",
       "      <td>5</td>\n",
       "      <td>NaN</td>\n",
       "      <td>2014-05-14T00:36:31.077</td>\n",
       "      <td>NaN</td>\n",
       "      <td>NaN</td>\n",
       "      <td>NaN</td>\n",
       "      <td>0</td>\n",
       "      <td>NaN</td>\n",
       "      <td>NaN</td>\n",
       "    </tr>\n",
       "    <tr>\n",
       "      <th>1</th>\n",
       "      <td>14</td>\n",
       "      <td>1</td>\n",
       "      <td>2014-05-14T01:25:59.677</td>\n",
       "      <td>21</td>\n",
       "      <td>1243.0</td>\n",
       "      <td>2014-06-20T17:36:05.023</td>\n",
       "      <td>Is Data Science the Same as Data Mining?</td>\n",
       "      <td>&lt;data-mining&gt;&lt;definitions&gt;</td>\n",
       "      <td>4.0</td>\n",
       "      <td>1</td>\n",
       "      <td>4.0</td>\n",
       "      <td>NaN</td>\n",
       "    </tr>\n",
       "    <tr>\n",
       "      <th>2</th>\n",
       "      <td>16</td>\n",
       "      <td>1</td>\n",
       "      <td>2014-05-14T01:57:56.880</td>\n",
       "      <td>18</td>\n",
       "      <td>322.0</td>\n",
       "      <td>2014-05-17T16:24:14.523</td>\n",
       "      <td>Use liblinear on big data for semantic analysis</td>\n",
       "      <td>&lt;machine-learning&gt;&lt;bigdata&gt;&lt;libsvm&gt;</td>\n",
       "      <td>2.0</td>\n",
       "      <td>0</td>\n",
       "      <td>NaN</td>\n",
       "      <td>NaN</td>\n",
       "    </tr>\n",
       "    <tr>\n",
       "      <th>3</th>\n",
       "      <td>18</td>\n",
       "      <td>4</td>\n",
       "      <td>2014-05-14T02:49:14.580</td>\n",
       "      <td>0</td>\n",
       "      <td>NaN</td>\n",
       "      <td>2014-05-14T02:49:14.580</td>\n",
       "      <td>NaN</td>\n",
       "      <td>NaN</td>\n",
       "      <td>NaN</td>\n",
       "      <td>0</td>\n",
       "      <td>NaN</td>\n",
       "      <td>NaN</td>\n",
       "    </tr>\n",
       "    <tr>\n",
       "      <th>4</th>\n",
       "      <td>20</td>\n",
       "      <td>1</td>\n",
       "      <td>2014-05-14T05:37:46.780</td>\n",
       "      <td>17</td>\n",
       "      <td>311.0</td>\n",
       "      <td>2017-08-29T11:26:37.137</td>\n",
       "      <td>the data on our relational DBMS is getting big...</td>\n",
       "      <td>&lt;nosql&gt;&lt;relational-dbms&gt;</td>\n",
       "      <td>5.0</td>\n",
       "      <td>1</td>\n",
       "      <td>1.0</td>\n",
       "      <td>NaN</td>\n",
       "    </tr>\n",
       "  </tbody>\n",
       "</table>\n",
       "</div>"
      ],
      "text/plain": [
       "    5  1  2014-05-13T23:58:30.457   9     448  2014-05-14T00:36:31.077  \\\n",
       "0   9  2  2014-05-14T00:36:31.077   5     NaN  2014-05-14T00:36:31.077   \n",
       "1  14  1  2014-05-14T01:25:59.677  21  1243.0  2014-06-20T17:36:05.023   \n",
       "2  16  1  2014-05-14T01:57:56.880  18   322.0  2014-05-17T16:24:14.523   \n",
       "3  18  4  2014-05-14T02:49:14.580   0     NaN  2014-05-14T02:49:14.580   \n",
       "4  20  1  2014-05-14T05:37:46.780  17   311.0  2017-08-29T11:26:37.137   \n",
       "\n",
       "  How can I do simple machine learning without hard-coding behavior?  \\\n",
       "0                                                NaN                   \n",
       "1           Is Data Science the Same as Data Mining?                   \n",
       "2    Use liblinear on big data for semantic analysis                   \n",
       "3                                                NaN                   \n",
       "4  the data on our relational DBMS is getting big...                   \n",
       "\n",
       "                    <machine-learning>  1.1  1.2  1.3 2014-05-14T14:40:25.950  \n",
       "0                                  NaN  NaN    0  NaN                     NaN  \n",
       "1           <data-mining><definitions>  4.0    1  4.0                     NaN  \n",
       "2  <machine-learning><bigdata><libsvm>  2.0    0  NaN                     NaN  \n",
       "3                                  NaN  NaN    0  NaN                     NaN  \n",
       "4             <nosql><relational-dbms>  5.0    1  1.0                     NaN  "
      ]
     },
     "execution_count": 37,
     "metadata": {},
     "output_type": "execute_result"
    }
   ],
   "source": [
    "pd.read_csv('posts-100.csv', skiprows=lambda x: x % 2).head()"
   ]
  },
  {
   "cell_type": "markdown",
   "id": "d4bd70a5-9f9c-40d2-bb15-2e6c68856e4f",
   "metadata": {},
   "source": [
    "### Working with columns"
   ]
  },
  {
   "cell_type": "code",
   "execution_count": 38,
   "id": "dceb6d0c-78b1-4de6-a5e7-865484f763b7",
   "metadata": {},
   "outputs": [
    {
     "data": {
      "text/html": [
       "<div>\n",
       "<style scoped>\n",
       "    .dataframe tbody tr th:only-of-type {\n",
       "        vertical-align: middle;\n",
       "    }\n",
       "\n",
       "    .dataframe tbody tr th {\n",
       "        vertical-align: top;\n",
       "    }\n",
       "\n",
       "    .dataframe thead th {\n",
       "        text-align: right;\n",
       "    }\n",
       "</style>\n",
       "<table border=\"1\" class=\"dataframe\">\n",
       "  <thead>\n",
       "    <tr style=\"text-align: right;\">\n",
       "      <th></th>\n",
       "      <th>5</th>\n",
       "      <th>1.1</th>\n",
       "    </tr>\n",
       "  </thead>\n",
       "  <tbody>\n",
       "    <tr>\n",
       "      <th>0</th>\n",
       "      <td>7</td>\n",
       "      <td>3.0</td>\n",
       "    </tr>\n",
       "    <tr>\n",
       "      <th>1</th>\n",
       "      <td>9</td>\n",
       "      <td>NaN</td>\n",
       "    </tr>\n",
       "    <tr>\n",
       "      <th>2</th>\n",
       "      <td>10</td>\n",
       "      <td>NaN</td>\n",
       "    </tr>\n",
       "    <tr>\n",
       "      <th>3</th>\n",
       "      <td>14</td>\n",
       "      <td>4.0</td>\n",
       "    </tr>\n",
       "    <tr>\n",
       "      <th>4</th>\n",
       "      <td>15</td>\n",
       "      <td>0.0</td>\n",
       "    </tr>\n",
       "  </tbody>\n",
       "</table>\n",
       "</div>"
      ],
      "text/plain": [
       "    5  1.1\n",
       "0   7  3.0\n",
       "1   9  NaN\n",
       "2  10  NaN\n",
       "3  14  4.0\n",
       "4  15  0.0"
      ]
     },
     "execution_count": 38,
     "metadata": {},
     "output_type": "execute_result"
    }
   ],
   "source": [
    "pd.read_csv('posts-100.csv', usecols=[0, 8]).head()"
   ]
  },
  {
   "cell_type": "code",
   "execution_count": 39,
   "id": "5ba173c4-8d2d-45df-98e5-018190fdb40e",
   "metadata": {},
   "outputs": [
    {
     "data": {
      "text/plain": [
       "Index(['5', '1', '2014-05-13T23:58:30.457', '9', '448',\n",
       "       '2014-05-14T00:36:31.077',\n",
       "       'How can I do simple machine learning without hard-coding behavior?',\n",
       "       '<machine-learning>', '1.1', '1.2', '1.3', '2014-05-14T14:40:25.950'],\n",
       "      dtype='object')"
      ]
     },
     "execution_count": 39,
     "metadata": {},
     "output_type": "execute_result"
    }
   ],
   "source": [
    "pd.read_csv('posts-100.csv').columns"
   ]
  },
  {
   "cell_type": "code",
   "execution_count": 40,
   "id": "af608fbe-f038-4366-8e34-4ee361cb30ea",
   "metadata": {},
   "outputs": [
    {
     "data": {
      "text/plain": [
       "Index([0, 1, 2, 3, 4, 5, 6, 7, 8, 9, 10, 11], dtype='int64')"
      ]
     },
     "execution_count": 40,
     "metadata": {},
     "output_type": "execute_result"
    }
   ],
   "source": [
    "pd.read_csv('posts-100.csv', header=None).columns"
   ]
  },
  {
   "cell_type": "code",
   "execution_count": 41,
   "id": "9b21b51a-7539-4d96-ba1c-b86f2817fcbd",
   "metadata": {},
   "outputs": [
    {
     "data": {
      "text/html": [
       "<div>\n",
       "<style scoped>\n",
       "    .dataframe tbody tr th:only-of-type {\n",
       "        vertical-align: middle;\n",
       "    }\n",
       "\n",
       "    .dataframe tbody tr th {\n",
       "        vertical-align: top;\n",
       "    }\n",
       "\n",
       "    .dataframe thead th {\n",
       "        text-align: right;\n",
       "    }\n",
       "</style>\n",
       "<table border=\"1\" class=\"dataframe\">\n",
       "  <thead>\n",
       "    <tr style=\"text-align: right;\">\n",
       "      <th></th>\n",
       "      <th>0</th>\n",
       "      <th>1</th>\n",
       "      <th>2</th>\n",
       "      <th>3</th>\n",
       "      <th>4</th>\n",
       "      <th>5</th>\n",
       "      <th>6</th>\n",
       "      <th>7</th>\n",
       "      <th>8</th>\n",
       "      <th>9</th>\n",
       "      <th>10</th>\n",
       "      <th>11</th>\n",
       "    </tr>\n",
       "  </thead>\n",
       "  <tbody>\n",
       "    <tr>\n",
       "      <th>0</th>\n",
       "      <td>5</td>\n",
       "      <td>1</td>\n",
       "      <td>2014-05-13T23:58:30.457</td>\n",
       "      <td>9</td>\n",
       "      <td>448.0</td>\n",
       "      <td>2014-05-14T00:36:31.077</td>\n",
       "      <td>How can I do simple machine learning without h...</td>\n",
       "      <td>&lt;machine-learning&gt;</td>\n",
       "      <td>1.0</td>\n",
       "      <td>1</td>\n",
       "      <td>1.0</td>\n",
       "      <td>2014-05-14T14:40:25.950</td>\n",
       "    </tr>\n",
       "    <tr>\n",
       "      <th>1</th>\n",
       "      <td>7</td>\n",
       "      <td>1</td>\n",
       "      <td>2014-05-14T00:11:06.457</td>\n",
       "      <td>4</td>\n",
       "      <td>388.0</td>\n",
       "      <td>2014-05-16T13:45:00.237</td>\n",
       "      <td>What open-source books (or other materials) pr...</td>\n",
       "      <td>&lt;education&gt;&lt;open-source&gt;</td>\n",
       "      <td>3.0</td>\n",
       "      <td>4</td>\n",
       "      <td>1.0</td>\n",
       "      <td>2014-05-14T08:40:54.950</td>\n",
       "    </tr>\n",
       "    <tr>\n",
       "      <th>2</th>\n",
       "      <td>9</td>\n",
       "      <td>2</td>\n",
       "      <td>2014-05-14T00:36:31.077</td>\n",
       "      <td>5</td>\n",
       "      <td>NaN</td>\n",
       "      <td>2014-05-14T00:36:31.077</td>\n",
       "      <td>NaN</td>\n",
       "      <td>NaN</td>\n",
       "      <td>NaN</td>\n",
       "      <td>0</td>\n",
       "      <td>NaN</td>\n",
       "      <td>NaN</td>\n",
       "    </tr>\n",
       "    <tr>\n",
       "      <th>3</th>\n",
       "      <td>10</td>\n",
       "      <td>2</td>\n",
       "      <td>2014-05-14T00:53:43.273</td>\n",
       "      <td>12</td>\n",
       "      <td>NaN</td>\n",
       "      <td>2014-05-14T00:53:43.273</td>\n",
       "      <td>NaN</td>\n",
       "      <td>NaN</td>\n",
       "      <td>NaN</td>\n",
       "      <td>1</td>\n",
       "      <td>NaN</td>\n",
       "      <td>NaN</td>\n",
       "    </tr>\n",
       "    <tr>\n",
       "      <th>4</th>\n",
       "      <td>14</td>\n",
       "      <td>1</td>\n",
       "      <td>2014-05-14T01:25:59.677</td>\n",
       "      <td>21</td>\n",
       "      <td>1243.0</td>\n",
       "      <td>2014-06-20T17:36:05.023</td>\n",
       "      <td>Is Data Science the Same as Data Mining?</td>\n",
       "      <td>&lt;data-mining&gt;&lt;definitions&gt;</td>\n",
       "      <td>4.0</td>\n",
       "      <td>1</td>\n",
       "      <td>4.0</td>\n",
       "      <td>NaN</td>\n",
       "    </tr>\n",
       "  </tbody>\n",
       "</table>\n",
       "</div>"
      ],
      "text/plain": [
       "   0   1                        2   3       4                        5   \\\n",
       "0   5   1  2014-05-13T23:58:30.457   9   448.0  2014-05-14T00:36:31.077   \n",
       "1   7   1  2014-05-14T00:11:06.457   4   388.0  2014-05-16T13:45:00.237   \n",
       "2   9   2  2014-05-14T00:36:31.077   5     NaN  2014-05-14T00:36:31.077   \n",
       "3  10   2  2014-05-14T00:53:43.273  12     NaN  2014-05-14T00:53:43.273   \n",
       "4  14   1  2014-05-14T01:25:59.677  21  1243.0  2014-06-20T17:36:05.023   \n",
       "\n",
       "                                                  6   \\\n",
       "0  How can I do simple machine learning without h...   \n",
       "1  What open-source books (or other materials) pr...   \n",
       "2                                                NaN   \n",
       "3                                                NaN   \n",
       "4           Is Data Science the Same as Data Mining?   \n",
       "\n",
       "                           7    8   9    10                       11  \n",
       "0          <machine-learning>  1.0   1  1.0  2014-05-14T14:40:25.950  \n",
       "1    <education><open-source>  3.0   4  1.0  2014-05-14T08:40:54.950  \n",
       "2                         NaN  NaN   0  NaN                      NaN  \n",
       "3                         NaN  NaN   1  NaN                      NaN  \n",
       "4  <data-mining><definitions>  4.0   1  4.0                      NaN  "
      ]
     },
     "execution_count": 41,
     "metadata": {},
     "output_type": "execute_result"
    }
   ],
   "source": [
    "pd.read_csv('posts-100.csv', header=None).head()"
   ]
  },
  {
   "cell_type": "code",
   "execution_count": 42,
   "id": "b036a784-553f-41b7-bf29-2e8cbbb8fdf3",
   "metadata": {},
   "outputs": [
    {
     "data": {
      "text/html": [
       "<div>\n",
       "<style scoped>\n",
       "    .dataframe tbody tr th:only-of-type {\n",
       "        vertical-align: middle;\n",
       "    }\n",
       "\n",
       "    .dataframe tbody tr th {\n",
       "        vertical-align: top;\n",
       "    }\n",
       "\n",
       "    .dataframe thead th {\n",
       "        text-align: right;\n",
       "    }\n",
       "</style>\n",
       "<table border=\"1\" class=\"dataframe\">\n",
       "  <thead>\n",
       "    <tr style=\"text-align: right;\">\n",
       "      <th></th>\n",
       "      <th>Col0</th>\n",
       "      <th>Col1</th>\n",
       "      <th>Col2</th>\n",
       "      <th>Col3</th>\n",
       "      <th>Col4</th>\n",
       "      <th>Col5</th>\n",
       "      <th>Col6</th>\n",
       "      <th>Col7</th>\n",
       "      <th>Col8</th>\n",
       "      <th>Col9</th>\n",
       "      <th>Col10</th>\n",
       "      <th>Col11</th>\n",
       "    </tr>\n",
       "  </thead>\n",
       "  <tbody>\n",
       "    <tr>\n",
       "      <th>0</th>\n",
       "      <td>5</td>\n",
       "      <td>1</td>\n",
       "      <td>2014-05-13T23:58:30.457</td>\n",
       "      <td>9</td>\n",
       "      <td>448.0</td>\n",
       "      <td>2014-05-14T00:36:31.077</td>\n",
       "      <td>How can I do simple machine learning without h...</td>\n",
       "      <td>&lt;machine-learning&gt;</td>\n",
       "      <td>1.0</td>\n",
       "      <td>1</td>\n",
       "      <td>1.0</td>\n",
       "      <td>2014-05-14T14:40:25.950</td>\n",
       "    </tr>\n",
       "    <tr>\n",
       "      <th>1</th>\n",
       "      <td>7</td>\n",
       "      <td>1</td>\n",
       "      <td>2014-05-14T00:11:06.457</td>\n",
       "      <td>4</td>\n",
       "      <td>388.0</td>\n",
       "      <td>2014-05-16T13:45:00.237</td>\n",
       "      <td>What open-source books (or other materials) pr...</td>\n",
       "      <td>&lt;education&gt;&lt;open-source&gt;</td>\n",
       "      <td>3.0</td>\n",
       "      <td>4</td>\n",
       "      <td>1.0</td>\n",
       "      <td>2014-05-14T08:40:54.950</td>\n",
       "    </tr>\n",
       "    <tr>\n",
       "      <th>2</th>\n",
       "      <td>9</td>\n",
       "      <td>2</td>\n",
       "      <td>2014-05-14T00:36:31.077</td>\n",
       "      <td>5</td>\n",
       "      <td>NaN</td>\n",
       "      <td>2014-05-14T00:36:31.077</td>\n",
       "      <td>NaN</td>\n",
       "      <td>NaN</td>\n",
       "      <td>NaN</td>\n",
       "      <td>0</td>\n",
       "      <td>NaN</td>\n",
       "      <td>NaN</td>\n",
       "    </tr>\n",
       "    <tr>\n",
       "      <th>3</th>\n",
       "      <td>10</td>\n",
       "      <td>2</td>\n",
       "      <td>2014-05-14T00:53:43.273</td>\n",
       "      <td>12</td>\n",
       "      <td>NaN</td>\n",
       "      <td>2014-05-14T00:53:43.273</td>\n",
       "      <td>NaN</td>\n",
       "      <td>NaN</td>\n",
       "      <td>NaN</td>\n",
       "      <td>1</td>\n",
       "      <td>NaN</td>\n",
       "      <td>NaN</td>\n",
       "    </tr>\n",
       "    <tr>\n",
       "      <th>4</th>\n",
       "      <td>14</td>\n",
       "      <td>1</td>\n",
       "      <td>2014-05-14T01:25:59.677</td>\n",
       "      <td>21</td>\n",
       "      <td>1243.0</td>\n",
       "      <td>2014-06-20T17:36:05.023</td>\n",
       "      <td>Is Data Science the Same as Data Mining?</td>\n",
       "      <td>&lt;data-mining&gt;&lt;definitions&gt;</td>\n",
       "      <td>4.0</td>\n",
       "      <td>1</td>\n",
       "      <td>4.0</td>\n",
       "      <td>NaN</td>\n",
       "    </tr>\n",
       "  </tbody>\n",
       "</table>\n",
       "</div>"
      ],
      "text/plain": [
       "   Col0  Col1                     Col2  Col3    Col4                     Col5  \\\n",
       "0     5     1  2014-05-13T23:58:30.457     9   448.0  2014-05-14T00:36:31.077   \n",
       "1     7     1  2014-05-14T00:11:06.457     4   388.0  2014-05-16T13:45:00.237   \n",
       "2     9     2  2014-05-14T00:36:31.077     5     NaN  2014-05-14T00:36:31.077   \n",
       "3    10     2  2014-05-14T00:53:43.273    12     NaN  2014-05-14T00:53:43.273   \n",
       "4    14     1  2014-05-14T01:25:59.677    21  1243.0  2014-06-20T17:36:05.023   \n",
       "\n",
       "                                                Col6  \\\n",
       "0  How can I do simple machine learning without h...   \n",
       "1  What open-source books (or other materials) pr...   \n",
       "2                                                NaN   \n",
       "3                                                NaN   \n",
       "4           Is Data Science the Same as Data Mining?   \n",
       "\n",
       "                         Col7  Col8  Col9  Col10                    Col11  \n",
       "0          <machine-learning>   1.0     1    1.0  2014-05-14T14:40:25.950  \n",
       "1    <education><open-source>   3.0     4    1.0  2014-05-14T08:40:54.950  \n",
       "2                         NaN   NaN     0    NaN                      NaN  \n",
       "3                         NaN   NaN     1    NaN                      NaN  \n",
       "4  <data-mining><definitions>   4.0     1    4.0                      NaN  "
      ]
     },
     "execution_count": 42,
     "metadata": {},
     "output_type": "execute_result"
    }
   ],
   "source": [
    "data = pd.read_csv('posts-100.csv', header=None)\n",
    "data = data.add_prefix('Col')\n",
    "data.head()"
   ]
  },
  {
   "cell_type": "code",
   "execution_count": 43,
   "id": "88708f5b-286a-4ee1-a2b9-a7c3adf03436",
   "metadata": {},
   "outputs": [
    {
     "data": {
      "text/html": [
       "<div>\n",
       "<style scoped>\n",
       "    .dataframe tbody tr th:only-of-type {\n",
       "        vertical-align: middle;\n",
       "    }\n",
       "\n",
       "    .dataframe tbody tr th {\n",
       "        vertical-align: top;\n",
       "    }\n",
       "\n",
       "    .dataframe thead th {\n",
       "        text-align: right;\n",
       "    }\n",
       "</style>\n",
       "<table border=\"1\" class=\"dataframe\">\n",
       "  <thead>\n",
       "    <tr style=\"text-align: right;\">\n",
       "      <th></th>\n",
       "      <th>Id</th>\n",
       "      <th>PostTypeId</th>\n",
       "      <th>CreationDate</th>\n",
       "      <th>Score</th>\n",
       "      <th>ViewCount</th>\n",
       "      <th>LastActivityDate</th>\n",
       "      <th>Title</th>\n",
       "      <th>Tags</th>\n",
       "      <th>AnswerCount</th>\n",
       "      <th>CommentCount</th>\n",
       "      <th>FavoriteCount</th>\n",
       "      <th>ClosedDate</th>\n",
       "    </tr>\n",
       "  </thead>\n",
       "  <tbody>\n",
       "    <tr>\n",
       "      <th>0</th>\n",
       "      <td>5</td>\n",
       "      <td>1</td>\n",
       "      <td>2014-05-13T23:58:30.457</td>\n",
       "      <td>9</td>\n",
       "      <td>448.0</td>\n",
       "      <td>2014-05-14T00:36:31.077</td>\n",
       "      <td>How can I do simple machine learning without h...</td>\n",
       "      <td>&lt;machine-learning&gt;</td>\n",
       "      <td>1.0</td>\n",
       "      <td>1</td>\n",
       "      <td>1.0</td>\n",
       "      <td>2014-05-14T14:40:25.950</td>\n",
       "    </tr>\n",
       "    <tr>\n",
       "      <th>1</th>\n",
       "      <td>7</td>\n",
       "      <td>1</td>\n",
       "      <td>2014-05-14T00:11:06.457</td>\n",
       "      <td>4</td>\n",
       "      <td>388.0</td>\n",
       "      <td>2014-05-16T13:45:00.237</td>\n",
       "      <td>What open-source books (or other materials) pr...</td>\n",
       "      <td>&lt;education&gt;&lt;open-source&gt;</td>\n",
       "      <td>3.0</td>\n",
       "      <td>4</td>\n",
       "      <td>1.0</td>\n",
       "      <td>2014-05-14T08:40:54.950</td>\n",
       "    </tr>\n",
       "    <tr>\n",
       "      <th>2</th>\n",
       "      <td>9</td>\n",
       "      <td>2</td>\n",
       "      <td>2014-05-14T00:36:31.077</td>\n",
       "      <td>5</td>\n",
       "      <td>NaN</td>\n",
       "      <td>2014-05-14T00:36:31.077</td>\n",
       "      <td>NaN</td>\n",
       "      <td>NaN</td>\n",
       "      <td>NaN</td>\n",
       "      <td>0</td>\n",
       "      <td>NaN</td>\n",
       "      <td>NaN</td>\n",
       "    </tr>\n",
       "    <tr>\n",
       "      <th>3</th>\n",
       "      <td>10</td>\n",
       "      <td>2</td>\n",
       "      <td>2014-05-14T00:53:43.273</td>\n",
       "      <td>12</td>\n",
       "      <td>NaN</td>\n",
       "      <td>2014-05-14T00:53:43.273</td>\n",
       "      <td>NaN</td>\n",
       "      <td>NaN</td>\n",
       "      <td>NaN</td>\n",
       "      <td>1</td>\n",
       "      <td>NaN</td>\n",
       "      <td>NaN</td>\n",
       "    </tr>\n",
       "    <tr>\n",
       "      <th>4</th>\n",
       "      <td>14</td>\n",
       "      <td>1</td>\n",
       "      <td>2014-05-14T01:25:59.677</td>\n",
       "      <td>21</td>\n",
       "      <td>1243.0</td>\n",
       "      <td>2014-06-20T17:36:05.023</td>\n",
       "      <td>Is Data Science the Same as Data Mining?</td>\n",
       "      <td>&lt;data-mining&gt;&lt;definitions&gt;</td>\n",
       "      <td>4.0</td>\n",
       "      <td>1</td>\n",
       "      <td>4.0</td>\n",
       "      <td>NaN</td>\n",
       "    </tr>\n",
       "  </tbody>\n",
       "</table>\n",
       "</div>"
      ],
      "text/plain": [
       "   Id  PostTypeId             CreationDate  Score  ViewCount  \\\n",
       "0   5           1  2014-05-13T23:58:30.457      9      448.0   \n",
       "1   7           1  2014-05-14T00:11:06.457      4      388.0   \n",
       "2   9           2  2014-05-14T00:36:31.077      5        NaN   \n",
       "3  10           2  2014-05-14T00:53:43.273     12        NaN   \n",
       "4  14           1  2014-05-14T01:25:59.677     21     1243.0   \n",
       "\n",
       "          LastActivityDate                                              Title  \\\n",
       "0  2014-05-14T00:36:31.077  How can I do simple machine learning without h...   \n",
       "1  2014-05-16T13:45:00.237  What open-source books (or other materials) pr...   \n",
       "2  2014-05-14T00:36:31.077                                                NaN   \n",
       "3  2014-05-14T00:53:43.273                                                NaN   \n",
       "4  2014-06-20T17:36:05.023           Is Data Science the Same as Data Mining?   \n",
       "\n",
       "                         Tags  AnswerCount  CommentCount  FavoriteCount  \\\n",
       "0          <machine-learning>          1.0             1            1.0   \n",
       "1    <education><open-source>          3.0             4            1.0   \n",
       "2                         NaN          NaN             0            NaN   \n",
       "3                         NaN          NaN             1            NaN   \n",
       "4  <data-mining><definitions>          4.0             1            4.0   \n",
       "\n",
       "                ClosedDate  \n",
       "0  2014-05-14T14:40:25.950  \n",
       "1  2014-05-14T08:40:54.950  \n",
       "2                      NaN  \n",
       "3                      NaN  \n",
       "4                      NaN  "
      ]
     },
     "execution_count": 43,
     "metadata": {},
     "output_type": "execute_result"
    }
   ],
   "source": [
    "headers = [\"Id\",\"PostTypeId\",\"CreationDate\",\"Score\",\"ViewCount\",\"LastActivityDate\",\"Title\",\"Tags\",\"AnswerCount\",\"CommentCount\",\"FavoriteCount\",\"ClosedDate\"]\n",
    "pd.read_csv('posts-100.csv', names=headers).head()"
   ]
  },
  {
   "cell_type": "code",
   "execution_count": 44,
   "id": "a7da9014-02e0-4038-ae14-2b40759162d2",
   "metadata": {},
   "outputs": [
    {
     "data": {
      "text/plain": [
       "Index(['Id', 'PostTypeId', 'CreationDate', 'Score', 'ViewCount',\n",
       "       'LastActivityDate', 'Title', 'Tags', 'AnswerCount', 'CommentCount',\n",
       "       'FavoriteCount', 'ClosedDate'],\n",
       "      dtype='object')"
      ]
     },
     "execution_count": 44,
     "metadata": {},
     "output_type": "execute_result"
    }
   ],
   "source": [
    "posts_header = pd.read_csv('posts-100-header.csv')\n",
    "posts_header.columns"
   ]
  },
  {
   "cell_type": "code",
   "execution_count": 45,
   "id": "18ba7ea6-99ea-4b1e-ac41-40381316199b",
   "metadata": {},
   "outputs": [
    {
     "data": {
      "text/plain": [
       "0    1.0\n",
       "1    3.0\n",
       "2    NaN\n",
       "3    NaN\n",
       "4    4.0\n",
       "Name: AnswerCount, dtype: float64"
      ]
     },
     "execution_count": 45,
     "metadata": {},
     "output_type": "execute_result"
    }
   ],
   "source": [
    "posts_header['AnswerCount'].head()"
   ]
  },
  {
   "cell_type": "code",
   "execution_count": 46,
   "id": "99c8883c-d852-451f-b5f0-ce59345f55df",
   "metadata": {},
   "outputs": [
    {
     "data": {
      "text/html": [
       "<div>\n",
       "<style scoped>\n",
       "    .dataframe tbody tr th:only-of-type {\n",
       "        vertical-align: middle;\n",
       "    }\n",
       "\n",
       "    .dataframe tbody tr th {\n",
       "        vertical-align: top;\n",
       "    }\n",
       "\n",
       "    .dataframe thead th {\n",
       "        text-align: right;\n",
       "    }\n",
       "</style>\n",
       "<table border=\"1\" class=\"dataframe\">\n",
       "  <thead>\n",
       "    <tr style=\"text-align: right;\">\n",
       "      <th></th>\n",
       "      <th>Id</th>\n",
       "      <th>PostTypeId</th>\n",
       "    </tr>\n",
       "  </thead>\n",
       "  <tbody>\n",
       "    <tr>\n",
       "      <th>0</th>\n",
       "      <td>5</td>\n",
       "      <td>1</td>\n",
       "    </tr>\n",
       "    <tr>\n",
       "      <th>1</th>\n",
       "      <td>7</td>\n",
       "      <td>1</td>\n",
       "    </tr>\n",
       "    <tr>\n",
       "      <th>2</th>\n",
       "      <td>9</td>\n",
       "      <td>2</td>\n",
       "    </tr>\n",
       "    <tr>\n",
       "      <th>3</th>\n",
       "      <td>10</td>\n",
       "      <td>2</td>\n",
       "    </tr>\n",
       "    <tr>\n",
       "      <th>4</th>\n",
       "      <td>14</td>\n",
       "      <td>1</td>\n",
       "    </tr>\n",
       "  </tbody>\n",
       "</table>\n",
       "</div>"
      ],
      "text/plain": [
       "   Id  PostTypeId\n",
       "0   5           1\n",
       "1   7           1\n",
       "2   9           2\n",
       "3  10           2\n",
       "4  14           1"
      ]
     },
     "execution_count": 46,
     "metadata": {},
     "output_type": "execute_result"
    }
   ],
   "source": [
    "posts_header[['Id', \"PostTypeId\"]].head()"
   ]
  },
  {
   "cell_type": "code",
   "execution_count": 47,
   "id": "40f3bbbc-1107-42ff-8441-111e5847220a",
   "metadata": {},
   "outputs": [
    {
     "data": {
      "text/html": [
       "<div>\n",
       "<style scoped>\n",
       "    .dataframe tbody tr th:only-of-type {\n",
       "        vertical-align: middle;\n",
       "    }\n",
       "\n",
       "    .dataframe tbody tr th {\n",
       "        vertical-align: top;\n",
       "    }\n",
       "\n",
       "    .dataframe thead th {\n",
       "        text-align: right;\n",
       "    }\n",
       "</style>\n",
       "<table border=\"1\" class=\"dataframe\">\n",
       "  <thead>\n",
       "    <tr style=\"text-align: right;\">\n",
       "      <th></th>\n",
       "      <th>Id</th>\n",
       "      <th>PostTypeId</th>\n",
       "      <th>CreationDate</th>\n",
       "      <th>Score</th>\n",
       "      <th>ViewCount</th>\n",
       "      <th>LastActivityDate</th>\n",
       "      <th>Title</th>\n",
       "      <th>Tags</th>\n",
       "      <th>AnswerCount</th>\n",
       "      <th>CommentCount</th>\n",
       "      <th>FavoriteCount</th>\n",
       "      <th>ClosedDate</th>\n",
       "    </tr>\n",
       "  </thead>\n",
       "  <tbody>\n",
       "    <tr>\n",
       "      <th>0</th>\n",
       "      <td>5</td>\n",
       "      <td>1</td>\n",
       "      <td>2014-05-13T23:58:30.457</td>\n",
       "      <td>9</td>\n",
       "      <td>448.0</td>\n",
       "      <td>2014-05-14T00:36:31.077</td>\n",
       "      <td>How can I do simple machine learning without h...</td>\n",
       "      <td>&lt;machine-learning&gt;</td>\n",
       "      <td>1.0</td>\n",
       "      <td>1</td>\n",
       "      <td>1.0</td>\n",
       "      <td>2014-05-14T14:40:25.950</td>\n",
       "    </tr>\n",
       "    <tr>\n",
       "      <th>1</th>\n",
       "      <td>7</td>\n",
       "      <td>1</td>\n",
       "      <td>2014-05-14T00:11:06.457</td>\n",
       "      <td>4</td>\n",
       "      <td>388.0</td>\n",
       "      <td>2014-05-16T13:45:00.237</td>\n",
       "      <td>What open-source books (or other materials) pr...</td>\n",
       "      <td>&lt;education&gt;&lt;open-source&gt;</td>\n",
       "      <td>3.0</td>\n",
       "      <td>4</td>\n",
       "      <td>1.0</td>\n",
       "      <td>2014-05-14T08:40:54.950</td>\n",
       "    </tr>\n",
       "    <tr>\n",
       "      <th>2</th>\n",
       "      <td>9</td>\n",
       "      <td>2</td>\n",
       "      <td>2014-05-14T00:36:31.077</td>\n",
       "      <td>5</td>\n",
       "      <td>NaN</td>\n",
       "      <td>2014-05-14T00:36:31.077</td>\n",
       "      <td>NaN</td>\n",
       "      <td>NaN</td>\n",
       "      <td>NaN</td>\n",
       "      <td>0</td>\n",
       "      <td>NaN</td>\n",
       "      <td>NaN</td>\n",
       "    </tr>\n",
       "    <tr>\n",
       "      <th>3</th>\n",
       "      <td>10</td>\n",
       "      <td>2</td>\n",
       "      <td>2014-05-14T00:53:43.273</td>\n",
       "      <td>12</td>\n",
       "      <td>NaN</td>\n",
       "      <td>2014-05-14T00:53:43.273</td>\n",
       "      <td>NaN</td>\n",
       "      <td>NaN</td>\n",
       "      <td>NaN</td>\n",
       "      <td>1</td>\n",
       "      <td>NaN</td>\n",
       "      <td>NaN</td>\n",
       "    </tr>\n",
       "    <tr>\n",
       "      <th>4</th>\n",
       "      <td>14</td>\n",
       "      <td>1</td>\n",
       "      <td>2014-05-14T01:25:59.677</td>\n",
       "      <td>21</td>\n",
       "      <td>1243.0</td>\n",
       "      <td>2014-06-20T17:36:05.023</td>\n",
       "      <td>Is Data Science the Same as Data Mining?</td>\n",
       "      <td>&lt;data-mining&gt;&lt;definitions&gt;</td>\n",
       "      <td>4.0</td>\n",
       "      <td>1</td>\n",
       "      <td>4.0</td>\n",
       "      <td>NaN</td>\n",
       "    </tr>\n",
       "  </tbody>\n",
       "</table>\n",
       "</div>"
      ],
      "text/plain": [
       "   Id  PostTypeId             CreationDate  Score  ViewCount  \\\n",
       "0   5           1  2014-05-13T23:58:30.457      9      448.0   \n",
       "1   7           1  2014-05-14T00:11:06.457      4      388.0   \n",
       "2   9           2  2014-05-14T00:36:31.077      5        NaN   \n",
       "3  10           2  2014-05-14T00:53:43.273     12        NaN   \n",
       "4  14           1  2014-05-14T01:25:59.677     21     1243.0   \n",
       "\n",
       "          LastActivityDate                                              Title  \\\n",
       "0  2014-05-14T00:36:31.077  How can I do simple machine learning without h...   \n",
       "1  2014-05-16T13:45:00.237  What open-source books (or other materials) pr...   \n",
       "2  2014-05-14T00:36:31.077                                                NaN   \n",
       "3  2014-05-14T00:53:43.273                                                NaN   \n",
       "4  2014-06-20T17:36:05.023           Is Data Science the Same as Data Mining?   \n",
       "\n",
       "                         Tags  AnswerCount  CommentCount  FavoriteCount  \\\n",
       "0          <machine-learning>          1.0             1            1.0   \n",
       "1    <education><open-source>          3.0             4            1.0   \n",
       "2                         NaN          NaN             0            NaN   \n",
       "3                         NaN          NaN             1            NaN   \n",
       "4  <data-mining><definitions>          4.0             1            4.0   \n",
       "\n",
       "                ClosedDate  \n",
       "0  2014-05-14T14:40:25.950  \n",
       "1  2014-05-14T08:40:54.950  \n",
       "2                      NaN  \n",
       "3                      NaN  \n",
       "4                      NaN  "
      ]
     },
     "execution_count": 47,
     "metadata": {},
     "output_type": "execute_result"
    }
   ],
   "source": [
    "posts_header.head()"
   ]
  },
  {
   "cell_type": "code",
   "execution_count": 48,
   "id": "c033add6-bdd9-4f70-9e94-370f634c3f02",
   "metadata": {},
   "outputs": [
    {
     "data": {
      "text/html": [
       "<div>\n",
       "<style scoped>\n",
       "    .dataframe tbody tr th:only-of-type {\n",
       "        vertical-align: middle;\n",
       "    }\n",
       "\n",
       "    .dataframe tbody tr th {\n",
       "        vertical-align: top;\n",
       "    }\n",
       "\n",
       "    .dataframe thead th {\n",
       "        text-align: right;\n",
       "    }\n",
       "</style>\n",
       "<table border=\"1\" class=\"dataframe\">\n",
       "  <thead>\n",
       "    <tr style=\"text-align: right;\">\n",
       "      <th></th>\n",
       "      <th>5</th>\n",
       "      <th>1</th>\n",
       "      <th>2014-05-13T23:58:30.457</th>\n",
       "      <th>9</th>\n",
       "      <th>448</th>\n",
       "      <th>2014-05-14T00:36:31.077</th>\n",
       "      <th>How can I do simple machine learning without hard-coding behavior?</th>\n",
       "      <th>&lt;machine-learning&gt;</th>\n",
       "      <th>1.1</th>\n",
       "      <th>1.2</th>\n",
       "      <th>1.3</th>\n",
       "      <th>2014-05-14T14:40:25.950</th>\n",
       "    </tr>\n",
       "  </thead>\n",
       "  <tbody>\n",
       "    <tr>\n",
       "      <th>0</th>\n",
       "      <td>7</td>\n",
       "      <td>1</td>\n",
       "      <td>2014-05-14T00:11:06.457</td>\n",
       "      <td>4</td>\n",
       "      <td>388.0</td>\n",
       "      <td>2014-05-16T13:45:00.237</td>\n",
       "      <td>What open-source books (or other materials) pr...</td>\n",
       "      <td>&lt;education&gt;&lt;open-source&gt;</td>\n",
       "      <td>3.0</td>\n",
       "      <td>4</td>\n",
       "      <td>1.0</td>\n",
       "      <td>2014-05-14T08:40:54.950</td>\n",
       "    </tr>\n",
       "    <tr>\n",
       "      <th>1</th>\n",
       "      <td>9</td>\n",
       "      <td>2</td>\n",
       "      <td>2014-05-14T00:36:31.077</td>\n",
       "      <td>5</td>\n",
       "      <td>NaN</td>\n",
       "      <td>2014-05-14T00:36:31.077</td>\n",
       "      <td>NaN</td>\n",
       "      <td>NaN</td>\n",
       "      <td>NaN</td>\n",
       "      <td>0</td>\n",
       "      <td>NaN</td>\n",
       "      <td>NaN</td>\n",
       "    </tr>\n",
       "    <tr>\n",
       "      <th>2</th>\n",
       "      <td>10</td>\n",
       "      <td>2</td>\n",
       "      <td>2014-05-14T00:53:43.273</td>\n",
       "      <td>12</td>\n",
       "      <td>NaN</td>\n",
       "      <td>2014-05-14T00:53:43.273</td>\n",
       "      <td>NaN</td>\n",
       "      <td>NaN</td>\n",
       "      <td>NaN</td>\n",
       "      <td>1</td>\n",
       "      <td>NaN</td>\n",
       "      <td>NaN</td>\n",
       "    </tr>\n",
       "    <tr>\n",
       "      <th>3</th>\n",
       "      <td>14</td>\n",
       "      <td>1</td>\n",
       "      <td>2014-05-14T01:25:59.677</td>\n",
       "      <td>21</td>\n",
       "      <td>1243.0</td>\n",
       "      <td>2014-06-20T17:36:05.023</td>\n",
       "      <td>Is Data Science the Same as Data Mining?</td>\n",
       "      <td>&lt;data-mining&gt;&lt;definitions&gt;</td>\n",
       "      <td>4.0</td>\n",
       "      <td>1</td>\n",
       "      <td>4.0</td>\n",
       "      <td>NaN</td>\n",
       "    </tr>\n",
       "    <tr>\n",
       "      <th>4</th>\n",
       "      <td>15</td>\n",
       "      <td>1</td>\n",
       "      <td>2014-05-14T01:41:23.110</td>\n",
       "      <td>2</td>\n",
       "      <td>543.0</td>\n",
       "      <td>2014-05-14T01:41:23.110</td>\n",
       "      <td>What are the advantages and disadvantages of S...</td>\n",
       "      <td>&lt;databases&gt;</td>\n",
       "      <td>0.0</td>\n",
       "      <td>1</td>\n",
       "      <td>NaN</td>\n",
       "      <td>2014-05-14T07:41:49.437</td>\n",
       "    </tr>\n",
       "  </tbody>\n",
       "</table>\n",
       "</div>"
      ],
      "text/plain": [
       "    5  1  2014-05-13T23:58:30.457   9     448  2014-05-14T00:36:31.077  \\\n",
       "0   7  1  2014-05-14T00:11:06.457   4   388.0  2014-05-16T13:45:00.237   \n",
       "1   9  2  2014-05-14T00:36:31.077   5     NaN  2014-05-14T00:36:31.077   \n",
       "2  10  2  2014-05-14T00:53:43.273  12     NaN  2014-05-14T00:53:43.273   \n",
       "3  14  1  2014-05-14T01:25:59.677  21  1243.0  2014-06-20T17:36:05.023   \n",
       "4  15  1  2014-05-14T01:41:23.110   2   543.0  2014-05-14T01:41:23.110   \n",
       "\n",
       "  How can I do simple machine learning without hard-coding behavior?  \\\n",
       "0  What open-source books (or other materials) pr...                   \n",
       "1                                                NaN                   \n",
       "2                                                NaN                   \n",
       "3           Is Data Science the Same as Data Mining?                   \n",
       "4  What are the advantages and disadvantages of S...                   \n",
       "\n",
       "           <machine-learning>  1.1  1.2  1.3  2014-05-14T14:40:25.950  \n",
       "0    <education><open-source>  3.0    4  1.0  2014-05-14T08:40:54.950  \n",
       "1                         NaN  NaN    0  NaN                      NaN  \n",
       "2                         NaN  NaN    1  NaN                      NaN  \n",
       "3  <data-mining><definitions>  4.0    1  4.0                      NaN  \n",
       "4                 <databases>  0.0    1  NaN  2014-05-14T07:41:49.437  "
      ]
     },
     "execution_count": 48,
     "metadata": {},
     "output_type": "execute_result"
    }
   ],
   "source": [
    "# Headers can be removed:\n",
    "pd.read_csv('posts-100-header.csv', skiprows=1).head()"
   ]
  },
  {
   "cell_type": "code",
   "execution_count": 49,
   "id": "f98d14ad-139a-4f6b-95a5-0b15986f1f4f",
   "metadata": {},
   "outputs": [
    {
     "data": {
      "text/html": [
       "<div>\n",
       "<style scoped>\n",
       "    .dataframe tbody tr th:only-of-type {\n",
       "        vertical-align: middle;\n",
       "    }\n",
       "\n",
       "    .dataframe tbody tr th {\n",
       "        vertical-align: top;\n",
       "    }\n",
       "\n",
       "    .dataframe thead th {\n",
       "        text-align: right;\n",
       "    }\n",
       "</style>\n",
       "<table border=\"1\" class=\"dataframe\">\n",
       "  <thead>\n",
       "    <tr style=\"text-align: right;\">\n",
       "      <th></th>\n",
       "      <th>Id</th>\n",
       "      <th>PostTypeId</th>\n",
       "      <th>CreationDate</th>\n",
       "      <th>Tags</th>\n",
       "    </tr>\n",
       "  </thead>\n",
       "  <tbody>\n",
       "    <tr>\n",
       "      <th>0</th>\n",
       "      <td>5</td>\n",
       "      <td>1</td>\n",
       "      <td>2014-05-13T23:58:30.457</td>\n",
       "      <td>&lt;machine-learning&gt;</td>\n",
       "    </tr>\n",
       "    <tr>\n",
       "      <th>1</th>\n",
       "      <td>7</td>\n",
       "      <td>1</td>\n",
       "      <td>2014-05-14T00:11:06.457</td>\n",
       "      <td>&lt;education&gt;&lt;open-source&gt;</td>\n",
       "    </tr>\n",
       "    <tr>\n",
       "      <th>2</th>\n",
       "      <td>9</td>\n",
       "      <td>2</td>\n",
       "      <td>2014-05-14T00:36:31.077</td>\n",
       "      <td>NaN</td>\n",
       "    </tr>\n",
       "    <tr>\n",
       "      <th>3</th>\n",
       "      <td>10</td>\n",
       "      <td>2</td>\n",
       "      <td>2014-05-14T00:53:43.273</td>\n",
       "      <td>NaN</td>\n",
       "    </tr>\n",
       "    <tr>\n",
       "      <th>4</th>\n",
       "      <td>14</td>\n",
       "      <td>1</td>\n",
       "      <td>2014-05-14T01:25:59.677</td>\n",
       "      <td>&lt;data-mining&gt;&lt;definitions&gt;</td>\n",
       "    </tr>\n",
       "  </tbody>\n",
       "</table>\n",
       "</div>"
      ],
      "text/plain": [
       "   Id  PostTypeId             CreationDate                        Tags\n",
       "0   5           1  2014-05-13T23:58:30.457          <machine-learning>\n",
       "1   7           1  2014-05-14T00:11:06.457    <education><open-source>\n",
       "2   9           2  2014-05-14T00:36:31.077                         NaN\n",
       "3  10           2  2014-05-14T00:53:43.273                         NaN\n",
       "4  14           1  2014-05-14T01:25:59.677  <data-mining><definitions>"
      ]
     },
     "execution_count": 49,
     "metadata": {},
     "output_type": "execute_result"
    }
   ],
   "source": [
    "pd.read_csv('posts-100-header.csv', usecols=[0, 1, 2, 7]).head()"
   ]
  },
  {
   "cell_type": "markdown",
   "id": "bef12bb4-107b-409f-b7c9-3c80bba9aeae",
   "metadata": {},
   "source": [
    "### Manipulating data types"
   ]
  },
  {
   "cell_type": "code",
   "execution_count": 50,
   "id": "5a1a0342-0ea5-4119-a7fe-733aaa754fbe",
   "metadata": {},
   "outputs": [
    {
     "data": {
      "text/plain": [
       "Id               int64\n",
       "PostTypeId       int64\n",
       "CreationDate    object\n",
       "Tags            object\n",
       "dtype: object"
      ]
     },
     "execution_count": 50,
     "metadata": {},
     "output_type": "execute_result"
    }
   ],
   "source": [
    "pd.read_csv('posts-100-header.csv', usecols=[0, 1, 2, 7]).dtypes"
   ]
  },
  {
   "cell_type": "code",
   "execution_count": 51,
   "id": "294f67e5-d6ed-4ce0-b6af-4b26f6990920",
   "metadata": {},
   "outputs": [
    {
     "data": {
      "text/plain": [
       "Id               int64\n",
       "PostTypeId      object\n",
       "CreationDate    object\n",
       "Tags            object\n",
       "dtype: object"
      ]
     },
     "execution_count": 51,
     "metadata": {},
     "output_type": "execute_result"
    }
   ],
   "source": [
    "pd.read_csv('posts-100-header.csv', usecols=[0, 1, 2, 7], dtype={'PostTypeId': str}).dtypes"
   ]
  },
  {
   "cell_type": "code",
   "execution_count": 52,
   "id": "22ba12e1-9c0e-423f-b781-40d054f56af0",
   "metadata": {},
   "outputs": [
    {
     "data": {
      "text/plain": [
       "Id                int64\n",
       "PostTypeId      float64\n",
       "CreationDate     object\n",
       "Tags             object\n",
       "dtype: object"
      ]
     },
     "execution_count": 52,
     "metadata": {},
     "output_type": "execute_result"
    }
   ],
   "source": [
    "pd.read_csv('posts-100-header.csv', usecols=[0, 1, 2, 7], dtype={'PostTypeId': float}).dtypes"
   ]
  },
  {
   "cell_type": "code",
   "execution_count": 53,
   "id": "144b4fcb-8a0c-4dfc-82d2-8f3d6464e1be",
   "metadata": {},
   "outputs": [
    {
     "data": {
      "text/html": [
       "<div>\n",
       "<style scoped>\n",
       "    .dataframe tbody tr th:only-of-type {\n",
       "        vertical-align: middle;\n",
       "    }\n",
       "\n",
       "    .dataframe tbody tr th {\n",
       "        vertical-align: top;\n",
       "    }\n",
       "\n",
       "    .dataframe thead th {\n",
       "        text-align: right;\n",
       "    }\n",
       "</style>\n",
       "<table border=\"1\" class=\"dataframe\">\n",
       "  <thead>\n",
       "    <tr style=\"text-align: right;\">\n",
       "      <th></th>\n",
       "      <th>Id</th>\n",
       "      <th>PostTypeId</th>\n",
       "      <th>CreationDate</th>\n",
       "      <th>Tags</th>\n",
       "    </tr>\n",
       "  </thead>\n",
       "  <tbody>\n",
       "    <tr>\n",
       "      <th>0</th>\n",
       "      <td>5</td>\n",
       "      <td>1</td>\n",
       "      <td>2014-05-13T23:58:30.457</td>\n",
       "      <td>[&lt;machine-learning&gt;]</td>\n",
       "    </tr>\n",
       "    <tr>\n",
       "      <th>1</th>\n",
       "      <td>7</td>\n",
       "      <td>1</td>\n",
       "      <td>2014-05-14T00:11:06.457</td>\n",
       "      <td>[&lt;education&gt;, &lt;open-source&gt;]</td>\n",
       "    </tr>\n",
       "    <tr>\n",
       "      <th>2</th>\n",
       "      <td>9</td>\n",
       "      <td>2</td>\n",
       "      <td>2014-05-14T00:36:31.077</td>\n",
       "      <td>[]</td>\n",
       "    </tr>\n",
       "    <tr>\n",
       "      <th>3</th>\n",
       "      <td>10</td>\n",
       "      <td>2</td>\n",
       "      <td>2014-05-14T00:53:43.273</td>\n",
       "      <td>[]</td>\n",
       "    </tr>\n",
       "    <tr>\n",
       "      <th>4</th>\n",
       "      <td>14</td>\n",
       "      <td>1</td>\n",
       "      <td>2014-05-14T01:25:59.677</td>\n",
       "      <td>[&lt;data-mining&gt;, &lt;definitions&gt;]</td>\n",
       "    </tr>\n",
       "  </tbody>\n",
       "</table>\n",
       "</div>"
      ],
      "text/plain": [
       "   Id  PostTypeId             CreationDate                            Tags\n",
       "0   5           1  2014-05-13T23:58:30.457            [<machine-learning>]\n",
       "1   7           1  2014-05-14T00:11:06.457    [<education>, <open-source>]\n",
       "2   9           2  2014-05-14T00:36:31.077                              []\n",
       "3  10           2  2014-05-14T00:53:43.273                              []\n",
       "4  14           1  2014-05-14T01:25:59.677  [<data-mining>, <definitions>]"
      ]
     },
     "execution_count": 53,
     "metadata": {},
     "output_type": "execute_result"
    }
   ],
   "source": [
    "import re\n",
    "tag_to_list_converter = {'Tags': lambda x: re.findall('<[A-Za-z0-9_-]*>', x)}\n",
    "pd.read_csv('posts-100-header.csv', usecols=[0, 1, 2, 7], converters=tag_to_list_converter).head()"
   ]
  },
  {
   "cell_type": "code",
   "execution_count": 54,
   "id": "3daa4f3b-e2c0-4858-bd36-0e904f03b62c",
   "metadata": {},
   "outputs": [
    {
     "name": "stdout",
     "output_type": "stream",
     "text": [
      "<class 'pandas._libs.tslibs.timestamps.Timestamp'>\n"
     ]
    },
    {
     "data": {
      "text/html": [
       "<div>\n",
       "<style scoped>\n",
       "    .dataframe tbody tr th:only-of-type {\n",
       "        vertical-align: middle;\n",
       "    }\n",
       "\n",
       "    .dataframe tbody tr th {\n",
       "        vertical-align: top;\n",
       "    }\n",
       "\n",
       "    .dataframe thead th {\n",
       "        text-align: right;\n",
       "    }\n",
       "</style>\n",
       "<table border=\"1\" class=\"dataframe\">\n",
       "  <thead>\n",
       "    <tr style=\"text-align: right;\">\n",
       "      <th></th>\n",
       "      <th>Id</th>\n",
       "      <th>PostTypeId</th>\n",
       "      <th>CreationDate</th>\n",
       "      <th>Tags</th>\n",
       "    </tr>\n",
       "  </thead>\n",
       "  <tbody>\n",
       "    <tr>\n",
       "      <th>0</th>\n",
       "      <td>5</td>\n",
       "      <td>1</td>\n",
       "      <td>2014-05-13 23:58:30.457</td>\n",
       "      <td>&lt;machine-learning&gt;</td>\n",
       "    </tr>\n",
       "    <tr>\n",
       "      <th>1</th>\n",
       "      <td>7</td>\n",
       "      <td>1</td>\n",
       "      <td>2014-05-14 00:11:06.457</td>\n",
       "      <td>&lt;education&gt;&lt;open-source&gt;</td>\n",
       "    </tr>\n",
       "    <tr>\n",
       "      <th>2</th>\n",
       "      <td>9</td>\n",
       "      <td>2</td>\n",
       "      <td>2014-05-14 00:36:31.077</td>\n",
       "      <td>NaN</td>\n",
       "    </tr>\n",
       "    <tr>\n",
       "      <th>3</th>\n",
       "      <td>10</td>\n",
       "      <td>2</td>\n",
       "      <td>2014-05-14 00:53:43.273</td>\n",
       "      <td>NaN</td>\n",
       "    </tr>\n",
       "    <tr>\n",
       "      <th>4</th>\n",
       "      <td>14</td>\n",
       "      <td>1</td>\n",
       "      <td>2014-05-14 01:25:59.677</td>\n",
       "      <td>&lt;data-mining&gt;&lt;definitions&gt;</td>\n",
       "    </tr>\n",
       "  </tbody>\n",
       "</table>\n",
       "</div>"
      ],
      "text/plain": [
       "   Id  PostTypeId            CreationDate                        Tags\n",
       "0   5           1 2014-05-13 23:58:30.457          <machine-learning>\n",
       "1   7           1 2014-05-14 00:11:06.457    <education><open-source>\n",
       "2   9           2 2014-05-14 00:36:31.077                         NaN\n",
       "3  10           2 2014-05-14 00:53:43.273                         NaN\n",
       "4  14           1 2014-05-14 01:25:59.677  <data-mining><definitions>"
      ]
     },
     "execution_count": 54,
     "metadata": {},
     "output_type": "execute_result"
    }
   ],
   "source": [
    "posts_date = pd.read_csv('posts-100-header.csv', usecols=[0, 1, 2, 7], parse_dates=['CreationDate'])\n",
    "print(type(posts_date['CreationDate'][0]))\n",
    "posts_date.head()"
   ]
  },
  {
   "cell_type": "code",
   "execution_count": 55,
   "id": "f4520978-a01c-49a9-a8df-45a14e0b2842",
   "metadata": {},
   "outputs": [
    {
     "data": {
      "text/html": [
       "<div>\n",
       "<style scoped>\n",
       "    .dataframe tbody tr th:only-of-type {\n",
       "        vertical-align: middle;\n",
       "    }\n",
       "\n",
       "    .dataframe tbody tr th {\n",
       "        vertical-align: top;\n",
       "    }\n",
       "\n",
       "    .dataframe thead th {\n",
       "        text-align: right;\n",
       "    }\n",
       "</style>\n",
       "<table border=\"1\" class=\"dataframe\">\n",
       "  <thead>\n",
       "    <tr style=\"text-align: right;\">\n",
       "      <th></th>\n",
       "      <th>Id</th>\n",
       "      <th>Score</th>\n",
       "      <th>ViewCount</th>\n",
       "      <th>AnswerCount</th>\n",
       "      <th>CommentCount</th>\n",
       "      <th>FavoriteCount</th>\n",
       "    </tr>\n",
       "  </thead>\n",
       "  <tbody>\n",
       "    <tr>\n",
       "      <th>0</th>\n",
       "      <td>5</td>\n",
       "      <td>9</td>\n",
       "      <td>448.0</td>\n",
       "      <td>1.0</td>\n",
       "      <td>1</td>\n",
       "      <td>1.0</td>\n",
       "    </tr>\n",
       "    <tr>\n",
       "      <th>1</th>\n",
       "      <td>7</td>\n",
       "      <td>4</td>\n",
       "      <td>388.0</td>\n",
       "      <td>3.0</td>\n",
       "      <td>4</td>\n",
       "      <td>1.0</td>\n",
       "    </tr>\n",
       "    <tr>\n",
       "      <th>2</th>\n",
       "      <td>9</td>\n",
       "      <td>5</td>\n",
       "      <td>NaN</td>\n",
       "      <td>NaN</td>\n",
       "      <td>0</td>\n",
       "      <td>NaN</td>\n",
       "    </tr>\n",
       "    <tr>\n",
       "      <th>3</th>\n",
       "      <td>10</td>\n",
       "      <td>12</td>\n",
       "      <td>NaN</td>\n",
       "      <td>NaN</td>\n",
       "      <td>1</td>\n",
       "      <td>NaN</td>\n",
       "    </tr>\n",
       "    <tr>\n",
       "      <th>4</th>\n",
       "      <td>14</td>\n",
       "      <td>21</td>\n",
       "      <td>1243.0</td>\n",
       "      <td>4.0</td>\n",
       "      <td>1</td>\n",
       "      <td>4.0</td>\n",
       "    </tr>\n",
       "  </tbody>\n",
       "</table>\n",
       "</div>"
      ],
      "text/plain": [
       "   Id  Score  ViewCount  AnswerCount  CommentCount  FavoriteCount\n",
       "0   5      9      448.0          1.0             1            1.0\n",
       "1   7      4      388.0          3.0             4            1.0\n",
       "2   9      5        NaN          NaN             0            NaN\n",
       "3  10     12        NaN          NaN             1            NaN\n",
       "4  14     21     1243.0          4.0             1            4.0"
      ]
     },
     "execution_count": 55,
     "metadata": {},
     "output_type": "execute_result"
    }
   ],
   "source": [
    "pd.read_csv('posts-100-header.csv', usecols=[0, 3, 4, 8, 9, 10]).head()"
   ]
  },
  {
   "cell_type": "code",
   "execution_count": 56,
   "id": "33194e04-cc98-49e0-a91c-de8488c0a54b",
   "metadata": {},
   "outputs": [
    {
     "data": {
      "text/html": [
       "<div>\n",
       "<style scoped>\n",
       "    .dataframe tbody tr th:only-of-type {\n",
       "        vertical-align: middle;\n",
       "    }\n",
       "\n",
       "    .dataframe tbody tr th {\n",
       "        vertical-align: top;\n",
       "    }\n",
       "\n",
       "    .dataframe thead th {\n",
       "        text-align: right;\n",
       "    }\n",
       "</style>\n",
       "<table border=\"1\" class=\"dataframe\">\n",
       "  <thead>\n",
       "    <tr style=\"text-align: right;\">\n",
       "      <th></th>\n",
       "      <th>Id</th>\n",
       "      <th>Score</th>\n",
       "      <th>ViewCount</th>\n",
       "      <th>AnswerCount</th>\n",
       "      <th>CommentCount</th>\n",
       "      <th>FavoriteCount</th>\n",
       "    </tr>\n",
       "  </thead>\n",
       "  <tbody>\n",
       "    <tr>\n",
       "      <th>0</th>\n",
       "      <td>5</td>\n",
       "      <td>9</td>\n",
       "      <td>448</td>\n",
       "      <td>1</td>\n",
       "      <td>1</td>\n",
       "      <td>1</td>\n",
       "    </tr>\n",
       "    <tr>\n",
       "      <th>1</th>\n",
       "      <td>7</td>\n",
       "      <td>4</td>\n",
       "      <td>388</td>\n",
       "      <td>3</td>\n",
       "      <td>4</td>\n",
       "      <td>1</td>\n",
       "    </tr>\n",
       "    <tr>\n",
       "      <th>2</th>\n",
       "      <td>9</td>\n",
       "      <td>5</td>\n",
       "      <td></td>\n",
       "      <td></td>\n",
       "      <td>0</td>\n",
       "      <td></td>\n",
       "    </tr>\n",
       "    <tr>\n",
       "      <th>3</th>\n",
       "      <td>10</td>\n",
       "      <td>12</td>\n",
       "      <td></td>\n",
       "      <td></td>\n",
       "      <td>1</td>\n",
       "      <td></td>\n",
       "    </tr>\n",
       "    <tr>\n",
       "      <th>4</th>\n",
       "      <td>14</td>\n",
       "      <td>21</td>\n",
       "      <td>1243</td>\n",
       "      <td>4</td>\n",
       "      <td>1</td>\n",
       "      <td>4</td>\n",
       "    </tr>\n",
       "  </tbody>\n",
       "</table>\n",
       "</div>"
      ],
      "text/plain": [
       "   Id  Score ViewCount AnswerCount  CommentCount FavoriteCount\n",
       "0   5      9       448           1             1             1\n",
       "1   7      4       388           3             4             1\n",
       "2   9      5                                   0              \n",
       "3  10     12                                   1              \n",
       "4  14     21      1243           4             1             4"
      ]
     },
     "execution_count": 56,
     "metadata": {},
     "output_type": "execute_result"
    }
   ],
   "source": [
    "pd.read_csv('posts-100-header.csv', usecols=[0, 3, 4, 8, 9, 10], na_filter=False).head()"
   ]
  },
  {
   "cell_type": "code",
   "execution_count": 57,
   "id": "030028c0-6513-4f5b-91f9-041608be6dc1",
   "metadata": {},
   "outputs": [
    {
     "data": {
      "text/html": [
       "<div>\n",
       "<style scoped>\n",
       "    .dataframe tbody tr th:only-of-type {\n",
       "        vertical-align: middle;\n",
       "    }\n",
       "\n",
       "    .dataframe tbody tr th {\n",
       "        vertical-align: top;\n",
       "    }\n",
       "\n",
       "    .dataframe thead th {\n",
       "        text-align: right;\n",
       "    }\n",
       "</style>\n",
       "<table border=\"1\" class=\"dataframe\">\n",
       "  <thead>\n",
       "    <tr style=\"text-align: right;\">\n",
       "      <th></th>\n",
       "      <th>Id</th>\n",
       "      <th>Score</th>\n",
       "      <th>ViewCount</th>\n",
       "      <th>AnswerCount</th>\n",
       "      <th>CommentCount</th>\n",
       "      <th>FavoriteCount</th>\n",
       "    </tr>\n",
       "  </thead>\n",
       "  <tbody>\n",
       "    <tr>\n",
       "      <th>0</th>\n",
       "      <td>5</td>\n",
       "      <td>9</td>\n",
       "      <td>448.0</td>\n",
       "      <td>1.0</td>\n",
       "      <td>1</td>\n",
       "      <td>1.0</td>\n",
       "    </tr>\n",
       "    <tr>\n",
       "      <th>1</th>\n",
       "      <td>7</td>\n",
       "      <td>4</td>\n",
       "      <td>388.0</td>\n",
       "      <td>3.0</td>\n",
       "      <td>4</td>\n",
       "      <td>1.0</td>\n",
       "    </tr>\n",
       "    <tr>\n",
       "      <th>2</th>\n",
       "      <td>9</td>\n",
       "      <td>5</td>\n",
       "      <td>NaN</td>\n",
       "      <td>NaN</td>\n",
       "      <td>0</td>\n",
       "      <td>NaN</td>\n",
       "    </tr>\n",
       "    <tr>\n",
       "      <th>3</th>\n",
       "      <td>10</td>\n",
       "      <td>12</td>\n",
       "      <td>NaN</td>\n",
       "      <td>NaN</td>\n",
       "      <td>1</td>\n",
       "      <td>NaN</td>\n",
       "    </tr>\n",
       "    <tr>\n",
       "      <th>4</th>\n",
       "      <td>14</td>\n",
       "      <td>21</td>\n",
       "      <td>1243.0</td>\n",
       "      <td>4.0</td>\n",
       "      <td>1</td>\n",
       "      <td>4.0</td>\n",
       "    </tr>\n",
       "  </tbody>\n",
       "</table>\n",
       "</div>"
      ],
      "text/plain": [
       "   Id  Score  ViewCount  AnswerCount  CommentCount  FavoriteCount\n",
       "0   5      9      448.0          1.0             1            1.0\n",
       "1   7      4      388.0          3.0             4            1.0\n",
       "2   9      5        NaN          NaN             0            NaN\n",
       "3  10     12        NaN          NaN             1            NaN\n",
       "4  14     21     1243.0          4.0             1            4.0"
      ]
     },
     "execution_count": 57,
     "metadata": {},
     "output_type": "execute_result"
    }
   ],
   "source": [
    "pd.read_csv('posts-100-header.csv', usecols=[0, 3, 4, 8, 9, 10], na_filter=True).head()"
   ]
  },
  {
   "cell_type": "markdown",
   "id": "1cb93285-2e3e-4646-ab56-213a573b5837",
   "metadata": {},
   "source": [
    "### Tabular files"
   ]
  },
  {
   "cell_type": "code",
   "execution_count": 58,
   "id": "a169c602-7020-4a82-8226-423c33a1e510",
   "metadata": {},
   "outputs": [
    {
     "name": "stdout",
     "output_type": "stream",
     "text": [
      "Error tokenizing data. C error: Expected 1 fields in line 11, saw 2\n",
      "\n"
     ]
    }
   ],
   "source": [
    "try:\n",
    "  pd.read_csv('posts-100.tsv', header=None)\n",
    "except Exception as e:\n",
    "  print(e)"
   ]
  },
  {
   "cell_type": "code",
   "execution_count": 59,
   "id": "ce150d7e-c4e0-48d1-9118-2c64fd13173a",
   "metadata": {},
   "outputs": [
    {
     "data": {
      "text/html": [
       "<div>\n",
       "<style scoped>\n",
       "    .dataframe tbody tr th:only-of-type {\n",
       "        vertical-align: middle;\n",
       "    }\n",
       "\n",
       "    .dataframe tbody tr th {\n",
       "        vertical-align: top;\n",
       "    }\n",
       "\n",
       "    .dataframe thead th {\n",
       "        text-align: right;\n",
       "    }\n",
       "</style>\n",
       "<table border=\"1\" class=\"dataframe\">\n",
       "  <thead>\n",
       "    <tr style=\"text-align: right;\">\n",
       "      <th></th>\n",
       "      <th>0</th>\n",
       "      <th>1</th>\n",
       "      <th>2</th>\n",
       "      <th>3</th>\n",
       "      <th>4</th>\n",
       "      <th>5</th>\n",
       "      <th>6</th>\n",
       "      <th>7</th>\n",
       "      <th>8</th>\n",
       "      <th>9</th>\n",
       "      <th>10</th>\n",
       "      <th>11</th>\n",
       "    </tr>\n",
       "  </thead>\n",
       "  <tbody>\n",
       "    <tr>\n",
       "      <th>0</th>\n",
       "      <td>5</td>\n",
       "      <td>1</td>\n",
       "      <td>2014-05-13T23:58:30.457</td>\n",
       "      <td>9</td>\n",
       "      <td>448.0</td>\n",
       "      <td>2014-05-14T00:36:31.077</td>\n",
       "      <td>How can I do simple machine learning without h...</td>\n",
       "      <td>&lt;machine-learning&gt;</td>\n",
       "      <td>1.0</td>\n",
       "      <td>1</td>\n",
       "      <td>1.0</td>\n",
       "      <td>2014-05-14T14:40:25.950</td>\n",
       "    </tr>\n",
       "    <tr>\n",
       "      <th>1</th>\n",
       "      <td>7</td>\n",
       "      <td>1</td>\n",
       "      <td>2014-05-14T00:11:06.457</td>\n",
       "      <td>4</td>\n",
       "      <td>388.0</td>\n",
       "      <td>2014-05-16T13:45:00.237</td>\n",
       "      <td>What open-source books (or other materials) pr...</td>\n",
       "      <td>&lt;education&gt;&lt;open-source&gt;</td>\n",
       "      <td>3.0</td>\n",
       "      <td>4</td>\n",
       "      <td>1.0</td>\n",
       "      <td>2014-05-14T08:40:54.950</td>\n",
       "    </tr>\n",
       "    <tr>\n",
       "      <th>2</th>\n",
       "      <td>9</td>\n",
       "      <td>2</td>\n",
       "      <td>2014-05-14T00:36:31.077</td>\n",
       "      <td>5</td>\n",
       "      <td>NaN</td>\n",
       "      <td>2014-05-14T00:36:31.077</td>\n",
       "      <td>NaN</td>\n",
       "      <td>NaN</td>\n",
       "      <td>NaN</td>\n",
       "      <td>0</td>\n",
       "      <td>NaN</td>\n",
       "      <td>NaN</td>\n",
       "    </tr>\n",
       "    <tr>\n",
       "      <th>3</th>\n",
       "      <td>10</td>\n",
       "      <td>2</td>\n",
       "      <td>2014-05-14T00:53:43.273</td>\n",
       "      <td>12</td>\n",
       "      <td>NaN</td>\n",
       "      <td>2014-05-14T00:53:43.273</td>\n",
       "      <td>NaN</td>\n",
       "      <td>NaN</td>\n",
       "      <td>NaN</td>\n",
       "      <td>1</td>\n",
       "      <td>NaN</td>\n",
       "      <td>NaN</td>\n",
       "    </tr>\n",
       "    <tr>\n",
       "      <th>4</th>\n",
       "      <td>14</td>\n",
       "      <td>1</td>\n",
       "      <td>2014-05-14T01:25:59.677</td>\n",
       "      <td>21</td>\n",
       "      <td>1243.0</td>\n",
       "      <td>2014-06-20T17:36:05.023</td>\n",
       "      <td>Is Data Science the Same as Data Mining?</td>\n",
       "      <td>&lt;data-mining&gt;&lt;definitions&gt;</td>\n",
       "      <td>4.0</td>\n",
       "      <td>1</td>\n",
       "      <td>4.0</td>\n",
       "      <td>NaN</td>\n",
       "    </tr>\n",
       "  </tbody>\n",
       "</table>\n",
       "</div>"
      ],
      "text/plain": [
       "   0   1                        2   3       4                        5   \\\n",
       "0   5   1  2014-05-13T23:58:30.457   9   448.0  2014-05-14T00:36:31.077   \n",
       "1   7   1  2014-05-14T00:11:06.457   4   388.0  2014-05-16T13:45:00.237   \n",
       "2   9   2  2014-05-14T00:36:31.077   5     NaN  2014-05-14T00:36:31.077   \n",
       "3  10   2  2014-05-14T00:53:43.273  12     NaN  2014-05-14T00:53:43.273   \n",
       "4  14   1  2014-05-14T01:25:59.677  21  1243.0  2014-06-20T17:36:05.023   \n",
       "\n",
       "                                                  6   \\\n",
       "0  How can I do simple machine learning without h...   \n",
       "1  What open-source books (or other materials) pr...   \n",
       "2                                                NaN   \n",
       "3                                                NaN   \n",
       "4           Is Data Science the Same as Data Mining?   \n",
       "\n",
       "                           7    8   9    10                       11  \n",
       "0          <machine-learning>  1.0   1  1.0  2014-05-14T14:40:25.950  \n",
       "1    <education><open-source>  3.0   4  1.0  2014-05-14T08:40:54.950  \n",
       "2                         NaN  NaN   0  NaN                      NaN  \n",
       "3                         NaN  NaN   1  NaN                      NaN  \n",
       "4  <data-mining><definitions>  4.0   1  4.0                      NaN  "
      ]
     },
     "execution_count": 59,
     "metadata": {},
     "output_type": "execute_result"
    }
   ],
   "source": [
    "pd.read_csv('posts-100.tsv', header=None, sep='\\t').head()"
   ]
  },
  {
   "cell_type": "code",
   "execution_count": 60,
   "id": "06ee54cb-58f6-46b6-b3d5-a47bb78e454e",
   "metadata": {},
   "outputs": [
    {
     "data": {
      "text/html": [
       "<div>\n",
       "<style scoped>\n",
       "    .dataframe tbody tr th:only-of-type {\n",
       "        vertical-align: middle;\n",
       "    }\n",
       "\n",
       "    .dataframe tbody tr th {\n",
       "        vertical-align: top;\n",
       "    }\n",
       "\n",
       "    .dataframe thead th {\n",
       "        text-align: right;\n",
       "    }\n",
       "</style>\n",
       "<table border=\"1\" class=\"dataframe\">\n",
       "  <thead>\n",
       "    <tr style=\"text-align: right;\">\n",
       "      <th></th>\n",
       "      <th>0</th>\n",
       "      <th>1</th>\n",
       "      <th>2</th>\n",
       "      <th>3</th>\n",
       "      <th>4</th>\n",
       "      <th>5</th>\n",
       "      <th>6</th>\n",
       "      <th>7</th>\n",
       "      <th>8</th>\n",
       "      <th>9</th>\n",
       "      <th>10</th>\n",
       "      <th>11</th>\n",
       "    </tr>\n",
       "  </thead>\n",
       "  <tbody>\n",
       "    <tr>\n",
       "      <th>0</th>\n",
       "      <td>5</td>\n",
       "      <td>1</td>\n",
       "      <td>2014-05-13T23:58:30.457</td>\n",
       "      <td>9</td>\n",
       "      <td>448.0</td>\n",
       "      <td>2014-05-14T00:36:31.077</td>\n",
       "      <td>How can I do simple machine learning without h...</td>\n",
       "      <td>&lt;machine-learning&gt;</td>\n",
       "      <td>1.0</td>\n",
       "      <td>1</td>\n",
       "      <td>1.0</td>\n",
       "      <td>2014-05-14T14:40:25.950</td>\n",
       "    </tr>\n",
       "    <tr>\n",
       "      <th>1</th>\n",
       "      <td>7</td>\n",
       "      <td>1</td>\n",
       "      <td>2014-05-14T00:11:06.457</td>\n",
       "      <td>4</td>\n",
       "      <td>388.0</td>\n",
       "      <td>2014-05-16T13:45:00.237</td>\n",
       "      <td>What open-source books (or other materials) pr...</td>\n",
       "      <td>&lt;education&gt;&lt;open-source&gt;</td>\n",
       "      <td>3.0</td>\n",
       "      <td>4</td>\n",
       "      <td>1.0</td>\n",
       "      <td>2014-05-14T08:40:54.950</td>\n",
       "    </tr>\n",
       "    <tr>\n",
       "      <th>2</th>\n",
       "      <td>9</td>\n",
       "      <td>2</td>\n",
       "      <td>2014-05-14T00:36:31.077</td>\n",
       "      <td>5</td>\n",
       "      <td>NaN</td>\n",
       "      <td>2014-05-14T00:36:31.077</td>\n",
       "      <td>NaN</td>\n",
       "      <td>NaN</td>\n",
       "      <td>NaN</td>\n",
       "      <td>0</td>\n",
       "      <td>NaN</td>\n",
       "      <td>NaN</td>\n",
       "    </tr>\n",
       "    <tr>\n",
       "      <th>3</th>\n",
       "      <td>10</td>\n",
       "      <td>2</td>\n",
       "      <td>2014-05-14T00:53:43.273</td>\n",
       "      <td>12</td>\n",
       "      <td>NaN</td>\n",
       "      <td>2014-05-14T00:53:43.273</td>\n",
       "      <td>NaN</td>\n",
       "      <td>NaN</td>\n",
       "      <td>NaN</td>\n",
       "      <td>1</td>\n",
       "      <td>NaN</td>\n",
       "      <td>NaN</td>\n",
       "    </tr>\n",
       "    <tr>\n",
       "      <th>4</th>\n",
       "      <td>14</td>\n",
       "      <td>1</td>\n",
       "      <td>2014-05-14T01:25:59.677</td>\n",
       "      <td>21</td>\n",
       "      <td>1243.0</td>\n",
       "      <td>2014-06-20T17:36:05.023</td>\n",
       "      <td>Is Data Science the Same as Data Mining?</td>\n",
       "      <td>&lt;data-mining&gt;&lt;definitions&gt;</td>\n",
       "      <td>4.0</td>\n",
       "      <td>1</td>\n",
       "      <td>4.0</td>\n",
       "      <td>NaN</td>\n",
       "    </tr>\n",
       "  </tbody>\n",
       "</table>\n",
       "</div>"
      ],
      "text/plain": [
       "   0   1                        2   3       4                        5   \\\n",
       "0   5   1  2014-05-13T23:58:30.457   9   448.0  2014-05-14T00:36:31.077   \n",
       "1   7   1  2014-05-14T00:11:06.457   4   388.0  2014-05-16T13:45:00.237   \n",
       "2   9   2  2014-05-14T00:36:31.077   5     NaN  2014-05-14T00:36:31.077   \n",
       "3  10   2  2014-05-14T00:53:43.273  12     NaN  2014-05-14T00:53:43.273   \n",
       "4  14   1  2014-05-14T01:25:59.677  21  1243.0  2014-06-20T17:36:05.023   \n",
       "\n",
       "                                                  6   \\\n",
       "0  How can I do simple machine learning without h...   \n",
       "1  What open-source books (or other materials) pr...   \n",
       "2                                                NaN   \n",
       "3                                                NaN   \n",
       "4           Is Data Science the Same as Data Mining?   \n",
       "\n",
       "                           7    8   9    10                       11  \n",
       "0          <machine-learning>  1.0   1  1.0  2014-05-14T14:40:25.950  \n",
       "1    <education><open-source>  3.0   4  1.0  2014-05-14T08:40:54.950  \n",
       "2                         NaN  NaN   0  NaN                      NaN  \n",
       "3                         NaN  NaN   1  NaN                      NaN  \n",
       "4  <data-mining><definitions>  4.0   1  4.0                      NaN  "
      ]
     },
     "execution_count": 60,
     "metadata": {},
     "output_type": "execute_result"
    }
   ],
   "source": [
    "pd.read_table('posts-100.tsv', header=None).head()"
   ]
  },
  {
   "cell_type": "markdown",
   "id": "346fc0d7-e0d6-4e8c-a43f-d3dd2a4c6408",
   "metadata": {},
   "source": [
    "### Remote files"
   ]
  },
  {
   "cell_type": "code",
   "execution_count": 61,
   "id": "a1c99484-09b4-48a2-a111-cf6dbaf30326",
   "metadata": {},
   "outputs": [
    {
     "data": {
      "text/html": [
       "<div>\n",
       "<style scoped>\n",
       "    .dataframe tbody tr th:only-of-type {\n",
       "        vertical-align: middle;\n",
       "    }\n",
       "\n",
       "    .dataframe tbody tr th {\n",
       "        vertical-align: top;\n",
       "    }\n",
       "\n",
       "    .dataframe thead th {\n",
       "        text-align: right;\n",
       "    }\n",
       "</style>\n",
       "<table border=\"1\" class=\"dataframe\">\n",
       "  <thead>\n",
       "    <tr style=\"text-align: right;\">\n",
       "      <th></th>\n",
       "      <th>0</th>\n",
       "      <th>1</th>\n",
       "      <th>2</th>\n",
       "      <th>3</th>\n",
       "      <th>4</th>\n",
       "      <th>5</th>\n",
       "      <th>6</th>\n",
       "      <th>7</th>\n",
       "      <th>8</th>\n",
       "      <th>9</th>\n",
       "      <th>10</th>\n",
       "      <th>11</th>\n",
       "    </tr>\n",
       "  </thead>\n",
       "  <tbody>\n",
       "    <tr>\n",
       "      <th>0</th>\n",
       "      <td>5</td>\n",
       "      <td>1</td>\n",
       "      <td>2014-05-13T23:58:30.457</td>\n",
       "      <td>9</td>\n",
       "      <td>448.0</td>\n",
       "      <td>2014-05-14T00:36:31.077</td>\n",
       "      <td>How can I do simple machine learning without h...</td>\n",
       "      <td>&lt;machine-learning&gt;</td>\n",
       "      <td>1.0</td>\n",
       "      <td>1</td>\n",
       "      <td>1.0</td>\n",
       "      <td>2014-05-14T14:40:25.950</td>\n",
       "    </tr>\n",
       "    <tr>\n",
       "      <th>1</th>\n",
       "      <td>7</td>\n",
       "      <td>1</td>\n",
       "      <td>2014-05-14T00:11:06.457</td>\n",
       "      <td>4</td>\n",
       "      <td>388.0</td>\n",
       "      <td>2014-05-16T13:45:00.237</td>\n",
       "      <td>What open-source books (or other materials) pr...</td>\n",
       "      <td>&lt;education&gt;&lt;open-source&gt;</td>\n",
       "      <td>3.0</td>\n",
       "      <td>4</td>\n",
       "      <td>1.0</td>\n",
       "      <td>2014-05-14T08:40:54.950</td>\n",
       "    </tr>\n",
       "    <tr>\n",
       "      <th>2</th>\n",
       "      <td>9</td>\n",
       "      <td>2</td>\n",
       "      <td>2014-05-14T00:36:31.077</td>\n",
       "      <td>5</td>\n",
       "      <td>NaN</td>\n",
       "      <td>2014-05-14T00:36:31.077</td>\n",
       "      <td>NaN</td>\n",
       "      <td>NaN</td>\n",
       "      <td>NaN</td>\n",
       "      <td>0</td>\n",
       "      <td>NaN</td>\n",
       "      <td>NaN</td>\n",
       "    </tr>\n",
       "    <tr>\n",
       "      <th>3</th>\n",
       "      <td>10</td>\n",
       "      <td>2</td>\n",
       "      <td>2014-05-14T00:53:43.273</td>\n",
       "      <td>12</td>\n",
       "      <td>NaN</td>\n",
       "      <td>2014-05-14T00:53:43.273</td>\n",
       "      <td>NaN</td>\n",
       "      <td>NaN</td>\n",
       "      <td>NaN</td>\n",
       "      <td>1</td>\n",
       "      <td>NaN</td>\n",
       "      <td>NaN</td>\n",
       "    </tr>\n",
       "    <tr>\n",
       "      <th>4</th>\n",
       "      <td>14</td>\n",
       "      <td>1</td>\n",
       "      <td>2014-05-14T01:25:59.677</td>\n",
       "      <td>21</td>\n",
       "      <td>1243.0</td>\n",
       "      <td>2014-06-20T17:36:05.023</td>\n",
       "      <td>Is Data Science the Same as Data Mining?</td>\n",
       "      <td>&lt;data-mining&gt;&lt;definitions&gt;</td>\n",
       "      <td>4.0</td>\n",
       "      <td>1</td>\n",
       "      <td>4.0</td>\n",
       "      <td>NaN</td>\n",
       "    </tr>\n",
       "  </tbody>\n",
       "</table>\n",
       "</div>"
      ],
      "text/plain": [
       "   0   1                        2   3       4                        5   \\\n",
       "0   5   1  2014-05-13T23:58:30.457   9   448.0  2014-05-14T00:36:31.077   \n",
       "1   7   1  2014-05-14T00:11:06.457   4   388.0  2014-05-16T13:45:00.237   \n",
       "2   9   2  2014-05-14T00:36:31.077   5     NaN  2014-05-14T00:36:31.077   \n",
       "3  10   2  2014-05-14T00:53:43.273  12     NaN  2014-05-14T00:53:43.273   \n",
       "4  14   1  2014-05-14T01:25:59.677  21  1243.0  2014-06-20T17:36:05.023   \n",
       "\n",
       "                                                  6   \\\n",
       "0  How can I do simple machine learning without h...   \n",
       "1  What open-source books (or other materials) pr...   \n",
       "2                                                NaN   \n",
       "3                                                NaN   \n",
       "4           Is Data Science the Same as Data Mining?   \n",
       "\n",
       "                           7    8   9    10                       11  \n",
       "0          <machine-learning>  1.0   1  1.0  2014-05-14T14:40:25.950  \n",
       "1    <education><open-source>  3.0   4  1.0  2014-05-14T08:40:54.950  \n",
       "2                         NaN  NaN   0  NaN                      NaN  \n",
       "3                         NaN  NaN   1  NaN                      NaN  \n",
       "4  <data-mining><definitions>  4.0   1  4.0                      NaN  "
      ]
     },
     "execution_count": 61,
     "metadata": {},
     "output_type": "execute_result"
    }
   ],
   "source": [
    "pd.read_csv('https://raw.githubusercontent.com/xmorera/sample-data/main/posts-100.csv', header=None).head()"
   ]
  },
  {
   "cell_type": "code",
   "execution_count": null,
   "id": "88ab7071-9b36-45c2-bc0f-01e0744b339d",
   "metadata": {},
   "outputs": [],
   "source": []
  }
 ],
 "metadata": {
  "kernelspec": {
   "display_name": "Python 3 (ipykernel)",
   "language": "python",
   "name": "python3"
  },
  "language_info": {
   "codemirror_mode": {
    "name": "ipython",
    "version": 3
   },
   "file_extension": ".py",
   "mimetype": "text/x-python",
   "name": "python",
   "nbconvert_exporter": "python",
   "pygments_lexer": "ipython3",
   "version": "3.13.2"
  }
 },
 "nbformat": 4,
 "nbformat_minor": 5
}
