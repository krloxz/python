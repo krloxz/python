{
 "cells": [
  {
   "cell_type": "markdown",
   "id": "b02eac06-86bb-4948-9d10-557ca2a24ac3",
   "metadata": {},
   "source": [
    "## CSV Reader"
   ]
  },
  {
   "cell_type": "code",
   "execution_count": 1,
   "id": "66267622-ed11-4bac-9c4a-795cf6b6901c",
   "metadata": {},
   "outputs": [],
   "source": [
    "import csv"
   ]
  },
  {
   "cell_type": "code",
   "execution_count": 2,
   "id": "e2ec56fb-6921-4fbf-abbc-eed5910cbb8c",
   "metadata": {},
   "outputs": [
    {
     "name": "stdout",
     "output_type": "stream",
     "text": [
      "['zip', 'eiaid', 'utility_name', 'state', 'service_type', 'ownership', 'comm_rate', 'ind_rate', 'res_rate']\n",
      "['85321', '176', 'Ajo Improvement Co', 'AZ', 'Bundled', 'Investor Owned', '0.08789049919484701', '0', '0.09388714733542321']\n",
      "['36560', '195', 'Alabama Power Co', 'AL', 'Bundled', 'Investor Owned', '0.12189508655453701', '0.06365153835251516', '0.13505671376828454']\n",
      "['36513', '195', 'Alabama Power Co', 'AL', 'Bundled', 'Investor Owned', '0.12189508655453701', '0.06365153835251516', '0.13505671376828454']\n",
      "['36280', '195', 'Alabama Power Co', 'AL', 'Bundled', 'Investor Owned', '0.12189508655453701', '0.06365153835251516', '0.13505671376828454']\n",
      "['35473', '195', 'Alabama Power Co', 'AL', 'Bundled', 'Investor Owned', '0.12189508655453701', '0.06365153835251516', '0.13505671376828454']\n",
      "['35229', '195', 'Alabama Power Co', 'AL', 'Bundled', 'Investor Owned', '0.12189508655453701', '0.06365153835251516', '0.13505671376828454']\n",
      "['36375', '195', 'Alabama Power Co', 'AL', 'Bundled', 'Investor Owned', '0.12189508655453701', '0.06365153835251516', '0.13505671376828454']\n",
      "['36042', '195', 'Alabama Power Co', 'AL', 'Bundled', 'Investor Owned', '0.12189508655453701', '0.06365153835251516', '0.13505671376828454']\n",
      "['36370', '195', 'Alabama Power Co', 'AL', 'Bundled', 'Investor Owned', '0.12189508655453701', '0.06365153835251516', '0.13505671376828454']\n",
      "['35555', '195', 'Alabama Power Co', 'AL', 'Bundled', 'Investor Owned', '0.12189508655453701', '0.06365153835251516', '0.13505671376828454']\n"
     ]
    }
   ],
   "source": [
    "with open('zipcodes.csv') as csv_file:\n",
    "  csv_reader = csv.reader(csv_file)\n",
    "  for row in csv_reader:\n",
    "    print(row)"
   ]
  },
  {
   "cell_type": "code",
   "execution_count": 3,
   "id": "5156f94c-5094-4bc1-abd3-bd852d7d72f4",
   "metadata": {},
   "outputs": [
    {
     "name": "stdout",
     "output_type": "stream",
     "text": [
      "0: ['zip', 'eiaid', 'utility_name', 'state', 'service_type', 'ownership', 'comm_rate', 'ind_rate', 'res_rate']\n",
      "1: ['85321', '176', 'Ajo Improvement Co', 'AZ', 'Bundled', 'Investor Owned', '0.08789049919484701', '0', '0.09388714733542321']\n",
      "2: ['36560', '195', 'Alabama Power Co', 'AL', 'Bundled', 'Investor Owned', '0.12189508655453701', '0.06365153835251516', '0.13505671376828454']\n",
      "3: ['36513', '195', 'Alabama Power Co', 'AL', 'Bundled', 'Investor Owned', '0.12189508655453701', '0.06365153835251516', '0.13505671376828454']\n",
      "4: ['36280', '195', 'Alabama Power Co', 'AL', 'Bundled', 'Investor Owned', '0.12189508655453701', '0.06365153835251516', '0.13505671376828454']\n",
      "5: ['35473', '195', 'Alabama Power Co', 'AL', 'Bundled', 'Investor Owned', '0.12189508655453701', '0.06365153835251516', '0.13505671376828454']\n",
      "6: ['35229', '195', 'Alabama Power Co', 'AL', 'Bundled', 'Investor Owned', '0.12189508655453701', '0.06365153835251516', '0.13505671376828454']\n",
      "7: ['36375', '195', 'Alabama Power Co', 'AL', 'Bundled', 'Investor Owned', '0.12189508655453701', '0.06365153835251516', '0.13505671376828454']\n",
      "8: ['36042', '195', 'Alabama Power Co', 'AL', 'Bundled', 'Investor Owned', '0.12189508655453701', '0.06365153835251516', '0.13505671376828454']\n",
      "9: ['36370', '195', 'Alabama Power Co', 'AL', 'Bundled', 'Investor Owned', '0.12189508655453701', '0.06365153835251516', '0.13505671376828454']\n",
      "10: ['35555', '195', 'Alabama Power Co', 'AL', 'Bundled', 'Investor Owned', '0.12189508655453701', '0.06365153835251516', '0.13505671376828454']\n"
     ]
    }
   ],
   "source": [
    "with open('zipcodes.csv') as csv_file:\n",
    "  csv_reader = csv.reader(csv_file)\n",
    "  for i, row in enumerate(csv_reader):\n",
    "    print(f'{i}: {row}')"
   ]
  },
  {
   "cell_type": "code",
   "execution_count": 4,
   "id": "1411b7f3-d2d7-4379-9001-a4fee40c872e",
   "metadata": {},
   "outputs": [
    {
     "name": "stdout",
     "output_type": "stream",
     "text": [
      "{'zip': '85321', 'eiaid': '176', 'utility_name': 'Ajo Improvement Co', 'state': 'AZ', 'service_type': 'Bundled', 'ownership': 'Investor Owned', 'comm_rate': '0.08789049919484701', 'ind_rate': '0', 'res_rate': '0.09388714733542321'}\n",
      "{'zip': '36560', 'eiaid': '195', 'utility_name': 'Alabama Power Co', 'state': 'AL', 'service_type': 'Bundled', 'ownership': 'Investor Owned', 'comm_rate': '0.12189508655453701', 'ind_rate': '0.06365153835251516', 'res_rate': '0.13505671376828454'}\n",
      "{'zip': '36513', 'eiaid': '195', 'utility_name': 'Alabama Power Co', 'state': 'AL', 'service_type': 'Bundled', 'ownership': 'Investor Owned', 'comm_rate': '0.12189508655453701', 'ind_rate': '0.06365153835251516', 'res_rate': '0.13505671376828454'}\n",
      "{'zip': '36280', 'eiaid': '195', 'utility_name': 'Alabama Power Co', 'state': 'AL', 'service_type': 'Bundled', 'ownership': 'Investor Owned', 'comm_rate': '0.12189508655453701', 'ind_rate': '0.06365153835251516', 'res_rate': '0.13505671376828454'}\n",
      "{'zip': '35473', 'eiaid': '195', 'utility_name': 'Alabama Power Co', 'state': 'AL', 'service_type': 'Bundled', 'ownership': 'Investor Owned', 'comm_rate': '0.12189508655453701', 'ind_rate': '0.06365153835251516', 'res_rate': '0.13505671376828454'}\n",
      "{'zip': '35229', 'eiaid': '195', 'utility_name': 'Alabama Power Co', 'state': 'AL', 'service_type': 'Bundled', 'ownership': 'Investor Owned', 'comm_rate': '0.12189508655453701', 'ind_rate': '0.06365153835251516', 'res_rate': '0.13505671376828454'}\n",
      "{'zip': '36375', 'eiaid': '195', 'utility_name': 'Alabama Power Co', 'state': 'AL', 'service_type': 'Bundled', 'ownership': 'Investor Owned', 'comm_rate': '0.12189508655453701', 'ind_rate': '0.06365153835251516', 'res_rate': '0.13505671376828454'}\n",
      "{'zip': '36042', 'eiaid': '195', 'utility_name': 'Alabama Power Co', 'state': 'AL', 'service_type': 'Bundled', 'ownership': 'Investor Owned', 'comm_rate': '0.12189508655453701', 'ind_rate': '0.06365153835251516', 'res_rate': '0.13505671376828454'}\n",
      "{'zip': '36370', 'eiaid': '195', 'utility_name': 'Alabama Power Co', 'state': 'AL', 'service_type': 'Bundled', 'ownership': 'Investor Owned', 'comm_rate': '0.12189508655453701', 'ind_rate': '0.06365153835251516', 'res_rate': '0.13505671376828454'}\n",
      "{'zip': '35555', 'eiaid': '195', 'utility_name': 'Alabama Power Co', 'state': 'AL', 'service_type': 'Bundled', 'ownership': 'Investor Owned', 'comm_rate': '0.12189508655453701', 'ind_rate': '0.06365153835251516', 'res_rate': '0.13505671376828454'}\n"
     ]
    }
   ],
   "source": [
    "with open('zipcodes.csv') as csv_file:\n",
    "  csv_reader = csv.DictReader(csv_file)\n",
    "  for row in csv_reader:\n",
    "    print(row)"
   ]
  },
  {
   "cell_type": "code",
   "execution_count": 5,
   "id": "704164c1-45d6-423e-b73b-5551cf36aab0",
   "metadata": {},
   "outputs": [
    {
     "name": "stdout",
     "output_type": "stream",
     "text": [
      "a,b,c\n",
      "1,2,3\n",
      "\n"
     ]
    }
   ],
   "source": [
    "with open('output_file.csv', 'w') as csv_file:\n",
    "  writer = csv.writer(csv_file)\n",
    "  writer.writerow(['a', 'b', 'c'])\n",
    "  writer.writerow(['1', '2', '3'])\n",
    "\n",
    "with open('output_file.csv') as csv_file:\n",
    "  print(csv_file.read())"
   ]
  },
  {
   "cell_type": "code",
   "execution_count": 6,
   "id": "35ddab56-25ec-4cf6-80d0-5cc1eb59f583",
   "metadata": {},
   "outputs": [
    {
     "name": "stdout",
     "output_type": "stream",
     "text": [
      "a,b,c\n",
      "1,2,3\n",
      "\n"
     ]
    }
   ],
   "source": [
    "with open('output_file.csv', 'w') as csv_file:\n",
    "  writer = csv.DictWriter(csv_file, fieldnames=['a', 'b', 'c'])\n",
    "  writer.writeheader()\n",
    "  writer.writerow({'a': 1, 'b': 2, 'c': 3})\n",
    "\n",
    "with open('output_file.csv') as csv_file:\n",
    "  print(csv_file.read())"
   ]
  },
  {
   "cell_type": "code",
   "execution_count": 7,
   "id": "07732905-206f-44cc-a66b-d9d8a88231e8",
   "metadata": {},
   "outputs": [
    {
     "name": "stdout",
     "output_type": "stream",
     "text": [
      "<Response [200]>\n",
      "<generator object Response.iter_lines at 0x103ce0840>\n",
      "0: ['zip', 'eiaid', 'utility_name', 'state', 'service_type', 'ownership', 'comm_rate', 'ind_rate', 'res_rate']\n",
      "1: ['85321', '176', 'Ajo Improvement Co', 'AZ', 'Bundled', 'Investor Owned', '0.08789049919484701', '0', '0.09388714733542321']\n",
      "2: ['36560', '195', 'Alabama Power Co', 'AL', 'Bundled', 'Investor Owned', '0.12189508655453701', '0.06365153835251516', '0.13505671376828454']\n",
      "3: ['36513', '195', 'Alabama Power Co', 'AL', 'Bundled', 'Investor Owned', '0.12189508655453701', '0.06365153835251516', '0.13505671376828454']\n",
      "4: ['36280', '195', 'Alabama Power Co', 'AL', 'Bundled', 'Investor Owned', '0.12189508655453701', '0.06365153835251516', '0.13505671376828454']\n",
      "5: ['35473', '195', 'Alabama Power Co', 'AL', 'Bundled', 'Investor Owned', '0.12189508655453701', '0.06365153835251516', '0.13505671376828454']\n"
     ]
    }
   ],
   "source": [
    "import requests\n",
    "import codecs\n",
    "\n",
    "response = requests.get('https://data.openei.org/files/5650/iou_zipcodes_2020.csv')\n",
    "print(response)\n",
    "\n",
    "text = response.iter_lines()\n",
    "print(text)\n",
    "\n",
    "csv_reader = csv.reader(codecs.iterdecode(text, 'utf-8'), delimiter=',')\n",
    "for i, row in enumerate(csv_reader):\n",
    "  print(f'{i}: {row}')\n",
    "  if i >= 5:\n",
    "    break"
   ]
  },
  {
   "cell_type": "markdown",
   "id": "f3083385-6ce4-4f63-b538-bbe8cd773458",
   "metadata": {},
   "source": [
    "## Pandas"
   ]
  },
  {
   "cell_type": "code",
   "execution_count": 8,
   "id": "9563ed97-7aed-4ae4-9f9c-21f9907ce17b",
   "metadata": {},
   "outputs": [],
   "source": [
    "import pandas as pd"
   ]
  },
  {
   "cell_type": "code",
   "execution_count": 9,
   "id": "0ddf929b-f8ef-4c2f-aa84-a18312c1904e",
   "metadata": {},
   "outputs": [
    {
     "data": {
      "text/html": [
       "<div>\n",
       "<style scoped>\n",
       "    .dataframe tbody tr th:only-of-type {\n",
       "        vertical-align: middle;\n",
       "    }\n",
       "\n",
       "    .dataframe tbody tr th {\n",
       "        vertical-align: top;\n",
       "    }\n",
       "\n",
       "    .dataframe thead th {\n",
       "        text-align: right;\n",
       "    }\n",
       "</style>\n",
       "<table border=\"1\" class=\"dataframe\">\n",
       "  <thead>\n",
       "    <tr style=\"text-align: right;\">\n",
       "      <th></th>\n",
       "      <th>zip</th>\n",
       "      <th>eiaid</th>\n",
       "      <th>utility_name</th>\n",
       "      <th>state</th>\n",
       "      <th>service_type</th>\n",
       "      <th>ownership</th>\n",
       "      <th>comm_rate</th>\n",
       "      <th>ind_rate</th>\n",
       "      <th>res_rate</th>\n",
       "    </tr>\n",
       "  </thead>\n",
       "  <tbody>\n",
       "    <tr>\n",
       "      <th>0</th>\n",
       "      <td>85321</td>\n",
       "      <td>176</td>\n",
       "      <td>Ajo Improvement Co</td>\n",
       "      <td>AZ</td>\n",
       "      <td>Bundled</td>\n",
       "      <td>Investor Owned</td>\n",
       "      <td>0.087890</td>\n",
       "      <td>0.000000</td>\n",
       "      <td>0.093887</td>\n",
       "    </tr>\n",
       "    <tr>\n",
       "      <th>1</th>\n",
       "      <td>36560</td>\n",
       "      <td>195</td>\n",
       "      <td>Alabama Power Co</td>\n",
       "      <td>AL</td>\n",
       "      <td>Bundled</td>\n",
       "      <td>Investor Owned</td>\n",
       "      <td>0.121895</td>\n",
       "      <td>0.063652</td>\n",
       "      <td>0.135057</td>\n",
       "    </tr>\n",
       "    <tr>\n",
       "      <th>2</th>\n",
       "      <td>36513</td>\n",
       "      <td>195</td>\n",
       "      <td>Alabama Power Co</td>\n",
       "      <td>AL</td>\n",
       "      <td>Bundled</td>\n",
       "      <td>Investor Owned</td>\n",
       "      <td>0.121895</td>\n",
       "      <td>0.063652</td>\n",
       "      <td>0.135057</td>\n",
       "    </tr>\n",
       "    <tr>\n",
       "      <th>3</th>\n",
       "      <td>36280</td>\n",
       "      <td>195</td>\n",
       "      <td>Alabama Power Co</td>\n",
       "      <td>AL</td>\n",
       "      <td>Bundled</td>\n",
       "      <td>Investor Owned</td>\n",
       "      <td>0.121895</td>\n",
       "      <td>0.063652</td>\n",
       "      <td>0.135057</td>\n",
       "    </tr>\n",
       "    <tr>\n",
       "      <th>4</th>\n",
       "      <td>35473</td>\n",
       "      <td>195</td>\n",
       "      <td>Alabama Power Co</td>\n",
       "      <td>AL</td>\n",
       "      <td>Bundled</td>\n",
       "      <td>Investor Owned</td>\n",
       "      <td>0.121895</td>\n",
       "      <td>0.063652</td>\n",
       "      <td>0.135057</td>\n",
       "    </tr>\n",
       "  </tbody>\n",
       "</table>\n",
       "</div>"
      ],
      "text/plain": [
       "     zip  eiaid        utility_name state service_type       ownership  \\\n",
       "0  85321    176  Ajo Improvement Co    AZ      Bundled  Investor Owned   \n",
       "1  36560    195    Alabama Power Co    AL      Bundled  Investor Owned   \n",
       "2  36513    195    Alabama Power Co    AL      Bundled  Investor Owned   \n",
       "3  36280    195    Alabama Power Co    AL      Bundled  Investor Owned   \n",
       "4  35473    195    Alabama Power Co    AL      Bundled  Investor Owned   \n",
       "\n",
       "   comm_rate  ind_rate  res_rate  \n",
       "0   0.087890  0.000000  0.093887  \n",
       "1   0.121895  0.063652  0.135057  \n",
       "2   0.121895  0.063652  0.135057  \n",
       "3   0.121895  0.063652  0.135057  \n",
       "4   0.121895  0.063652  0.135057  "
      ]
     },
     "execution_count": 9,
     "metadata": {},
     "output_type": "execute_result"
    }
   ],
   "source": [
    "pd.read_csv('zipcodes.csv').head()"
   ]
  },
  {
   "cell_type": "code",
   "execution_count": 10,
   "id": "8fd2c26a-0d99-49db-a229-1d0561cdd46c",
   "metadata": {},
   "outputs": [
    {
     "data": {
      "text/plain": [
       "zip               int64\n",
       "eiaid             int64\n",
       "utility_name     object\n",
       "state            object\n",
       "service_type     object\n",
       "ownership        object\n",
       "comm_rate       float64\n",
       "ind_rate        float64\n",
       "res_rate        float64\n",
       "dtype: object"
      ]
     },
     "execution_count": 10,
     "metadata": {},
     "output_type": "execute_result"
    }
   ],
   "source": [
    "pd.read_csv('zipcodes.csv').dtypes"
   ]
  },
  {
   "cell_type": "code",
   "execution_count": 11,
   "id": "5620cc89-ccf1-4818-bf2f-a009bafcae5a",
   "metadata": {},
   "outputs": [
    {
     "data": {
      "text/plain": [
       "str"
      ]
     },
     "execution_count": 11,
     "metadata": {},
     "output_type": "execute_result"
    }
   ],
   "source": [
    "type(pd.read_csv('zipcodes.csv')['state'][0])"
   ]
  },
  {
   "cell_type": "code",
   "execution_count": 12,
   "id": "73aa8c2b-b635-45a4-a445-930d2fec4d71",
   "metadata": {},
   "outputs": [
    {
     "data": {
      "text/html": [
       "<div>\n",
       "<style scoped>\n",
       "    .dataframe tbody tr th:only-of-type {\n",
       "        vertical-align: middle;\n",
       "    }\n",
       "\n",
       "    .dataframe tbody tr th {\n",
       "        vertical-align: top;\n",
       "    }\n",
       "\n",
       "    .dataframe thead th {\n",
       "        text-align: right;\n",
       "    }\n",
       "</style>\n",
       "<table border=\"1\" class=\"dataframe\">\n",
       "  <thead>\n",
       "    <tr style=\"text-align: right;\">\n",
       "      <th></th>\n",
       "      <th>zip</th>\n",
       "      <th>utility_name</th>\n",
       "      <th>state</th>\n",
       "      <th>service_type</th>\n",
       "      <th>ownership</th>\n",
       "      <th>comm_rate</th>\n",
       "      <th>ind_rate</th>\n",
       "      <th>res_rate</th>\n",
       "    </tr>\n",
       "    <tr>\n",
       "      <th>eiaid</th>\n",
       "      <th></th>\n",
       "      <th></th>\n",
       "      <th></th>\n",
       "      <th></th>\n",
       "      <th></th>\n",
       "      <th></th>\n",
       "      <th></th>\n",
       "      <th></th>\n",
       "    </tr>\n",
       "  </thead>\n",
       "  <tbody>\n",
       "    <tr>\n",
       "      <th>176</th>\n",
       "      <td>85321</td>\n",
       "      <td>Ajo Improvement Co</td>\n",
       "      <td>AZ</td>\n",
       "      <td>Bundled</td>\n",
       "      <td>Investor Owned</td>\n",
       "      <td>0.087890</td>\n",
       "      <td>0.000000</td>\n",
       "      <td>0.093887</td>\n",
       "    </tr>\n",
       "    <tr>\n",
       "      <th>195</th>\n",
       "      <td>36560</td>\n",
       "      <td>Alabama Power Co</td>\n",
       "      <td>AL</td>\n",
       "      <td>Bundled</td>\n",
       "      <td>Investor Owned</td>\n",
       "      <td>0.121895</td>\n",
       "      <td>0.063652</td>\n",
       "      <td>0.135057</td>\n",
       "    </tr>\n",
       "    <tr>\n",
       "      <th>195</th>\n",
       "      <td>36513</td>\n",
       "      <td>Alabama Power Co</td>\n",
       "      <td>AL</td>\n",
       "      <td>Bundled</td>\n",
       "      <td>Investor Owned</td>\n",
       "      <td>0.121895</td>\n",
       "      <td>0.063652</td>\n",
       "      <td>0.135057</td>\n",
       "    </tr>\n",
       "    <tr>\n",
       "      <th>195</th>\n",
       "      <td>36280</td>\n",
       "      <td>Alabama Power Co</td>\n",
       "      <td>AL</td>\n",
       "      <td>Bundled</td>\n",
       "      <td>Investor Owned</td>\n",
       "      <td>0.121895</td>\n",
       "      <td>0.063652</td>\n",
       "      <td>0.135057</td>\n",
       "    </tr>\n",
       "    <tr>\n",
       "      <th>195</th>\n",
       "      <td>35473</td>\n",
       "      <td>Alabama Power Co</td>\n",
       "      <td>AL</td>\n",
       "      <td>Bundled</td>\n",
       "      <td>Investor Owned</td>\n",
       "      <td>0.121895</td>\n",
       "      <td>0.063652</td>\n",
       "      <td>0.135057</td>\n",
       "    </tr>\n",
       "  </tbody>\n",
       "</table>\n",
       "</div>"
      ],
      "text/plain": [
       "         zip        utility_name state service_type       ownership  \\\n",
       "eiaid                                                                 \n",
       "176    85321  Ajo Improvement Co    AZ      Bundled  Investor Owned   \n",
       "195    36560    Alabama Power Co    AL      Bundled  Investor Owned   \n",
       "195    36513    Alabama Power Co    AL      Bundled  Investor Owned   \n",
       "195    36280    Alabama Power Co    AL      Bundled  Investor Owned   \n",
       "195    35473    Alabama Power Co    AL      Bundled  Investor Owned   \n",
       "\n",
       "       comm_rate  ind_rate  res_rate  \n",
       "eiaid                                 \n",
       "176     0.087890  0.000000  0.093887  \n",
       "195     0.121895  0.063652  0.135057  \n",
       "195     0.121895  0.063652  0.135057  \n",
       "195     0.121895  0.063652  0.135057  \n",
       "195     0.121895  0.063652  0.135057  "
      ]
     },
     "execution_count": 12,
     "metadata": {},
     "output_type": "execute_result"
    }
   ],
   "source": [
    "pd.read_csv('zipcodes.csv', index_col='eiaid').head()"
   ]
  },
  {
   "cell_type": "code",
   "execution_count": 13,
   "id": "2378093e-ef1f-4d69-9118-60f5d3b9b56b",
   "metadata": {},
   "outputs": [
    {
     "data": {
      "text/plain": [
       "5"
      ]
     },
     "execution_count": 13,
     "metadata": {},
     "output_type": "execute_result"
    }
   ],
   "source": [
    "import glob\n",
    "\n",
    "dataframes = []\n",
    "for file in glob.glob('dataframes/*.csv'):\n",
    "  dataframes.append(pd.read_csv(file))\n",
    "\n",
    "len(dataframes)"
   ]
  },
  {
   "cell_type": "code",
   "execution_count": 14,
   "id": "f61d4118-19ce-490b-aaab-94a07ee0c01a",
   "metadata": {},
   "outputs": [
    {
     "data": {
      "text/html": [
       "<div>\n",
       "<style scoped>\n",
       "    .dataframe tbody tr th:only-of-type {\n",
       "        vertical-align: middle;\n",
       "    }\n",
       "\n",
       "    .dataframe tbody tr th {\n",
       "        vertical-align: top;\n",
       "    }\n",
       "\n",
       "    .dataframe thead th {\n",
       "        text-align: right;\n",
       "    }\n",
       "</style>\n",
       "<table border=\"1\" class=\"dataframe\">\n",
       "  <thead>\n",
       "    <tr style=\"text-align: right;\">\n",
       "      <th></th>\n",
       "      <th>zip</th>\n",
       "      <th>eiaid</th>\n",
       "      <th>utility_name</th>\n",
       "      <th>state</th>\n",
       "      <th>service_type</th>\n",
       "      <th>ownership</th>\n",
       "      <th>comm_rate</th>\n",
       "      <th>ind_rate</th>\n",
       "      <th>res_rate</th>\n",
       "    </tr>\n",
       "  </thead>\n",
       "  <tbody>\n",
       "    <tr>\n",
       "      <th>0</th>\n",
       "      <td>85321</td>\n",
       "      <td>176</td>\n",
       "      <td>Ajo Improvement Co</td>\n",
       "      <td>AZ</td>\n",
       "      <td>Bundled</td>\n",
       "      <td>Investor Owned</td>\n",
       "      <td>0.087890</td>\n",
       "      <td>0.000000</td>\n",
       "      <td>0.093887</td>\n",
       "    </tr>\n",
       "    <tr>\n",
       "      <th>1</th>\n",
       "      <td>36560</td>\n",
       "      <td>195</td>\n",
       "      <td>Alabama Power Co</td>\n",
       "      <td>AL</td>\n",
       "      <td>Bundled</td>\n",
       "      <td>Investor Owned</td>\n",
       "      <td>0.121895</td>\n",
       "      <td>0.063652</td>\n",
       "      <td>0.135057</td>\n",
       "    </tr>\n",
       "  </tbody>\n",
       "</table>\n",
       "</div>"
      ],
      "text/plain": [
       "     zip  eiaid        utility_name state service_type       ownership  \\\n",
       "0  85321    176  Ajo Improvement Co    AZ      Bundled  Investor Owned   \n",
       "1  36560    195    Alabama Power Co    AL      Bundled  Investor Owned   \n",
       "\n",
       "   comm_rate  ind_rate  res_rate  \n",
       "0   0.087890  0.000000  0.093887  \n",
       "1   0.121895  0.063652  0.135057  "
      ]
     },
     "execution_count": 14,
     "metadata": {},
     "output_type": "execute_result"
    }
   ],
   "source": [
    "dataframes[0]"
   ]
  },
  {
   "cell_type": "code",
   "execution_count": 15,
   "id": "5b81287d-1b7c-4494-9882-77f3ead5ce61",
   "metadata": {},
   "outputs": [
    {
     "data": {
      "text/html": [
       "<div>\n",
       "<style scoped>\n",
       "    .dataframe tbody tr th:only-of-type {\n",
       "        vertical-align: middle;\n",
       "    }\n",
       "\n",
       "    .dataframe tbody tr th {\n",
       "        vertical-align: top;\n",
       "    }\n",
       "\n",
       "    .dataframe thead th {\n",
       "        text-align: right;\n",
       "    }\n",
       "</style>\n",
       "<table border=\"1\" class=\"dataframe\">\n",
       "  <thead>\n",
       "    <tr style=\"text-align: right;\">\n",
       "      <th></th>\n",
       "      <th>zip</th>\n",
       "      <th>eiaid</th>\n",
       "      <th>utility_name</th>\n",
       "      <th>state</th>\n",
       "      <th>service_type</th>\n",
       "      <th>ownership</th>\n",
       "      <th>comm_rate</th>\n",
       "      <th>ind_rate</th>\n",
       "      <th>res_rate</th>\n",
       "    </tr>\n",
       "  </thead>\n",
       "  <tbody>\n",
       "    <tr>\n",
       "      <th>0</th>\n",
       "      <td>85321</td>\n",
       "      <td>176</td>\n",
       "      <td>Ajo Improvement Co</td>\n",
       "      <td>AZ</td>\n",
       "      <td>Bundled</td>\n",
       "      <td>Investor Owned</td>\n",
       "      <td>0.087890</td>\n",
       "      <td>0.000000</td>\n",
       "      <td>0.093887</td>\n",
       "    </tr>\n",
       "    <tr>\n",
       "      <th>1</th>\n",
       "      <td>36560</td>\n",
       "      <td>195</td>\n",
       "      <td>Alabama Power Co</td>\n",
       "      <td>AL</td>\n",
       "      <td>Bundled</td>\n",
       "      <td>Investor Owned</td>\n",
       "      <td>0.121895</td>\n",
       "      <td>0.063652</td>\n",
       "      <td>0.135057</td>\n",
       "    </tr>\n",
       "    <tr>\n",
       "      <th>0</th>\n",
       "      <td>36513</td>\n",
       "      <td>195</td>\n",
       "      <td>Alabama Power Co</td>\n",
       "      <td>AL</td>\n",
       "      <td>Bundled</td>\n",
       "      <td>Investor Owned</td>\n",
       "      <td>0.121895</td>\n",
       "      <td>0.063652</td>\n",
       "      <td>0.135057</td>\n",
       "    </tr>\n",
       "    <tr>\n",
       "      <th>1</th>\n",
       "      <td>36280</td>\n",
       "      <td>195</td>\n",
       "      <td>Alabama Power Co</td>\n",
       "      <td>AL</td>\n",
       "      <td>Bundled</td>\n",
       "      <td>Investor Owned</td>\n",
       "      <td>0.121895</td>\n",
       "      <td>0.063652</td>\n",
       "      <td>0.135057</td>\n",
       "    </tr>\n",
       "    <tr>\n",
       "      <th>0</th>\n",
       "      <td>35473</td>\n",
       "      <td>195</td>\n",
       "      <td>Alabama Power Co</td>\n",
       "      <td>AL</td>\n",
       "      <td>Bundled</td>\n",
       "      <td>Investor Owned</td>\n",
       "      <td>0.121895</td>\n",
       "      <td>0.063652</td>\n",
       "      <td>0.135057</td>\n",
       "    </tr>\n",
       "    <tr>\n",
       "      <th>1</th>\n",
       "      <td>35229</td>\n",
       "      <td>195</td>\n",
       "      <td>Alabama Power Co</td>\n",
       "      <td>AL</td>\n",
       "      <td>Bundled</td>\n",
       "      <td>Investor Owned</td>\n",
       "      <td>0.121895</td>\n",
       "      <td>0.063652</td>\n",
       "      <td>0.135057</td>\n",
       "    </tr>\n",
       "    <tr>\n",
       "      <th>0</th>\n",
       "      <td>36375</td>\n",
       "      <td>195</td>\n",
       "      <td>Alabama Power Co</td>\n",
       "      <td>AL</td>\n",
       "      <td>Bundled</td>\n",
       "      <td>Investor Owned</td>\n",
       "      <td>0.121895</td>\n",
       "      <td>0.063652</td>\n",
       "      <td>0.135057</td>\n",
       "    </tr>\n",
       "    <tr>\n",
       "      <th>1</th>\n",
       "      <td>36042</td>\n",
       "      <td>195</td>\n",
       "      <td>Alabama Power Co</td>\n",
       "      <td>AL</td>\n",
       "      <td>Bundled</td>\n",
       "      <td>Investor Owned</td>\n",
       "      <td>0.121895</td>\n",
       "      <td>0.063652</td>\n",
       "      <td>0.135057</td>\n",
       "    </tr>\n",
       "    <tr>\n",
       "      <th>0</th>\n",
       "      <td>36370</td>\n",
       "      <td>195</td>\n",
       "      <td>Alabama Power Co</td>\n",
       "      <td>AL</td>\n",
       "      <td>Bundled</td>\n",
       "      <td>Investor Owned</td>\n",
       "      <td>0.121895</td>\n",
       "      <td>0.063652</td>\n",
       "      <td>0.135057</td>\n",
       "    </tr>\n",
       "    <tr>\n",
       "      <th>1</th>\n",
       "      <td>35555</td>\n",
       "      <td>195</td>\n",
       "      <td>Alabama Power Co</td>\n",
       "      <td>AL</td>\n",
       "      <td>Bundled</td>\n",
       "      <td>Investor Owned</td>\n",
       "      <td>0.121895</td>\n",
       "      <td>0.063652</td>\n",
       "      <td>0.135057</td>\n",
       "    </tr>\n",
       "  </tbody>\n",
       "</table>\n",
       "</div>"
      ],
      "text/plain": [
       "     zip  eiaid        utility_name state service_type       ownership  \\\n",
       "0  85321    176  Ajo Improvement Co    AZ      Bundled  Investor Owned   \n",
       "1  36560    195    Alabama Power Co    AL      Bundled  Investor Owned   \n",
       "0  36513    195    Alabama Power Co    AL      Bundled  Investor Owned   \n",
       "1  36280    195    Alabama Power Co    AL      Bundled  Investor Owned   \n",
       "0  35473    195    Alabama Power Co    AL      Bundled  Investor Owned   \n",
       "1  35229    195    Alabama Power Co    AL      Bundled  Investor Owned   \n",
       "0  36375    195    Alabama Power Co    AL      Bundled  Investor Owned   \n",
       "1  36042    195    Alabama Power Co    AL      Bundled  Investor Owned   \n",
       "0  36370    195    Alabama Power Co    AL      Bundled  Investor Owned   \n",
       "1  35555    195    Alabama Power Co    AL      Bundled  Investor Owned   \n",
       "\n",
       "   comm_rate  ind_rate  res_rate  \n",
       "0   0.087890  0.000000  0.093887  \n",
       "1   0.121895  0.063652  0.135057  \n",
       "0   0.121895  0.063652  0.135057  \n",
       "1   0.121895  0.063652  0.135057  \n",
       "0   0.121895  0.063652  0.135057  \n",
       "1   0.121895  0.063652  0.135057  \n",
       "0   0.121895  0.063652  0.135057  \n",
       "1   0.121895  0.063652  0.135057  \n",
       "0   0.121895  0.063652  0.135057  \n",
       "1   0.121895  0.063652  0.135057  "
      ]
     },
     "execution_count": 15,
     "metadata": {},
     "output_type": "execute_result"
    }
   ],
   "source": [
    "pd.concat(dataframes)"
   ]
  },
  {
   "cell_type": "code",
   "execution_count": 16,
   "id": "81da9d89-31fd-4c32-83b9-969f21910d8d",
   "metadata": {},
   "outputs": [
    {
     "data": {
      "text/html": [
       "<div>\n",
       "<style scoped>\n",
       "    .dataframe tbody tr th:only-of-type {\n",
       "        vertical-align: middle;\n",
       "    }\n",
       "\n",
       "    .dataframe tbody tr th {\n",
       "        vertical-align: top;\n",
       "    }\n",
       "\n",
       "    .dataframe thead th {\n",
       "        text-align: right;\n",
       "    }\n",
       "</style>\n",
       "<table border=\"1\" class=\"dataframe\">\n",
       "  <thead>\n",
       "    <tr style=\"text-align: right;\">\n",
       "      <th></th>\n",
       "      <th>zip</th>\n",
       "      <th>eiaid</th>\n",
       "      <th>utility_name</th>\n",
       "      <th>state</th>\n",
       "      <th>service_type</th>\n",
       "      <th>ownership</th>\n",
       "      <th>comm_rate</th>\n",
       "      <th>ind_rate</th>\n",
       "      <th>res_rate</th>\n",
       "    </tr>\n",
       "  </thead>\n",
       "  <tbody>\n",
       "    <tr>\n",
       "      <th>0</th>\n",
       "      <td>85321</td>\n",
       "      <td>176</td>\n",
       "      <td>Ajo Improvement Co</td>\n",
       "      <td>AZ</td>\n",
       "      <td>Bundled</td>\n",
       "      <td>Investor Owned</td>\n",
       "      <td>0.087890</td>\n",
       "      <td>0.000000</td>\n",
       "      <td>0.093887</td>\n",
       "    </tr>\n",
       "    <tr>\n",
       "      <th>1</th>\n",
       "      <td>36560</td>\n",
       "      <td>195</td>\n",
       "      <td>Alabama Power Co</td>\n",
       "      <td>AL</td>\n",
       "      <td>Bundled</td>\n",
       "      <td>Investor Owned</td>\n",
       "      <td>0.121895</td>\n",
       "      <td>0.063652</td>\n",
       "      <td>0.135057</td>\n",
       "    </tr>\n",
       "    <tr>\n",
       "      <th>2</th>\n",
       "      <td>36513</td>\n",
       "      <td>195</td>\n",
       "      <td>Alabama Power Co</td>\n",
       "      <td>AL</td>\n",
       "      <td>Bundled</td>\n",
       "      <td>Investor Owned</td>\n",
       "      <td>0.121895</td>\n",
       "      <td>0.063652</td>\n",
       "      <td>0.135057</td>\n",
       "    </tr>\n",
       "    <tr>\n",
       "      <th>3</th>\n",
       "      <td>36280</td>\n",
       "      <td>195</td>\n",
       "      <td>Alabama Power Co</td>\n",
       "      <td>AL</td>\n",
       "      <td>Bundled</td>\n",
       "      <td>Investor Owned</td>\n",
       "      <td>0.121895</td>\n",
       "      <td>0.063652</td>\n",
       "      <td>0.135057</td>\n",
       "    </tr>\n",
       "    <tr>\n",
       "      <th>4</th>\n",
       "      <td>35473</td>\n",
       "      <td>195</td>\n",
       "      <td>Alabama Power Co</td>\n",
       "      <td>AL</td>\n",
       "      <td>Bundled</td>\n",
       "      <td>Investor Owned</td>\n",
       "      <td>0.121895</td>\n",
       "      <td>0.063652</td>\n",
       "      <td>0.135057</td>\n",
       "    </tr>\n",
       "    <tr>\n",
       "      <th>5</th>\n",
       "      <td>35229</td>\n",
       "      <td>195</td>\n",
       "      <td>Alabama Power Co</td>\n",
       "      <td>AL</td>\n",
       "      <td>Bundled</td>\n",
       "      <td>Investor Owned</td>\n",
       "      <td>0.121895</td>\n",
       "      <td>0.063652</td>\n",
       "      <td>0.135057</td>\n",
       "    </tr>\n",
       "    <tr>\n",
       "      <th>6</th>\n",
       "      <td>36375</td>\n",
       "      <td>195</td>\n",
       "      <td>Alabama Power Co</td>\n",
       "      <td>AL</td>\n",
       "      <td>Bundled</td>\n",
       "      <td>Investor Owned</td>\n",
       "      <td>0.121895</td>\n",
       "      <td>0.063652</td>\n",
       "      <td>0.135057</td>\n",
       "    </tr>\n",
       "    <tr>\n",
       "      <th>7</th>\n",
       "      <td>36042</td>\n",
       "      <td>195</td>\n",
       "      <td>Alabama Power Co</td>\n",
       "      <td>AL</td>\n",
       "      <td>Bundled</td>\n",
       "      <td>Investor Owned</td>\n",
       "      <td>0.121895</td>\n",
       "      <td>0.063652</td>\n",
       "      <td>0.135057</td>\n",
       "    </tr>\n",
       "    <tr>\n",
       "      <th>8</th>\n",
       "      <td>36370</td>\n",
       "      <td>195</td>\n",
       "      <td>Alabama Power Co</td>\n",
       "      <td>AL</td>\n",
       "      <td>Bundled</td>\n",
       "      <td>Investor Owned</td>\n",
       "      <td>0.121895</td>\n",
       "      <td>0.063652</td>\n",
       "      <td>0.135057</td>\n",
       "    </tr>\n",
       "    <tr>\n",
       "      <th>9</th>\n",
       "      <td>35555</td>\n",
       "      <td>195</td>\n",
       "      <td>Alabama Power Co</td>\n",
       "      <td>AL</td>\n",
       "      <td>Bundled</td>\n",
       "      <td>Investor Owned</td>\n",
       "      <td>0.121895</td>\n",
       "      <td>0.063652</td>\n",
       "      <td>0.135057</td>\n",
       "    </tr>\n",
       "  </tbody>\n",
       "</table>\n",
       "</div>"
      ],
      "text/plain": [
       "     zip  eiaid        utility_name state service_type       ownership  \\\n",
       "0  85321    176  Ajo Improvement Co    AZ      Bundled  Investor Owned   \n",
       "1  36560    195    Alabama Power Co    AL      Bundled  Investor Owned   \n",
       "2  36513    195    Alabama Power Co    AL      Bundled  Investor Owned   \n",
       "3  36280    195    Alabama Power Co    AL      Bundled  Investor Owned   \n",
       "4  35473    195    Alabama Power Co    AL      Bundled  Investor Owned   \n",
       "5  35229    195    Alabama Power Co    AL      Bundled  Investor Owned   \n",
       "6  36375    195    Alabama Power Co    AL      Bundled  Investor Owned   \n",
       "7  36042    195    Alabama Power Co    AL      Bundled  Investor Owned   \n",
       "8  36370    195    Alabama Power Co    AL      Bundled  Investor Owned   \n",
       "9  35555    195    Alabama Power Co    AL      Bundled  Investor Owned   \n",
       "\n",
       "   comm_rate  ind_rate  res_rate  \n",
       "0   0.087890  0.000000  0.093887  \n",
       "1   0.121895  0.063652  0.135057  \n",
       "2   0.121895  0.063652  0.135057  \n",
       "3   0.121895  0.063652  0.135057  \n",
       "4   0.121895  0.063652  0.135057  \n",
       "5   0.121895  0.063652  0.135057  \n",
       "6   0.121895  0.063652  0.135057  \n",
       "7   0.121895  0.063652  0.135057  \n",
       "8   0.121895  0.063652  0.135057  \n",
       "9   0.121895  0.063652  0.135057  "
      ]
     },
     "execution_count": 16,
     "metadata": {},
     "output_type": "execute_result"
    }
   ],
   "source": [
    "pd.concat(dataframes, ignore_index=True)"
   ]
  },
  {
   "cell_type": "markdown",
   "id": "a63c6132-a3ce-4b36-b4a6-f8937390cca6",
   "metadata": {},
   "source": [
    "## NumPy"
   ]
  },
  {
   "cell_type": "code",
   "execution_count": 17,
   "id": "d76e1b48-85d0-44da-b371-04f78d6821b4",
   "metadata": {},
   "outputs": [],
   "source": [
    "import numpy as np"
   ]
  },
  {
   "cell_type": "code",
   "execution_count": 18,
   "id": "d670a585-648c-4239-a6a2-6c6cdea704c3",
   "metadata": {},
   "outputs": [
    {
     "data": {
      "text/plain": [
       "array([['zip', 'eiaid', 'utility_name', 'state', 'service_type',\n",
       "        'ownership', 'comm_rate', 'ind_rate', 'res_rate'],\n",
       "       ['85321', '176', 'Ajo Improvement Co', 'AZ', 'Bundled',\n",
       "        'Investor Owned', '0.08789049919484701', '0',\n",
       "        '0.09388714733542321'],\n",
       "       ['36560', '195', 'Alabama Power Co', 'AL', 'Bundled',\n",
       "        'Investor Owned', '0.12189508655453701', '0.06365153835251516',\n",
       "        '0.13505671376828454']], dtype='<U19')"
      ]
     },
     "execution_count": 18,
     "metadata": {},
     "output_type": "execute_result"
    }
   ],
   "source": [
    "np.loadtxt('dataframes/dataframe_1.csv', dtype=str, delimiter=',')"
   ]
  },
  {
   "cell_type": "code",
   "execution_count": 19,
   "id": "5b1680cc-9d7a-4bcc-b3c5-511c3051edd4",
   "metadata": {},
   "outputs": [
    {
     "data": {
      "text/plain": [
       "array([['85321', '176', 'Ajo Improvement Co', 'AZ', 'Bundled',\n",
       "        'Investor Owned', '0.08789049919484701', '0',\n",
       "        '0.09388714733542321'],\n",
       "       ['36560', '195', 'Alabama Power Co', 'AL', 'Bundled',\n",
       "        'Investor Owned', '0.12189508655453701', '0.06365153835251516',\n",
       "        '0.13505671376828454']], dtype='<U19')"
      ]
     },
     "execution_count": 19,
     "metadata": {},
     "output_type": "execute_result"
    }
   ],
   "source": [
    "np.loadtxt('dataframes/dataframe_1.csv', dtype=str, delimiter=',', skiprows=1)"
   ]
  },
  {
   "cell_type": "code",
   "execution_count": 20,
   "id": "430b2d71-8cf7-4220-914e-a3113838cf84",
   "metadata": {},
   "outputs": [
    {
     "data": {
      "text/plain": [
       "array([['85321', '36560'],\n",
       "       ['176', '195'],\n",
       "       ['Ajo Improvement Co', 'Alabama Power Co'],\n",
       "       ['AZ', 'AL'],\n",
       "       ['Bundled', 'Bundled'],\n",
       "       ['Investor Owned', 'Investor Owned'],\n",
       "       ['0.08789049919484701', '0.12189508655453701'],\n",
       "       ['0', '0.06365153835251516'],\n",
       "       ['0.09388714733542321', '0.13505671376828454']], dtype='<U19')"
      ]
     },
     "execution_count": 20,
     "metadata": {},
     "output_type": "execute_result"
    }
   ],
   "source": [
    "np.loadtxt('dataframes/dataframe_1.csv', dtype=str, delimiter=',', skiprows=1, unpack=True)"
   ]
  },
  {
   "cell_type": "code",
   "execution_count": 21,
   "id": "d357fdbd-d84d-48f7-878f-088f7e813519",
   "metadata": {},
   "outputs": [
    {
     "data": {
      "text/plain": [
       "array([['zip', 'eiaid', 'utility_name', 'state', 'service_type',\n",
       "        'ownership', 'comm_rate', 'ind_rate', 'res_rate'],\n",
       "       ['85321', '176', 'Ajo Improvement Co', 'AZ', 'Bundled',\n",
       "        'Investor Owned', '0.08789049919484701', '0',\n",
       "        '0.09388714733542321'],\n",
       "       ['36560', '195', 'Alabama Power Co', 'AL', 'Bundled',\n",
       "        'Investor Owned', '0.12189508655453701', '0.06365153835251516',\n",
       "        '0.13505671376828454']], dtype='<U19')"
      ]
     },
     "execution_count": 21,
     "metadata": {},
     "output_type": "execute_result"
    }
   ],
   "source": [
    "np.genfromtxt('dataframes/dataframe_1.csv', dtype=str, delimiter=',')"
   ]
  },
  {
   "cell_type": "code",
   "execution_count": null,
   "id": "1ff6203e-7d06-4de7-9118-2cc360806162",
   "metadata": {},
   "outputs": [],
   "source": []
  }
 ],
 "metadata": {
  "kernelspec": {
   "display_name": "Python 3 (ipykernel)",
   "language": "python",
   "name": "python3"
  },
  "language_info": {
   "codemirror_mode": {
    "name": "ipython",
    "version": 3
   },
   "file_extension": ".py",
   "mimetype": "text/x-python",
   "name": "python",
   "nbconvert_exporter": "python",
   "pygments_lexer": "ipython3",
   "version": "3.13.2"
  }
 },
 "nbformat": 4,
 "nbformat_minor": 5
}
