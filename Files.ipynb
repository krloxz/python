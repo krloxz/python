{
 "cells": [
  {
   "cell_type": "markdown",
   "id": "e266eff6-e5cc-43d9-bc90-1274237fcf47",
   "metadata": {},
   "source": [
    "## OS Libraries\n",
    "\n",
    "_This libraries provide access to Operating System functionalities._"
   ]
  },
  {
   "cell_type": "code",
   "execution_count": 1,
   "id": "27cdaa44-a926-41c0-8fc9-ca5324675f5f",
   "metadata": {},
   "outputs": [],
   "source": [
    "import os\n",
    "# dir(os)\n",
    "# help(os)"
   ]
  },
  {
   "cell_type": "code",
   "execution_count": 2,
   "id": "a53ac03b-4c16-4f01-b0d8-4b40489d29e8",
   "metadata": {},
   "outputs": [],
   "source": [
    "import shutil\n",
    "# dir(shutil)\n",
    "# help(shutil)"
   ]
  },
  {
   "cell_type": "code",
   "execution_count": 3,
   "id": "585c44f3-edea-498c-a607-69376a82415b",
   "metadata": {},
   "outputs": [],
   "source": [
    "import psutil\n",
    "# dir(psutil)\n",
    "# help(psutil)"
   ]
  },
  {
   "cell_type": "code",
   "execution_count": 4,
   "id": "d85433a0-9db8-45b5-8d22-985efe4e156b",
   "metadata": {},
   "outputs": [
    {
     "data": {
      "text/plain": [
       "'posix'"
      ]
     },
     "execution_count": 4,
     "metadata": {},
     "output_type": "execute_result"
    }
   ],
   "source": [
    "os.name"
   ]
  },
  {
   "cell_type": "markdown",
   "id": "95dcf519-99ca-4d8b-9aba-4231f46c0c30",
   "metadata": {},
   "source": [
    "## Sample OS commands"
   ]
  },
  {
   "cell_type": "code",
   "execution_count": 5,
   "id": "ef78656b-1f05-47de-a2ed-d575e3c69658",
   "metadata": {},
   "outputs": [
    {
     "data": {
      "text/plain": [
       "['.DS_Store', 'python', 'neural-networks']"
      ]
     },
     "execution_count": 5,
     "metadata": {},
     "output_type": "execute_result"
    }
   ],
   "source": [
    "os.listdir('..')"
   ]
  },
  {
   "cell_type": "code",
   "execution_count": 6,
   "id": "2a4b4e36-527d-4e3e-bd8c-35d84571cc39",
   "metadata": {},
   "outputs": [
    {
     "data": {
      "text/plain": [
       "'/Users/carlos/Projects/python'"
      ]
     },
     "execution_count": 6,
     "metadata": {},
     "output_type": "execute_result"
    }
   ],
   "source": [
    "os.getcwd()"
   ]
  },
  {
   "cell_type": "code",
   "execution_count": 7,
   "id": "cd04da78-2267-4401-aa1e-6988fa4deb8f",
   "metadata": {},
   "outputs": [
    {
     "data": {
      "text/plain": [
       "environ{'__CFBundleIdentifier': 'com.apple.Terminal',\n",
       "        'TMPDIR': '/var/folders/vj/cxzfh_1x4w5blwgx0700wfn00000gn/T/',\n",
       "        'XPC_FLAGS': '0x0',\n",
       "        'TERM': 'xterm-color',\n",
       "        'SSH_AUTH_SOCK': '/private/tmp/com.apple.launchd.bbJa6saI6C/Listeners',\n",
       "        'XPC_SERVICE_NAME': '0',\n",
       "        'TERM_PROGRAM': 'Apple_Terminal',\n",
       "        'TERM_PROGRAM_VERSION': '455',\n",
       "        'TERM_SESSION_ID': 'F9076952-5612-4ED4-BC8F-4E896A2D85E8',\n",
       "        'SHELL': '/bin/zsh',\n",
       "        'HOME': '/Users/carlos',\n",
       "        'LOGNAME': 'carlos',\n",
       "        'USER': 'carlos',\n",
       "        'PATH': '/Users/carlos/Projects/python/.venv/bin:/Users/carlos/.sdkman/candidates/java/current/bin:/opt/homebrew/bin:/opt/homebrew/sbin:/usr/local/bin:/System/Cryptexes/App/usr/bin:/usr/bin:/bin:/usr/sbin:/sbin:/var/run/com.apple.security.cryptexd/codex.system/bootstrap/usr/local/bin:/var/run/com.apple.security.cryptexd/codex.system/bootstrap/usr/bin:/var/run/com.apple.security.cryptexd/codex.system/bootstrap/usr/appleinternal/bin',\n",
       "        'SHLVL': '1',\n",
       "        'PWD': '/Users/carlos/Projects/python',\n",
       "        'OLDPWD': '/Users/carlos/Projects',\n",
       "        'ZSH': '/Users/carlos/.oh-my-zsh',\n",
       "        'PAGER': 'cat',\n",
       "        'LESS': '-R',\n",
       "        'LSCOLORS': 'Gxfxcxdxbxegedabagacad',\n",
       "        'LS_COLORS': 'di=1;36:ln=35:so=32:pi=33:ex=31:bd=34;46:cd=34;43:su=30;41:sg=30;46:tw=30;42:ow=30;43',\n",
       "        'HOMEBREW_PREFIX': '/opt/homebrew',\n",
       "        'HOMEBREW_CELLAR': '/opt/homebrew/Cellar',\n",
       "        'HOMEBREW_REPOSITORY': '/opt/homebrew',\n",
       "        'INFOPATH': '/opt/homebrew/share/info:',\n",
       "        'SDKMAN_DIR': '/Users/carlos/.sdkman',\n",
       "        'SDKMAN_CANDIDATES_API': 'https://api.sdkman.io/2',\n",
       "        'SDKMAN_PLATFORM': 'darwinarm64',\n",
       "        'SDKMAN_CANDIDATES_DIR': '/Users/carlos/.sdkman/candidates',\n",
       "        'JAVA_HOME': '/Users/carlos/.sdkman/candidates/java/current',\n",
       "        'VIRTUAL_ENV': '/Users/carlos/Projects/python/.venv',\n",
       "        'VIRTUAL_ENV_PROMPT': '.venv',\n",
       "        'PS1': '(.venv) %(?:%{\\x1b[01;32m%}%1{➜%} :%{\\x1b[01;31m%}%1{➜%} ) %{\\x1b[36m%}%c%{\\x1b[00m%} $(git_prompt_info)',\n",
       "        'LANG': 'en_US.UTF-8',\n",
       "        '_': '/Users/carlos/Projects/python/.venv/bin/jupyter',\n",
       "        '__CF_USER_TEXT_ENCODING': '0x1F5:0x0:0x0',\n",
       "        'JPY_SESSION_NAME': '/Users/carlos/Projects/python/Files.ipynb',\n",
       "        'JPY_PARENT_PID': '15699',\n",
       "        'PYDEVD_USE_FRAME_EVAL': 'NO',\n",
       "        'CLICOLOR': '1',\n",
       "        'FORCE_COLOR': '1',\n",
       "        'CLICOLOR_FORCE': '1',\n",
       "        'GIT_PAGER': 'cat',\n",
       "        'MPLBACKEND': 'module://matplotlib_inline.backend_inline'}"
      ]
     },
     "execution_count": 7,
     "metadata": {},
     "output_type": "execute_result"
    }
   ],
   "source": [
    "os.environ"
   ]
  },
  {
   "cell_type": "code",
   "execution_count": 8,
   "id": "67d589e1-3e80-4ed8-ae3a-532d5dd5bf53",
   "metadata": {},
   "outputs": [],
   "source": [
    "os.getenv(\"HOMEPATH\")"
   ]
  },
  {
   "cell_type": "code",
   "execution_count": 9,
   "id": "891aceec-d634-45d5-8e91-4a2339a12174",
   "metadata": {},
   "outputs": [
    {
     "ename": "KeyError",
     "evalue": "'HOMEPATH'",
     "output_type": "error",
     "traceback": [
      "\u001b[0;31m---------------------------------------------------------------------------\u001b[0m",
      "\u001b[0;31mKeyError\u001b[0m                                  Traceback (most recent call last)",
      "Cell \u001b[0;32mIn[9], line 1\u001b[0m\n\u001b[0;32m----> 1\u001b[0m \u001b[43mos\u001b[49m\u001b[38;5;241;43m.\u001b[39;49m\u001b[43menviron\u001b[49m\u001b[43m[\u001b[49m\u001b[38;5;124;43m\"\u001b[39;49m\u001b[38;5;124;43mHOMEPATH\u001b[39;49m\u001b[38;5;124;43m\"\u001b[39;49m\u001b[43m]\u001b[49m\n",
      "File \u001b[0;32m<frozen os>:716\u001b[0m, in \u001b[0;36m__getitem__\u001b[0;34m(self, key)\u001b[0m\n",
      "\u001b[0;31mKeyError\u001b[0m: 'HOMEPATH'"
     ]
    }
   ],
   "source": [
    "os.environ[\"HOMEPATH\"]"
   ]
  },
  {
   "cell_type": "code",
   "execution_count": 10,
   "id": "1caa5f13-db50-4556-8f03-1c7135484b60",
   "metadata": {},
   "outputs": [
    {
     "data": {
      "text/plain": [
       "'/Users/carlos/Projects/python/README.md'"
      ]
     },
     "execution_count": 10,
     "metadata": {},
     "output_type": "execute_result"
    }
   ],
   "source": [
    "os.path.abspath('README.md')"
   ]
  },
  {
   "cell_type": "code",
   "execution_count": 11,
   "id": "bf5424c6-1a13-4fb4-8eea-838dda58794a",
   "metadata": {},
   "outputs": [
    {
     "data": {
      "text/plain": [
       "'/'"
      ]
     },
     "execution_count": 11,
     "metadata": {},
     "output_type": "execute_result"
    }
   ],
   "source": [
    "os.path.sep"
   ]
  },
  {
   "cell_type": "code",
   "execution_count": 12,
   "id": "e3ad31ea-e946-450e-9f30-9f68fe18ccc8",
   "metadata": {},
   "outputs": [
    {
     "data": {
      "text/plain": [
       "'/Users/carlos/Projects/python/sample_file.txt'"
      ]
     },
     "execution_count": 12,
     "metadata": {},
     "output_type": "execute_result"
    }
   ],
   "source": [
    "os.path.join(os.getcwd(), 'sample_file.txt')"
   ]
  },
  {
   "cell_type": "code",
   "execution_count": 13,
   "id": "0504589d-d5c7-448c-ab1b-aa8faecbb6e8",
   "metadata": {},
   "outputs": [],
   "source": [
    "shutil.rmtree('./pluralsight', ignore_errors=True)\n",
    "os.mkdir('./pluralsight')"
   ]
  },
  {
   "cell_type": "code",
   "execution_count": 14,
   "id": "432e097b-2c74-4757-8cfe-a6e079964190",
   "metadata": {},
   "outputs": [
    {
     "data": {
      "text/plain": [
       "'pluralsight/basics'"
      ]
     },
     "execution_count": 14,
     "metadata": {},
     "output_type": "execute_result"
    }
   ],
   "source": [
    "shutil.copytree('./basics', 'pluralsight/basics')"
   ]
  },
  {
   "cell_type": "code",
   "execution_count": 15,
   "id": "cc4bd669-0f2a-4fb0-aacc-92a6ec294c7a",
   "metadata": {},
   "outputs": [
    {
     "data": {
      "text/plain": [
       "'./pluralsight/basics_copy'"
      ]
     },
     "execution_count": 15,
     "metadata": {},
     "output_type": "execute_result"
    }
   ],
   "source": [
    "shutil.move('./pluralsight/basics', './pluralsight/basics_copy')"
   ]
  },
  {
   "cell_type": "code",
   "execution_count": 16,
   "id": "b85cde59-ebf3-400b-9d33-acba39029d10",
   "metadata": {},
   "outputs": [
    {
     "data": {
      "text/plain": [
       "'/Users/carlos/Projects/python/pluralsight'"
      ]
     },
     "execution_count": 16,
     "metadata": {},
     "output_type": "execute_result"
    }
   ],
   "source": [
    "os.chdir('pluralsight')\n",
    "os.getcwd()"
   ]
  },
  {
   "cell_type": "code",
   "execution_count": 17,
   "id": "6a1121e5-ce77-47b0-9747-131cecbfe203",
   "metadata": {},
   "outputs": [
    {
     "data": {
      "text/plain": [
       "'/Users/carlos/Projects/python'"
      ]
     },
     "execution_count": 17,
     "metadata": {},
     "output_type": "execute_result"
    }
   ],
   "source": [
    "os.chdir('..')\n",
    "os.getcwd()"
   ]
  },
  {
   "cell_type": "code",
   "execution_count": 18,
   "id": "1a091302-ff5f-44cd-9c58-75a033b85413",
   "metadata": {},
   "outputs": [
    {
     "name": "stdout",
     "output_type": "stream",
     "text": [
      "Cannot delete a non-empty directory\n"
     ]
    }
   ],
   "source": [
    "try:\n",
    "  os.rmdir('./pluralsight')\n",
    "except:\n",
    "  print('Cannot delete a non-empty directory')"
   ]
  },
  {
   "cell_type": "code",
   "execution_count": 19,
   "id": "018767c4-a442-4659-b24a-d38208c0e5f1",
   "metadata": {},
   "outputs": [
    {
     "name": "stdout",
     "output_type": "stream",
     "text": [
      "True\n",
      "False\n"
     ]
    }
   ],
   "source": [
    "print(os.path.exists('./pluralsight'))\n",
    "shutil.rmtree('./pluralsight')\n",
    "print(os.path.exists('./pluralsight'))"
   ]
  },
  {
   "cell_type": "markdown",
   "id": "b240463d-b70b-451c-8d79-d9b4df2ea721",
   "metadata": {},
   "source": [
    "## Paths"
   ]
  },
  {
   "cell_type": "code",
   "execution_count": 20,
   "id": "5f1bd882-9c98-4992-9d1d-ae0f76903912",
   "metadata": {},
   "outputs": [
    {
     "data": {
      "text/plain": [
       "PosixPath('README.md')"
      ]
     },
     "execution_count": 20,
     "metadata": {},
     "output_type": "execute_result"
    }
   ],
   "source": [
    "from pathlib import Path\n",
    "path = Path('./README.md')\n",
    "path"
   ]
  },
  {
   "cell_type": "code",
   "execution_count": 21,
   "id": "f4ec2dba-6384-4e84-96e7-ed25afac1884",
   "metadata": {},
   "outputs": [
    {
     "data": {
      "text/plain": [
       "'README.md'"
      ]
     },
     "execution_count": 21,
     "metadata": {},
     "output_type": "execute_result"
    }
   ],
   "source": [
    "path.name"
   ]
  },
  {
   "cell_type": "code",
   "execution_count": 22,
   "id": "c2a6dcb2-41c1-4668-af21-3af49f9b9eb9",
   "metadata": {},
   "outputs": [
    {
     "data": {
      "text/plain": [
       "PosixPath('.')"
      ]
     },
     "execution_count": 22,
     "metadata": {},
     "output_type": "execute_result"
    }
   ],
   "source": [
    "path.parent"
   ]
  },
  {
   "cell_type": "code",
   "execution_count": 23,
   "id": "7d766120-6a90-4276-91e0-ee719f3826de",
   "metadata": {},
   "outputs": [
    {
     "data": {
      "text/plain": [
       "PosixPath('samples/file.txt')"
      ]
     },
     "execution_count": 23,
     "metadata": {},
     "output_type": "execute_result"
    }
   ],
   "source": [
    "path.parent / 'samples' / 'file.txt'"
   ]
  },
  {
   "cell_type": "code",
   "execution_count": 24,
   "id": "19d8a911-bdda-42bc-9f8c-3f92a38ac165",
   "metadata": {},
   "outputs": [
    {
     "name": "stdout",
     "output_type": "stream",
     "text": [
      "basics/Basics Recap.ipynb\n",
      "basics/Sets.ipynb\n",
      "basics/Logical Operators.ipynb\n",
      "basics/Lists.ipynb\n",
      "basics/Tuples.ipynb\n",
      "basics/Dictionaries.ipynb\n",
      "basics/.ipynb_checkpoints\n"
     ]
    }
   ],
   "source": [
    "current_path = Path('.')\n",
    "for file in current_path.glob('./basics/*'):\n",
    "  print(file)"
   ]
  },
  {
   "cell_type": "markdown",
   "id": "47e59961-7f34-4e86-8af5-3765acc99e8a",
   "metadata": {},
   "source": [
    "## File manipulation"
   ]
  },
  {
   "cell_type": "code",
   "execution_count": 25,
   "id": "562303f3-ddfe-4308-8cdc-8844e40bd4f1",
   "metadata": {},
   "outputs": [
    {
     "data": {
      "text/plain": [
       "False"
      ]
     },
     "execution_count": 25,
     "metadata": {},
     "output_type": "execute_result"
    }
   ],
   "source": [
    "test_file = \"test_file.txt\"\n",
    "os.path.exists(test_file)"
   ]
  },
  {
   "cell_type": "code",
   "execution_count": 26,
   "id": "7ad61e78-8530-4e33-a9a3-3eb5715b7df1",
   "metadata": {},
   "outputs": [
    {
     "data": {
      "text/plain": [
       "<_io.TextIOWrapper name='test_file.txt' mode='x' encoding='UTF-8'>"
      ]
     },
     "execution_count": 26,
     "metadata": {},
     "output_type": "execute_result"
    }
   ],
   "source": [
    "# Create a file\n",
    "open(test_file, 'x')"
   ]
  },
  {
   "cell_type": "code",
   "execution_count": 27,
   "id": "1ea7f5c1-d858-4836-9126-0c6f73a8472f",
   "metadata": {},
   "outputs": [
    {
     "name": "stdout",
     "output_type": "stream",
     "text": [
      "You cannot create a file that already exists\n"
     ]
    }
   ],
   "source": [
    "try:\n",
    "  open(test_file, 'x')\n",
    "except:\n",
    "  print('You cannot create a file that already exists')"
   ]
  },
  {
   "cell_type": "code",
   "execution_count": 28,
   "id": "cb7cbc59-0c65-4128-93c8-31fa3fc7f4cc",
   "metadata": {},
   "outputs": [
    {
     "data": {
      "text/plain": [
       "<_io.TextIOWrapper name='test_file.txt' mode='w' encoding='UTF-8'>"
      ]
     },
     "execution_count": 28,
     "metadata": {},
     "output_type": "execute_result"
    }
   ],
   "source": [
    "# Overwriting a file\n",
    "open(test_file, 'w', encoding='UTF-8')"
   ]
  },
  {
   "cell_type": "code",
   "execution_count": 29,
   "id": "d090ac80-8ad6-4cf1-9237-1048f693dbb1",
   "metadata": {},
   "outputs": [],
   "source": [
    "file = open('file.txt', 'w') # Creates the file if it doesn't exist\n",
    "file.write('Line 1\\n')\n",
    "file.write('Line 2\\n')\n",
    "file.write('Line 3\\n')\n",
    "file.close()"
   ]
  },
  {
   "cell_type": "code",
   "execution_count": 30,
   "id": "7bde8c9c-0910-4495-8d87-d627963ef15a",
   "metadata": {},
   "outputs": [
    {
     "name": "stdout",
     "output_type": "stream",
     "text": [
      "Line 1\n",
      "Line 2\n",
      "Line 3\n",
      "\n"
     ]
    }
   ],
   "source": [
    "file = open('file.txt', 'r')\n",
    "print(file.read())\n",
    "file.close()"
   ]
  },
  {
   "cell_type": "code",
   "execution_count": 31,
   "id": "f0e3ce21-f2f8-4dfa-9386-e0947994710e",
   "metadata": {},
   "outputs": [],
   "source": [
    "file = open('file.txt', 'a') # Append\n",
    "file.write('Line 4\\n')\n",
    "file.close()"
   ]
  },
  {
   "cell_type": "code",
   "execution_count": 32,
   "id": "25b1e8a6-7444-4521-914e-adb9e7a3f506",
   "metadata": {},
   "outputs": [
    {
     "name": "stdout",
     "output_type": "stream",
     "text": [
      "Line 1\n",
      "Line 2\n",
      "Line 3\n",
      "Line 4\n",
      "\n"
     ]
    }
   ],
   "source": [
    "file = open('file.txt', 'r')\n",
    "print(file.read())\n",
    "file.close()"
   ]
  },
  {
   "cell_type": "code",
   "execution_count": 33,
   "id": "e004e3a5-2dd9-438f-8557-b89e62e8b6d7",
   "metadata": {},
   "outputs": [
    {
     "name": "stdout",
     "output_type": "stream",
     "text": [
      "Line 1\n",
      "\n",
      "Line 2\n",
      "\n",
      "Line 3\n",
      "\n",
      "Line 4\n",
      "\n"
     ]
    }
   ],
   "source": [
    "file = open('file.txt', 'r')\n",
    "for line in file.readlines():\n",
    "  print(line)\n",
    "file.close()"
   ]
  },
  {
   "cell_type": "code",
   "execution_count": 34,
   "id": "98dae212-4a0c-48b5-9110-c412d1548b3f",
   "metadata": {},
   "outputs": [
    {
     "name": "stdout",
     "output_type": "stream",
     "text": [
      "Line 1\n",
      "\n",
      "Line 2\n",
      "\n",
      "Line 3\n",
      "\n",
      "Line 4\n",
      "\n"
     ]
    }
   ],
   "source": [
    "file = open('file.txt', 'r')\n",
    "for line in file:\n",
    "  print(line)\n",
    "file.close()"
   ]
  },
  {
   "cell_type": "code",
   "execution_count": 35,
   "id": "7e10d87f-128f-48e7-b654-318e4fddf884",
   "metadata": {},
   "outputs": [
    {
     "name": "stdout",
     "output_type": "stream",
     "text": [
      "Read mode does not allow writing operation\n"
     ]
    }
   ],
   "source": [
    "file = open('file.txt', 'r')\n",
    "try:\n",
    "  file.write('Another line\\n')\n",
    "except:\n",
    "  print('Read mode does not allow writing operation')\n",
    "file.close()"
   ]
  },
  {
   "cell_type": "code",
   "execution_count": 36,
   "id": "ae397684-ee1e-45ad-a8f2-82f3efa466c3",
   "metadata": {},
   "outputs": [],
   "source": [
    "file = open('file.txt', 'w') # Overwrite\n",
    "file.write('Single line')\n",
    "file.close()"
   ]
  },
  {
   "cell_type": "code",
   "execution_count": 37,
   "id": "b038f38d-47fc-44dc-9ad4-b5a7446b4681",
   "metadata": {},
   "outputs": [
    {
     "name": "stdout",
     "output_type": "stream",
     "text": [
      "Single line\n"
     ]
    }
   ],
   "source": [
    "file = open('file.txt', 'r')\n",
    "print(file.read())\n",
    "file.close()"
   ]
  },
  {
   "cell_type": "code",
   "execution_count": 38,
   "id": "0f843021-5834-40e5-a66f-31ea9851f300",
   "metadata": {},
   "outputs": [
    {
     "name": "stdout",
     "output_type": "stream",
     "text": [
      "Single line\n"
     ]
    }
   ],
   "source": [
    "file = open('file.txt', 'r')\n",
    "print(file.readline())\n",
    "file.close()"
   ]
  },
  {
   "cell_type": "code",
   "execution_count": 39,
   "id": "8df477cb-54b1-4b43-94dc-eb2907c09dfa",
   "metadata": {},
   "outputs": [
    {
     "name": "stdout",
     "output_type": "stream",
     "text": [
      "Single line\n"
     ]
    }
   ],
   "source": [
    "# The proper way to open a file is using a so call 'context manager'\n",
    "# this way the file is closed automatically even when exceptions are rised\n",
    "with open('file.txt', 'r') as file:\n",
    "  print(file.read())"
   ]
  },
  {
   "cell_type": "code",
   "execution_count": 40,
   "id": "d8088ff3-47da-4060-9524-05ac5f0ef523",
   "metadata": {},
   "outputs": [],
   "source": [
    "# os.remove('file.txt') fails if file doesn't exist\n",
    "Path('file.txt').unlink(missing_ok=True)\n",
    "Path('test_file.txt').unlink(missing_ok=True)"
   ]
  }
 ],
 "metadata": {
  "kernelspec": {
   "display_name": "Python 3 (ipykernel)",
   "language": "python",
   "name": "python3"
  },
  "language_info": {
   "codemirror_mode": {
    "name": "ipython",
    "version": 3
   },
   "file_extension": ".py",
   "mimetype": "text/x-python",
   "name": "python",
   "nbconvert_exporter": "python",
   "pygments_lexer": "ipython3",
   "version": "3.13.2"
  }
 },
 "nbformat": 4,
 "nbformat_minor": 5
}
