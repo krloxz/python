{
 "cells": [
  {
   "cell_type": "markdown",
   "id": "89a95c8e-6219-4bde-9704-02445225d526",
   "metadata": {
    "editable": true,
    "slideshow": {
     "slide_type": ""
    },
    "tags": []
   },
   "source": [
    "## Download Data"
   ]
  },
  {
   "cell_type": "code",
   "execution_count": 1,
   "id": "c97b9aa4-07e0-45da-9462-3fd5755b951a",
   "metadata": {
    "editable": true,
    "slideshow": {
     "slide_type": ""
    },
    "tags": []
   },
   "outputs": [],
   "source": [
    "import kagglehub\n",
    "\n",
    "# Download latest version\n",
    "train_csv = kagglehub.dataset_download(\"neomatrix369/nyc-taxi-trip-duration-extended\", path='train/train.csv')\n",
    "train_extended_csv = kagglehub.dataset_download(\"neomatrix369/nyc-taxi-trip-duration-extended\", path='train_extended.csv')"
   ]
  },
  {
   "cell_type": "markdown",
   "id": "c93f19ed-3945-46b8-a5b6-217e6facfd7d",
   "metadata": {
    "editable": true,
    "slideshow": {
     "slide_type": ""
    },
    "tags": []
   },
   "source": [
    "## Basic Assertions"
   ]
  },
  {
   "cell_type": "code",
   "execution_count": 2,
   "id": "b3c6b2e6-f9fe-4498-8bda-b9294f1afd5c",
   "metadata": {
    "editable": true,
    "slideshow": {
     "slide_type": ""
    },
    "tags": [
     "raises-exception"
    ]
   },
   "outputs": [
    {
     "ename": "AssertionError",
     "evalue": "x is not equal to 6",
     "output_type": "error",
     "traceback": [
      "\u001b[0;31m---------------------------------------------------------------------------\u001b[0m",
      "\u001b[0;31mAssertionError\u001b[0m                            Traceback (most recent call last)",
      "Cell \u001b[0;32mIn[2], line 7\u001b[0m\n\u001b[1;32m      4\u001b[0m \u001b[38;5;28;01massert\u001b[39;00m x \u001b[38;5;241m==\u001b[39m \u001b[38;5;241m5\u001b[39m\n\u001b[1;32m      6\u001b[0m \u001b[38;5;66;03m# Fails\u001b[39;00m\n\u001b[0;32m----> 7\u001b[0m \u001b[38;5;28;01massert\u001b[39;00m x \u001b[38;5;241m==\u001b[39m \u001b[38;5;241m6\u001b[39m, \u001b[38;5;124m'\u001b[39m\u001b[38;5;124mx is not equal to 6\u001b[39m\u001b[38;5;124m'\u001b[39m\n",
      "\u001b[0;31mAssertionError\u001b[0m: x is not equal to 6"
     ]
    }
   ],
   "source": [
    "x = 5\n",
    "\n",
    "# Pass\n",
    "assert x == 5\n",
    "\n",
    "# Fails\n",
    "assert x == 6, 'x is not equal to 6'"
   ]
  },
  {
   "cell_type": "code",
   "execution_count": 3,
   "id": "9544afde-a992-4694-b661-7871e6ee5308",
   "metadata": {
    "editable": true,
    "slideshow": {
     "slide_type": ""
    },
    "tags": [
     "raises-exception"
    ]
   },
   "outputs": [
    {
     "ename": "AssertionError",
     "evalue": "one item is too large",
     "output_type": "error",
     "traceback": [
      "\u001b[0;31m---------------------------------------------------------------------------\u001b[0m",
      "\u001b[0;31mAssertionError\u001b[0m                            Traceback (most recent call last)",
      "Cell \u001b[0;32mIn[3], line 3\u001b[0m\n\u001b[1;32m      1\u001b[0m \u001b[38;5;66;03m# Lists\u001b[39;00m\n\u001b[1;32m      2\u001b[0m my_list \u001b[38;5;241m=\u001b[39m [\u001b[38;5;241m1\u001b[39m, \u001b[38;5;241m2\u001b[39m, \u001b[38;5;241m3\u001b[39m, \u001b[38;5;241m4\u001b[39m, \u001b[38;5;241m6\u001b[39m]\n\u001b[0;32m----> 3\u001b[0m \u001b[38;5;28;01massert\u001b[39;00m \u001b[38;5;28mall\u001b[39m(my_list[i] \u001b[38;5;241m==\u001b[39m i \u001b[38;5;241m+\u001b[39m \u001b[38;5;241m1\u001b[39m \u001b[38;5;28;01mfor\u001b[39;00m i \u001b[38;5;129;01min\u001b[39;00m \u001b[38;5;28mrange\u001b[39m(\u001b[38;5;28mlen\u001b[39m(my_list))), \u001b[38;5;124m'\u001b[39m\u001b[38;5;124mone item is too large\u001b[39m\u001b[38;5;124m'\u001b[39m\n",
      "\u001b[0;31mAssertionError\u001b[0m: one item is too large"
     ]
    }
   ],
   "source": [
    "# Lists\n",
    "my_list = [1, 2, 3, 4, 6]\n",
    "assert all(my_list[i] == i + 1 for i in range(len(my_list))), 'one item is too large'"
   ]
  },
  {
   "cell_type": "code",
   "execution_count": 4,
   "id": "beca80ed-44b5-4cf1-92e7-118a0ef5d1a8",
   "metadata": {
    "editable": true,
    "slideshow": {
     "slide_type": ""
    },
    "tags": [
     "raises-exception"
    ]
   },
   "outputs": [
    {
     "ename": "AssertionError",
     "evalue": "Expected columns: ['column1', 'column2'], but got: ['id', 'vendor_id', 'pickup_datetime', 'dropoff_datetime', 'passenger_count', 'pickup_longitude', 'pickup_latitude', 'dropoff_longitude', 'dropoff_latitude', 'store_and_fwd_flag', 'trip_duration', 'pickup_district', 'pickup_neighbourhood', 'dropoff_district', 'dropoff_neighbourhood', 'pickup_geonumber', 'dropoff_geonumber', 'day_period', 'month', 'year', 'season', 'weekday_or_weekend', 'regular_day_or_holiday', 'pickup_hour', 'day_name', 'financial_quarter']",
     "output_type": "error",
     "traceback": [
      "\u001b[0;31m---------------------------------------------------------------------------\u001b[0m",
      "\u001b[0;31mAssertionError\u001b[0m                            Traceback (most recent call last)",
      "Cell \u001b[0;32mIn[4], line 7\u001b[0m\n\u001b[1;32m      5\u001b[0m reader \u001b[38;5;241m=\u001b[39m csv\u001b[38;5;241m.\u001b[39mDictReader(file)\n\u001b[1;32m      6\u001b[0m expected_columns \u001b[38;5;241m=\u001b[39m [\u001b[38;5;124m'\u001b[39m\u001b[38;5;124mcolumn1\u001b[39m\u001b[38;5;124m'\u001b[39m, \u001b[38;5;124m'\u001b[39m\u001b[38;5;124mcolumn2\u001b[39m\u001b[38;5;124m'\u001b[39m]\n\u001b[0;32m----> 7\u001b[0m \u001b[38;5;28;01massert\u001b[39;00m reader\u001b[38;5;241m.\u001b[39mfieldnames \u001b[38;5;241m==\u001b[39m expected_columns, \u001b[38;5;124mf\u001b[39m\u001b[38;5;124m'\u001b[39m\u001b[38;5;124mExpected columns: \u001b[39m\u001b[38;5;132;01m{\u001b[39;00mexpected_columns\u001b[38;5;132;01m}\u001b[39;00m\u001b[38;5;124m, but got: \u001b[39m\u001b[38;5;132;01m{\u001b[39;00mreader\u001b[38;5;241m.\u001b[39mfieldnames\u001b[38;5;132;01m}\u001b[39;00m\u001b[38;5;124m'\u001b[39m\n",
      "\u001b[0;31mAssertionError\u001b[0m: Expected columns: ['column1', 'column2'], but got: ['id', 'vendor_id', 'pickup_datetime', 'dropoff_datetime', 'passenger_count', 'pickup_longitude', 'pickup_latitude', 'dropoff_longitude', 'dropoff_latitude', 'store_and_fwd_flag', 'trip_duration', 'pickup_district', 'pickup_neighbourhood', 'dropoff_district', 'dropoff_neighbourhood', 'pickup_geonumber', 'dropoff_geonumber', 'day_period', 'month', 'year', 'season', 'weekday_or_weekend', 'regular_day_or_holiday', 'pickup_hour', 'day_name', 'financial_quarter']"
     ]
    }
   ],
   "source": [
    "import csv\n",
    "\n",
    "# Validate expected columns\n",
    "with open(train_extended_csv) as file:\n",
    "  reader = csv.DictReader(file)\n",
    "  expected_columns = ['column1', 'column2']\n",
    "  assert reader.fieldnames == expected_columns, f'Expected columns: {expected_columns}, but got: {reader.fieldnames}'"
   ]
  },
  {
   "cell_type": "code",
   "execution_count": 5,
   "id": "40be851b-bcba-4bff-8e06-e9c043113ec3",
   "metadata": {
    "editable": true,
    "slideshow": {
     "slide_type": ""
    },
    "tags": [
     "raises-exception"
    ]
   },
   "outputs": [
    {
     "ename": "AssertionError",
     "evalue": "Invalid passenger count: 0",
     "output_type": "error",
     "traceback": [
      "\u001b[0;31m---------------------------------------------------------------------------\u001b[0m",
      "\u001b[0;31mAssertionError\u001b[0m                            Traceback (most recent call last)",
      "Cell \u001b[0;32mIn[5], line 5\u001b[0m\n\u001b[1;32m      3\u001b[0m reader \u001b[38;5;241m=\u001b[39m csv\u001b[38;5;241m.\u001b[39mDictReader(file)\n\u001b[1;32m      4\u001b[0m \u001b[38;5;28;01mfor\u001b[39;00m row \u001b[38;5;129;01min\u001b[39;00m reader:\n\u001b[0;32m----> 5\u001b[0m   \u001b[38;5;28;01massert\u001b[39;00m \u001b[38;5;28mint\u001b[39m(row[\u001b[38;5;124m'\u001b[39m\u001b[38;5;124mpassenger_count\u001b[39m\u001b[38;5;124m'\u001b[39m]) \u001b[38;5;241m>\u001b[39m \u001b[38;5;241m0\u001b[39m, \u001b[38;5;124mf\u001b[39m\u001b[38;5;124m\"\u001b[39m\u001b[38;5;124mInvalid passenger count: \u001b[39m\u001b[38;5;132;01m{\u001b[39;00mrow[\u001b[38;5;124m'\u001b[39m\u001b[38;5;124mpassenger_count\u001b[39m\u001b[38;5;124m'\u001b[39m]\u001b[38;5;132;01m}\u001b[39;00m\u001b[38;5;124m\"\u001b[39m\n",
      "\u001b[0;31mAssertionError\u001b[0m: Invalid passenger count: 0"
     ]
    }
   ],
   "source": [
    "# Validate passenger count\n",
    "with open(train_extended_csv) as file:\n",
    "  reader = csv.DictReader(file)\n",
    "  for row in reader:\n",
    "    assert int(row['passenger_count']) > 0, f\"Invalid passenger count: {row['passenger_count']}\""
   ]
  },
  {
   "cell_type": "code",
   "execution_count": 6,
   "id": "d1181ead-c412-4761-89f9-ff8723691d75",
   "metadata": {
    "editable": true,
    "slideshow": {
     "slide_type": ""
    },
    "tags": []
   },
   "outputs": [
    {
     "name": "stdout",
     "output_type": "stream",
     "text": [
      "Trips without passenger 60\n",
      "CPU times: user 3.8 s, sys: 67.9 ms, total: 3.86 s\n",
      "Wall time: 3.88 s\n"
     ]
    }
   ],
   "source": [
    "%%time\n",
    "\n",
    "# Count trips without passengers\n",
    "trips_without_passenger = 0\n",
    "with open(train_extended_csv) as file:\n",
    "  reader = csv.DictReader(file)\n",
    "  for row in reader:\n",
    "    if int(row['passenger_count']) == 0:\n",
    "      trips_without_passenger += 1\n",
    "\n",
    "print('Trips without passenger', trips_without_passenger)"
   ]
  },
  {
   "cell_type": "code",
   "execution_count": 7,
   "id": "7e86c148-f079-42dd-9d11-c5e12db94082",
   "metadata": {
    "editable": true,
    "slideshow": {
     "slide_type": ""
    },
    "tags": []
   },
   "outputs": [
    {
     "name": "stdout",
     "output_type": "stream",
     "text": [
      "Trips without passenger 60\n",
      "CPU times: user 2.19 s, sys: 187 ms, total: 2.38 s\n",
      "Wall time: 2.41 s\n"
     ]
    }
   ],
   "source": [
    "%%time\n",
    "\n",
    "# Count trips without passengers using Pandas\n",
    "import pandas as pd\n",
    "\n",
    "trips = pd.read_csv(train_extended_csv)\n",
    "trips_without_passenger = trips[trips['passenger_count'] == 0]\n",
    "print('Trips without passenger', len(trips_without_passenger))"
   ]
  },
  {
   "cell_type": "markdown",
   "id": "fb37253b-0838-4f31-8eff-026ae5bad796",
   "metadata": {
    "editable": true,
    "slideshow": {
     "slide_type": ""
    },
    "tags": []
   },
   "source": [
    "## Index Equality"
   ]
  },
  {
   "cell_type": "code",
   "execution_count": 8,
   "id": "ad73386f-bceb-40df-9e9e-261a9d475ae5",
   "metadata": {
    "editable": true,
    "slideshow": {
     "slide_type": ""
    },
    "tags": [
     "raises-exception"
    ]
   },
   "outputs": [
    {
     "ename": "AssertionError",
     "evalue": "Index are different\n\nIndex values are different (33.33333 %)\n[left]:  Index([1, 2, 3], dtype='int64')\n[right]: Index([1, 2, 4], dtype='int64')",
     "output_type": "error",
     "traceback": [
      "\u001b[0;31m---------------------------------------------------------------------------\u001b[0m",
      "\u001b[0;31mAssertionError\u001b[0m                            Traceback (most recent call last)",
      "Cell \u001b[0;32mIn[8], line 5\u001b[0m\n\u001b[1;32m      3\u001b[0m index1 \u001b[38;5;241m=\u001b[39m pd\u001b[38;5;241m.\u001b[39mIndex([\u001b[38;5;241m1\u001b[39m, \u001b[38;5;241m2\u001b[39m, \u001b[38;5;241m3\u001b[39m])\n\u001b[1;32m      4\u001b[0m index2 \u001b[38;5;241m=\u001b[39m pd\u001b[38;5;241m.\u001b[39mIndex([\u001b[38;5;241m1\u001b[39m, \u001b[38;5;241m2\u001b[39m, \u001b[38;5;241m4\u001b[39m])\n\u001b[0;32m----> 5\u001b[0m \u001b[43mpdt\u001b[49m\u001b[38;5;241;43m.\u001b[39;49m\u001b[43massert_index_equal\u001b[49m\u001b[43m(\u001b[49m\u001b[43mindex1\u001b[49m\u001b[43m,\u001b[49m\u001b[43m \u001b[49m\u001b[43mindex2\u001b[49m\u001b[43m)\u001b[49m\n",
      "    \u001b[0;31m[... skipping hidden 1 frame]\u001b[0m\n",
      "File \u001b[0;32m~/Projects/python/.venv/lib/python3.13/site-packages/pandas/_testing/asserters.py:614\u001b[0m, in \u001b[0;36mraise_assert_detail\u001b[0;34m(obj, message, left, right, diff, first_diff, index_values)\u001b[0m\n\u001b[1;32m    611\u001b[0m \u001b[38;5;28;01mif\u001b[39;00m first_diff \u001b[38;5;129;01mis\u001b[39;00m \u001b[38;5;129;01mnot\u001b[39;00m \u001b[38;5;28;01mNone\u001b[39;00m:\n\u001b[1;32m    612\u001b[0m     msg \u001b[38;5;241m+\u001b[39m\u001b[38;5;241m=\u001b[39m \u001b[38;5;124mf\u001b[39m\u001b[38;5;124m\"\u001b[39m\u001b[38;5;130;01m\\n\u001b[39;00m\u001b[38;5;132;01m{\u001b[39;00mfirst_diff\u001b[38;5;132;01m}\u001b[39;00m\u001b[38;5;124m\"\u001b[39m\n\u001b[0;32m--> 614\u001b[0m \u001b[38;5;28;01mraise\u001b[39;00m \u001b[38;5;167;01mAssertionError\u001b[39;00m(msg)\n",
      "\u001b[0;31mAssertionError\u001b[0m: Index are different\n\nIndex values are different (33.33333 %)\n[left]:  Index([1, 2, 3], dtype='int64')\n[right]: Index([1, 2, 4], dtype='int64')"
     ]
    }
   ],
   "source": [
    "import pandas.testing as pdt\n",
    "\n",
    "index1 = pd.Index([1, 2, 3])\n",
    "index2 = pd.Index([1, 2, 4])\n",
    "pdt.assert_index_equal(index1, index2)"
   ]
  },
  {
   "cell_type": "code",
   "execution_count": 9,
   "id": "f66a21cc-4267-4d61-af5a-c3ec93ebe076",
   "metadata": {
    "editable": true,
    "slideshow": {
     "slide_type": ""
    },
    "tags": [
     "raises-exception"
    ]
   },
   "outputs": [
    {
     "ename": "AssertionError",
     "evalue": "Index are different\n\nIndex values are different (66.66667 %)\n[left]:  Index([1, 2, 3], dtype='int64')\n[right]: Index([3, 2, 1], dtype='int64')",
     "output_type": "error",
     "traceback": [
      "\u001b[0;31m---------------------------------------------------------------------------\u001b[0m",
      "\u001b[0;31mAssertionError\u001b[0m                            Traceback (most recent call last)",
      "Cell \u001b[0;32mIn[9], line 3\u001b[0m\n\u001b[1;32m      1\u001b[0m index1 \u001b[38;5;241m=\u001b[39m pd\u001b[38;5;241m.\u001b[39mIndex([\u001b[38;5;241m1\u001b[39m, \u001b[38;5;241m2\u001b[39m, \u001b[38;5;241m3\u001b[39m])\n\u001b[1;32m      2\u001b[0m index2 \u001b[38;5;241m=\u001b[39m pd\u001b[38;5;241m.\u001b[39mIndex([\u001b[38;5;241m3\u001b[39m, \u001b[38;5;241m2\u001b[39m, \u001b[38;5;241m1\u001b[39m])\n\u001b[0;32m----> 3\u001b[0m \u001b[43mpdt\u001b[49m\u001b[38;5;241;43m.\u001b[39;49m\u001b[43massert_index_equal\u001b[49m\u001b[43m(\u001b[49m\u001b[43mindex1\u001b[49m\u001b[43m,\u001b[49m\u001b[43m \u001b[49m\u001b[43mindex2\u001b[49m\u001b[43m)\u001b[49m\n",
      "    \u001b[0;31m[... skipping hidden 1 frame]\u001b[0m\n",
      "File \u001b[0;32m~/Projects/python/.venv/lib/python3.13/site-packages/pandas/_testing/asserters.py:614\u001b[0m, in \u001b[0;36mraise_assert_detail\u001b[0;34m(obj, message, left, right, diff, first_diff, index_values)\u001b[0m\n\u001b[1;32m    611\u001b[0m \u001b[38;5;28;01mif\u001b[39;00m first_diff \u001b[38;5;129;01mis\u001b[39;00m \u001b[38;5;129;01mnot\u001b[39;00m \u001b[38;5;28;01mNone\u001b[39;00m:\n\u001b[1;32m    612\u001b[0m     msg \u001b[38;5;241m+\u001b[39m\u001b[38;5;241m=\u001b[39m \u001b[38;5;124mf\u001b[39m\u001b[38;5;124m\"\u001b[39m\u001b[38;5;130;01m\\n\u001b[39;00m\u001b[38;5;132;01m{\u001b[39;00mfirst_diff\u001b[38;5;132;01m}\u001b[39;00m\u001b[38;5;124m\"\u001b[39m\n\u001b[0;32m--> 614\u001b[0m \u001b[38;5;28;01mraise\u001b[39;00m \u001b[38;5;167;01mAssertionError\u001b[39;00m(msg)\n",
      "\u001b[0;31mAssertionError\u001b[0m: Index are different\n\nIndex values are different (66.66667 %)\n[left]:  Index([1, 2, 3], dtype='int64')\n[right]: Index([3, 2, 1], dtype='int64')"
     ]
    }
   ],
   "source": [
    "index1 = pd.Index([1, 2, 3])\n",
    "index2 = pd.Index([3, 2, 1])\n",
    "pdt.assert_index_equal(index1, index2)"
   ]
  },
  {
   "cell_type": "code",
   "execution_count": 10,
   "id": "40b3e4d8-3f5c-4a95-8b9e-21439d0edd44",
   "metadata": {
    "editable": true,
    "slideshow": {
     "slide_type": ""
    },
    "tags": []
   },
   "outputs": [
    {
     "name": "stdout",
     "output_type": "stream",
     "text": [
      "Data is valid\n"
     ]
    }
   ],
   "source": [
    "index1 = pd.Index([1, 2, 3])\n",
    "index2 = pd.Index([3, 2, 1])\n",
    "pdt.assert_index_equal(index1, index2, check_order=False)\n",
    "print('Data is valid')"
   ]
  },
  {
   "cell_type": "code",
   "execution_count": 11,
   "id": "85e84c0a-0bf5-4ab0-8cb2-c701d4e12ae7",
   "metadata": {
    "editable": true,
    "slideshow": {
     "slide_type": ""
    },
    "tags": [
     "raises-exception"
    ]
   },
   "outputs": [
    {
     "ename": "AssertionError",
     "evalue": "Index are different\n\nIndex values are different (100.0 %)\n[left]:  Index([1.0, 2.0, 3.0], dtype='float64')\n[right]: Index([1.01, 2.02, 3.03], dtype='float64')",
     "output_type": "error",
     "traceback": [
      "\u001b[0;31m---------------------------------------------------------------------------\u001b[0m",
      "\u001b[0;31mAssertionError\u001b[0m                            Traceback (most recent call last)",
      "Cell \u001b[0;32mIn[11], line 3\u001b[0m\n\u001b[1;32m      1\u001b[0m index1 \u001b[38;5;241m=\u001b[39m pd\u001b[38;5;241m.\u001b[39mIndex([\u001b[38;5;241m1.0\u001b[39m, \u001b[38;5;241m2.0\u001b[39m, \u001b[38;5;241m3.0\u001b[39m])\n\u001b[1;32m      2\u001b[0m index2 \u001b[38;5;241m=\u001b[39m pd\u001b[38;5;241m.\u001b[39mIndex([\u001b[38;5;241m1.01\u001b[39m, \u001b[38;5;241m2.02\u001b[39m, \u001b[38;5;241m3.03\u001b[39m])\n\u001b[0;32m----> 3\u001b[0m \u001b[43mpdt\u001b[49m\u001b[38;5;241;43m.\u001b[39;49m\u001b[43massert_index_equal\u001b[49m\u001b[43m(\u001b[49m\u001b[43mindex1\u001b[49m\u001b[43m,\u001b[49m\u001b[43m \u001b[49m\u001b[43mindex2\u001b[49m\u001b[43m)\u001b[49m\n",
      "    \u001b[0;31m[... skipping hidden 1 frame]\u001b[0m\n",
      "File \u001b[0;32m~/Projects/python/.venv/lib/python3.13/site-packages/pandas/_testing/asserters.py:614\u001b[0m, in \u001b[0;36mraise_assert_detail\u001b[0;34m(obj, message, left, right, diff, first_diff, index_values)\u001b[0m\n\u001b[1;32m    611\u001b[0m \u001b[38;5;28;01mif\u001b[39;00m first_diff \u001b[38;5;129;01mis\u001b[39;00m \u001b[38;5;129;01mnot\u001b[39;00m \u001b[38;5;28;01mNone\u001b[39;00m:\n\u001b[1;32m    612\u001b[0m     msg \u001b[38;5;241m+\u001b[39m\u001b[38;5;241m=\u001b[39m \u001b[38;5;124mf\u001b[39m\u001b[38;5;124m\"\u001b[39m\u001b[38;5;130;01m\\n\u001b[39;00m\u001b[38;5;132;01m{\u001b[39;00mfirst_diff\u001b[38;5;132;01m}\u001b[39;00m\u001b[38;5;124m\"\u001b[39m\n\u001b[0;32m--> 614\u001b[0m \u001b[38;5;28;01mraise\u001b[39;00m \u001b[38;5;167;01mAssertionError\u001b[39;00m(msg)\n",
      "\u001b[0;31mAssertionError\u001b[0m: Index are different\n\nIndex values are different (100.0 %)\n[left]:  Index([1.0, 2.0, 3.0], dtype='float64')\n[right]: Index([1.01, 2.02, 3.03], dtype='float64')"
     ]
    }
   ],
   "source": [
    "index1 = pd.Index([1.0, 2.0, 3.0])\n",
    "index2 = pd.Index([1.01, 2.02, 3.03])\n",
    "pdt.assert_index_equal(index1, index2)"
   ]
  },
  {
   "cell_type": "code",
   "execution_count": 12,
   "id": "76e71d83-243a-4675-a90f-b2a869cc5cc2",
   "metadata": {
    "editable": true,
    "slideshow": {
     "slide_type": ""
    },
    "tags": []
   },
   "outputs": [
    {
     "name": "stdout",
     "output_type": "stream",
     "text": [
      "Data is valid\n"
     ]
    }
   ],
   "source": [
    "index1 = pd.Index([1.0, 2.0, 3.0])\n",
    "index2 = pd.Index([1.01, 2.02, 3.03])\n",
    "pdt.assert_index_equal(index1, index2, check_exact=False, atol=0.1)\n",
    "print('Data is valid')"
   ]
  },
  {
   "cell_type": "code",
   "execution_count": 13,
   "id": "001737ad-cac3-460c-8c23-df7d8d75d5db",
   "metadata": {
    "editable": true,
    "slideshow": {
     "slide_type": ""
    },
    "tags": [
     "raises-exception"
    ]
   },
   "outputs": [
    {
     "ename": "AssertionError",
     "evalue": "Index are different\n\nIndex values are different (0.6 %)\n[left]:  Index([2016-03-14, 2016-06-12, 2016-01-19, 2016-04-06, 2016-03-26, 2016-01-30,\n       2016-06-17, 2016-05-21, 2016-05-27, 2016-03-10,\n       ...\n       2016-01-12, 2016-02-17, 2016-06-16, 2016-04-11, 2016-05-25, 2016-05-20,\n       2016-01-26, 2016-03-17, 2016-02-24, 2016-02-13],\n      dtype='object', name='pickup_datetime', length=1000)\n[right]: Index([2016-03-14, 2016-06-12, 2016-01-19, 2016-04-06, 2016-03-26, 2016-01-30,\n       2016-06-17, 2016-05-21, 2016-05-27, 2016-03-10,\n       ...\n       2016-01-12, 2016-02-17, 2016-06-16, 2016-04-11, 2016-05-25, 2016-05-20,\n       2016-01-26, 2016-03-17, 2016-02-24, 2016-02-13],\n      dtype='object', name='dropoff_datetime', length=1000)",
     "output_type": "error",
     "traceback": [
      "\u001b[0;31m---------------------------------------------------------------------------\u001b[0m",
      "\u001b[0;31mAssertionError\u001b[0m                            Traceback (most recent call last)",
      "Cell \u001b[0;32mIn[13], line 5\u001b[0m\n\u001b[1;32m      3\u001b[0m index1 \u001b[38;5;241m=\u001b[39m pd\u001b[38;5;241m.\u001b[39mIndex(data[\u001b[38;5;124m'\u001b[39m\u001b[38;5;124mpickup_datetime\u001b[39m\u001b[38;5;124m'\u001b[39m]\u001b[38;5;241m.\u001b[39mdt\u001b[38;5;241m.\u001b[39mdate)\n\u001b[1;32m      4\u001b[0m index2 \u001b[38;5;241m=\u001b[39m pd\u001b[38;5;241m.\u001b[39mIndex(data[\u001b[38;5;124m'\u001b[39m\u001b[38;5;124mdropoff_datetime\u001b[39m\u001b[38;5;124m'\u001b[39m]\u001b[38;5;241m.\u001b[39mdt\u001b[38;5;241m.\u001b[39mdate)\n\u001b[0;32m----> 5\u001b[0m \u001b[43mpdt\u001b[49m\u001b[38;5;241;43m.\u001b[39;49m\u001b[43massert_index_equal\u001b[49m\u001b[43m(\u001b[49m\u001b[43mindex1\u001b[49m\u001b[43m,\u001b[49m\u001b[43m \u001b[49m\u001b[43mindex2\u001b[49m\u001b[43m,\u001b[49m\u001b[43m \u001b[49m\u001b[43mcheck_names\u001b[49m\u001b[38;5;241;43m=\u001b[39;49m\u001b[38;5;28;43;01mFalse\u001b[39;49;00m\u001b[43m)\u001b[49m\n",
      "    \u001b[0;31m[... skipping hidden 1 frame]\u001b[0m\n",
      "File \u001b[0;32m~/Projects/python/.venv/lib/python3.13/site-packages/pandas/_testing/asserters.py:614\u001b[0m, in \u001b[0;36mraise_assert_detail\u001b[0;34m(obj, message, left, right, diff, first_diff, index_values)\u001b[0m\n\u001b[1;32m    611\u001b[0m \u001b[38;5;28;01mif\u001b[39;00m first_diff \u001b[38;5;129;01mis\u001b[39;00m \u001b[38;5;129;01mnot\u001b[39;00m \u001b[38;5;28;01mNone\u001b[39;00m:\n\u001b[1;32m    612\u001b[0m     msg \u001b[38;5;241m+\u001b[39m\u001b[38;5;241m=\u001b[39m \u001b[38;5;124mf\u001b[39m\u001b[38;5;124m\"\u001b[39m\u001b[38;5;130;01m\\n\u001b[39;00m\u001b[38;5;132;01m{\u001b[39;00mfirst_diff\u001b[38;5;132;01m}\u001b[39;00m\u001b[38;5;124m\"\u001b[39m\n\u001b[0;32m--> 614\u001b[0m \u001b[38;5;28;01mraise\u001b[39;00m \u001b[38;5;167;01mAssertionError\u001b[39;00m(msg)\n",
      "\u001b[0;31mAssertionError\u001b[0m: Index are different\n\nIndex values are different (0.6 %)\n[left]:  Index([2016-03-14, 2016-06-12, 2016-01-19, 2016-04-06, 2016-03-26, 2016-01-30,\n       2016-06-17, 2016-05-21, 2016-05-27, 2016-03-10,\n       ...\n       2016-01-12, 2016-02-17, 2016-06-16, 2016-04-11, 2016-05-25, 2016-05-20,\n       2016-01-26, 2016-03-17, 2016-02-24, 2016-02-13],\n      dtype='object', name='pickup_datetime', length=1000)\n[right]: Index([2016-03-14, 2016-06-12, 2016-01-19, 2016-04-06, 2016-03-26, 2016-01-30,\n       2016-06-17, 2016-05-21, 2016-05-27, 2016-03-10,\n       ...\n       2016-01-12, 2016-02-17, 2016-06-16, 2016-04-11, 2016-05-25, 2016-05-20,\n       2016-01-26, 2016-03-17, 2016-02-24, 2016-02-13],\n      dtype='object', name='dropoff_datetime', length=1000)"
     ]
    }
   ],
   "source": [
    "data = pd.read_csv(train_csv, parse_dates=['pickup_datetime', 'dropoff_datetime'], nrows=1000)\n",
    "\n",
    "index1 = pd.Index(data['pickup_datetime'].dt.date)\n",
    "index2 = pd.Index(data['dropoff_datetime'].dt.date)\n",
    "pdt.assert_index_equal(index1, index2, check_names=False)"
   ]
  },
  {
   "cell_type": "code",
   "execution_count": 14,
   "id": "3711b6ee-045f-4c6a-aa36-a63dc43747de",
   "metadata": {
    "editable": true,
    "slideshow": {
     "slide_type": ""
    },
    "tags": []
   },
   "outputs": [
    {
     "data": {
      "text/plain": [
       "np.int64(6)"
      ]
     },
     "execution_count": 14,
     "metadata": {},
     "output_type": "execute_result"
    }
   ],
   "source": [
    "(index1 != index2).sum()"
   ]
  },
  {
   "cell_type": "code",
   "execution_count": 15,
   "id": "8ac6678d-e219-4d60-ad5b-46f92ab14011",
   "metadata": {
    "editable": true,
    "slideshow": {
     "slide_type": ""
    },
    "tags": []
   },
   "outputs": [
    {
     "data": {
      "text/html": [
       "<div>\n",
       "<style scoped>\n",
       "    .dataframe tbody tr th:only-of-type {\n",
       "        vertical-align: middle;\n",
       "    }\n",
       "\n",
       "    .dataframe tbody tr th {\n",
       "        vertical-align: top;\n",
       "    }\n",
       "\n",
       "    .dataframe thead th {\n",
       "        text-align: right;\n",
       "    }\n",
       "</style>\n",
       "<table border=\"1\" class=\"dataframe\">\n",
       "  <thead>\n",
       "    <tr style=\"text-align: right;\">\n",
       "      <th></th>\n",
       "      <th>pickup_datetime</th>\n",
       "      <th>dropoff_datetime</th>\n",
       "    </tr>\n",
       "  </thead>\n",
       "  <tbody>\n",
       "    <tr>\n",
       "      <th>86</th>\n",
       "      <td>2016-04-06 23:42:26</td>\n",
       "      <td>2016-04-07 00:12:08</td>\n",
       "    </tr>\n",
       "    <tr>\n",
       "      <th>531</th>\n",
       "      <td>2016-02-20 04:03:06</td>\n",
       "      <td>2016-02-21 03:33:00</td>\n",
       "    </tr>\n",
       "    <tr>\n",
       "      <th>607</th>\n",
       "      <td>2016-03-02 23:41:50</td>\n",
       "      <td>2016-03-03 00:10:43</td>\n",
       "    </tr>\n",
       "    <tr>\n",
       "      <th>615</th>\n",
       "      <td>2016-05-29 23:55:03</td>\n",
       "      <td>2016-05-30 00:00:21</td>\n",
       "    </tr>\n",
       "    <tr>\n",
       "      <th>722</th>\n",
       "      <td>2016-03-05 23:39:44</td>\n",
       "      <td>2016-03-06 00:05:47</td>\n",
       "    </tr>\n",
       "    <tr>\n",
       "      <th>871</th>\n",
       "      <td>2016-03-11 23:57:09</td>\n",
       "      <td>2016-03-12 00:08:30</td>\n",
       "    </tr>\n",
       "  </tbody>\n",
       "</table>\n",
       "</div>"
      ],
      "text/plain": [
       "        pickup_datetime    dropoff_datetime\n",
       "86  2016-04-06 23:42:26 2016-04-07 00:12:08\n",
       "531 2016-02-20 04:03:06 2016-02-21 03:33:00\n",
       "607 2016-03-02 23:41:50 2016-03-03 00:10:43\n",
       "615 2016-05-29 23:55:03 2016-05-30 00:00:21\n",
       "722 2016-03-05 23:39:44 2016-03-06 00:05:47\n",
       "871 2016-03-11 23:57:09 2016-03-12 00:08:30"
      ]
     },
     "execution_count": 15,
     "metadata": {},
     "output_type": "execute_result"
    }
   ],
   "source": [
    "data[index1 != index2][['pickup_datetime', 'dropoff_datetime']]"
   ]
  },
  {
   "cell_type": "code",
   "execution_count": 16,
   "id": "2e4df363-4e9d-4ceb-950d-65443cf6fdc5",
   "metadata": {
    "editable": true,
    "slideshow": {
     "slide_type": ""
    },
    "tags": []
   },
   "outputs": [
    {
     "name": "stdout",
     "output_type": "stream",
     "text": [
      "Data is valid\n"
     ]
    }
   ],
   "source": [
    "# Clean up the data\n",
    "data = data[index1 == index2].reset_index(drop=True)\n",
    "\n",
    "# Now the assertion is valid\n",
    "index1 = pd.Index(data['pickup_datetime'].dt.date)\n",
    "index2 = pd.Index(data['dropoff_datetime'].dt.date)\n",
    "pdt.assert_index_equal(index1, index2, check_names=False)\n",
    "print('Data is valid')"
   ]
  },
  {
   "cell_type": "markdown",
   "id": "f59e2b74-bc23-4c4f-8149-15a0ad15a7b9",
   "metadata": {
    "editable": true,
    "slideshow": {
     "slide_type": ""
    },
    "tags": []
   },
   "source": [
    "## Series Equality"
   ]
  },
  {
   "cell_type": "code",
   "execution_count": 17,
   "id": "83078f74-d435-4e40-b1fc-c6ba98d87dab",
   "metadata": {
    "editable": true,
    "slideshow": {
     "slide_type": ""
    },
    "tags": [
     "raises-exception"
    ]
   },
   "outputs": [
    {
     "ename": "AssertionError",
     "evalue": "Series are different\n\nAttribute \"name\" are different\n[left]:  series_1\n[right]: series_2",
     "output_type": "error",
     "traceback": [
      "\u001b[0;31m---------------------------------------------------------------------------\u001b[0m",
      "\u001b[0;31mAssertionError\u001b[0m                            Traceback (most recent call last)",
      "Cell \u001b[0;32mIn[17], line 3\u001b[0m\n\u001b[1;32m      1\u001b[0m series1 \u001b[38;5;241m=\u001b[39m pd\u001b[38;5;241m.\u001b[39mSeries([\u001b[38;5;241m1\u001b[39m, \u001b[38;5;241m2\u001b[39m, \u001b[38;5;241m3\u001b[39m], name\u001b[38;5;241m=\u001b[39m\u001b[38;5;124m'\u001b[39m\u001b[38;5;124mseries_1\u001b[39m\u001b[38;5;124m'\u001b[39m)\n\u001b[1;32m      2\u001b[0m series2 \u001b[38;5;241m=\u001b[39m pd\u001b[38;5;241m.\u001b[39mSeries([\u001b[38;5;241m1\u001b[39m, \u001b[38;5;241m2\u001b[39m, \u001b[38;5;241m3\u001b[39m], name\u001b[38;5;241m=\u001b[39m\u001b[38;5;124m'\u001b[39m\u001b[38;5;124mseries_2\u001b[39m\u001b[38;5;124m'\u001b[39m)\n\u001b[0;32m----> 3\u001b[0m \u001b[43mpdt\u001b[49m\u001b[38;5;241;43m.\u001b[39;49m\u001b[43massert_series_equal\u001b[49m\u001b[43m(\u001b[49m\u001b[43mseries1\u001b[49m\u001b[43m,\u001b[49m\u001b[43m \u001b[49m\u001b[43mseries2\u001b[49m\u001b[43m)\u001b[49m\n",
      "    \u001b[0;31m[... skipping hidden 2 frame]\u001b[0m\n",
      "File \u001b[0;32m~/Projects/python/.venv/lib/python3.13/site-packages/pandas/_testing/asserters.py:614\u001b[0m, in \u001b[0;36mraise_assert_detail\u001b[0;34m(obj, message, left, right, diff, first_diff, index_values)\u001b[0m\n\u001b[1;32m    611\u001b[0m \u001b[38;5;28;01mif\u001b[39;00m first_diff \u001b[38;5;129;01mis\u001b[39;00m \u001b[38;5;129;01mnot\u001b[39;00m \u001b[38;5;28;01mNone\u001b[39;00m:\n\u001b[1;32m    612\u001b[0m     msg \u001b[38;5;241m+\u001b[39m\u001b[38;5;241m=\u001b[39m \u001b[38;5;124mf\u001b[39m\u001b[38;5;124m\"\u001b[39m\u001b[38;5;130;01m\\n\u001b[39;00m\u001b[38;5;132;01m{\u001b[39;00mfirst_diff\u001b[38;5;132;01m}\u001b[39;00m\u001b[38;5;124m\"\u001b[39m\n\u001b[0;32m--> 614\u001b[0m \u001b[38;5;28;01mraise\u001b[39;00m \u001b[38;5;167;01mAssertionError\u001b[39;00m(msg)\n",
      "\u001b[0;31mAssertionError\u001b[0m: Series are different\n\nAttribute \"name\" are different\n[left]:  series_1\n[right]: series_2"
     ]
    }
   ],
   "source": [
    "series1 = pd.Series([1, 2, 3], name='series_1')\n",
    "series2 = pd.Series([1, 2, 3], name='series_2')\n",
    "pdt.assert_series_equal(series1, series2)"
   ]
  },
  {
   "cell_type": "code",
   "execution_count": 18,
   "id": "9cbdf266-57c0-449f-b4d7-ce8611b1ef6f",
   "metadata": {
    "editable": true,
    "slideshow": {
     "slide_type": ""
    },
    "tags": []
   },
   "outputs": [
    {
     "name": "stdout",
     "output_type": "stream",
     "text": [
      "Series are equal\n"
     ]
    }
   ],
   "source": [
    "pdt.assert_series_equal(series1, series2, check_names=False)\n",
    "print('Series are equal')"
   ]
  },
  {
   "cell_type": "code",
   "execution_count": 19,
   "id": "0ad7ee0d-ff1f-4e84-8573-d8fb277be6af",
   "metadata": {
    "editable": true,
    "slideshow": {
     "slide_type": ""
    },
    "tags": [
     "raises-exception"
    ]
   },
   "outputs": [
    {
     "ename": "AssertionError",
     "evalue": "Attributes of Series are different\n\nAttribute \"dtype\" are different\n[left]:  int64\n[right]: object",
     "output_type": "error",
     "traceback": [
      "\u001b[0;31m---------------------------------------------------------------------------\u001b[0m",
      "\u001b[0;31mAssertionError\u001b[0m                            Traceback (most recent call last)",
      "Cell \u001b[0;32mIn[19], line 3\u001b[0m\n\u001b[1;32m      1\u001b[0m series1 \u001b[38;5;241m=\u001b[39m pd\u001b[38;5;241m.\u001b[39mSeries([\u001b[38;5;241m1\u001b[39m, \u001b[38;5;241m2\u001b[39m, \u001b[38;5;241m3\u001b[39m], name\u001b[38;5;241m=\u001b[39m\u001b[38;5;124m'\u001b[39m\u001b[38;5;124mseries_1\u001b[39m\u001b[38;5;124m'\u001b[39m)\n\u001b[1;32m      2\u001b[0m series2 \u001b[38;5;241m=\u001b[39m pd\u001b[38;5;241m.\u001b[39mSeries([\u001b[38;5;124m'\u001b[39m\u001b[38;5;124m1\u001b[39m\u001b[38;5;124m'\u001b[39m, \u001b[38;5;124m'\u001b[39m\u001b[38;5;124m2\u001b[39m\u001b[38;5;124m'\u001b[39m, \u001b[38;5;124m'\u001b[39m\u001b[38;5;124m3\u001b[39m\u001b[38;5;124m'\u001b[39m], name\u001b[38;5;241m=\u001b[39m\u001b[38;5;124m'\u001b[39m\u001b[38;5;124mseries_1\u001b[39m\u001b[38;5;124m'\u001b[39m)\n\u001b[0;32m----> 3\u001b[0m \u001b[43mpdt\u001b[49m\u001b[38;5;241;43m.\u001b[39;49m\u001b[43massert_series_equal\u001b[49m\u001b[43m(\u001b[49m\u001b[43mseries1\u001b[49m\u001b[43m,\u001b[49m\u001b[43m \u001b[49m\u001b[43mseries2\u001b[49m\u001b[43m)\u001b[49m\n",
      "    \u001b[0;31m[... skipping hidden 2 frame]\u001b[0m\n",
      "File \u001b[0;32m~/Projects/python/.venv/lib/python3.13/site-packages/pandas/_testing/asserters.py:614\u001b[0m, in \u001b[0;36mraise_assert_detail\u001b[0;34m(obj, message, left, right, diff, first_diff, index_values)\u001b[0m\n\u001b[1;32m    611\u001b[0m \u001b[38;5;28;01mif\u001b[39;00m first_diff \u001b[38;5;129;01mis\u001b[39;00m \u001b[38;5;129;01mnot\u001b[39;00m \u001b[38;5;28;01mNone\u001b[39;00m:\n\u001b[1;32m    612\u001b[0m     msg \u001b[38;5;241m+\u001b[39m\u001b[38;5;241m=\u001b[39m \u001b[38;5;124mf\u001b[39m\u001b[38;5;124m\"\u001b[39m\u001b[38;5;130;01m\\n\u001b[39;00m\u001b[38;5;132;01m{\u001b[39;00mfirst_diff\u001b[38;5;132;01m}\u001b[39;00m\u001b[38;5;124m\"\u001b[39m\n\u001b[0;32m--> 614\u001b[0m \u001b[38;5;28;01mraise\u001b[39;00m \u001b[38;5;167;01mAssertionError\u001b[39;00m(msg)\n",
      "\u001b[0;31mAssertionError\u001b[0m: Attributes of Series are different\n\nAttribute \"dtype\" are different\n[left]:  int64\n[right]: object"
     ]
    }
   ],
   "source": [
    "series1 = pd.Series([1, 2, 3], name='series_1')\n",
    "series2 = pd.Series(['1', '2', '3'], name='series_1')\n",
    "pdt.assert_series_equal(series1, series2)"
   ]
  },
  {
   "cell_type": "code",
   "execution_count": 20,
   "id": "986c8b87-2234-48dc-bea6-103838ba017f",
   "metadata": {
    "editable": true,
    "slideshow": {
     "slide_type": ""
    },
    "tags": [
     "raises-exception"
    ]
   },
   "outputs": [
    {
     "ename": "AssertionError",
     "evalue": "Series are different\n\nSeries values are different (100.0 %)\n[index]: [0, 1, 2]\n[left]:  [1, 2, 3]\n[right]: [1, 2, 3]",
     "output_type": "error",
     "traceback": [
      "\u001b[0;31m---------------------------------------------------------------------------\u001b[0m",
      "\u001b[0;31mAssertionError\u001b[0m                            Traceback (most recent call last)",
      "Cell \u001b[0;32mIn[20], line 3\u001b[0m\n\u001b[1;32m      1\u001b[0m \u001b[38;5;66;03m# Ignoring data types won't work as it would ignore series types only,\u001b[39;00m\n\u001b[1;32m      2\u001b[0m \u001b[38;5;66;03m# but items would still have different data types\u001b[39;00m\n\u001b[0;32m----> 3\u001b[0m \u001b[43mpdt\u001b[49m\u001b[38;5;241;43m.\u001b[39;49m\u001b[43massert_series_equal\u001b[49m\u001b[43m(\u001b[49m\u001b[43mseries1\u001b[49m\u001b[43m,\u001b[49m\u001b[43m \u001b[49m\u001b[43mseries2\u001b[49m\u001b[43m,\u001b[49m\u001b[43m \u001b[49m\u001b[43mcheck_dtype\u001b[49m\u001b[38;5;241;43m=\u001b[39;49m\u001b[38;5;28;43;01mFalse\u001b[39;49;00m\u001b[43m)\u001b[49m\n\u001b[1;32m      4\u001b[0m \u001b[38;5;28mprint\u001b[39m(\u001b[38;5;124m'\u001b[39m\u001b[38;5;124mSeries are equal\u001b[39m\u001b[38;5;124m'\u001b[39m)\n",
      "    \u001b[0;31m[... skipping hidden 2 frame]\u001b[0m\n",
      "File \u001b[0;32m~/Projects/python/.venv/lib/python3.13/site-packages/pandas/_testing/asserters.py:684\u001b[0m, in \u001b[0;36massert_numpy_array_equal.<locals>._raise\u001b[0;34m(left, right, err_msg)\u001b[0m\n\u001b[1;32m    682\u001b[0m     diff \u001b[38;5;241m=\u001b[39m diff \u001b[38;5;241m*\u001b[39m \u001b[38;5;241m100.0\u001b[39m \u001b[38;5;241m/\u001b[39m left\u001b[38;5;241m.\u001b[39msize\n\u001b[1;32m    683\u001b[0m     msg \u001b[38;5;241m=\u001b[39m \u001b[38;5;124mf\u001b[39m\u001b[38;5;124m\"\u001b[39m\u001b[38;5;132;01m{\u001b[39;00mobj\u001b[38;5;132;01m}\u001b[39;00m\u001b[38;5;124m values are different (\u001b[39m\u001b[38;5;132;01m{\u001b[39;00mnp\u001b[38;5;241m.\u001b[39mround(diff,\u001b[38;5;250m \u001b[39m\u001b[38;5;241m5\u001b[39m)\u001b[38;5;132;01m}\u001b[39;00m\u001b[38;5;124m %)\u001b[39m\u001b[38;5;124m\"\u001b[39m\n\u001b[0;32m--> 684\u001b[0m     \u001b[43mraise_assert_detail\u001b[49m\u001b[43m(\u001b[49m\u001b[43mobj\u001b[49m\u001b[43m,\u001b[49m\u001b[43m \u001b[49m\u001b[43mmsg\u001b[49m\u001b[43m,\u001b[49m\u001b[43m \u001b[49m\u001b[43mleft\u001b[49m\u001b[43m,\u001b[49m\u001b[43m \u001b[49m\u001b[43mright\u001b[49m\u001b[43m,\u001b[49m\u001b[43m \u001b[49m\u001b[43mindex_values\u001b[49m\u001b[38;5;241;43m=\u001b[39;49m\u001b[43mindex_values\u001b[49m\u001b[43m)\u001b[49m\n\u001b[1;32m    686\u001b[0m \u001b[38;5;28;01mraise\u001b[39;00m \u001b[38;5;167;01mAssertionError\u001b[39;00m(err_msg)\n",
      "File \u001b[0;32m~/Projects/python/.venv/lib/python3.13/site-packages/pandas/_testing/asserters.py:614\u001b[0m, in \u001b[0;36mraise_assert_detail\u001b[0;34m(obj, message, left, right, diff, first_diff, index_values)\u001b[0m\n\u001b[1;32m    611\u001b[0m \u001b[38;5;28;01mif\u001b[39;00m first_diff \u001b[38;5;129;01mis\u001b[39;00m \u001b[38;5;129;01mnot\u001b[39;00m \u001b[38;5;28;01mNone\u001b[39;00m:\n\u001b[1;32m    612\u001b[0m     msg \u001b[38;5;241m+\u001b[39m\u001b[38;5;241m=\u001b[39m \u001b[38;5;124mf\u001b[39m\u001b[38;5;124m\"\u001b[39m\u001b[38;5;130;01m\\n\u001b[39;00m\u001b[38;5;132;01m{\u001b[39;00mfirst_diff\u001b[38;5;132;01m}\u001b[39;00m\u001b[38;5;124m\"\u001b[39m\n\u001b[0;32m--> 614\u001b[0m \u001b[38;5;28;01mraise\u001b[39;00m \u001b[38;5;167;01mAssertionError\u001b[39;00m(msg)\n",
      "\u001b[0;31mAssertionError\u001b[0m: Series are different\n\nSeries values are different (100.0 %)\n[index]: [0, 1, 2]\n[left]:  [1, 2, 3]\n[right]: [1, 2, 3]"
     ]
    }
   ],
   "source": [
    "# Ignoring data types won't work as it would ignore series types only,\n",
    "# but items would still have different data types\n",
    "pdt.assert_series_equal(series1, series2, check_dtype=False)\n",
    "print('Series are equal')"
   ]
  },
  {
   "cell_type": "code",
   "execution_count": 21,
   "id": "6aea9fce-67f4-4405-b3d1-d3f4d95bf75f",
   "metadata": {
    "editable": true,
    "slideshow": {
     "slide_type": ""
    },
    "tags": [
     "raises-exception"
    ]
   },
   "outputs": [
    {
     "ename": "AssertionError",
     "evalue": "Series are different\n\nSeries values are different (0.6 %)\n[index]: [0, 1, 2, 3, 4, 5, 6, 7, 8, 9, 10, 11, 12, 13, 14, 15, 16, 17, 18, 19, 20, 21, 22, 23, 24, 25, 26, 27, 28, 29, 30, 31, 32, 33, 34, 35, 36, 37, 38, 39, 40, 41, 42, 43, 44, 45, 46, 47, 48, 49, 50, 51, 52, 53, 54, 55, 56, 57, 58, 59, 60, 61, 62, 63, 64, 65, 66, 67, 68, 69, 70, 71, 72, 73, 74, 75, 76, 77, 78, 79, 80, 81, 82, 83, 84, 85, 86, 87, 88, 89, 90, 91, 92, 93, 94, 95, 96, 97, 98, 99, ...]\n[left]:  [2016-03-14, 2016-06-12, 2016-01-19, 2016-04-06, 2016-03-26, 2016-01-30, 2016-06-17, 2016-05-21, 2016-05-27, 2016-03-10, 2016-05-10, 2016-05-15, 2016-02-19, 2016-06-01, 2016-05-27, 2016-05-16, 2016-04-11, 2016-04-14, 2016-06-27, 2016-06-05, 2016-02-28, 2016-04-01, 2016-04-09, 2016-06-25, 2016-06-03, 2016-02-14, 2016-02-27, 2016-06-20, 2016-06-13, 2016-03-23, 2016-05-17, 2016-05-21, 2016-05-10, 2016-04-17, 2016-01-09, 2016-03-11, 2016-01-05, 2016-06-23, 2016-05-27, 2016-05-10, 2016-04-21, 2016-04-14, 2016-03-14, 2016-03-19, 2016-02-12, 2016-06-13, 2016-01-03, 2016-02-26, 2016-05-18, 2016-04-10, 2016-01-19, 2016-05-07, 2016-02-15, 2016-04-13, 2016-05-15, 2016-04-19, 2016-01-02, 2016-04-22, 2016-03-14, 2016-03-19, 2016-02-29, 2016-01-07, 2016-05-13, 2016-05-24, 2016-04-10, 2016-05-21, 2016-02-29, 2016-06-25, 2016-03-18, 2016-02-03, 2016-06-07, 2016-03-16, 2016-02-20, 2016-02-20, 2016-03-24, 2016-03-20, 2016-05-16, 2016-06-17, 2016-03-23, 2016-04-12, 2016-06-11, 2016-02-25, 2016-01-07, 2016-06-05, 2016-06-13, 2016-01-16, 2016-04-06, 2016-05-13, 2016-01-28, 2016-06-24, 2016-05-27, 2016-05-22, 2016-05-18, 2016-03-31, 2016-02-13, 2016-01-20, 2016-06-02, 2016-02-04, 2016-03-30, 2016-04-29, ...]\n[right]: [2016-03-14, 2016-06-12, 2016-01-19, 2016-04-06, 2016-03-26, 2016-01-30, 2016-06-17, 2016-05-21, 2016-05-27, 2016-03-10, 2016-05-10, 2016-05-15, 2016-02-19, 2016-06-01, 2016-05-27, 2016-05-16, 2016-04-11, 2016-04-14, 2016-06-27, 2016-06-05, 2016-02-28, 2016-04-01, 2016-04-09, 2016-06-25, 2016-06-03, 2016-02-14, 2016-02-27, 2016-06-20, 2016-06-13, 2016-03-23, 2016-05-17, 2016-05-21, 2016-05-10, 2016-04-17, 2016-01-09, 2016-03-11, 2016-01-05, 2016-06-23, 2016-05-27, 2016-05-10, 2016-04-21, 2016-04-14, 2016-03-14, 2016-03-19, 2016-02-12, 2016-06-13, 2016-01-03, 2016-02-26, 2016-05-18, 2016-04-10, 2016-01-19, 2016-05-07, 2016-02-15, 2016-04-13, 2016-05-15, 2016-04-19, 2016-01-02, 2016-04-22, 2016-03-14, 2016-03-19, 2016-02-29, 2016-01-07, 2016-05-13, 2016-05-24, 2016-04-10, 2016-05-21, 2016-02-29, 2016-06-25, 2016-03-18, 2016-02-03, 2016-06-07, 2016-03-16, 2016-02-20, 2016-02-20, 2016-03-24, 2016-03-20, 2016-05-16, 2016-06-17, 2016-03-23, 2016-04-12, 2016-06-11, 2016-02-25, 2016-01-07, 2016-06-05, 2016-06-13, 2016-01-16, 2016-04-07, 2016-05-13, 2016-01-28, 2016-06-24, 2016-05-27, 2016-05-22, 2016-05-18, 2016-03-31, 2016-02-13, 2016-01-20, 2016-06-02, 2016-02-04, 2016-03-30, 2016-04-29, ...]\nAt positional index 86, first diff: 2016-04-06 != 2016-04-07",
     "output_type": "error",
     "traceback": [
      "\u001b[0;31m---------------------------------------------------------------------------\u001b[0m",
      "\u001b[0;31mAssertionError\u001b[0m                            Traceback (most recent call last)",
      "Cell \u001b[0;32mIn[21], line 5\u001b[0m\n\u001b[1;32m      3\u001b[0m series1 \u001b[38;5;241m=\u001b[39m data[\u001b[38;5;124m'\u001b[39m\u001b[38;5;124mpickup_datetime\u001b[39m\u001b[38;5;124m'\u001b[39m]\u001b[38;5;241m.\u001b[39mdt\u001b[38;5;241m.\u001b[39mdate\n\u001b[1;32m      4\u001b[0m series2 \u001b[38;5;241m=\u001b[39m data[\u001b[38;5;124m'\u001b[39m\u001b[38;5;124mdropoff_datetime\u001b[39m\u001b[38;5;124m'\u001b[39m]\u001b[38;5;241m.\u001b[39mdt\u001b[38;5;241m.\u001b[39mdate\n\u001b[0;32m----> 5\u001b[0m \u001b[43mpdt\u001b[49m\u001b[38;5;241;43m.\u001b[39;49m\u001b[43massert_series_equal\u001b[49m\u001b[43m(\u001b[49m\u001b[43mseries1\u001b[49m\u001b[43m,\u001b[49m\u001b[43m \u001b[49m\u001b[43mseries2\u001b[49m\u001b[43m,\u001b[49m\u001b[43m \u001b[49m\u001b[43mcheck_names\u001b[49m\u001b[38;5;241;43m=\u001b[39;49m\u001b[38;5;28;43;01mFalse\u001b[39;49;00m\u001b[43m)\u001b[49m\n",
      "    \u001b[0;31m[... skipping hidden 1 frame]\u001b[0m\n",
      "File \u001b[0;32mtesting.pyx:55\u001b[0m, in \u001b[0;36mpandas._libs.testing.assert_almost_equal\u001b[0;34m()\u001b[0m\n",
      "File \u001b[0;32mtesting.pyx:173\u001b[0m, in \u001b[0;36mpandas._libs.testing.assert_almost_equal\u001b[0;34m()\u001b[0m\n",
      "File \u001b[0;32m~/Projects/python/.venv/lib/python3.13/site-packages/pandas/_testing/asserters.py:614\u001b[0m, in \u001b[0;36mraise_assert_detail\u001b[0;34m(obj, message, left, right, diff, first_diff, index_values)\u001b[0m\n\u001b[1;32m    611\u001b[0m \u001b[38;5;28;01mif\u001b[39;00m first_diff \u001b[38;5;129;01mis\u001b[39;00m \u001b[38;5;129;01mnot\u001b[39;00m \u001b[38;5;28;01mNone\u001b[39;00m:\n\u001b[1;32m    612\u001b[0m     msg \u001b[38;5;241m+\u001b[39m\u001b[38;5;241m=\u001b[39m \u001b[38;5;124mf\u001b[39m\u001b[38;5;124m\"\u001b[39m\u001b[38;5;130;01m\\n\u001b[39;00m\u001b[38;5;132;01m{\u001b[39;00mfirst_diff\u001b[38;5;132;01m}\u001b[39;00m\u001b[38;5;124m\"\u001b[39m\n\u001b[0;32m--> 614\u001b[0m \u001b[38;5;28;01mraise\u001b[39;00m \u001b[38;5;167;01mAssertionError\u001b[39;00m(msg)\n",
      "\u001b[0;31mAssertionError\u001b[0m: Series are different\n\nSeries values are different (0.6 %)\n[index]: [0, 1, 2, 3, 4, 5, 6, 7, 8, 9, 10, 11, 12, 13, 14, 15, 16, 17, 18, 19, 20, 21, 22, 23, 24, 25, 26, 27, 28, 29, 30, 31, 32, 33, 34, 35, 36, 37, 38, 39, 40, 41, 42, 43, 44, 45, 46, 47, 48, 49, 50, 51, 52, 53, 54, 55, 56, 57, 58, 59, 60, 61, 62, 63, 64, 65, 66, 67, 68, 69, 70, 71, 72, 73, 74, 75, 76, 77, 78, 79, 80, 81, 82, 83, 84, 85, 86, 87, 88, 89, 90, 91, 92, 93, 94, 95, 96, 97, 98, 99, ...]\n[left]:  [2016-03-14, 2016-06-12, 2016-01-19, 2016-04-06, 2016-03-26, 2016-01-30, 2016-06-17, 2016-05-21, 2016-05-27, 2016-03-10, 2016-05-10, 2016-05-15, 2016-02-19, 2016-06-01, 2016-05-27, 2016-05-16, 2016-04-11, 2016-04-14, 2016-06-27, 2016-06-05, 2016-02-28, 2016-04-01, 2016-04-09, 2016-06-25, 2016-06-03, 2016-02-14, 2016-02-27, 2016-06-20, 2016-06-13, 2016-03-23, 2016-05-17, 2016-05-21, 2016-05-10, 2016-04-17, 2016-01-09, 2016-03-11, 2016-01-05, 2016-06-23, 2016-05-27, 2016-05-10, 2016-04-21, 2016-04-14, 2016-03-14, 2016-03-19, 2016-02-12, 2016-06-13, 2016-01-03, 2016-02-26, 2016-05-18, 2016-04-10, 2016-01-19, 2016-05-07, 2016-02-15, 2016-04-13, 2016-05-15, 2016-04-19, 2016-01-02, 2016-04-22, 2016-03-14, 2016-03-19, 2016-02-29, 2016-01-07, 2016-05-13, 2016-05-24, 2016-04-10, 2016-05-21, 2016-02-29, 2016-06-25, 2016-03-18, 2016-02-03, 2016-06-07, 2016-03-16, 2016-02-20, 2016-02-20, 2016-03-24, 2016-03-20, 2016-05-16, 2016-06-17, 2016-03-23, 2016-04-12, 2016-06-11, 2016-02-25, 2016-01-07, 2016-06-05, 2016-06-13, 2016-01-16, 2016-04-06, 2016-05-13, 2016-01-28, 2016-06-24, 2016-05-27, 2016-05-22, 2016-05-18, 2016-03-31, 2016-02-13, 2016-01-20, 2016-06-02, 2016-02-04, 2016-03-30, 2016-04-29, ...]\n[right]: [2016-03-14, 2016-06-12, 2016-01-19, 2016-04-06, 2016-03-26, 2016-01-30, 2016-06-17, 2016-05-21, 2016-05-27, 2016-03-10, 2016-05-10, 2016-05-15, 2016-02-19, 2016-06-01, 2016-05-27, 2016-05-16, 2016-04-11, 2016-04-14, 2016-06-27, 2016-06-05, 2016-02-28, 2016-04-01, 2016-04-09, 2016-06-25, 2016-06-03, 2016-02-14, 2016-02-27, 2016-06-20, 2016-06-13, 2016-03-23, 2016-05-17, 2016-05-21, 2016-05-10, 2016-04-17, 2016-01-09, 2016-03-11, 2016-01-05, 2016-06-23, 2016-05-27, 2016-05-10, 2016-04-21, 2016-04-14, 2016-03-14, 2016-03-19, 2016-02-12, 2016-06-13, 2016-01-03, 2016-02-26, 2016-05-18, 2016-04-10, 2016-01-19, 2016-05-07, 2016-02-15, 2016-04-13, 2016-05-15, 2016-04-19, 2016-01-02, 2016-04-22, 2016-03-14, 2016-03-19, 2016-02-29, 2016-01-07, 2016-05-13, 2016-05-24, 2016-04-10, 2016-05-21, 2016-02-29, 2016-06-25, 2016-03-18, 2016-02-03, 2016-06-07, 2016-03-16, 2016-02-20, 2016-02-20, 2016-03-24, 2016-03-20, 2016-05-16, 2016-06-17, 2016-03-23, 2016-04-12, 2016-06-11, 2016-02-25, 2016-01-07, 2016-06-05, 2016-06-13, 2016-01-16, 2016-04-07, 2016-05-13, 2016-01-28, 2016-06-24, 2016-05-27, 2016-05-22, 2016-05-18, 2016-03-31, 2016-02-13, 2016-01-20, 2016-06-02, 2016-02-04, 2016-03-30, 2016-04-29, ...]\nAt positional index 86, first diff: 2016-04-06 != 2016-04-07"
     ]
    }
   ],
   "source": [
    "data = pd.read_csv(train_csv, parse_dates=['pickup_datetime', 'dropoff_datetime'], nrows=1000)\n",
    "\n",
    "series1 = data['pickup_datetime'].dt.date\n",
    "series2 = data['dropoff_datetime'].dt.date\n",
    "pdt.assert_series_equal(series1, series2, check_names=False)"
   ]
  },
  {
   "cell_type": "code",
   "execution_count": 22,
   "id": "9ecdb4cd-9673-4985-8f80-924213ce8325",
   "metadata": {
    "editable": true,
    "slideshow": {
     "slide_type": ""
    },
    "tags": []
   },
   "outputs": [
    {
     "data": {
      "text/plain": [
       "np.int64(6)"
      ]
     },
     "execution_count": 22,
     "metadata": {},
     "output_type": "execute_result"
    }
   ],
   "source": [
    "(series1 != series2).sum()"
   ]
  },
  {
   "cell_type": "code",
   "execution_count": 23,
   "id": "e706890b-953a-4855-8708-e7c17cabbfcc",
   "metadata": {
    "editable": true,
    "slideshow": {
     "slide_type": ""
    },
    "tags": []
   },
   "outputs": [
    {
     "name": "stdout",
     "output_type": "stream",
     "text": [
      "Series are equal\n"
     ]
    }
   ],
   "source": [
    "# Clean up the data\n",
    "data = data[series1 == series2].reset_index(drop=True)\n",
    "\n",
    "# Now the assertion is valid\n",
    "series1 = data['pickup_datetime'].dt.date\n",
    "series2 = data['dropoff_datetime'].dt.date\n",
    "pdt.assert_series_equal(series1, series2, check_names=False)\n",
    "print('Series are equal')"
   ]
  },
  {
   "cell_type": "markdown",
   "id": "210e5846-6e52-4d2b-81ad-cbe441f66340",
   "metadata": {
    "editable": true,
    "slideshow": {
     "slide_type": ""
    },
    "tags": []
   },
   "source": [
    "## DataFrame Equality"
   ]
  },
  {
   "cell_type": "code",
   "execution_count": 24,
   "id": "3b419ff0-d98d-4b25-b928-1d2af00da881",
   "metadata": {
    "editable": true,
    "slideshow": {
     "slide_type": ""
    },
    "tags": [
     "raises-exception"
    ]
   },
   "outputs": [
    {
     "ename": "AssertionError",
     "evalue": "DataFrame.iloc[:, 1] (column name=\"B\") are different\n\nDataFrame.iloc[:, 1] (column name=\"B\") values are different (50.0 %)\n[index]: [0, 1]\n[left]:  [3, 4]\n[right]: [4, 4]",
     "output_type": "error",
     "traceback": [
      "\u001b[0;31m---------------------------------------------------------------------------\u001b[0m",
      "\u001b[0;31mAssertionError\u001b[0m                            Traceback (most recent call last)",
      "Cell \u001b[0;32mIn[24], line 3\u001b[0m\n\u001b[1;32m      1\u001b[0m df1 \u001b[38;5;241m=\u001b[39m pd\u001b[38;5;241m.\u001b[39mDataFrame({\u001b[38;5;124m'\u001b[39m\u001b[38;5;124mA\u001b[39m\u001b[38;5;124m'\u001b[39m: [\u001b[38;5;241m1\u001b[39m, \u001b[38;5;241m2\u001b[39m], \u001b[38;5;124m'\u001b[39m\u001b[38;5;124mB\u001b[39m\u001b[38;5;124m'\u001b[39m: [\u001b[38;5;241m3\u001b[39m, \u001b[38;5;241m4\u001b[39m]})\n\u001b[1;32m      2\u001b[0m df2 \u001b[38;5;241m=\u001b[39m pd\u001b[38;5;241m.\u001b[39mDataFrame({\u001b[38;5;124m'\u001b[39m\u001b[38;5;124mA\u001b[39m\u001b[38;5;124m'\u001b[39m: [\u001b[38;5;241m1\u001b[39m, \u001b[38;5;241m2\u001b[39m], \u001b[38;5;124m'\u001b[39m\u001b[38;5;124mB\u001b[39m\u001b[38;5;124m'\u001b[39m: [\u001b[38;5;241m4\u001b[39m, \u001b[38;5;241m4\u001b[39m]})\n\u001b[0;32m----> 3\u001b[0m \u001b[43mpdt\u001b[49m\u001b[38;5;241;43m.\u001b[39;49m\u001b[43massert_frame_equal\u001b[49m\u001b[43m(\u001b[49m\u001b[43mdf1\u001b[49m\u001b[43m,\u001b[49m\u001b[43m \u001b[49m\u001b[43mdf2\u001b[49m\u001b[43m)\u001b[49m\n",
      "    \u001b[0;31m[... skipping hidden 3 frame]\u001b[0m\n",
      "File \u001b[0;32m~/Projects/python/.venv/lib/python3.13/site-packages/pandas/_testing/asserters.py:684\u001b[0m, in \u001b[0;36massert_numpy_array_equal.<locals>._raise\u001b[0;34m(left, right, err_msg)\u001b[0m\n\u001b[1;32m    682\u001b[0m     diff \u001b[38;5;241m=\u001b[39m diff \u001b[38;5;241m*\u001b[39m \u001b[38;5;241m100.0\u001b[39m \u001b[38;5;241m/\u001b[39m left\u001b[38;5;241m.\u001b[39msize\n\u001b[1;32m    683\u001b[0m     msg \u001b[38;5;241m=\u001b[39m \u001b[38;5;124mf\u001b[39m\u001b[38;5;124m\"\u001b[39m\u001b[38;5;132;01m{\u001b[39;00mobj\u001b[38;5;132;01m}\u001b[39;00m\u001b[38;5;124m values are different (\u001b[39m\u001b[38;5;132;01m{\u001b[39;00mnp\u001b[38;5;241m.\u001b[39mround(diff,\u001b[38;5;250m \u001b[39m\u001b[38;5;241m5\u001b[39m)\u001b[38;5;132;01m}\u001b[39;00m\u001b[38;5;124m %)\u001b[39m\u001b[38;5;124m\"\u001b[39m\n\u001b[0;32m--> 684\u001b[0m     \u001b[43mraise_assert_detail\u001b[49m\u001b[43m(\u001b[49m\u001b[43mobj\u001b[49m\u001b[43m,\u001b[49m\u001b[43m \u001b[49m\u001b[43mmsg\u001b[49m\u001b[43m,\u001b[49m\u001b[43m \u001b[49m\u001b[43mleft\u001b[49m\u001b[43m,\u001b[49m\u001b[43m \u001b[49m\u001b[43mright\u001b[49m\u001b[43m,\u001b[49m\u001b[43m \u001b[49m\u001b[43mindex_values\u001b[49m\u001b[38;5;241;43m=\u001b[39;49m\u001b[43mindex_values\u001b[49m\u001b[43m)\u001b[49m\n\u001b[1;32m    686\u001b[0m \u001b[38;5;28;01mraise\u001b[39;00m \u001b[38;5;167;01mAssertionError\u001b[39;00m(err_msg)\n",
      "File \u001b[0;32m~/Projects/python/.venv/lib/python3.13/site-packages/pandas/_testing/asserters.py:614\u001b[0m, in \u001b[0;36mraise_assert_detail\u001b[0;34m(obj, message, left, right, diff, first_diff, index_values)\u001b[0m\n\u001b[1;32m    611\u001b[0m \u001b[38;5;28;01mif\u001b[39;00m first_diff \u001b[38;5;129;01mis\u001b[39;00m \u001b[38;5;129;01mnot\u001b[39;00m \u001b[38;5;28;01mNone\u001b[39;00m:\n\u001b[1;32m    612\u001b[0m     msg \u001b[38;5;241m+\u001b[39m\u001b[38;5;241m=\u001b[39m \u001b[38;5;124mf\u001b[39m\u001b[38;5;124m\"\u001b[39m\u001b[38;5;130;01m\\n\u001b[39;00m\u001b[38;5;132;01m{\u001b[39;00mfirst_diff\u001b[38;5;132;01m}\u001b[39;00m\u001b[38;5;124m\"\u001b[39m\n\u001b[0;32m--> 614\u001b[0m \u001b[38;5;28;01mraise\u001b[39;00m \u001b[38;5;167;01mAssertionError\u001b[39;00m(msg)\n",
      "\u001b[0;31mAssertionError\u001b[0m: DataFrame.iloc[:, 1] (column name=\"B\") are different\n\nDataFrame.iloc[:, 1] (column name=\"B\") values are different (50.0 %)\n[index]: [0, 1]\n[left]:  [3, 4]\n[right]: [4, 4]"
     ]
    }
   ],
   "source": [
    "df1 = pd.DataFrame({'A': [1, 2], 'B': [3, 4]})\n",
    "df2 = pd.DataFrame({'A': [1, 2], 'B': [4, 4]})\n",
    "pdt.assert_frame_equal(df1, df2)"
   ]
  },
  {
   "cell_type": "code",
   "execution_count": 25,
   "id": "2699c8ea-6476-4a1a-b131-0c250dabb1f4",
   "metadata": {
    "editable": true,
    "slideshow": {
     "slide_type": ""
    },
    "tags": [
     "raises-exception"
    ]
   },
   "outputs": [
    {
     "ename": "AssertionError",
     "evalue": "DataFrame.columns are different\n\nDataFrame.columns values are different (100.0 %)\n[left]:  Index(['B', 'A'], dtype='object')\n[right]: Index(['A', 'B'], dtype='object')\nAt positional index 0, first diff: B != A",
     "output_type": "error",
     "traceback": [
      "\u001b[0;31m---------------------------------------------------------------------------\u001b[0m",
      "\u001b[0;31mAssertionError\u001b[0m                            Traceback (most recent call last)",
      "Cell \u001b[0;32mIn[25], line 3\u001b[0m\n\u001b[1;32m      1\u001b[0m df1 \u001b[38;5;241m=\u001b[39m pd\u001b[38;5;241m.\u001b[39mDataFrame({\u001b[38;5;124m'\u001b[39m\u001b[38;5;124mB\u001b[39m\u001b[38;5;124m'\u001b[39m: [\u001b[38;5;241m3\u001b[39m, \u001b[38;5;241m3\u001b[39m, \u001b[38;5;241m3\u001b[39m], \u001b[38;5;124m'\u001b[39m\u001b[38;5;124mA\u001b[39m\u001b[38;5;124m'\u001b[39m: [\u001b[38;5;241m1\u001b[39m, \u001b[38;5;241m1\u001b[39m, \u001b[38;5;241m1\u001b[39m]})\n\u001b[1;32m      2\u001b[0m df2 \u001b[38;5;241m=\u001b[39m pd\u001b[38;5;241m.\u001b[39mDataFrame({\u001b[38;5;124m'\u001b[39m\u001b[38;5;124mA\u001b[39m\u001b[38;5;124m'\u001b[39m: [\u001b[38;5;241m1\u001b[39m, \u001b[38;5;241m1\u001b[39m, \u001b[38;5;241m1\u001b[39m], \u001b[38;5;124m'\u001b[39m\u001b[38;5;124mB\u001b[39m\u001b[38;5;124m'\u001b[39m: [\u001b[38;5;241m3\u001b[39m, \u001b[38;5;241m3\u001b[39m, \u001b[38;5;241m3\u001b[39m]})\n\u001b[0;32m----> 3\u001b[0m \u001b[43mpdt\u001b[49m\u001b[38;5;241;43m.\u001b[39;49m\u001b[43massert_frame_equal\u001b[49m\u001b[43m(\u001b[49m\u001b[43mdf1\u001b[49m\u001b[43m,\u001b[49m\u001b[43m \u001b[49m\u001b[43mdf2\u001b[49m\u001b[43m)\u001b[49m\n",
      "    \u001b[0;31m[... skipping hidden 2 frame]\u001b[0m\n",
      "File \u001b[0;32mtesting.pyx:55\u001b[0m, in \u001b[0;36mpandas._libs.testing.assert_almost_equal\u001b[0;34m()\u001b[0m\n",
      "File \u001b[0;32mtesting.pyx:173\u001b[0m, in \u001b[0;36mpandas._libs.testing.assert_almost_equal\u001b[0;34m()\u001b[0m\n",
      "File \u001b[0;32m~/Projects/python/.venv/lib/python3.13/site-packages/pandas/_testing/asserters.py:614\u001b[0m, in \u001b[0;36mraise_assert_detail\u001b[0;34m(obj, message, left, right, diff, first_diff, index_values)\u001b[0m\n\u001b[1;32m    611\u001b[0m \u001b[38;5;28;01mif\u001b[39;00m first_diff \u001b[38;5;129;01mis\u001b[39;00m \u001b[38;5;129;01mnot\u001b[39;00m \u001b[38;5;28;01mNone\u001b[39;00m:\n\u001b[1;32m    612\u001b[0m     msg \u001b[38;5;241m+\u001b[39m\u001b[38;5;241m=\u001b[39m \u001b[38;5;124mf\u001b[39m\u001b[38;5;124m\"\u001b[39m\u001b[38;5;130;01m\\n\u001b[39;00m\u001b[38;5;132;01m{\u001b[39;00mfirst_diff\u001b[38;5;132;01m}\u001b[39;00m\u001b[38;5;124m\"\u001b[39m\n\u001b[0;32m--> 614\u001b[0m \u001b[38;5;28;01mraise\u001b[39;00m \u001b[38;5;167;01mAssertionError\u001b[39;00m(msg)\n",
      "\u001b[0;31mAssertionError\u001b[0m: DataFrame.columns are different\n\nDataFrame.columns values are different (100.0 %)\n[left]:  Index(['B', 'A'], dtype='object')\n[right]: Index(['A', 'B'], dtype='object')\nAt positional index 0, first diff: B != A"
     ]
    }
   ],
   "source": [
    "df1 = pd.DataFrame({'B': [3, 3, 3], 'A': [1, 1, 1]})\n",
    "df2 = pd.DataFrame({'A': [1, 1, 1], 'B': [3, 3, 3]})\n",
    "pdt.assert_frame_equal(df1, df2)"
   ]
  },
  {
   "cell_type": "code",
   "execution_count": 26,
   "id": "ccc34e06-e3db-43bd-bee3-80e46e5763e6",
   "metadata": {
    "editable": true,
    "slideshow": {
     "slide_type": ""
    },
    "tags": []
   },
   "outputs": [
    {
     "name": "stdout",
     "output_type": "stream",
     "text": [
      "Data frames are equivalent\n"
     ]
    }
   ],
   "source": [
    "pdt.assert_frame_equal(df1, df2, check_like=True)\n",
    "print('Data frames are equivalent')"
   ]
  },
  {
   "cell_type": "code",
   "execution_count": 27,
   "id": "650d7ab3-ab1d-417f-8778-ff89bc6e78e6",
   "metadata": {
    "editable": true,
    "slideshow": {
     "slide_type": ""
    },
    "tags": []
   },
   "outputs": [
    {
     "data": {
      "text/html": [
       "<div>\n",
       "<style scoped>\n",
       "    .dataframe tbody tr th:only-of-type {\n",
       "        vertical-align: middle;\n",
       "    }\n",
       "\n",
       "    .dataframe tbody tr th {\n",
       "        vertical-align: top;\n",
       "    }\n",
       "\n",
       "    .dataframe thead th {\n",
       "        text-align: right;\n",
       "    }\n",
       "</style>\n",
       "<table border=\"1\" class=\"dataframe\">\n",
       "  <thead>\n",
       "    <tr style=\"text-align: right;\">\n",
       "      <th></th>\n",
       "      <th>pickup_datetime</th>\n",
       "      <th>date</th>\n",
       "    </tr>\n",
       "  </thead>\n",
       "  <tbody>\n",
       "    <tr>\n",
       "      <th>0</th>\n",
       "      <td>2016-03-14 17:24:55</td>\n",
       "      <td>2016-03-14</td>\n",
       "    </tr>\n",
       "    <tr>\n",
       "      <th>1</th>\n",
       "      <td>2016-06-12 00:43:35</td>\n",
       "      <td>2016-06-12</td>\n",
       "    </tr>\n",
       "    <tr>\n",
       "      <th>2</th>\n",
       "      <td>2016-01-19 11:35:24</td>\n",
       "      <td>2016-01-19</td>\n",
       "    </tr>\n",
       "    <tr>\n",
       "      <th>3</th>\n",
       "      <td>2016-04-06 19:32:31</td>\n",
       "      <td>2016-04-06</td>\n",
       "    </tr>\n",
       "    <tr>\n",
       "      <th>4</th>\n",
       "      <td>2016-03-26 13:30:55</td>\n",
       "      <td>2016-03-26</td>\n",
       "    </tr>\n",
       "    <tr>\n",
       "      <th>...</th>\n",
       "      <td>...</td>\n",
       "      <td>...</td>\n",
       "    </tr>\n",
       "    <tr>\n",
       "      <th>995</th>\n",
       "      <td>2016-05-20 10:53:52</td>\n",
       "      <td>2016-05-20</td>\n",
       "    </tr>\n",
       "    <tr>\n",
       "      <th>996</th>\n",
       "      <td>2016-01-26 02:01:09</td>\n",
       "      <td>2016-01-26</td>\n",
       "    </tr>\n",
       "    <tr>\n",
       "      <th>997</th>\n",
       "      <td>2016-03-17 11:51:09</td>\n",
       "      <td>2016-03-17</td>\n",
       "    </tr>\n",
       "    <tr>\n",
       "      <th>998</th>\n",
       "      <td>2016-02-24 16:25:29</td>\n",
       "      <td>2016-02-24</td>\n",
       "    </tr>\n",
       "    <tr>\n",
       "      <th>999</th>\n",
       "      <td>2016-02-13 21:41:23</td>\n",
       "      <td>2016-02-13</td>\n",
       "    </tr>\n",
       "  </tbody>\n",
       "</table>\n",
       "<p>1000 rows × 2 columns</p>\n",
       "</div>"
      ],
      "text/plain": [
       "        pickup_datetime        date\n",
       "0   2016-03-14 17:24:55  2016-03-14\n",
       "1   2016-06-12 00:43:35  2016-06-12\n",
       "2   2016-01-19 11:35:24  2016-01-19\n",
       "3   2016-04-06 19:32:31  2016-04-06\n",
       "4   2016-03-26 13:30:55  2016-03-26\n",
       "..                  ...         ...\n",
       "995 2016-05-20 10:53:52  2016-05-20\n",
       "996 2016-01-26 02:01:09  2016-01-26\n",
       "997 2016-03-17 11:51:09  2016-03-17\n",
       "998 2016-02-24 16:25:29  2016-02-24\n",
       "999 2016-02-13 21:41:23  2016-02-13\n",
       "\n",
       "[1000 rows x 2 columns]"
      ]
     },
     "execution_count": 27,
     "metadata": {},
     "output_type": "execute_result"
    }
   ],
   "source": [
    "data = pd.read_csv(train_csv, parse_dates=['pickup_datetime', 'dropoff_datetime'], nrows=1000)\n",
    "\n",
    "df1 = data.copy()\n",
    "df1['date'] = df1['pickup_datetime'].dt.date\n",
    "df1[['pickup_datetime', 'date']]"
   ]
  },
  {
   "cell_type": "code",
   "execution_count": 28,
   "id": "9d31c148-e194-4dcb-8f84-7f4f3f500c03",
   "metadata": {
    "editable": true,
    "slideshow": {
     "slide_type": ""
    },
    "tags": []
   },
   "outputs": [
    {
     "data": {
      "text/html": [
       "<div>\n",
       "<style scoped>\n",
       "    .dataframe tbody tr th:only-of-type {\n",
       "        vertical-align: middle;\n",
       "    }\n",
       "\n",
       "    .dataframe tbody tr th {\n",
       "        vertical-align: top;\n",
       "    }\n",
       "\n",
       "    .dataframe thead th {\n",
       "        text-align: right;\n",
       "    }\n",
       "</style>\n",
       "<table border=\"1\" class=\"dataframe\">\n",
       "  <thead>\n",
       "    <tr style=\"text-align: right;\">\n",
       "      <th></th>\n",
       "      <th>dropoff_datetime</th>\n",
       "      <th>date</th>\n",
       "    </tr>\n",
       "  </thead>\n",
       "  <tbody>\n",
       "    <tr>\n",
       "      <th>0</th>\n",
       "      <td>2016-03-14 17:32:30</td>\n",
       "      <td>2016-03-14</td>\n",
       "    </tr>\n",
       "    <tr>\n",
       "      <th>1</th>\n",
       "      <td>2016-06-12 00:54:38</td>\n",
       "      <td>2016-06-12</td>\n",
       "    </tr>\n",
       "    <tr>\n",
       "      <th>2</th>\n",
       "      <td>2016-01-19 12:10:48</td>\n",
       "      <td>2016-01-19</td>\n",
       "    </tr>\n",
       "    <tr>\n",
       "      <th>3</th>\n",
       "      <td>2016-04-06 19:39:40</td>\n",
       "      <td>2016-04-06</td>\n",
       "    </tr>\n",
       "    <tr>\n",
       "      <th>4</th>\n",
       "      <td>2016-03-26 13:38:10</td>\n",
       "      <td>2016-03-26</td>\n",
       "    </tr>\n",
       "    <tr>\n",
       "      <th>...</th>\n",
       "      <td>...</td>\n",
       "      <td>...</td>\n",
       "    </tr>\n",
       "    <tr>\n",
       "      <th>995</th>\n",
       "      <td>2016-05-20 11:15:35</td>\n",
       "      <td>2016-05-20</td>\n",
       "    </tr>\n",
       "    <tr>\n",
       "      <th>996</th>\n",
       "      <td>2016-01-26 02:24:31</td>\n",
       "      <td>2016-01-26</td>\n",
       "    </tr>\n",
       "    <tr>\n",
       "      <th>997</th>\n",
       "      <td>2016-03-17 12:09:37</td>\n",
       "      <td>2016-03-17</td>\n",
       "    </tr>\n",
       "    <tr>\n",
       "      <th>998</th>\n",
       "      <td>2016-02-24 16:30:04</td>\n",
       "      <td>2016-02-24</td>\n",
       "    </tr>\n",
       "    <tr>\n",
       "      <th>999</th>\n",
       "      <td>2016-02-13 21:53:40</td>\n",
       "      <td>2016-02-13</td>\n",
       "    </tr>\n",
       "  </tbody>\n",
       "</table>\n",
       "<p>1000 rows × 2 columns</p>\n",
       "</div>"
      ],
      "text/plain": [
       "       dropoff_datetime        date\n",
       "0   2016-03-14 17:32:30  2016-03-14\n",
       "1   2016-06-12 00:54:38  2016-06-12\n",
       "2   2016-01-19 12:10:48  2016-01-19\n",
       "3   2016-04-06 19:39:40  2016-04-06\n",
       "4   2016-03-26 13:38:10  2016-03-26\n",
       "..                  ...         ...\n",
       "995 2016-05-20 11:15:35  2016-05-20\n",
       "996 2016-01-26 02:24:31  2016-01-26\n",
       "997 2016-03-17 12:09:37  2016-03-17\n",
       "998 2016-02-24 16:30:04  2016-02-24\n",
       "999 2016-02-13 21:53:40  2016-02-13\n",
       "\n",
       "[1000 rows x 2 columns]"
      ]
     },
     "execution_count": 28,
     "metadata": {},
     "output_type": "execute_result"
    }
   ],
   "source": [
    "df2 = data.copy()\n",
    "df2['date'] = df2['dropoff_datetime'].dt.date\n",
    "df2[['dropoff_datetime', 'date']]"
   ]
  },
  {
   "cell_type": "code",
   "execution_count": 29,
   "id": "dfaa6576-8fe0-42e9-96af-672cad372527",
   "metadata": {
    "editable": true,
    "slideshow": {
     "slide_type": ""
    },
    "tags": [
     "raises-exception"
    ]
   },
   "outputs": [
    {
     "ename": "AssertionError",
     "evalue": "DataFrame.iloc[:, 11] (column name=\"date\") are different\n\nDataFrame.iloc[:, 11] (column name=\"date\") values are different (0.6 %)\n[index]: [0, 1, 2, 3, 4, 5, 6, 7, 8, 9, 10, 11, 12, 13, 14, 15, 16, 17, 18, 19, 20, 21, 22, 23, 24, 25, 26, 27, 28, 29, 30, 31, 32, 33, 34, 35, 36, 37, 38, 39, 40, 41, 42, 43, 44, 45, 46, 47, 48, 49, 50, 51, 52, 53, 54, 55, 56, 57, 58, 59, 60, 61, 62, 63, 64, 65, 66, 67, 68, 69, 70, 71, 72, 73, 74, 75, 76, 77, 78, 79, 80, 81, 82, 83, 84, 85, 86, 87, 88, 89, 90, 91, 92, 93, 94, 95, 96, 97, 98, 99, ...]\n[left]:  [2016-03-14, 2016-06-12, 2016-01-19, 2016-04-06, 2016-03-26, 2016-01-30, 2016-06-17, 2016-05-21, 2016-05-27, 2016-03-10, 2016-05-10, 2016-05-15, 2016-02-19, 2016-06-01, 2016-05-27, 2016-05-16, 2016-04-11, 2016-04-14, 2016-06-27, 2016-06-05, 2016-02-28, 2016-04-01, 2016-04-09, 2016-06-25, 2016-06-03, 2016-02-14, 2016-02-27, 2016-06-20, 2016-06-13, 2016-03-23, 2016-05-17, 2016-05-21, 2016-05-10, 2016-04-17, 2016-01-09, 2016-03-11, 2016-01-05, 2016-06-23, 2016-05-27, 2016-05-10, 2016-04-21, 2016-04-14, 2016-03-14, 2016-03-19, 2016-02-12, 2016-06-13, 2016-01-03, 2016-02-26, 2016-05-18, 2016-04-10, 2016-01-19, 2016-05-07, 2016-02-15, 2016-04-13, 2016-05-15, 2016-04-19, 2016-01-02, 2016-04-22, 2016-03-14, 2016-03-19, 2016-02-29, 2016-01-07, 2016-05-13, 2016-05-24, 2016-04-10, 2016-05-21, 2016-02-29, 2016-06-25, 2016-03-18, 2016-02-03, 2016-06-07, 2016-03-16, 2016-02-20, 2016-02-20, 2016-03-24, 2016-03-20, 2016-05-16, 2016-06-17, 2016-03-23, 2016-04-12, 2016-06-11, 2016-02-25, 2016-01-07, 2016-06-05, 2016-06-13, 2016-01-16, 2016-04-06, 2016-05-13, 2016-01-28, 2016-06-24, 2016-05-27, 2016-05-22, 2016-05-18, 2016-03-31, 2016-02-13, 2016-01-20, 2016-06-02, 2016-02-04, 2016-03-30, 2016-04-29, ...]\n[right]: [2016-03-14, 2016-06-12, 2016-01-19, 2016-04-06, 2016-03-26, 2016-01-30, 2016-06-17, 2016-05-21, 2016-05-27, 2016-03-10, 2016-05-10, 2016-05-15, 2016-02-19, 2016-06-01, 2016-05-27, 2016-05-16, 2016-04-11, 2016-04-14, 2016-06-27, 2016-06-05, 2016-02-28, 2016-04-01, 2016-04-09, 2016-06-25, 2016-06-03, 2016-02-14, 2016-02-27, 2016-06-20, 2016-06-13, 2016-03-23, 2016-05-17, 2016-05-21, 2016-05-10, 2016-04-17, 2016-01-09, 2016-03-11, 2016-01-05, 2016-06-23, 2016-05-27, 2016-05-10, 2016-04-21, 2016-04-14, 2016-03-14, 2016-03-19, 2016-02-12, 2016-06-13, 2016-01-03, 2016-02-26, 2016-05-18, 2016-04-10, 2016-01-19, 2016-05-07, 2016-02-15, 2016-04-13, 2016-05-15, 2016-04-19, 2016-01-02, 2016-04-22, 2016-03-14, 2016-03-19, 2016-02-29, 2016-01-07, 2016-05-13, 2016-05-24, 2016-04-10, 2016-05-21, 2016-02-29, 2016-06-25, 2016-03-18, 2016-02-03, 2016-06-07, 2016-03-16, 2016-02-20, 2016-02-20, 2016-03-24, 2016-03-20, 2016-05-16, 2016-06-17, 2016-03-23, 2016-04-12, 2016-06-11, 2016-02-25, 2016-01-07, 2016-06-05, 2016-06-13, 2016-01-16, 2016-04-07, 2016-05-13, 2016-01-28, 2016-06-24, 2016-05-27, 2016-05-22, 2016-05-18, 2016-03-31, 2016-02-13, 2016-01-20, 2016-06-02, 2016-02-04, 2016-03-30, 2016-04-29, ...]\nAt positional index 86, first diff: 2016-04-06 != 2016-04-07",
     "output_type": "error",
     "traceback": [
      "\u001b[0;31m---------------------------------------------------------------------------\u001b[0m",
      "\u001b[0;31mAssertionError\u001b[0m                            Traceback (most recent call last)",
      "Cell \u001b[0;32mIn[29], line 1\u001b[0m\n\u001b[0;32m----> 1\u001b[0m \u001b[43mpdt\u001b[49m\u001b[38;5;241;43m.\u001b[39;49m\u001b[43massert_frame_equal\u001b[49m\u001b[43m(\u001b[49m\u001b[43mdf1\u001b[49m\u001b[43m,\u001b[49m\u001b[43m \u001b[49m\u001b[43mdf2\u001b[49m\u001b[43m,\u001b[49m\u001b[43m \u001b[49m\u001b[43mcheck_names\u001b[49m\u001b[38;5;241;43m=\u001b[39;49m\u001b[38;5;28;43;01mFalse\u001b[39;49;00m\u001b[43m)\u001b[49m\n",
      "    \u001b[0;31m[... skipping hidden 2 frame]\u001b[0m\n",
      "File \u001b[0;32mtesting.pyx:55\u001b[0m, in \u001b[0;36mpandas._libs.testing.assert_almost_equal\u001b[0;34m()\u001b[0m\n",
      "File \u001b[0;32mtesting.pyx:173\u001b[0m, in \u001b[0;36mpandas._libs.testing.assert_almost_equal\u001b[0;34m()\u001b[0m\n",
      "File \u001b[0;32m~/Projects/python/.venv/lib/python3.13/site-packages/pandas/_testing/asserters.py:614\u001b[0m, in \u001b[0;36mraise_assert_detail\u001b[0;34m(obj, message, left, right, diff, first_diff, index_values)\u001b[0m\n\u001b[1;32m    611\u001b[0m \u001b[38;5;28;01mif\u001b[39;00m first_diff \u001b[38;5;129;01mis\u001b[39;00m \u001b[38;5;129;01mnot\u001b[39;00m \u001b[38;5;28;01mNone\u001b[39;00m:\n\u001b[1;32m    612\u001b[0m     msg \u001b[38;5;241m+\u001b[39m\u001b[38;5;241m=\u001b[39m \u001b[38;5;124mf\u001b[39m\u001b[38;5;124m\"\u001b[39m\u001b[38;5;130;01m\\n\u001b[39;00m\u001b[38;5;132;01m{\u001b[39;00mfirst_diff\u001b[38;5;132;01m}\u001b[39;00m\u001b[38;5;124m\"\u001b[39m\n\u001b[0;32m--> 614\u001b[0m \u001b[38;5;28;01mraise\u001b[39;00m \u001b[38;5;167;01mAssertionError\u001b[39;00m(msg)\n",
      "\u001b[0;31mAssertionError\u001b[0m: DataFrame.iloc[:, 11] (column name=\"date\") are different\n\nDataFrame.iloc[:, 11] (column name=\"date\") values are different (0.6 %)\n[index]: [0, 1, 2, 3, 4, 5, 6, 7, 8, 9, 10, 11, 12, 13, 14, 15, 16, 17, 18, 19, 20, 21, 22, 23, 24, 25, 26, 27, 28, 29, 30, 31, 32, 33, 34, 35, 36, 37, 38, 39, 40, 41, 42, 43, 44, 45, 46, 47, 48, 49, 50, 51, 52, 53, 54, 55, 56, 57, 58, 59, 60, 61, 62, 63, 64, 65, 66, 67, 68, 69, 70, 71, 72, 73, 74, 75, 76, 77, 78, 79, 80, 81, 82, 83, 84, 85, 86, 87, 88, 89, 90, 91, 92, 93, 94, 95, 96, 97, 98, 99, ...]\n[left]:  [2016-03-14, 2016-06-12, 2016-01-19, 2016-04-06, 2016-03-26, 2016-01-30, 2016-06-17, 2016-05-21, 2016-05-27, 2016-03-10, 2016-05-10, 2016-05-15, 2016-02-19, 2016-06-01, 2016-05-27, 2016-05-16, 2016-04-11, 2016-04-14, 2016-06-27, 2016-06-05, 2016-02-28, 2016-04-01, 2016-04-09, 2016-06-25, 2016-06-03, 2016-02-14, 2016-02-27, 2016-06-20, 2016-06-13, 2016-03-23, 2016-05-17, 2016-05-21, 2016-05-10, 2016-04-17, 2016-01-09, 2016-03-11, 2016-01-05, 2016-06-23, 2016-05-27, 2016-05-10, 2016-04-21, 2016-04-14, 2016-03-14, 2016-03-19, 2016-02-12, 2016-06-13, 2016-01-03, 2016-02-26, 2016-05-18, 2016-04-10, 2016-01-19, 2016-05-07, 2016-02-15, 2016-04-13, 2016-05-15, 2016-04-19, 2016-01-02, 2016-04-22, 2016-03-14, 2016-03-19, 2016-02-29, 2016-01-07, 2016-05-13, 2016-05-24, 2016-04-10, 2016-05-21, 2016-02-29, 2016-06-25, 2016-03-18, 2016-02-03, 2016-06-07, 2016-03-16, 2016-02-20, 2016-02-20, 2016-03-24, 2016-03-20, 2016-05-16, 2016-06-17, 2016-03-23, 2016-04-12, 2016-06-11, 2016-02-25, 2016-01-07, 2016-06-05, 2016-06-13, 2016-01-16, 2016-04-06, 2016-05-13, 2016-01-28, 2016-06-24, 2016-05-27, 2016-05-22, 2016-05-18, 2016-03-31, 2016-02-13, 2016-01-20, 2016-06-02, 2016-02-04, 2016-03-30, 2016-04-29, ...]\n[right]: [2016-03-14, 2016-06-12, 2016-01-19, 2016-04-06, 2016-03-26, 2016-01-30, 2016-06-17, 2016-05-21, 2016-05-27, 2016-03-10, 2016-05-10, 2016-05-15, 2016-02-19, 2016-06-01, 2016-05-27, 2016-05-16, 2016-04-11, 2016-04-14, 2016-06-27, 2016-06-05, 2016-02-28, 2016-04-01, 2016-04-09, 2016-06-25, 2016-06-03, 2016-02-14, 2016-02-27, 2016-06-20, 2016-06-13, 2016-03-23, 2016-05-17, 2016-05-21, 2016-05-10, 2016-04-17, 2016-01-09, 2016-03-11, 2016-01-05, 2016-06-23, 2016-05-27, 2016-05-10, 2016-04-21, 2016-04-14, 2016-03-14, 2016-03-19, 2016-02-12, 2016-06-13, 2016-01-03, 2016-02-26, 2016-05-18, 2016-04-10, 2016-01-19, 2016-05-07, 2016-02-15, 2016-04-13, 2016-05-15, 2016-04-19, 2016-01-02, 2016-04-22, 2016-03-14, 2016-03-19, 2016-02-29, 2016-01-07, 2016-05-13, 2016-05-24, 2016-04-10, 2016-05-21, 2016-02-29, 2016-06-25, 2016-03-18, 2016-02-03, 2016-06-07, 2016-03-16, 2016-02-20, 2016-02-20, 2016-03-24, 2016-03-20, 2016-05-16, 2016-06-17, 2016-03-23, 2016-04-12, 2016-06-11, 2016-02-25, 2016-01-07, 2016-06-05, 2016-06-13, 2016-01-16, 2016-04-07, 2016-05-13, 2016-01-28, 2016-06-24, 2016-05-27, 2016-05-22, 2016-05-18, 2016-03-31, 2016-02-13, 2016-01-20, 2016-06-02, 2016-02-04, 2016-03-30, 2016-04-29, ...]\nAt positional index 86, first diff: 2016-04-06 != 2016-04-07"
     ]
    }
   ],
   "source": [
    "pdt.assert_frame_equal(df1, df2, check_names=False)"
   ]
  },
  {
   "cell_type": "code",
   "execution_count": 30,
   "id": "b06590f4-d0c9-41d3-9f96-02e41e972d60",
   "metadata": {
    "editable": true,
    "slideshow": {
     "slide_type": ""
    },
    "tags": []
   },
   "outputs": [
    {
     "data": {
      "text/plain": [
       "np.int64(6)"
      ]
     },
     "execution_count": 30,
     "metadata": {},
     "output_type": "execute_result"
    }
   ],
   "source": [
    "(df1['date'] != df2['date']).sum()"
   ]
  },
  {
   "cell_type": "code",
   "execution_count": 31,
   "id": "1c34f075-e552-436f-bb9a-661c474e41c3",
   "metadata": {
    "editable": true,
    "slideshow": {
     "slide_type": ""
    },
    "tags": []
   },
   "outputs": [
    {
     "name": "stdout",
     "output_type": "stream",
     "text": [
      "Data frames are equal\n"
     ]
    }
   ],
   "source": [
    "# Clean up the data\n",
    "clean_rows = df1['date'] == df2['date']\n",
    "df1 = df1[clean_rows].reset_index(drop=True)\n",
    "df2 = df2[clean_rows].reset_index(drop=True)\n",
    "\n",
    "# Now the assertion is valid\n",
    "pdt.assert_frame_equal(df1, df2, check_names=False)\n",
    "print('Data frames are equal')"
   ]
  },
  {
   "cell_type": "markdown",
   "id": "e48087bd-aab1-4a85-b373-a706abc9552e",
   "metadata": {
    "editable": true,
    "slideshow": {
     "slide_type": ""
    },
    "tags": []
   },
   "source": [
    "## Numpy Arrays Equality"
   ]
  },
  {
   "cell_type": "code",
   "execution_count": 32,
   "id": "9138082f-633a-42ef-ac2d-e31a1f36c5f6",
   "metadata": {
    "editable": true,
    "slideshow": {
     "slide_type": ""
    },
    "tags": [
     "raises-exception"
    ]
   },
   "outputs": [
    {
     "ename": "AssertionError",
     "evalue": "\nArrays are not equal\n\nMismatched elements: 1 / 3 (33.3%)\nMax absolute difference among violations: 1\nMax relative difference among violations: 0.25\n ACTUAL: array([1, 2, 3])\n DESIRED: array([1, 2, 4])",
     "output_type": "error",
     "traceback": [
      "\u001b[0;31m---------------------------------------------------------------------------\u001b[0m",
      "\u001b[0;31mAssertionError\u001b[0m                            Traceback (most recent call last)",
      "Cell \u001b[0;32mIn[32], line 6\u001b[0m\n\u001b[1;32m      4\u001b[0m a \u001b[38;5;241m=\u001b[39m np\u001b[38;5;241m.\u001b[39marray([\u001b[38;5;241m1\u001b[39m, \u001b[38;5;241m2\u001b[39m, \u001b[38;5;241m3\u001b[39m])\n\u001b[1;32m      5\u001b[0m b \u001b[38;5;241m=\u001b[39m np\u001b[38;5;241m.\u001b[39marray([\u001b[38;5;241m1\u001b[39m, \u001b[38;5;241m2\u001b[39m, \u001b[38;5;241m4\u001b[39m])\n\u001b[0;32m----> 6\u001b[0m \u001b[43mnpt\u001b[49m\u001b[38;5;241;43m.\u001b[39;49m\u001b[43massert_array_equal\u001b[49m\u001b[43m(\u001b[49m\u001b[43ma\u001b[49m\u001b[43m,\u001b[49m\u001b[43m \u001b[49m\u001b[43mb\u001b[49m\u001b[43m)\u001b[49m\n",
      "File \u001b[0;32m~/Projects/python/.venv/lib/python3.13/site-packages/numpy/_utils/__init__.py:85\u001b[0m, in \u001b[0;36m_rename_parameter.<locals>.decorator.<locals>.wrapper\u001b[0;34m(*args, **kwargs)\u001b[0m\n\u001b[1;32m     83\u001b[0m             \u001b[38;5;28;01mraise\u001b[39;00m \u001b[38;5;167;01mTypeError\u001b[39;00m(msg)\n\u001b[1;32m     84\u001b[0m         kwargs[new_name] \u001b[38;5;241m=\u001b[39m kwargs\u001b[38;5;241m.\u001b[39mpop(old_name)\n\u001b[0;32m---> 85\u001b[0m \u001b[38;5;28;01mreturn\u001b[39;00m \u001b[43mfun\u001b[49m\u001b[43m(\u001b[49m\u001b[38;5;241;43m*\u001b[39;49m\u001b[43margs\u001b[49m\u001b[43m,\u001b[49m\u001b[43m \u001b[49m\u001b[38;5;241;43m*\u001b[39;49m\u001b[38;5;241;43m*\u001b[39;49m\u001b[43mkwargs\u001b[49m\u001b[43m)\u001b[49m\n",
      "    \u001b[0;31m[... skipping hidden 1 frame]\u001b[0m\n",
      "File \u001b[0;32m~/Projects/python/.venv/lib/python3.13/site-packages/numpy/testing/_private/utils.py:920\u001b[0m, in \u001b[0;36massert_array_compare\u001b[0;34m(comparison, x, y, err_msg, verbose, header, precision, equal_nan, equal_inf, strict, names)\u001b[0m\n\u001b[1;32m    915\u001b[0m         err_msg \u001b[38;5;241m+\u001b[39m\u001b[38;5;241m=\u001b[39m \u001b[38;5;124m'\u001b[39m\u001b[38;5;130;01m\\n\u001b[39;00m\u001b[38;5;124m'\u001b[39m \u001b[38;5;241m+\u001b[39m \u001b[38;5;124m'\u001b[39m\u001b[38;5;130;01m\\n\u001b[39;00m\u001b[38;5;124m'\u001b[39m\u001b[38;5;241m.\u001b[39mjoin(remarks)\n\u001b[1;32m    916\u001b[0m         msg \u001b[38;5;241m=\u001b[39m build_err_msg([ox, oy], err_msg,\n\u001b[1;32m    917\u001b[0m                             verbose\u001b[38;5;241m=\u001b[39mverbose, header\u001b[38;5;241m=\u001b[39mheader,\n\u001b[1;32m    918\u001b[0m                             names\u001b[38;5;241m=\u001b[39mnames,\n\u001b[1;32m    919\u001b[0m                             precision\u001b[38;5;241m=\u001b[39mprecision)\n\u001b[0;32m--> 920\u001b[0m         \u001b[38;5;28;01mraise\u001b[39;00m \u001b[38;5;167;01mAssertionError\u001b[39;00m(msg)\n\u001b[1;32m    921\u001b[0m \u001b[38;5;28;01mexcept\u001b[39;00m \u001b[38;5;167;01mValueError\u001b[39;00m:\n\u001b[1;32m    922\u001b[0m     \u001b[38;5;28;01mimport\u001b[39;00m\u001b[38;5;250m \u001b[39m\u001b[38;5;21;01mtraceback\u001b[39;00m\n",
      "\u001b[0;31mAssertionError\u001b[0m: \nArrays are not equal\n\nMismatched elements: 1 / 3 (33.3%)\nMax absolute difference among violations: 1\nMax relative difference among violations: 0.25\n ACTUAL: array([1, 2, 3])\n DESIRED: array([1, 2, 4])"
     ]
    }
   ],
   "source": [
    "import numpy as np\n",
    "import numpy.testing as npt\n",
    "\n",
    "a = np.array([1, 2, 3])\n",
    "b = np.array([1, 2, 4])\n",
    "npt.assert_array_equal(a, b)"
   ]
  },
  {
   "cell_type": "code",
   "execution_count": 33,
   "id": "eb53bef9-152e-4908-ab82-0e9a33302e7c",
   "metadata": {
    "editable": true,
    "slideshow": {
     "slide_type": ""
    },
    "tags": [
     "raises-exception"
    ]
   },
   "outputs": [
    {
     "ename": "AssertionError",
     "evalue": "Differences in strings:\n- hello world+ HELLO WORLD",
     "output_type": "error",
     "traceback": [
      "\u001b[0;31m---------------------------------------------------------------------------\u001b[0m",
      "\u001b[0;31mAssertionError\u001b[0m                            Traceback (most recent call last)",
      "Cell \u001b[0;32mIn[33], line 1\u001b[0m\n\u001b[0;32m----> 1\u001b[0m \u001b[43mnpt\u001b[49m\u001b[38;5;241;43m.\u001b[39;49m\u001b[43massert_string_equal\u001b[49m\u001b[43m(\u001b[49m\u001b[38;5;124;43m'\u001b[39;49m\u001b[38;5;124;43mhello world\u001b[39;49m\u001b[38;5;124;43m'\u001b[39;49m\u001b[43m,\u001b[49m\u001b[43m \u001b[49m\u001b[38;5;124;43m'\u001b[39;49m\u001b[38;5;124;43mHELLO WORLD\u001b[39;49m\u001b[38;5;124;43m'\u001b[39;49m\u001b[43m)\u001b[49m\n",
      "File \u001b[0;32m~/Projects/python/.venv/lib/python3.13/site-packages/numpy/testing/_private/utils.py:1364\u001b[0m, in \u001b[0;36massert_string_equal\u001b[0;34m(actual, desired)\u001b[0m\n\u001b[1;32m   1362\u001b[0m msg \u001b[38;5;241m=\u001b[39m \u001b[38;5;124mf\u001b[39m\u001b[38;5;124m\"\u001b[39m\u001b[38;5;124mDifferences in strings:\u001b[39m\u001b[38;5;130;01m\\n\u001b[39;00m\u001b[38;5;132;01m{\u001b[39;00m\u001b[38;5;124m'\u001b[39m\u001b[38;5;124m'\u001b[39m\u001b[38;5;241m.\u001b[39mjoin(diff_list)\u001b[38;5;241m.\u001b[39mrstrip()\u001b[38;5;132;01m}\u001b[39;00m\u001b[38;5;124m\"\u001b[39m\n\u001b[1;32m   1363\u001b[0m \u001b[38;5;28;01mif\u001b[39;00m actual \u001b[38;5;241m!=\u001b[39m desired:\n\u001b[0;32m-> 1364\u001b[0m     \u001b[38;5;28;01mraise\u001b[39;00m \u001b[38;5;167;01mAssertionError\u001b[39;00m(msg)\n",
      "\u001b[0;31mAssertionError\u001b[0m: Differences in strings:\n- hello world+ HELLO WORLD"
     ]
    }
   ],
   "source": [
    "npt.assert_string_equal('hello world', 'HELLO WORLD')"
   ]
  },
  {
   "cell_type": "code",
   "execution_count": 34,
   "id": "b572e935-79a8-48c1-b488-34e244b89e24",
   "metadata": {
    "editable": true,
    "slideshow": {
     "slide_type": ""
    },
    "tags": []
   },
   "outputs": [
    {
     "name": "stdout",
     "output_type": "stream",
     "text": [
      "Arrays are close\n"
     ]
    }
   ],
   "source": [
    "a = np.array([1.0, 2.0, 3.0])\n",
    "b = np.array([1.01, 2.02, 3.03])\n",
    "npt.assert_allclose(a, b, rtol=0.01)\n",
    "print('Arrays are close')"
   ]
  },
  {
   "cell_type": "code",
   "execution_count": 35,
   "id": "9f55ff88-2603-4522-81e3-c1b6f7400593",
   "metadata": {
    "editable": true,
    "slideshow": {
     "slide_type": ""
    },
    "tags": []
   },
   "outputs": [
    {
     "name": "stdout",
     "output_type": "stream",
     "text": [
      "All elements in 'b'' are less than those in 'a'\n"
     ]
    }
   ],
   "source": [
    "a = np.array([1, 2, 3])\n",
    "b = np.array([5, 5, 5])\n",
    "npt.assert_array_less(a, b)\n",
    "print(\"All elements in 'b'' are less than those in 'a'\")"
   ]
  },
  {
   "cell_type": "code",
   "execution_count": 36,
   "id": "770b32e1-19f6-4ee7-8ac9-b95ff6104fd6",
   "metadata": {
    "editable": true,
    "slideshow": {
     "slide_type": ""
    },
    "tags": [
     "raises-exception"
    ]
   },
   "outputs": [
    {
     "ename": "AssertionError",
     "evalue": "\nArrays are not strictly ordered `x < y`\n\nMismatched elements: 3 / 3 (100%)\nMax absolute difference among violations: 4\nMax relative difference among violations: 4.\n x: array([5, 5, 5])\n y: array([1, 2, 3])",
     "output_type": "error",
     "traceback": [
      "\u001b[0;31m---------------------------------------------------------------------------\u001b[0m",
      "\u001b[0;31mAssertionError\u001b[0m                            Traceback (most recent call last)",
      "Cell \u001b[0;32mIn[36], line 1\u001b[0m\n\u001b[0;32m----> 1\u001b[0m \u001b[43mnpt\u001b[49m\u001b[38;5;241;43m.\u001b[39;49m\u001b[43massert_array_less\u001b[49m\u001b[43m(\u001b[49m\u001b[43mb\u001b[49m\u001b[43m,\u001b[49m\u001b[43m \u001b[49m\u001b[43ma\u001b[49m\u001b[43m)\u001b[49m\n",
      "    \u001b[0;31m[... skipping hidden 1 frame]\u001b[0m\n",
      "File \u001b[0;32m~/Projects/python/.venv/lib/python3.13/site-packages/numpy/testing/_private/utils.py:920\u001b[0m, in \u001b[0;36massert_array_compare\u001b[0;34m(comparison, x, y, err_msg, verbose, header, precision, equal_nan, equal_inf, strict, names)\u001b[0m\n\u001b[1;32m    915\u001b[0m         err_msg \u001b[38;5;241m+\u001b[39m\u001b[38;5;241m=\u001b[39m \u001b[38;5;124m'\u001b[39m\u001b[38;5;130;01m\\n\u001b[39;00m\u001b[38;5;124m'\u001b[39m \u001b[38;5;241m+\u001b[39m \u001b[38;5;124m'\u001b[39m\u001b[38;5;130;01m\\n\u001b[39;00m\u001b[38;5;124m'\u001b[39m\u001b[38;5;241m.\u001b[39mjoin(remarks)\n\u001b[1;32m    916\u001b[0m         msg \u001b[38;5;241m=\u001b[39m build_err_msg([ox, oy], err_msg,\n\u001b[1;32m    917\u001b[0m                             verbose\u001b[38;5;241m=\u001b[39mverbose, header\u001b[38;5;241m=\u001b[39mheader,\n\u001b[1;32m    918\u001b[0m                             names\u001b[38;5;241m=\u001b[39mnames,\n\u001b[1;32m    919\u001b[0m                             precision\u001b[38;5;241m=\u001b[39mprecision)\n\u001b[0;32m--> 920\u001b[0m         \u001b[38;5;28;01mraise\u001b[39;00m \u001b[38;5;167;01mAssertionError\u001b[39;00m(msg)\n\u001b[1;32m    921\u001b[0m \u001b[38;5;28;01mexcept\u001b[39;00m \u001b[38;5;167;01mValueError\u001b[39;00m:\n\u001b[1;32m    922\u001b[0m     \u001b[38;5;28;01mimport\u001b[39;00m\u001b[38;5;250m \u001b[39m\u001b[38;5;21;01mtraceback\u001b[39;00m\n",
      "\u001b[0;31mAssertionError\u001b[0m: \nArrays are not strictly ordered `x < y`\n\nMismatched elements: 3 / 3 (100%)\nMax absolute difference among violations: 4\nMax relative difference among violations: 4.\n x: array([5, 5, 5])\n y: array([1, 2, 3])"
     ]
    }
   ],
   "source": [
    "npt.assert_array_less(b, a)"
   ]
  },
  {
   "cell_type": "markdown",
   "id": "bcbe3db2-1b53-46a9-b9ee-0f4ea37f23f4",
   "metadata": {
    "editable": true,
    "slideshow": {
     "slide_type": ""
    },
    "tags": []
   },
   "source": [
    "## Quantitative Data Tests"
   ]
  },
  {
   "cell_type": "code",
   "execution_count": 37,
   "id": "1f4edf63-ef36-4aec-bfe4-05c836890af9",
   "metadata": {
    "editable": true,
    "slideshow": {
     "slide_type": ""
    },
    "tags": []
   },
   "outputs": [
    {
     "name": "stdout",
     "output_type": "stream",
     "text": [
      "Data is valid\n"
     ]
    }
   ],
   "source": [
    "import pandas as pd\n",
    "import numpy as np\n",
    "import math\n",
    "\n",
    "def test_for_missing_data(df):\n",
    "  assert df.isnull().sum().sum() == 0, 'Data contains missing values'\n",
    "  return True\n",
    "\n",
    "def test_for_numeric_data_types(df, columns):\n",
    "  for col in columns:\n",
    "    assert df[col].dtype == 'int64' or df[col].dtype == 'float64', f'{col} has non-numerical data type'\n",
    "  return True\n",
    "\n",
    "def test_for_out_of_range_values(df, columns):\n",
    "  for col in columns:\n",
    "    assert df[col].max() < math.inf, f'{col} contains infinite values'\n",
    "    assert df[col].min() > -math.inf, f'{col} contains infinite values'\n",
    "    assert not np.isnan(df[col]).any(), f'{col} contains NaN values'\n",
    "    assert not np.isinf(df[col]).any(), f'{col} contains infinite values'\n",
    "  return True\n",
    "\n",
    "data = pd.read_csv(train_extended_csv)\n",
    "numeric_columns = ['passenger_count', 'pickup_longitude', 'pickup_latitude',\n",
    "                  'dropoff_longitude', 'dropoff_latitude', 'trip_duration',\n",
    "                  'pickup_geonumber', 'dropoff_geonumber', 'pickup_hour']\n",
    "\n",
    "assert test_for_missing_data(data)\n",
    "assert test_for_numeric_data_types(data, numeric_columns)\n",
    "assert test_for_out_of_range_values(data, numeric_columns)\n",
    "\n",
    "print('Data is valid')"
   ]
  },
  {
   "cell_type": "markdown",
   "id": "093aca9b-873d-49e2-94ea-2372f89bad5b",
   "metadata": {
    "editable": true,
    "slideshow": {
     "slide_type": ""
    },
    "tags": []
   },
   "source": [
    "## Logical Data Tests"
   ]
  },
  {
   "cell_type": "code",
   "execution_count": 38,
   "id": "c4c1033a-c241-469b-b7c7-f7e3c48876ee",
   "metadata": {
    "editable": true,
    "slideshow": {
     "slide_type": ""
    },
    "tags": []
   },
   "outputs": [
    {
     "name": "stdout",
     "output_type": "stream",
     "text": [
      "Data is valid\n"
     ]
    }
   ],
   "source": [
    "import pandas.testing as pdt\n",
    "\n",
    "def trips_with_same_pickup_and_dropoff(data):\n",
    "  pickup_data = data[['pickup_longitude', 'pickup_latitude']]\n",
    "  dropoff_data = data[['dropoff_longitude', 'dropoff_latitude']]\n",
    "  pickup_data.columns = ['col1', 'col2']\n",
    "  dropoff_data.columns = ['col1', 'col2']\n",
    "  return data[(pickup_data == dropoff_data).all(axis=1)][['id']]\n",
    "\n",
    "def test_for_logical_errors(df):\n",
    "  assert all(df['dropoff_datetime'] > df['pickup_datetime']), 'Pickup time is before dropoff time'\n",
    "  assert (df['trip_duration'] >= 0).all(), 'Negative trip duration detected'\n",
    "  # These assertions won't pass\n",
    "  # assert len(trips_with_same_pickup_and_dropoff(df)) == 0, f'There are trips with the same pickup and dropoff locations'\n",
    "  # assert all(df['passenger_count'] > 0), 'There are trips without passengers'\n",
    "  return True\n",
    "\n",
    "data = pd.read_csv(train_extended_csv)\n",
    "assert test_for_logical_errors(data)\n",
    "print('Data is valid')"
   ]
  }
 ],
 "metadata": {
  "kernelspec": {
   "display_name": "Python 3 (ipykernel)",
   "language": "python",
   "name": "python3"
  },
  "language_info": {
   "codemirror_mode": {
    "name": "ipython",
    "version": 3
   },
   "file_extension": ".py",
   "mimetype": "text/x-python",
   "name": "python",
   "nbconvert_exporter": "python",
   "pygments_lexer": "ipython3",
   "version": "3.13.2"
  }
 },
 "nbformat": 4,
 "nbformat_minor": 5
}
