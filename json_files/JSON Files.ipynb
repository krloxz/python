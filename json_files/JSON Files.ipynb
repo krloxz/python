{
 "cells": [
  {
   "cell_type": "code",
   "execution_count": 1,
   "id": "86d32778-8072-402c-8789-3df3280e6673",
   "metadata": {},
   "outputs": [],
   "source": [
    "import requests\n",
    "import json"
   ]
  },
  {
   "cell_type": "markdown",
   "id": "ea9ddb7c-8f54-4e3a-b56e-0dc32df09673",
   "metadata": {},
   "source": [
    "## Fetch static data"
   ]
  },
  {
   "cell_type": "code",
   "execution_count": 2,
   "id": "121ef410-9fe6-48ea-ba60-1359374d2a84",
   "metadata": {},
   "outputs": [
    {
     "name": "stdout",
     "output_type": "stream",
     "text": [
      "{'id': 1, 'date': '2021-03-01', 'location': 'London', 'sales': 327}\n",
      "{'id': 4, 'date': '2021-03-02', 'location': 'London', 'sales': 275}\n",
      "{'id': 7, 'date': '2021-03-03', 'location': 'London', 'sales': 312}\n",
      "{'id': 10, 'date': '2021-03-04', 'location': 'London', 'sales': 289}\n",
      "{'id': 13, 'date': '2021-03-05', 'location': 'London', 'sales': 337}\n"
     ]
    }
   ],
   "source": [
    "response = requests.get('https://edfreitas.me/test/wired_brain.json')\n",
    "if response.status_code == 200:\n",
    "  data = json.loads(response.text)\n",
    "  for item in data:\n",
    "    print(item)\n",
    "else:\n",
    "  print('Error fetching data with status code: ', response.status_code)"
   ]
  },
  {
   "cell_type": "markdown",
   "id": "33ead5b8-dc34-495d-97ad-e85ed771f52a",
   "metadata": {},
   "source": [
    "## Retrieve dynamic data"
   ]
  },
  {
   "cell_type": "code",
   "execution_count": 3,
   "id": "2bd23ac3-6a2f-420b-abca-621192ad06e6",
   "metadata": {},
   "outputs": [
    {
     "name": "stdout",
     "output_type": "stream",
     "text": [
      "{'userId': 10, 'id': 181, 'title': 'ut cupiditate sequi aliquam fuga maiores', 'completed': False}\n",
      "{'userId': 10, 'id': 182, 'title': 'inventore saepe cumque et aut illum enim', 'completed': True}\n",
      "{'userId': 10, 'id': 183, 'title': 'omnis nulla eum aliquam distinctio', 'completed': True}\n",
      "{'userId': 10, 'id': 184, 'title': 'molestias modi perferendis perspiciatis', 'completed': False}\n",
      "{'userId': 10, 'id': 185, 'title': 'voluptates dignissimos sed doloribus animi quaerat aut', 'completed': False}\n",
      "{'userId': 10, 'id': 186, 'title': 'explicabo odio est et', 'completed': False}\n",
      "{'userId': 10, 'id': 187, 'title': 'consequuntur animi possimus', 'completed': False}\n",
      "{'userId': 10, 'id': 188, 'title': 'vel non beatae est', 'completed': True}\n",
      "{'userId': 10, 'id': 189, 'title': 'culpa eius et voluptatem et', 'completed': True}\n",
      "{'userId': 10, 'id': 190, 'title': 'accusamus sint iusto et voluptatem exercitationem', 'completed': True}\n",
      "{'userId': 10, 'id': 191, 'title': 'temporibus atque distinctio omnis eius impedit tempore molestias pariatur', 'completed': True}\n",
      "{'userId': 10, 'id': 192, 'title': 'ut quas possimus exercitationem sint voluptates', 'completed': False}\n",
      "{'userId': 10, 'id': 193, 'title': 'rerum debitis voluptatem qui eveniet tempora distinctio a', 'completed': True}\n",
      "{'userId': 10, 'id': 194, 'title': 'sed ut vero sit molestiae', 'completed': False}\n",
      "{'userId': 10, 'id': 195, 'title': 'rerum ex veniam mollitia voluptatibus pariatur', 'completed': True}\n",
      "{'userId': 10, 'id': 196, 'title': 'consequuntur aut ut fugit similique', 'completed': True}\n",
      "{'userId': 10, 'id': 197, 'title': 'dignissimos quo nobis earum saepe', 'completed': True}\n",
      "{'userId': 10, 'id': 198, 'title': 'quis eius est sint explicabo', 'completed': True}\n",
      "{'userId': 10, 'id': 199, 'title': 'numquam repellendus a magnam', 'completed': True}\n",
      "{'userId': 10, 'id': 200, 'title': 'ipsam aperiam voluptates qui', 'completed': False}\n"
     ]
    }
   ],
   "source": [
    "url = 'https://jsonplaceholder.typicode.com/todos'\n",
    "headers = {\n",
    "  'Conten-Type': 'application/json'\n",
    "}\n",
    "params = {\n",
    "  'userId': 10\n",
    "}\n",
    "\n",
    "response = requests.get(url, headers=headers, params=params)\n",
    "if response.status_code == 200:\n",
    "  data = json.loads(response.text)\n",
    "  for item in data:\n",
    "    print(item)\n",
    "else:\n",
    "  print('Error fetching data with status code: ', response.status_code)"
   ]
  },
  {
   "cell_type": "code",
   "execution_count": 4,
   "id": "f00e0bd4-294c-4934-9522-d8ac3afcce51",
   "metadata": {},
   "outputs": [
    {
     "name": "stdout",
     "output_type": "stream",
     "text": [
      "{'id': 10, 'name': 'Clementina DuBuque', 'username': 'Moriah.Stanton', 'email': 'Rey.Padberg@karina.biz', 'address': {'street': 'Kattie Turnpike', 'suite': 'Suite 198', 'city': 'Lebsackbury', 'zipcode': '31428-2261', 'geo': {'lat': '-38.2386', 'lng': '57.2232'}}, 'phone': '024-648-3804', 'website': 'ambrose.net', 'company': {'name': 'Hoeger LLC', 'catchPhrase': 'Centralized empowering task-force', 'bs': 'target end-to-end models'}}\n"
     ]
    }
   ],
   "source": [
    "url = 'https://jsonplaceholder.typicode.com/users'\n",
    "headers = {\n",
    "  'Conten-Type': 'application/json'\n",
    "}\n",
    "params = {\n",
    "  'name': 'Clementina DuBuque'\n",
    "}\n",
    "\n",
    "response = requests.get(url, headers=headers, params=params)\n",
    "if response.status_code == 200:\n",
    "  data = json.loads(response.text)\n",
    "  for item in data:\n",
    "    print(item)\n",
    "else:\n",
    "  print('Error fetching data with status code: ', response.status_code)"
   ]
  },
  {
   "cell_type": "markdown",
   "id": "87c97a14-76b2-46bb-84b1-b80bc6ce2924",
   "metadata": {},
   "source": [
    "## Read files"
   ]
  },
  {
   "cell_type": "code",
   "execution_count": 5,
   "id": "a5883a37-ba1d-491e-8d90-c9047a47b499",
   "metadata": {},
   "outputs": [
    {
     "name": "stdout",
     "output_type": "stream",
     "text": [
      "{'id': 7, 'date': '2021-03-03', 'location': 'London', 'sales': 312}\n",
      "{'id': 10, 'date': '2021-03-04', 'location': 'London', 'sales': 289}\n",
      "{'id': 1, 'date': '2021-03-01', 'location': 'London', 'sales': 327}\n",
      "{'id': 4, 'date': '2021-03-02', 'location': 'London', 'sales': 275}\n",
      "{'id': 7, 'date': '2021-03-03', 'location': 'London', 'sales': 312}\n",
      "{'id': 10, 'date': '2021-03-04', 'location': 'London', 'sales': 289}\n",
      "{'id': 13, 'date': '2021-03-05', 'location': 'London', 'sales': 337}\n",
      "locations\n",
      "sales\n",
      "{'id': 1, 'date': '2021-03-01', 'location': 'London', 'sales': 327}\n",
      "{'id': 4, 'date': '2021-03-02', 'location': 'London', 'sales': 275}\n"
     ]
    }
   ],
   "source": [
    "from pathlib import Path\n",
    "\n",
    "data = []\n",
    "for path in Path('./coffee_sales').glob('*.json'):\n",
    "  with path.open() as file:\n",
    "    data.extend(json.load(file))\n",
    "\n",
    "for item in data:\n",
    "  print(item)\n",
    "\n",
    "with open('output.json', 'w') as file:\n",
    "  json.dump(data, file)"
   ]
  },
  {
   "cell_type": "markdown",
   "id": "c3fb8a36-e318-427e-a8e6-d3a159909569",
   "metadata": {},
   "source": [
    "## Load and manipulate data"
   ]
  },
  {
   "cell_type": "code",
   "execution_count": 6,
   "id": "b8031c2c-5b95-49ab-9584-f48a5325d634",
   "metadata": {},
   "outputs": [
    {
     "name": "stdout",
     "output_type": "stream",
     "text": [
      "{'locations': ['New York', 'London', 'Tokyo'], 'dates': ['2021-01-01', '2021-01-02', '2021-01-01', '2021-01-02', '2021-01-01', '2021-01-02'], 'sales': [100, 200, 150, 250, 120, 180]}\n"
     ]
    }
   ],
   "source": [
    "with open('coffee_sales/coffee_sales.json') as file:\n",
    "  data = json.load(file)\n",
    "\n",
    "locations = [location['name'] for location in data['locations']]\n",
    "\n",
    "sales_data = data['sales']\n",
    "dates = [sale['date'] for sale in sales_data]\n",
    "sales = [sale['sales'] for sale in sales_data]\n",
    "\n",
    "coffee_data = {'locations': locations, 'dates': dates, 'sales': sales}\n",
    "print(coffee_data)"
   ]
  },
  {
   "cell_type": "code",
   "execution_count": 7,
   "id": "745f5bfa-9e73-4026-8002-260262495433",
   "metadata": {},
   "outputs": [
    {
     "name": "stdout",
     "output_type": "stream",
     "text": [
      "[{\"id\": 1, \"date\": \"2021-03-01\", \"location\": \"London\", \"sales\": 327}, {\"id\": 4, \"date\": \"2021-03-02\", \"location\": \"London\", \"sales\": 275}, {\"id\": 7, \"date\": \"2021-03-03\", \"location\": \"London\", \"sales\": 312}, {\"id\": 10, \"date\": \"2021-03-04\", \"location\": \"London\", \"sales\": 289}]\n"
     ]
    }
   ],
   "source": [
    "data = []\n",
    "with open('coffee_sales/coffee_sales_1.json') as file:\n",
    "  data.extend(json.load(file))\n",
    "\n",
    "\n",
    "with open('coffee_sales/coffee_sales_2.json') as file:\n",
    "  data.extend(json.load(file))\n",
    "\n",
    "with open('output.json', 'w') as file:\n",
    "  json.dump(data, file)\n",
    "\n",
    "with open('output.json') as file:\n",
    "  print(file.read())"
   ]
  },
  {
   "cell_type": "markdown",
   "id": "dd501494-bb74-48b9-983c-badf3665930f",
   "metadata": {},
   "source": [
    "## Describe and parse"
   ]
  },
  {
   "cell_type": "code",
   "execution_count": 8,
   "id": "e9b21999-7d5f-4cd1-ac76-2232c7d00010",
   "metadata": {},
   "outputs": [
    {
     "name": "stdout",
     "output_type": "stream",
     "text": [
      "File:  coffee_sales_2.json\n",
      "Type:  <class 'list'>\n",
      "List Items:\n",
      "{'id': 7, 'date': '2021-03-03', 'location': 'London', 'sales': 312}\n",
      "{'id': 10, 'date': '2021-03-04', 'location': 'London', 'sales': 289}\n",
      "------------------------\n",
      "File:  wired_brain.json\n",
      "Type:  <class 'list'>\n",
      "List Items:\n",
      "{'id': 1, 'date': '2021-03-01', 'location': 'London', 'sales': 327}\n",
      "{'id': 4, 'date': '2021-03-02', 'location': 'London', 'sales': 275}\n",
      "{'id': 7, 'date': '2021-03-03', 'location': 'London', 'sales': 312}\n",
      "{'id': 10, 'date': '2021-03-04', 'location': 'London', 'sales': 289}\n",
      "{'id': 13, 'date': '2021-03-05', 'location': 'London', 'sales': 337}\n",
      "------------------------\n",
      "File:  coffee_sales.json\n",
      "Type:  <class 'dict'>\n",
      "Dictionary Items:\n",
      "locations : [{'id': 1, 'name': 'New York'}, {'id': 2, 'name': 'London'}, {'id': 3, 'name': 'Tokyo'}]\n",
      "sales : [{'id': 1, 'location_id': 1, 'date': '2021-01-01', 'sales': 100}, {'id': 2, 'location_id': 1, 'date': '2021-01-02', 'sales': 200}, {'id': 3, 'location_id': 2, 'date': '2021-01-01', 'sales': 150}, {'id': 4, 'location_id': 2, 'date': '2021-01-02', 'sales': 250}, {'id': 5, 'location_id': 3, 'date': '2021-01-01', 'sales': 120}, {'id': 6, 'location_id': 3, 'date': '2021-01-02', 'sales': 180}]\n",
      "------------------------\n",
      "File:  coffee_sales_1.json\n",
      "Type:  <class 'list'>\n",
      "List Items:\n",
      "{'id': 1, 'date': '2021-03-01', 'location': 'London', 'sales': 327}\n",
      "{'id': 4, 'date': '2021-03-02', 'location': 'London', 'sales': 275}\n",
      "------------------------\n"
     ]
    }
   ],
   "source": [
    "for path in Path('./coffee_sales').glob('*.json'):\n",
    "  with path.open() as file:\n",
    "    data = json.load(file)\n",
    "    print('File: ', path.name)\n",
    "    print('Type: ', type(data))\n",
    "    if isinstance(data, list):\n",
    "      print('List Items:')\n",
    "      for item in data:\n",
    "        print(item)\n",
    "    elif isinstance(data, dict):\n",
    "      print('Dictionary Items:')\n",
    "      for key, value in data.items():\n",
    "        print(key, ':', value)\n",
    "    else:\n",
    "      print('Data:')\n",
    "      print(data)\n",
    "    print('------------------------')"
   ]
  },
  {
   "cell_type": "code",
   "execution_count": 9,
   "id": "c190faac-b511-4e2c-86a1-0f52cca8ff98",
   "metadata": {},
   "outputs": [
    {
     "name": "stdout",
     "output_type": "stream",
     "text": [
      "<class 'dict'>\n",
      "<class 'str'>\n",
      "<class 'dict'>\n"
     ]
    }
   ],
   "source": [
    "with open('coffee_sales/coffee_sales.json') as file:\n",
    "  data = json.load(file)\n",
    "  print(type(data))\n",
    "\n",
    "json_string = json.dumps(data)\n",
    "print(type(json_string))\n",
    "\n",
    "new_data = json.loads(json_string)\n",
    "print(type(new_data))"
   ]
  }
 ],
 "metadata": {
  "kernelspec": {
   "display_name": "Python 3 (ipykernel)",
   "language": "python",
   "name": "python3"
  },
  "language_info": {
   "codemirror_mode": {
    "name": "ipython",
    "version": 3
   },
   "file_extension": ".py",
   "mimetype": "text/x-python",
   "name": "python",
   "nbconvert_exporter": "python",
   "pygments_lexer": "ipython3",
   "version": "3.13.2"
  }
 },
 "nbformat": 4,
 "nbformat_minor": 5
}
