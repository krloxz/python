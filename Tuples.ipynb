{
 "cells": [
  {
   "cell_type": "markdown",
   "id": "5077113c-64ea-468c-a494-649400e2e7d9",
   "metadata": {},
   "source": [
    "## Creating a Tuple"
   ]
  },
  {
   "cell_type": "code",
   "execution_count": 3,
   "id": "698d7fd2-6ca4-4919-97cc-cb49de34dbad",
   "metadata": {},
   "outputs": [
    {
     "data": {
      "text/plain": [
       "('apple', 'banana', 'cherry')"
      ]
     },
     "execution_count": 3,
     "metadata": {},
     "output_type": "execute_result"
    }
   ],
   "source": [
    "my_tuple = ('apple', 'banana', 'cherry')\n",
    "my_tuple"
   ]
  },
  {
   "cell_type": "code",
   "execution_count": 5,
   "id": "caa43587-c6b0-4c45-8024-b050a8162a51",
   "metadata": {},
   "outputs": [
    {
     "name": "stdout",
     "output_type": "stream",
     "text": [
      "<class 'tuple'>\n"
     ]
    }
   ],
   "source": [
    "print(type(my_tuple))"
   ]
  },
  {
   "cell_type": "markdown",
   "id": "766d4c09-c964-4750-a094-1d15e53ca447",
   "metadata": {},
   "source": [
    "### Tuples with one element need a comma"
   ]
  },
  {
   "cell_type": "code",
   "execution_count": 9,
   "id": "bbab53b6-af8e-41d9-8661-8ad8d5a8a2f7",
   "metadata": {},
   "outputs": [
    {
     "name": "stdout",
     "output_type": "stream",
     "text": [
      "apple\n",
      "<class 'str'>\n"
     ]
    }
   ],
   "source": [
    "# Wrong:\n",
    "single_element = ('apple')\n",
    "print(single_element)\n",
    "print(type(single_element))"
   ]
  },
  {
   "cell_type": "code",
   "execution_count": 10,
   "id": "43faafc2-00e3-4014-8e1e-221bae9f88f3",
   "metadata": {},
   "outputs": [
    {
     "name": "stdout",
     "output_type": "stream",
     "text": [
      "('apple',)\n",
      "<class 'tuple'>\n"
     ]
    }
   ],
   "source": [
    "# Correct:\n",
    "single_element = ('apple',)\n",
    "print(single_element)\n",
    "print(type(single_element))"
   ]
  },
  {
   "cell_type": "markdown",
   "id": "ed79605c-c6d4-47fe-a3f2-6b25b6f93d99",
   "metadata": {},
   "source": [
    "### Empty tuples"
   ]
  },
  {
   "cell_type": "code",
   "execution_count": 11,
   "id": "52a281f3-70f2-45bf-8e81-80d346202dd4",
   "metadata": {},
   "outputs": [
    {
     "name": "stdout",
     "output_type": "stream",
     "text": [
      "()\n",
      "<class 'tuple'>\n"
     ]
    }
   ],
   "source": [
    "empty_tuple = ()\n",
    "print(empty_tuple)\n",
    "print(type(empty_tuple))"
   ]
  },
  {
   "cell_type": "markdown",
   "id": "25078301-2dd8-486f-89f5-950ef0a7ee39",
   "metadata": {},
   "source": [
    "## Tuples are Records"
   ]
  },
  {
   "cell_type": "markdown",
   "id": "a9c25960-7a64-4694-85d8-854128480bd6",
   "metadata": {},
   "source": [
    "#### Can have mixed data"
   ]
  },
  {
   "cell_type": "code",
   "execution_count": 13,
   "id": "a57f574a-2151-455e-b163-3b36435505e9",
   "metadata": {},
   "outputs": [
    {
     "data": {
      "text/plain": [
       "('John', 25, 'New York')"
      ]
     },
     "execution_count": 13,
     "metadata": {},
     "output_type": "execute_result"
    }
   ],
   "source": [
    "record = ('John', 25, 'New York')\n",
    "record"
   ]
  },
  {
   "cell_type": "markdown",
   "id": "57288cbe-2690-4ace-a830-e96a37237a24",
   "metadata": {},
   "source": [
    "#### Are immutable"
   ]
  },
  {
   "cell_type": "code",
   "execution_count": 14,
   "id": "dcd46742-527a-4526-8848-a3e3e9804f4f",
   "metadata": {},
   "outputs": [
    {
     "ename": "TypeError",
     "evalue": "'tuple' object does not support item assignment",
     "output_type": "error",
     "traceback": [
      "\u001b[0;31m---------------------------------------------------------------------------\u001b[0m",
      "\u001b[0;31mTypeError\u001b[0m                                 Traceback (most recent call last)",
      "Cell \u001b[0;32mIn[14], line 1\u001b[0m\n\u001b[0;32m----> 1\u001b[0m \u001b[43mrecord\u001b[49m\u001b[43m[\u001b[49m\u001b[38;5;241;43m0\u001b[39;49m\u001b[43m]\u001b[49m \u001b[38;5;241m=\u001b[39m \u001b[38;5;124m'\u001b[39m\u001b[38;5;124mJohnny\u001b[39m\u001b[38;5;124m'\u001b[39m\n",
      "\u001b[0;31mTypeError\u001b[0m: 'tuple' object does not support item assignment"
     ]
    }
   ],
   "source": [
    "record[0] = 'Johnny'"
   ]
  },
  {
   "cell_type": "markdown",
   "id": "5d6f7eb8-e5c5-4383-b0eb-04248967ca10",
   "metadata": {},
   "source": [
    "#### Can be unpacked (deconstructed)"
   ]
  },
  {
   "cell_type": "code",
   "execution_count": 16,
   "id": "c7567441-0074-4ca6-82d2-5a419b81d1fb",
   "metadata": {},
   "outputs": [
    {
     "name": "stdout",
     "output_type": "stream",
     "text": [
      "John\n",
      "25\n",
      "New York\n"
     ]
    }
   ],
   "source": [
    "name, age, city = record\n",
    "print(name)\n",
    "print(age)\n",
    "print(city)"
   ]
  },
  {
   "cell_type": "markdown",
   "id": "a5315440-f72e-4c9c-9a25-64413f00842a",
   "metadata": {},
   "source": [
    "#### Support 'Packing'"
   ]
  },
  {
   "cell_type": "code",
   "execution_count": 18,
   "id": "65e35999-18f2-434e-aacc-02b3900b5fc2",
   "metadata": {},
   "outputs": [
    {
     "name": "stdout",
     "output_type": "stream",
     "text": [
      "('Johnny', 30, 'Chicago')\n",
      "<class 'tuple'>\n"
     ]
    }
   ],
   "source": [
    "record = 'Johnny', 30, 'Chicago'\n",
    "print(record)\n",
    "print(type(record))"
   ]
  },
  {
   "cell_type": "markdown",
   "id": "a0ac8862-8aba-4d4a-9c14-04ce28407b2c",
   "metadata": {},
   "source": [
    "## Like Lists..."
   ]
  }
 ],
 "metadata": {
  "kernelspec": {
   "display_name": "Python 3 (ipykernel)",
   "language": "python",
   "name": "python3"
  },
  "language_info": {
   "codemirror_mode": {
    "name": "ipython",
    "version": 3
   },
   "file_extension": ".py",
   "mimetype": "text/x-python",
   "name": "python",
   "nbconvert_exporter": "python",
   "pygments_lexer": "ipython3",
   "version": "3.12.3"
  },
  "widgets": {
   "application/vnd.jupyter.widget-state+json": {
    "state": {},
    "version_major": 2,
    "version_minor": 0
   }
  }
 },
 "nbformat": 4,
 "nbformat_minor": 5
}
