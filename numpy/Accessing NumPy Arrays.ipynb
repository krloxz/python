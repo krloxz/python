{
 "cells": [
  {
   "cell_type": "code",
   "execution_count": 1,
   "id": "1bd33bb9-67df-427e-a309-e9cd6aa8f720",
   "metadata": {},
   "outputs": [],
   "source": [
    "import numpy as np"
   ]
  },
  {
   "cell_type": "markdown",
   "id": "5da3ff14-a40e-436e-bafa-ae1978f97769",
   "metadata": {},
   "source": [
    "## Creating arrays"
   ]
  },
  {
   "cell_type": "code",
   "execution_count": 2,
   "id": "fd0f1e29-e1a6-4759-b880-7444237e5d39",
   "metadata": {},
   "outputs": [
    {
     "data": {
      "text/plain": [
       "array([[1, 2, 3],\n",
       "       [4, 5, 6]])"
      ]
     },
     "execution_count": 2,
     "metadata": {},
     "output_type": "execute_result"
    }
   ],
   "source": [
    "np.array([\n",
    "  [1, 2, 3],\n",
    "  [4, 5, 6]\n",
    "])"
   ]
  },
  {
   "cell_type": "code",
   "execution_count": 3,
   "id": "fe79547c-d78c-439a-859a-1a47cd65200c",
   "metadata": {},
   "outputs": [
    {
     "data": {
      "text/plain": [
       "array([[[1, 2],\n",
       "        [3, 4]],\n",
       "\n",
       "       [[5, 6],\n",
       "        [7, 8]]])"
      ]
     },
     "execution_count": 3,
     "metadata": {},
     "output_type": "execute_result"
    }
   ],
   "source": [
    "np.array([\n",
    "  [\n",
    "    [1, 2],\n",
    "    [3, 4]\n",
    "  ],\n",
    "  [\n",
    "    [5, 6],\n",
    "    [7, 8]\n",
    "  ]\n",
    "])"
   ]
  },
  {
   "cell_type": "code",
   "execution_count": 4,
   "id": "af157943-77bf-455d-bb6c-aeb717b9e286",
   "metadata": {},
   "outputs": [
    {
     "data": {
      "text/plain": [
       "array([-2, -1,  0,  1,  2], dtype=int16)"
      ]
     },
     "execution_count": 4,
     "metadata": {},
     "output_type": "execute_result"
    }
   ],
   "source": [
    "np.array([-2, -1, 0, 1, 2], dtype=np.short)"
   ]
  },
  {
   "cell_type": "code",
   "execution_count": 5,
   "id": "6ea0728c-4d88-49d4-b3a2-a0b7a5011aba",
   "metadata": {},
   "outputs": [
    {
     "name": "stdout",
     "output_type": "stream",
     "text": [
      "Python integer -2 out of bounds for uint16\n"
     ]
    }
   ],
   "source": [
    "# Cast overflow is not allowed on creation:\n",
    "try:\n",
    "  np.array([-2, -1, 0, 1, 2], dtype=np.ushort)\n",
    "except Exception as e:\n",
    "  print(e)"
   ]
  },
  {
   "cell_type": "code",
   "execution_count": 6,
   "id": "500ed29c-51e2-4be4-afad-5c52e3b5db3c",
   "metadata": {},
   "outputs": [
    {
     "data": {
      "text/plain": [
       "array([65534, 65535,     0,     1,     2], dtype=uint16)"
      ]
     },
     "execution_count": 6,
     "metadata": {},
     "output_type": "execute_result"
    }
   ],
   "source": [
    "# Use astype to allow cast overflow:\n",
    "np.array([-2, -1, 0, 1, 2]).astype(np.ushort)"
   ]
  },
  {
   "cell_type": "markdown",
   "id": "e488b18f-406a-483d-b120-648397ac5744",
   "metadata": {},
   "source": [
    "## Generating arrays"
   ]
  },
  {
   "cell_type": "code",
   "execution_count": 7,
   "id": "31877819-5df7-43ea-b7a0-06d52d5c1d26",
   "metadata": {},
   "outputs": [
    {
     "data": {
      "text/plain": [
       "array([0, 1, 2])"
      ]
     },
     "execution_count": 7,
     "metadata": {},
     "output_type": "execute_result"
    }
   ],
   "source": [
    "np.arange(3)"
   ]
  },
  {
   "cell_type": "code",
   "execution_count": 8,
   "id": "ace1b903-d5a0-4cfe-9890-935c99f8d27c",
   "metadata": {},
   "outputs": [
    {
     "data": {
      "text/plain": [
       "array([1, 2])"
      ]
     },
     "execution_count": 8,
     "metadata": {},
     "output_type": "execute_result"
    }
   ],
   "source": [
    "np.arange(1, 3)"
   ]
  },
  {
   "cell_type": "code",
   "execution_count": 9,
   "id": "f2a1ca9d-fa43-4c7e-ac04-c88b47f4422b",
   "metadata": {},
   "outputs": [
    {
     "data": {
      "text/plain": [
       "array([ 0,  2,  4,  6,  8, 10])"
      ]
     },
     "execution_count": 9,
     "metadata": {},
     "output_type": "execute_result"
    }
   ],
   "source": [
    "np.arange(0, 11, 2)"
   ]
  },
  {
   "cell_type": "code",
   "execution_count": 10,
   "id": "fda6f685-ca00-48c4-a492-2ede59e79533",
   "metadata": {},
   "outputs": [
    {
     "data": {
      "text/plain": [
       "array([-1, -2, -3])"
      ]
     },
     "execution_count": 10,
     "metadata": {},
     "output_type": "execute_result"
    }
   ],
   "source": [
    "np.arange(-1, -4, -1)"
   ]
  },
  {
   "cell_type": "code",
   "execution_count": 11,
   "id": "706c313c-8dd4-4290-acef-90c12fd34f56",
   "metadata": {},
   "outputs": [
    {
     "data": {
      "text/plain": [
       "array([0.1, 0.2], dtype=float32)"
      ]
     },
     "execution_count": 11,
     "metadata": {},
     "output_type": "execute_result"
    }
   ],
   "source": [
    "np.arange(0.1, 0.3, 0.1, dtype=np.single)"
   ]
  },
  {
   "cell_type": "code",
   "execution_count": 12,
   "id": "1f871d43-04c9-4083-beab-587a58531756",
   "metadata": {},
   "outputs": [
    {
     "data": {
      "text/plain": [
       "array([0.1, 0.2, 0.3, 0.4], dtype=float32)"
      ]
     },
     "execution_count": 12,
     "metadata": {},
     "output_type": "execute_result"
    }
   ],
   "source": [
    "# Be aware that float point rounding could break the range\n",
    "# and the end element might be included in the range: \n",
    "np.arange(0.1, 0.4, 0.1, dtype=np.single)"
   ]
  },
  {
   "cell_type": "code",
   "execution_count": 13,
   "id": "e68a3674-b5d5-465b-ad4c-7665392e30f7",
   "metadata": {},
   "outputs": [
    {
     "data": {
      "text/plain": [
       "array([0.1, 0.2, 0.3])"
      ]
     },
     "execution_count": 13,
     "metadata": {},
     "output_type": "execute_result"
    }
   ],
   "source": [
    "# linspace is more reliable:\n",
    "np.linspace(0.1, 0.3, 3)"
   ]
  },
  {
   "cell_type": "code",
   "execution_count": 14,
   "id": "b4f95aa7-d075-416c-b2ab-5da6a6ca4088",
   "metadata": {},
   "outputs": [
    {
     "data": {
      "text/plain": [
       "array([[1., 0., 0.],\n",
       "       [0., 1., 0.],\n",
       "       [0., 0., 1.]])"
      ]
     },
     "execution_count": 14,
     "metadata": {},
     "output_type": "execute_result"
    }
   ],
   "source": [
    "np.eye(3)"
   ]
  },
  {
   "cell_type": "code",
   "execution_count": 15,
   "id": "ca49ba94-7c41-422a-9674-1b1592611739",
   "metadata": {},
   "outputs": [
    {
     "data": {
      "text/plain": [
       "array([[1., 0., 0., 0.],\n",
       "       [0., 1., 0., 0.],\n",
       "       [0., 0., 1., 0.]])"
      ]
     },
     "execution_count": 15,
     "metadata": {},
     "output_type": "execute_result"
    }
   ],
   "source": [
    "np.eye(3, 4)"
   ]
  },
  {
   "cell_type": "code",
   "execution_count": 16,
   "id": "c056b131-ebc3-4c44-9a05-d9cb5d3436e2",
   "metadata": {},
   "outputs": [
    {
     "data": {
      "text/plain": [
       "array([[1, 0, 0, 0],\n",
       "       [0, 2, 0, 0],\n",
       "       [0, 0, 3, 0],\n",
       "       [0, 0, 0, 4]])"
      ]
     },
     "execution_count": 16,
     "metadata": {},
     "output_type": "execute_result"
    }
   ],
   "source": [
    "diag_matrix = np.diag([1, 2, 3, 4])\n",
    "diag_matrix"
   ]
  },
  {
   "cell_type": "code",
   "execution_count": 17,
   "id": "3e9a4cf2-dfb3-4a86-80ab-f3f8e8d128f4",
   "metadata": {},
   "outputs": [
    {
     "data": {
      "text/plain": [
       "array([1, 2, 3, 4])"
      ]
     },
     "execution_count": 17,
     "metadata": {},
     "output_type": "execute_result"
    }
   ],
   "source": [
    "np.diag(diag_matrix)"
   ]
  },
  {
   "cell_type": "code",
   "execution_count": 18,
   "id": "dd762ab4-cae6-4ca9-95fb-10a4fbd4ff12",
   "metadata": {},
   "outputs": [
    {
     "data": {
      "text/plain": [
       "array([[0, 0, 0],\n",
       "       [0, 0, 0],\n",
       "       [0, 0, 0],\n",
       "       [0, 0, 0],\n",
       "       [0, 0, 0]], dtype=uint64)"
      ]
     },
     "execution_count": 18,
     "metadata": {},
     "output_type": "execute_result"
    }
   ],
   "source": [
    "np.zeros((5, 3), dtype=np.uint)"
   ]
  },
  {
   "cell_type": "code",
   "execution_count": 19,
   "id": "a86a1f67-646a-4a12-8bd0-f04ff09330f1",
   "metadata": {},
   "outputs": [
    {
     "data": {
      "text/plain": [
       "array([[[0., 0.],\n",
       "        [0., 0.],\n",
       "        [0., 0.]],\n",
       "\n",
       "       [[0., 0.],\n",
       "        [0., 0.],\n",
       "        [0., 0.]],\n",
       "\n",
       "       [[0., 0.],\n",
       "        [0., 0.],\n",
       "        [0., 0.]],\n",
       "\n",
       "       [[0., 0.],\n",
       "        [0., 0.],\n",
       "        [0., 0.]]])"
      ]
     },
     "execution_count": 19,
     "metadata": {},
     "output_type": "execute_result"
    }
   ],
   "source": [
    "np.zeros((4, 3, 2))"
   ]
  },
  {
   "cell_type": "code",
   "execution_count": 20,
   "id": "1a39771c-8594-4413-83a9-a3f08bd45ef4",
   "metadata": {},
   "outputs": [
    {
     "data": {
      "text/plain": [
       "array([[1., 1., 1.],\n",
       "       [1., 1., 1.]])"
      ]
     },
     "execution_count": 20,
     "metadata": {},
     "output_type": "execute_result"
    }
   ],
   "source": [
    "np.ones((2, 3))"
   ]
  },
  {
   "cell_type": "code",
   "execution_count": 21,
   "id": "83ce9171-2cb8-4969-b9f5-7c6e68cc9d0b",
   "metadata": {},
   "outputs": [
    {
     "data": {
      "text/plain": [
       "array([[3.14159265, 3.14159265, 3.14159265],\n",
       "       [3.14159265, 3.14159265, 3.14159265],\n",
       "       [3.14159265, 3.14159265, 3.14159265],\n",
       "       [3.14159265, 3.14159265, 3.14159265],\n",
       "       [3.14159265, 3.14159265, 3.14159265]])"
      ]
     },
     "execution_count": 21,
     "metadata": {},
     "output_type": "execute_result"
    }
   ],
   "source": [
    "np.full((5, 3), np.pi)"
   ]
  },
  {
   "cell_type": "code",
   "execution_count": 22,
   "id": "7e37dd75-a54a-4fd2-bd93-138ae80f5f27",
   "metadata": {},
   "outputs": [
    {
     "data": {
      "text/plain": [
       "array([[0.73469799, 0.10022115],\n",
       "       [0.596636  , 0.52110549]])"
      ]
     },
     "execution_count": 22,
     "metadata": {},
     "output_type": "execute_result"
    }
   ],
   "source": [
    "np.random.rand(2, 2)"
   ]
  },
  {
   "cell_type": "markdown",
   "id": "c3f92dac-8b2c-4603-b004-474dd7a93d48",
   "metadata": {},
   "source": [
    "## Indexing & slicing"
   ]
  },
  {
   "cell_type": "code",
   "execution_count": 23,
   "id": "e51f5214-1232-45c5-a966-02ad6452c980",
   "metadata": {},
   "outputs": [
    {
     "data": {
      "text/plain": [
       "np.int64(3)"
      ]
     },
     "execution_count": 23,
     "metadata": {},
     "output_type": "execute_result"
    }
   ],
   "source": [
    "array = np.array([1, 2, 3])\n",
    "array[-1]"
   ]
  },
  {
   "cell_type": "code",
   "execution_count": 24,
   "id": "4fa7cec2-5a5b-47a8-b8b1-3fc3865bf777",
   "metadata": {},
   "outputs": [
    {
     "data": {
      "text/plain": [
       "np.int64(11)"
      ]
     },
     "execution_count": 24,
     "metadata": {},
     "output_type": "execute_result"
    }
   ],
   "source": [
    "array = np.array([\n",
    "  [11, 12, 13, 14],\n",
    "  [21, 22, 23, 24],\n",
    "  [31, 32, 33, 34]\n",
    "])\n",
    "array[0, 0]"
   ]
  },
  {
   "cell_type": "code",
   "execution_count": 25,
   "id": "022181c7-707f-4e80-9a34-f3dc3f1483f0",
   "metadata": {},
   "outputs": [
    {
     "data": {
      "text/plain": [
       "np.int64(33)"
      ]
     },
     "execution_count": 25,
     "metadata": {},
     "output_type": "execute_result"
    }
   ],
   "source": [
    "array[2, -2]"
   ]
  },
  {
   "cell_type": "code",
   "execution_count": 26,
   "id": "9a39959d-f280-4538-836c-9b778ff1122b",
   "metadata": {},
   "outputs": [
    {
     "data": {
      "text/plain": [
       "array([21, 22, 23, 24])"
      ]
     },
     "execution_count": 26,
     "metadata": {},
     "output_type": "execute_result"
    }
   ],
   "source": [
    "second_row = array[1]\n",
    "second_row"
   ]
  },
  {
   "cell_type": "code",
   "execution_count": 27,
   "id": "e46fc074-134e-48e8-8f68-9df75f718dfe",
   "metadata": {},
   "outputs": [
    {
     "data": {
      "text/plain": [
       "array([[ 11,  12,  13,  14],\n",
       "       [210,  22,  23,  24],\n",
       "       [ 31,  32,  33,  34]])"
      ]
     },
     "execution_count": 27,
     "metadata": {},
     "output_type": "execute_result"
    }
   ],
   "source": [
    "second_row[0] = 210\n",
    "array"
   ]
  },
  {
   "cell_type": "code",
   "execution_count": 28,
   "id": "61d6ddcf-eca0-4d07-b409-e40b8a0cab87",
   "metadata": {},
   "outputs": [
    {
     "data": {
      "text/plain": [
       "array([1, 3])"
      ]
     },
     "execution_count": 28,
     "metadata": {},
     "output_type": "execute_result"
    }
   ],
   "source": [
    "array = np.array([0, 1, 2, 3, 4, 5])\n",
    "#[start:stop:step]\n",
    "array[1:4:2]"
   ]
  },
  {
   "cell_type": "code",
   "execution_count": 29,
   "id": "2b9bdddf-4111-4f29-b812-01c811e3cf8f",
   "metadata": {},
   "outputs": [
    {
     "data": {
      "text/plain": [
       "array([1, 2, 3])"
      ]
     },
     "execution_count": 29,
     "metadata": {},
     "output_type": "execute_result"
    }
   ],
   "source": [
    "array[1:4:1]"
   ]
  },
  {
   "cell_type": "code",
   "execution_count": 30,
   "id": "13457032-4416-49a1-ab9a-87a9d6047937",
   "metadata": {},
   "outputs": [
    {
     "data": {
      "text/plain": [
       "array([1, 2, 3])"
      ]
     },
     "execution_count": 30,
     "metadata": {},
     "output_type": "execute_result"
    }
   ],
   "source": [
    "array[1:4]"
   ]
  },
  {
   "cell_type": "code",
   "execution_count": 31,
   "id": "79013527-0f37-4009-95e2-e105b1443c19",
   "metadata": {},
   "outputs": [
    {
     "data": {
      "text/plain": [
       "array([5, 4, 3, 2])"
      ]
     },
     "execution_count": 31,
     "metadata": {},
     "output_type": "execute_result"
    }
   ],
   "source": [
    "array[5:1:-1]"
   ]
  },
  {
   "cell_type": "code",
   "execution_count": 32,
   "id": "47f9437e-ccfc-494b-aaad-100c93afb07e",
   "metadata": {},
   "outputs": [
    {
     "data": {
      "text/plain": [
       "array([2, 3])"
      ]
     },
     "execution_count": 32,
     "metadata": {},
     "output_type": "execute_result"
    }
   ],
   "source": [
    "array[2:-2]"
   ]
  },
  {
   "cell_type": "code",
   "execution_count": 33,
   "id": "dca5e6bd-343e-4b2d-b17a-533f7a67b8ae",
   "metadata": {},
   "outputs": [
    {
     "data": {
      "text/plain": [
       "array([[12, 13],\n",
       "       [22, 23]])"
      ]
     },
     "execution_count": 33,
     "metadata": {},
     "output_type": "execute_result"
    }
   ],
   "source": [
    "array = np.array([\n",
    "  [11, 12, 13, 14],\n",
    "  [21, 22, 23, 24],\n",
    "  [31, 32, 33, 34]\n",
    "])\n",
    "#[row-start:row-end:step, col-start:col-end:step]\n",
    "array[0:2:1, 1:3:1]"
   ]
  },
  {
   "cell_type": "code",
   "execution_count": 34,
   "id": "a317bb7c-b024-4a5e-91ec-66ed407e6ab8",
   "metadata": {},
   "outputs": [
    {
     "data": {
      "text/plain": [
       "array([[12, 13],\n",
       "       [22, 23]])"
      ]
     },
     "execution_count": 34,
     "metadata": {},
     "output_type": "execute_result"
    }
   ],
   "source": [
    "array[0:2, 1:3]"
   ]
  },
  {
   "cell_type": "code",
   "execution_count": 35,
   "id": "e2588cd6-da7c-4994-9c4d-b7362b099b09",
   "metadata": {},
   "outputs": [
    {
     "data": {
      "text/plain": [
       "np.int64(23)"
      ]
     },
     "execution_count": 35,
     "metadata": {},
     "output_type": "execute_result"
    }
   ],
   "source": [
    "array[1, 2]"
   ]
  },
  {
   "cell_type": "code",
   "execution_count": 36,
   "id": "2abd2970-e612-4250-ad55-f19b6345e611",
   "metadata": {},
   "outputs": [
    {
     "data": {
      "text/plain": [
       "array([[21, 22, 23, 24],\n",
       "       [31, 32, 33, 34]])"
      ]
     },
     "execution_count": 36,
     "metadata": {},
     "output_type": "execute_result"
    }
   ],
   "source": [
    "array[[1, 2]]"
   ]
  },
  {
   "cell_type": "code",
   "execution_count": 37,
   "id": "25119cfa-ae7b-4815-b979-b80760edda5c",
   "metadata": {},
   "outputs": [
    {
     "data": {
      "text/plain": [
       "array([22, 32])"
      ]
     },
     "execution_count": 37,
     "metadata": {},
     "output_type": "execute_result"
    }
   ],
   "source": [
    "#[[rows], col]\n",
    "array[[1, 2], 1]"
   ]
  },
  {
   "cell_type": "code",
   "execution_count": 38,
   "id": "b8e4d587-43b8-4b1e-b1ac-f786c5c4d439",
   "metadata": {},
   "outputs": [
    {
     "data": {
      "text/plain": [
       "array([12, 34])"
      ]
     },
     "execution_count": 38,
     "metadata": {},
     "output_type": "execute_result"
    }
   ],
   "source": [
    "# array[0, 1] & array[2, 3]\n",
    "array[[0, 2], [1, 3]]"
   ]
  },
  {
   "cell_type": "markdown",
   "id": "96d13cf1-e98d-4694-8c42-985c02f2f1b8",
   "metadata": {},
   "source": [
    "## Filtering"
   ]
  },
  {
   "cell_type": "code",
   "execution_count": 39,
   "id": "25718be3-86aa-4b65-84aa-838473ee546b",
   "metadata": {},
   "outputs": [
    {
     "data": {
      "text/plain": [
       "array([-1,  1])"
      ]
     },
     "execution_count": 39,
     "metadata": {},
     "output_type": "execute_result"
    }
   ],
   "source": [
    "array = np.array([-1, 0, 1])\n",
    "array[[True, False, True]]"
   ]
  },
  {
   "cell_type": "code",
   "execution_count": 40,
   "id": "71ff5cf9-a2dd-402f-b72c-e4cd8d6fbb14",
   "metadata": {},
   "outputs": [
    {
     "data": {
      "text/plain": [
       "array([0, 1])"
      ]
     },
     "execution_count": 40,
     "metadata": {},
     "output_type": "execute_result"
    }
   ],
   "source": [
    "array[array >= 0]"
   ]
  },
  {
   "cell_type": "code",
   "execution_count": 41,
   "id": "d4860d6f-198f-4c40-8e23-72b0d5a4b2bb",
   "metadata": {},
   "outputs": [
    {
     "data": {
      "text/plain": [
       "array([0, 2, 4, 6, 8])"
      ]
     },
     "execution_count": 41,
     "metadata": {},
     "output_type": "execute_result"
    }
   ],
   "source": [
    "first_ten = np.arange(10)\n",
    "first_ten[first_ten % 2 == 0]"
   ]
  },
  {
   "cell_type": "code",
   "execution_count": 42,
   "id": "08ad9121-2312-45fe-bbe8-a04dd593dc9a",
   "metadata": {},
   "outputs": [
    {
     "data": {
      "text/plain": [
       "array([-2, -3, -2])"
      ]
     },
     "execution_count": 42,
     "metadata": {},
     "output_type": "execute_result"
    }
   ],
   "source": [
    "array = np.array([\n",
    "  [-1, 0, 1],\n",
    "  [-2, -1, 0],\n",
    "  [-3, -2, -1]\n",
    "])\n",
    "array[array < -1]"
   ]
  },
  {
   "cell_type": "markdown",
   "id": "fba87c5b-6d03-4ef0-828a-44b557f1ac06",
   "metadata": {},
   "source": [
    "## Reshaping"
   ]
  },
  {
   "cell_type": "code",
   "execution_count": 43,
   "id": "a5c6b1f5-6ecf-4fd8-99f4-3adcd169aeda",
   "metadata": {},
   "outputs": [
    {
     "data": {
      "text/plain": [
       "array([[0, 1, 2],\n",
       "       [3, 4, 5]])"
      ]
     },
     "execution_count": 43,
     "metadata": {},
     "output_type": "execute_result"
    }
   ],
   "source": [
    "np.arange(6).reshape(2, 3)"
   ]
  },
  {
   "cell_type": "code",
   "execution_count": 44,
   "id": "8554f55a-8844-462e-83d0-dca7f031d2bb",
   "metadata": {},
   "outputs": [
    {
     "data": {
      "text/plain": [
       "array([[[0, 1, 2]],\n",
       "\n",
       "       [[3, 4, 5]]])"
      ]
     },
     "execution_count": 44,
     "metadata": {},
     "output_type": "execute_result"
    }
   ],
   "source": [
    "np.arange(6).reshape(2, 1, -1)"
   ]
  },
  {
   "cell_type": "code",
   "execution_count": 45,
   "id": "3abcbb1f-e183-4ea7-a251-3a4ae3f28831",
   "metadata": {},
   "outputs": [
    {
     "data": {
      "text/plain": [
       "array([[[0, 1, 2]],\n",
       "\n",
       "       [[3, 4, 5]]])"
      ]
     },
     "execution_count": 45,
     "metadata": {},
     "output_type": "execute_result"
    }
   ],
   "source": [
    "np.arange(6).reshape(2, 1, 3)"
   ]
  },
  {
   "cell_type": "code",
   "execution_count": 46,
   "id": "c578de7c-5e5a-4b73-a79e-0fbdea02e830",
   "metadata": {},
   "outputs": [
    {
     "data": {
      "text/plain": [
       "array([0, 1, 2, 3, 4, 5])"
      ]
     },
     "execution_count": 46,
     "metadata": {},
     "output_type": "execute_result"
    }
   ],
   "source": [
    "np.arange(6).reshape(2, 1, 3).reshape(-1)"
   ]
  },
  {
   "cell_type": "markdown",
   "id": "8ce121d2-efa2-4f22-a543-ec9396e5d69f",
   "metadata": {},
   "source": [
    "## Broadcasting"
   ]
  },
  {
   "cell_type": "code",
   "execution_count": 47,
   "id": "3d146e8b-633b-42f0-8736-d6c21c9b1331",
   "metadata": {},
   "outputs": [],
   "source": [
    "a_2x3 = np.array([\n",
    "  [1, 2, 3],\n",
    "  [4, 5, 6]\n",
    "])\n",
    "a_1x3 = np.array([2, 2, 2])"
   ]
  },
  {
   "cell_type": "code",
   "execution_count": 48,
   "id": "75c3b311-464b-46d5-8718-747d0a1c173e",
   "metadata": {},
   "outputs": [
    {
     "data": {
      "text/plain": [
       "array([[3, 4, 5],\n",
       "       [6, 7, 8]])"
      ]
     },
     "execution_count": 48,
     "metadata": {},
     "output_type": "execute_result"
    }
   ],
   "source": [
    "a_2x3 + a_1x3"
   ]
  },
  {
   "cell_type": "code",
   "execution_count": 50,
   "id": "9816cebd-782f-4bb4-9e80-a4c8ead1eca9",
   "metadata": {},
   "outputs": [
    {
     "data": {
      "text/plain": [
       "array([[3, 4, 5],\n",
       "       [6, 7, 8]])"
      ]
     },
     "execution_count": 50,
     "metadata": {},
     "output_type": "execute_result"
    }
   ],
   "source": [
    "a_2x3 + np.array([\n",
    "  [2, 2, 2],\n",
    "  [2, 2, 2]\n",
    "])"
   ]
  },
  {
   "cell_type": "code",
   "execution_count": 49,
   "id": "a2cf511f-76d1-45fb-bb9d-b81fbb55ffa2",
   "metadata": {},
   "outputs": [
    {
     "data": {
      "text/plain": [
       "array([[ 2,  4,  6],\n",
       "       [ 8, 10, 12]])"
      ]
     },
     "execution_count": 49,
     "metadata": {},
     "output_type": "execute_result"
    }
   ],
   "source": [
    "a_2x3 * a_1x3"
   ]
  },
  {
   "cell_type": "code",
   "execution_count": 51,
   "id": "5d9a69b3-cbde-47c7-aa6a-ea23c4b1a809",
   "metadata": {},
   "outputs": [
    {
     "data": {
      "text/plain": [
       "array([[ 2,  4,  6],\n",
       "       [ 8, 10, 12]])"
      ]
     },
     "execution_count": 51,
     "metadata": {},
     "output_type": "execute_result"
    }
   ],
   "source": [
    "a_2x3 * np.array([\n",
    "  [2, 2, 2],\n",
    "  [2, 2, 2]\n",
    "])"
   ]
  },
  {
   "cell_type": "markdown",
   "id": "d7d53373-efeb-4af2-af61-23c666c06cf7",
   "metadata": {},
   "source": [
    "### Broadcasting rules"
   ]
  },
  {
   "cell_type": "code",
   "execution_count": 52,
   "id": "2b55adb7-8103-4ab7-8896-d2df62e569c1",
   "metadata": {},
   "outputs": [
    {
     "data": {
      "text/plain": [
       "(2, 3)"
      ]
     },
     "execution_count": 52,
     "metadata": {},
     "output_type": "execute_result"
    }
   ],
   "source": [
    "# Array shapes are lined up from left to right\n",
    "# and their dimensions must either match or be equal to 1:\n",
    "# 2x3\n",
    "# 1x3\n",
    "# ---\n",
    "# 2x3\n",
    "result = np.full((2, 3), 5) + np.full((1, 3), 1)\n",
    "result.shape"
   ]
  },
  {
   "cell_type": "code",
   "execution_count": 55,
   "id": "2c2a8698-1d39-4abd-823e-5ff78bf9211c",
   "metadata": {},
   "outputs": [
    {
     "data": {
      "text/plain": [
       "(2, 3, 5)"
      ]
     },
     "execution_count": 55,
     "metadata": {},
     "output_type": "execute_result"
    }
   ],
   "source": [
    "# 2x3x5\n",
    "#   1x5\n",
    "# -----\n",
    "# 2x3x5\n",
    "result = np.full((2, 3, 5), 5) + np.full((1, 5), 1)\n",
    "result.shape"
   ]
  },
  {
   "cell_type": "code",
   "execution_count": 56,
   "id": "fdfaa58f-704a-4c00-afa0-91ff95d9cfc0",
   "metadata": {},
   "outputs": [
    {
     "data": {
      "text/plain": [
       "(2, 3, 5)"
      ]
     },
     "execution_count": 56,
     "metadata": {},
     "output_type": "execute_result"
    }
   ],
   "source": [
    "# Scalars always work:\n",
    "result = np.full((2, 3, 5), 5) + 1\n",
    "result.shape"
   ]
  },
  {
   "cell_type": "code",
   "execution_count": 58,
   "id": "a5cd40c2-95ed-447b-a301-a80ade5cb110",
   "metadata": {},
   "outputs": [
    {
     "name": "stdout",
     "output_type": "stream",
     "text": [
      "operands could not be broadcast together with shapes (2,3) (3,2) \n"
     ]
    }
   ],
   "source": [
    "# These shapes don't match:\n",
    "# 2x3\n",
    "# 3x2\n",
    "try:\n",
    "  np.full((2, 3), 5) + np.full((3, 2), 1)\n",
    "except Exception as e:\n",
    "  print(e)"
   ]
  },
  {
   "cell_type": "markdown",
   "id": "978f9caa-91e8-48bb-9f94-8250eca63d6a",
   "metadata": {},
   "source": [
    "## Iteration"
   ]
  },
  {
   "cell_type": "code",
   "execution_count": 67,
   "id": "e0aeb8c8-e507-49e5-9030-f1b15bbdf6b6",
   "metadata": {},
   "outputs": [
    {
     "name": "stdout",
     "output_type": "stream",
     "text": [
      "0\n",
      "1\n",
      "2\n",
      "3\n",
      "4\n",
      "5\n"
     ]
    }
   ],
   "source": [
    "array = np.arange(6).reshape(2, 3)\n",
    "for row in array:\n",
    "  for col in row:\n",
    "    print(col)"
   ]
  },
  {
   "cell_type": "code",
   "execution_count": 87,
   "id": "3e3a362a-a14b-49aa-aec9-06eabeb95be5",
   "metadata": {},
   "outputs": [
    {
     "name": "stdout",
     "output_type": "stream",
     "text": [
      "1\n",
      "1\n",
      "1\n",
      "2\n",
      "2\n",
      "2\n"
     ]
    }
   ],
   "source": [
    "# Iterate over rows first:\n",
    "array = np.array([\n",
    "  [1, 1, 1],\n",
    "  [2, 2, 2]\n",
    "])\n",
    "for item in np.nditer(array):\n",
    "  print(item)"
   ]
  },
  {
   "cell_type": "code",
   "execution_count": 79,
   "id": "e19e34c4-f19b-4699-8e3a-4066f1a1f122",
   "metadata": {},
   "outputs": [
    {
     "name": "stdout",
     "output_type": "stream",
     "text": [
      "1\n",
      "2\n",
      "1\n",
      "2\n",
      "1\n",
      "2\n"
     ]
    }
   ],
   "source": [
    "# Iterate over columns first:\n",
    "for item in np.nditer(array, order='F'):\n",
    "  print(item)"
   ]
  },
  {
   "cell_type": "code",
   "execution_count": 88,
   "id": "88da82ba-00c4-4daa-93ca-9f0e45c868ea",
   "metadata": {},
   "outputs": [
    {
     "name": "stdout",
     "output_type": "stream",
     "text": [
      "assignment destination is read-only\n"
     ]
    },
    {
     "data": {
      "text/plain": [
       "array([[1, 1, 1],\n",
       "       [2, 2, 2]])"
      ]
     },
     "execution_count": 88,
     "metadata": {},
     "output_type": "execute_result"
    }
   ],
   "source": [
    "try:\n",
    "  for item in np.nditer(array):\n",
    "    item[...] = 0\n",
    "except Exception as e:\n",
    "  print(e)\n",
    "array"
   ]
  },
  {
   "cell_type": "code",
   "execution_count": 89,
   "id": "e0979003-a375-4ab0-b4b5-c7d0efc157b8",
   "metadata": {},
   "outputs": [
    {
     "data": {
      "text/plain": [
       "array([[0, 0, 0],\n",
       "       [0, 0, 0]])"
      ]
     },
     "execution_count": 89,
     "metadata": {},
     "output_type": "execute_result"
    }
   ],
   "source": [
    "for item in np.nditer(array, op_flags=['readwrite']):\n",
    "  item[...] = 0\n",
    "array"
   ]
  }
 ],
 "metadata": {
  "kernelspec": {
   "display_name": "Python 3 (ipykernel)",
   "language": "python",
   "name": "python3"
  },
  "language_info": {
   "codemirror_mode": {
    "name": "ipython",
    "version": 3
   },
   "file_extension": ".py",
   "mimetype": "text/x-python",
   "name": "python",
   "nbconvert_exporter": "python",
   "pygments_lexer": "ipython3",
   "version": "3.13.2"
  }
 },
 "nbformat": 4,
 "nbformat_minor": 5
}
