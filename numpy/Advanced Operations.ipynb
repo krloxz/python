{
 "cells": [
  {
   "cell_type": "markdown",
   "id": "ef2d1676-7e1a-4359-b01f-568734eec4b6",
   "metadata": {},
   "source": [
    "## Creating Matrices\n",
    "> matlib is pending deprecation: https://numpy.org/doc/stable/reference/module_structure.html"
   ]
  },
  {
   "cell_type": "code",
   "execution_count": 1,
   "id": "7843b0da-a542-4c74-85cd-89f1441b6bb0",
   "metadata": {},
   "outputs": [
    {
     "data": {
      "text/plain": [
       "matrix([[0, 0, 0],\n",
       "        [0, 0, 0],\n",
       "        [0, 0, 0]])"
      ]
     },
     "execution_count": 1,
     "metadata": {},
     "output_type": "execute_result"
    }
   ],
   "source": [
    "import numpy as np\n",
    "np.matlib.zeros((3, 3), int)"
   ]
  },
  {
   "cell_type": "code",
   "execution_count": 2,
   "id": "5b301910-7060-4608-9eb8-f28ac8bfc53e",
   "metadata": {},
   "outputs": [
    {
     "data": {
      "text/plain": [
       "matrix([[1., 1., 1.],\n",
       "        [1., 1., 1.],\n",
       "        [1., 1., 1.]])"
      ]
     },
     "execution_count": 2,
     "metadata": {},
     "output_type": "execute_result"
    }
   ],
   "source": [
    "np.matlib.ones((3, 3))"
   ]
  },
  {
   "cell_type": "code",
   "execution_count": 3,
   "id": "63052438-bd9a-4a62-83c5-370d7d859db5",
   "metadata": {},
   "outputs": [
    {
     "data": {
      "text/plain": [
       "matrix([['', '', ''],\n",
       "        ['', '', ''],\n",
       "        ['', '', '']], dtype='<U0')"
      ]
     },
     "execution_count": 3,
     "metadata": {},
     "output_type": "execute_result"
    }
   ],
   "source": [
    "np.matlib.empty((3, 3), str)"
   ]
  },
  {
   "cell_type": "code",
   "execution_count": 4,
   "id": "104f92a8-3fc3-4f95-9623-bdf7f06dff5d",
   "metadata": {},
   "outputs": [
    {
     "data": {
      "text/plain": [
       "matrix([[1., 0., 0.],\n",
       "        [0., 1., 0.],\n",
       "        [0., 0., 1.]])"
      ]
     },
     "execution_count": 4,
     "metadata": {},
     "output_type": "execute_result"
    }
   ],
   "source": [
    "np.matlib.identity(3)"
   ]
  },
  {
   "cell_type": "code",
   "execution_count": 5,
   "id": "f6abc9d4-6f05-46a4-a66d-0986dcf747bd",
   "metadata": {},
   "outputs": [
    {
     "data": {
      "text/plain": [
       "matrix([[1., 0., 0., 0.],\n",
       "        [0., 1., 0., 0.],\n",
       "        [0., 0., 1., 0.]])"
      ]
     },
     "execution_count": 5,
     "metadata": {},
     "output_type": "execute_result"
    }
   ],
   "source": [
    "np.matlib.eye(3, 4)"
   ]
  },
  {
   "cell_type": "code",
   "execution_count": 6,
   "id": "9c83f101-69e2-48c8-95f0-df78f0c85d1d",
   "metadata": {},
   "outputs": [
    {
     "data": {
      "text/plain": [
       "matrix([[0., 1., 0., 0.],\n",
       "        [0., 0., 1., 0.],\n",
       "        [0., 0., 0., 1.]])"
      ]
     },
     "execution_count": 6,
     "metadata": {},
     "output_type": "execute_result"
    }
   ],
   "source": [
    "np.matlib.eye(3, 4, 1)"
   ]
  },
  {
   "cell_type": "markdown",
   "id": "00786d8b-2c65-4ec3-a30e-6e080cae14f0",
   "metadata": {},
   "source": [
    "## Manipulating Matrices"
   ]
  },
  {
   "cell_type": "code",
   "execution_count": 7,
   "id": "f8423641-a851-4d35-bb37-ce49dc624f4a",
   "metadata": {},
   "outputs": [
    {
     "data": {
      "text/plain": [
       "array([[0., 0., 0., 1., 1., 1.],\n",
       "       [0., 0., 0., 1., 1., 1.],\n",
       "       [0., 0., 0., 1., 1., 1.]])"
      ]
     },
     "execution_count": 7,
     "metadata": {},
     "output_type": "execute_result"
    }
   ],
   "source": [
    "matrix0 = np.zeros((3, 3))\n",
    "matrix1 = np.ones((3, 3))\n",
    "\n",
    "np.hstack((matrix0, matrix1))"
   ]
  },
  {
   "cell_type": "code",
   "execution_count": 8,
   "id": "fe591828-9216-494f-b4f0-7c71d68703ae",
   "metadata": {},
   "outputs": [
    {
     "data": {
      "text/plain": [
       "array([[0., 0., 0.],\n",
       "       [0., 0., 0.],\n",
       "       [0., 0., 0.],\n",
       "       [1., 1., 1.],\n",
       "       [1., 1., 1.],\n",
       "       [1., 1., 1.]])"
      ]
     },
     "execution_count": 8,
     "metadata": {},
     "output_type": "execute_result"
    }
   ],
   "source": [
    "np.vstack((matrix0, matrix1))"
   ]
  },
  {
   "cell_type": "code",
   "execution_count": 9,
   "id": "d6ba2cc5-ed26-4a79-adee-6831ca4449f5",
   "metadata": {},
   "outputs": [
    {
     "data": {
      "text/plain": [
       "[array([[0., 0., 0.],\n",
       "        [0., 0., 0.],\n",
       "        [0., 0., 0.]]),\n",
       " array([[1., 1., 1.],\n",
       "        [1., 1., 1.],\n",
       "        [1., 1., 1.]])]"
      ]
     },
     "execution_count": 9,
     "metadata": {},
     "output_type": "execute_result"
    }
   ],
   "source": [
    "np.hsplit(np.hstack((matrix0, matrix1)), 2)"
   ]
  },
  {
   "cell_type": "code",
   "execution_count": 10,
   "id": "70815fcd-c8a0-4ec5-b237-8ba71d44bb0c",
   "metadata": {},
   "outputs": [
    {
     "data": {
      "text/plain": [
       "[array([[0., 0., 0.],\n",
       "        [0., 0., 0.],\n",
       "        [0., 0., 0.]]),\n",
       " array([[1., 1., 1.],\n",
       "        [1., 1., 1.],\n",
       "        [1., 1., 1.]])]"
      ]
     },
     "execution_count": 10,
     "metadata": {},
     "output_type": "execute_result"
    }
   ],
   "source": [
    "np.vsplit(np.vstack((matrix0, matrix1)), 2)"
   ]
  },
  {
   "cell_type": "code",
   "execution_count": 11,
   "id": "155526b5-90cc-4a7d-9e49-6b08b1df07a0",
   "metadata": {},
   "outputs": [
    {
     "data": {
      "text/plain": [
       "array([[0, 1, 2],\n",
       "       [3, 4, 5],\n",
       "       [6, 7, 8]])"
      ]
     },
     "execution_count": 11,
     "metadata": {},
     "output_type": "execute_result"
    }
   ],
   "source": [
    "matrix = np.arange(9).reshape(3, 3)\n",
    "matrix"
   ]
  },
  {
   "cell_type": "code",
   "execution_count": 12,
   "id": "558efc3c-1e06-4d9c-b232-bed44e95fb3f",
   "metadata": {},
   "outputs": [
    {
     "data": {
      "text/plain": [
       "array([[0, 1, 2, 0, 1, 2],\n",
       "       [3, 4, 5, 3, 4, 5],\n",
       "       [6, 7, 8, 6, 7, 8]])"
      ]
     },
     "execution_count": 12,
     "metadata": {},
     "output_type": "execute_result"
    }
   ],
   "source": [
    "np.tile(matrix, 2)"
   ]
  },
  {
   "cell_type": "code",
   "execution_count": 13,
   "id": "9ea91b1c-a1ff-4a71-a88a-9a9e9f40c05d",
   "metadata": {},
   "outputs": [
    {
     "data": {
      "text/plain": [
       "array([[0, 0, 1, 1, 2, 2],\n",
       "       [3, 3, 4, 4, 5, 5],\n",
       "       [6, 6, 7, 7, 8, 8]])"
      ]
     },
     "execution_count": 13,
     "metadata": {},
     "output_type": "execute_result"
    }
   ],
   "source": [
    "np.repeat(matrix, 2, 1)"
   ]
  },
  {
   "cell_type": "code",
   "execution_count": 14,
   "id": "d988a0e9-9dfc-42b1-87f3-2a812c572c5b",
   "metadata": {},
   "outputs": [
    {
     "data": {
      "text/plain": [
       "array([[  0, 999,   1, 999,   2],\n",
       "       [  3, 999,   4, 999,   5],\n",
       "       [  6, 999,   7, 999,   8]])"
      ]
     },
     "execution_count": 14,
     "metadata": {},
     "output_type": "execute_result"
    }
   ],
   "source": [
    "np.insert(matrix, [1, 2], 999, axis=1)"
   ]
  },
  {
   "cell_type": "code",
   "execution_count": 15,
   "id": "47d31263-c2c8-4b0a-a87b-afaa6ed52dc8",
   "metadata": {},
   "outputs": [
    {
     "data": {
      "text/plain": [
       "array([[  0,   1,   2],\n",
       "       [999, 999, 999],\n",
       "       [  3,   4,   5],\n",
       "       [999, 999, 999],\n",
       "       [  6,   7,   8]])"
      ]
     },
     "execution_count": 15,
     "metadata": {},
     "output_type": "execute_result"
    }
   ],
   "source": [
    "np.insert(matrix, [1, 2], 999, axis=0)"
   ]
  },
  {
   "cell_type": "code",
   "execution_count": 16,
   "id": "2f00242e-46f7-4747-a58f-68962e43cf69",
   "metadata": {},
   "outputs": [
    {
     "data": {
      "text/plain": [
       "array([[0],\n",
       "       [3],\n",
       "       [6]])"
      ]
     },
     "execution_count": 16,
     "metadata": {},
     "output_type": "execute_result"
    }
   ],
   "source": [
    "np.delete(matrix, [1, 2], axis=1)"
   ]
  },
  {
   "cell_type": "code",
   "execution_count": 17,
   "id": "9f671625-7d8a-47f0-9cb9-16d1f12b6ded",
   "metadata": {},
   "outputs": [
    {
     "data": {
      "text/plain": [
       "array([[0, 1, 2]])"
      ]
     },
     "execution_count": 17,
     "metadata": {},
     "output_type": "execute_result"
    }
   ],
   "source": [
    "np.delete(matrix, [1, 2], axis=0)"
   ]
  },
  {
   "cell_type": "markdown",
   "id": "e15db6a7-365e-4ea5-b81d-8591232699ba",
   "metadata": {},
   "source": [
    "## Arithmetic Operations"
   ]
  },
  {
   "cell_type": "code",
   "execution_count": 18,
   "id": "0016de2c-e6bb-4998-9001-f6ab9b731ede",
   "metadata": {},
   "outputs": [
    {
     "data": {
      "text/plain": [
       "array([[1., 2., 3.],\n",
       "       [4., 5., 6.],\n",
       "       [7., 8., 9.]])"
      ]
     },
     "execution_count": 18,
     "metadata": {},
     "output_type": "execute_result"
    }
   ],
   "source": [
    "matrix + matrix1"
   ]
  },
  {
   "cell_type": "code",
   "execution_count": 19,
   "id": "c6be4643-7972-4382-b81b-bc33f14dc4c8",
   "metadata": {},
   "outputs": [
    {
     "data": {
      "text/plain": [
       "array([[-1.,  0.,  1.],\n",
       "       [ 2.,  3.,  4.],\n",
       "       [ 5.,  6.,  7.]])"
      ]
     },
     "execution_count": 19,
     "metadata": {},
     "output_type": "execute_result"
    }
   ],
   "source": [
    "matrix - matrix1"
   ]
  },
  {
   "cell_type": "code",
   "execution_count": 20,
   "id": "1562e326-43f7-4a4c-91fa-4f77c601aae5",
   "metadata": {},
   "outputs": [
    {
     "data": {
      "text/plain": [
       "array([[0., 1., 2.],\n",
       "       [3., 4., 5.],\n",
       "       [6., 7., 8.]])"
      ]
     },
     "execution_count": 20,
     "metadata": {},
     "output_type": "execute_result"
    }
   ],
   "source": [
    "matrix * matrix1 # Element-wise multiplication"
   ]
  },
  {
   "cell_type": "code",
   "execution_count": 21,
   "id": "c087705a-9f7b-4081-a07b-b217e22594f6",
   "metadata": {},
   "outputs": [
    {
     "data": {
      "text/plain": [
       "array([[0., 1., 2.],\n",
       "       [3., 4., 5.],\n",
       "       [6., 7., 8.]])"
      ]
     },
     "execution_count": 21,
     "metadata": {},
     "output_type": "execute_result"
    }
   ],
   "source": [
    "matrix / matrix1"
   ]
  },
  {
   "cell_type": "code",
   "execution_count": 22,
   "id": "b352dbf2-9188-4977-96ac-3c5fe7a46c9c",
   "metadata": {},
   "outputs": [
    {
     "data": {
      "text/plain": [
       "array([[3., 3.],\n",
       "       [3., 3.]])"
      ]
     },
     "execution_count": 22,
     "metadata": {},
     "output_type": "execute_result"
    }
   ],
   "source": [
    "# Matrix multiplication:\n",
    "matrix_2x3 = np.ones((2, 3))\n",
    "matrix_3x2 = np.ones((3, 2))\n",
    "\n",
    "matrix_2x2 = matrix_2x3 @ matrix_3x2\n",
    "matrix_2x2"
   ]
  },
  {
   "cell_type": "markdown",
   "id": "03ce1224-63ee-4fba-bfc2-9fac4e3f3bbf",
   "metadata": {},
   "source": [
    "## Linear Algebra"
   ]
  },
  {
   "cell_type": "code",
   "execution_count": 23,
   "id": "88ec9fe4-239b-4f25-bf4c-9975ecb710b5",
   "metadata": {},
   "outputs": [
    {
     "data": {
      "text/plain": [
       "np.int64(2)"
      ]
     },
     "execution_count": 23,
     "metadata": {},
     "output_type": "execute_result"
    }
   ],
   "source": [
    "# Rank (count of independant rows or columns)\n",
    "matrix = np.array([\n",
    "  [2, 4, 6],\n",
    "  [1, 3, 5],\n",
    "  [2 + 1, 4 + 3, 6 + 5]\n",
    "])\n",
    "np.linalg.matrix_rank(matrix)"
   ]
  },
  {
   "cell_type": "code",
   "execution_count": 24,
   "id": "c594cf49-7279-4283-ab8d-236199f6f1aa",
   "metadata": {},
   "outputs": [
    {
     "data": {
      "text/plain": [
       "np.int64(16)"
      ]
     },
     "execution_count": 24,
     "metadata": {},
     "output_type": "execute_result"
    }
   ],
   "source": [
    "# Trace (sum of diagonal values)\n",
    "np.linalg.trace(matrix)"
   ]
  },
  {
   "cell_type": "code",
   "execution_count": 25,
   "id": "3ad138b9-2eb6-4463-9d2b-c8d21cee9065",
   "metadata": {},
   "outputs": [
    {
     "data": {
      "text/plain": [
       "np.float64(2.0)"
      ]
     },
     "execution_count": 25,
     "metadata": {},
     "output_type": "execute_result"
    }
   ],
   "source": [
    "# Determinant\n",
    "# https://www.mathsisfun.com/algebra/matrix-determinant.html\n",
    "np.linalg.det(np.array([\n",
    "  [2, 4],\n",
    "  [1, 3]\n",
    "]))"
   ]
  },
  {
   "cell_type": "code",
   "execution_count": 26,
   "id": "7e2d0b3c-e5e6-461f-b9c6-10018741e93e",
   "metadata": {},
   "outputs": [
    {
     "data": {
      "text/plain": [
       "EigResult(eigenvalues=array([-1.,  8.,  2.]), eigenvectors=array([[ 0.        ,  0.        ,  1.        ],\n",
       "       [ 0.70710678, -0.78086881,  0.        ],\n",
       "       [-0.70710678, -0.62469505,  0.        ]]))"
      ]
     },
     "execution_count": 26,
     "metadata": {},
     "output_type": "execute_result"
    }
   ],
   "source": [
    "# Eigenvectors and eigenvalues\n",
    "# https://www.mathsisfun.com/algebra/eigenvalue.html\n",
    "np.linalg.eig(np.array([\n",
    "  [2, 0, 0],\n",
    "  [0, 4, 5],\n",
    "  [0, 4, 3]\n",
    "]))"
   ]
  },
  {
   "cell_type": "code",
   "execution_count": 27,
   "id": "6ae32853-4ed6-4283-b4f2-dcd7f9fe8e82",
   "metadata": {},
   "outputs": [
    {
     "data": {
      "text/plain": [
       "array([2, 0, 0])"
      ]
     },
     "execution_count": 27,
     "metadata": {},
     "output_type": "execute_result"
    }
   ],
   "source": [
    "# Product of original matrix and 3rd eigenvector (Av)\n",
    "np.array([\n",
    "  [2, 0, 0],\n",
    "  [0, 4, 5],\n",
    "  [0, 4, 3]\n",
    "]) @ np.array([1, 0, 0])"
   ]
  },
  {
   "cell_type": "code",
   "execution_count": 28,
   "id": "6339e345-ff7e-4692-92d3-56c300233693",
   "metadata": {},
   "outputs": [
    {
     "data": {
      "text/plain": [
       "array([2, 0, 0])"
      ]
     },
     "execution_count": 28,
     "metadata": {},
     "output_type": "execute_result"
    }
   ],
   "source": [
    "# 3rd eigenvalue multiplied by 3rd eigenvector (λv)\n",
    "# Notice that Av = λv\n",
    "2 * np.array([1, 0, 0])"
   ]
  },
  {
   "cell_type": "markdown",
   "id": "338dcacb-b774-4521-ae93-41eae6b1910d",
   "metadata": {},
   "source": [
    "## Linear Equations"
   ]
  },
  {
   "cell_type": "code",
   "execution_count": 29,
   "id": "3a5a38d4-95de-41db-a59b-57cf374af75c",
   "metadata": {},
   "outputs": [
    {
     "data": {
      "text/plain": [
       "array([ 5.,  3., -2.])"
      ]
     },
     "execution_count": 29,
     "metadata": {},
     "output_type": "execute_result"
    }
   ],
   "source": [
    "# https://www.mathsisfun.com/algebra/systems-linear-equations-matrices.html\n",
    "# AX = B\n",
    "# X = A⁻¹B\n",
    "A = np.array([\n",
    "  [1,\t1, 1],\n",
    "  [0,\t2, 5],\n",
    "  [2,\t5, -1]\n",
    "])\n",
    "B = np.array([6, -4, 27])\n",
    "np.linalg.inv(A) @ B"
   ]
  },
  {
   "cell_type": "code",
   "execution_count": 30,
   "id": "fe88bd69-b3f7-4b80-9668-9f0c622167f1",
   "metadata": {},
   "outputs": [
    {
     "data": {
      "text/plain": [
       "array([ 5.,  3., -2.])"
      ]
     },
     "execution_count": 30,
     "metadata": {},
     "output_type": "execute_result"
    }
   ],
   "source": [
    "np.linalg.solve(A, B)"
   ]
  }
 ],
 "metadata": {
  "kernelspec": {
   "display_name": "Python 3 (ipykernel)",
   "language": "python",
   "name": "python3"
  },
  "language_info": {
   "codemirror_mode": {
    "name": "ipython",
    "version": 3
   },
   "file_extension": ".py",
   "mimetype": "text/x-python",
   "name": "python",
   "nbconvert_exporter": "python",
   "pygments_lexer": "ipython3",
   "version": "3.13.2"
  }
 },
 "nbformat": 4,
 "nbformat_minor": 5
}
