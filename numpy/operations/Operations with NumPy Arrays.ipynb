{
 "cells": [
  {
   "cell_type": "code",
   "execution_count": 1,
   "id": "4e19292a-2ecb-49ce-9893-3c1e666322b0",
   "metadata": {},
   "outputs": [
    {
     "name": "stdout",
     "output_type": "stream",
     "text": [
      "199\n"
     ]
    },
    {
     "data": {
      "text/plain": [
       "[['0', '0.0', '2', '0', '1', '1.0', '2', '3', '3', '2.67', '1.67'],\n",
       " ['1', '0.0', '4', '0', '4', '2.67', '3', '2', '2', '2.33', '-0.33'],\n",
       " ['2', '0.0', '3', '0', '2', '1.67', '4', '4', '4', '4.0', '2.33'],\n",
       " ['3', '0.0', '2', '0', '2', '1.33', '5', '4', '5', '4.67', '3.33'],\n",
       " ['4', '0.0', '3', '1', '3', '2.33', '4', '4', '5', '4.33', '2.0']]"
      ]
     },
     "execution_count": 1,
     "metadata": {},
     "output_type": "execute_result"
    }
   ],
   "source": [
    "import csv\n",
    "with open('dataset.csv') as file:\n",
    "  data = list(csv.reader(file))\n",
    "print(len(data))\n",
    "data[:5]"
   ]
  },
  {
   "cell_type": "code",
   "execution_count": 2,
   "id": "7cad4ab8-f836-4dda-9ec1-c13af1626229",
   "metadata": {},
   "outputs": [
    {
     "data": {
      "text/plain": [
       "'2'"
      ]
     },
     "execution_count": 2,
     "metadata": {},
     "output_type": "execute_result"
    }
   ],
   "source": [
    "data[2][0]"
   ]
  },
  {
   "cell_type": "code",
   "execution_count": 3,
   "id": "b366418c-b1f7-4f38-86e2-d63c05712b6d",
   "metadata": {},
   "outputs": [
    {
     "data": {
      "text/plain": [
       "array([['0', '0.0', '2', ..., '3', '2.67', '1.67'],\n",
       "       ['1', '0.0', '4', ..., '2', '2.33', '-0.33'],\n",
       "       ['2', '0.0', '3', ..., '4', '4.0', '2.33'],\n",
       "       ...,\n",
       "       ['196', '2.0', '', ..., '', '', ''],\n",
       "       ['197', '2.0', '', ..., '', '', ''],\n",
       "       ['198', '2.0', '', ..., '', '', '']], shape=(199, 11), dtype='<U5')"
      ]
     },
     "execution_count": 3,
     "metadata": {},
     "output_type": "execute_result"
    }
   ],
   "source": [
    "import numpy as np\n",
    "np.array(data)"
   ]
  },
  {
   "cell_type": "code",
   "execution_count": 4,
   "id": "ff79adcf-330d-4df2-8362-5a2d3e5397b5",
   "metadata": {},
   "outputs": [
    {
     "data": {
      "text/plain": [
       "array([[  0.  ,   0.  ,   2.  , ...,   3.  ,   2.67,   1.67],\n",
       "       [  1.  ,   0.  ,   4.  , ...,   2.  ,   2.33,  -0.33],\n",
       "       [  2.  ,   0.  ,   3.  , ...,   4.  ,   4.  ,   2.33],\n",
       "       ...,\n",
       "       [196.  ,   2.  ,    nan, ...,    nan,    nan,    nan],\n",
       "       [197.  ,   2.  ,    nan, ...,    nan,    nan,    nan],\n",
       "       [198.  ,   2.  ,    nan, ...,    nan,    nan,    nan]],\n",
       "      shape=(199, 11))"
      ]
     },
     "execution_count": 4,
     "metadata": {},
     "output_type": "execute_result"
    }
   ],
   "source": [
    "array = np.genfromtxt('dataset.csv', delimiter=',')\n",
    "array"
   ]
  },
  {
   "cell_type": "markdown",
   "id": "2cdecc66-f524-4756-9459-1cd9b3977b32",
   "metadata": {},
   "source": [
    "## Indexing and slicing"
   ]
  },
  {
   "cell_type": "code",
   "execution_count": 5,
   "id": "084c024f-07d6-4a3c-9ae2-89358973d4a4",
   "metadata": {},
   "outputs": [
    {
     "data": {
      "text/plain": [
       "np.float64(2.0)"
      ]
     },
     "execution_count": 5,
     "metadata": {},
     "output_type": "execute_result"
    }
   ],
   "source": [
    "array[2, 0]"
   ]
  },
  {
   "cell_type": "code",
   "execution_count": 6,
   "id": "ad84127a-f0c3-42e8-8721-4f4f0600a9fd",
   "metadata": {},
   "outputs": [
    {
     "data": {
      "text/plain": [
       "np.float64(2.0)"
      ]
     },
     "execution_count": 6,
     "metadata": {},
     "output_type": "execute_result"
    }
   ],
   "source": [
    "array[2][0]"
   ]
  },
  {
   "cell_type": "code",
   "execution_count": 7,
   "id": "e8792b06-494f-4028-b5d5-b828aec4f9ee",
   "metadata": {},
   "outputs": [
    {
     "data": {
      "text/plain": [
       "array([0., 0., 0., 0., 0., 0., 0., 0., 0., 0., 0., 0., 0., 0., 0., 0., 0.,\n",
       "       0., 0., 0., 0., 0., 0., 0., 0., 0., 0., 0., 0., 0., 0., 0., 0., 1.,\n",
       "       1., 1., 1., 1., 1., 1., 1., 1., 1., 1., 1., 1., 1., 1., 1., 1., 1.,\n",
       "       1., 1., 1., 1., 1., 1., 1., 1., 1., 1., 1., 1., 1., 1., 1., 1., 1.,\n",
       "       1., 1., 1., 1., 1., 1., 1., 1., 1., 1., 1., 1., 1., 1., 1., 1., 1.,\n",
       "       1., 1., 1., 1., 1., 1., 1., 1., 1., 1., 1., 1., 1., 1., 1., 1., 1.,\n",
       "       1., 1., 1., 1., 1., 1., 1., 1., 1., 1., 1., 1., 1., 1., 1., 1., 1.,\n",
       "       1., 1., 1., 1., 1., 1., 1., 1., 1., 1., 1., 2., 2., 2., 2., 2., 2.,\n",
       "       2., 2., 2., 2., 2., 2., 2., 2., 2., 2., 2., 2., 2., 2., 2., 2., 2.,\n",
       "       2., 2., 2., 2., 2., 2., 2., 2., 2., 2., 2., 2., 2., 2., 2., 2., 2.,\n",
       "       2., 2., 2., 2., 2., 2., 2., 2., 2., 2., 2., 2., 2., 2., 2., 2., 2.,\n",
       "       2., 2., 2., 2., 2., 2., 2., 2., 2., 2., 2., 2.])"
      ]
     },
     "execution_count": 7,
     "metadata": {},
     "output_type": "execute_result"
    }
   ],
   "source": [
    "# Returns the second column:\n",
    "array[:, 1]"
   ]
  },
  {
   "cell_type": "code",
   "execution_count": 8,
   "id": "02c0d604-ddd9-4f79-a101-f614b474e9bc",
   "metadata": {},
   "outputs": [
    {
     "data": {
      "text/plain": [
       "array([ 1.  ,  0.  ,  4.  ,  0.  ,  4.  ,  2.67,  3.  ,  2.  ,  2.  ,\n",
       "        2.33, -0.33])"
      ]
     },
     "execution_count": 8,
     "metadata": {},
     "output_type": "execute_result"
    }
   ],
   "source": [
    "# Returns the second row:\n",
    "array[1, :]"
   ]
  },
  {
   "cell_type": "code",
   "execution_count": 9,
   "id": "862d7e3b-954c-402c-a1e5-f872e91089ca",
   "metadata": {},
   "outputs": [
    {
     "data": {
      "text/plain": [
       "array([ 1.  ,  0.  ,  4.  ,  0.  ,  4.  ,  2.67,  3.  ,  2.  ,  2.  ,\n",
       "        2.33, -0.33])"
      ]
     },
     "execution_count": 9,
     "metadata": {},
     "output_type": "execute_result"
    }
   ],
   "source": [
    "# This also returns the second row:\n",
    "array[1]"
   ]
  },
  {
   "cell_type": "code",
   "execution_count": 10,
   "id": "e7758e5c-12dc-4204-96d6-cfbb44732679",
   "metadata": {},
   "outputs": [
    {
     "data": {
      "text/plain": [
       "array([4.  , 0.  , 4.  , 2.67])"
      ]
     },
     "execution_count": 10,
     "metadata": {},
     "output_type": "execute_result"
    }
   ],
   "source": [
    "# Returns columns from index 2 to 5 in the second row\n",
    "array[1, 2:6]"
   ]
  },
  {
   "cell_type": "code",
   "execution_count": 11,
   "id": "49548cbc-e515-47b9-bbec-58600538be17",
   "metadata": {},
   "outputs": [
    {
     "data": {
      "text/plain": [
       "array([[1., 0.],\n",
       "       [2., 0.],\n",
       "       [3., 0.],\n",
       "       [4., 0.]])"
      ]
     },
     "execution_count": 11,
     "metadata": {},
     "output_type": "execute_result"
    }
   ],
   "source": [
    "# First two columns of some rows:\n",
    "array[1:5, :2]"
   ]
  },
  {
   "cell_type": "code",
   "execution_count": 12,
   "id": "373c6b31-7f09-457c-9309-ac7f28104892",
   "metadata": {},
   "outputs": [
    {
     "data": {
      "text/plain": [
       "array([0., 0., 1., 1., 1., 1., 1., 2., 2., 2.])"
      ]
     },
     "execution_count": 12,
     "metadata": {},
     "output_type": "execute_result"
    }
   ],
   "source": [
    "# Slicing with strides (aka steps)\n",
    "# Get the second column of every 20 rows:\n",
    "array[::20, 1]"
   ]
  },
  {
   "cell_type": "code",
   "execution_count": 13,
   "id": "4eb3d245-43a6-4448-bfae-b60baf6bfea4",
   "metadata": {},
   "outputs": [
    {
     "name": "stdout",
     "output_type": "stream",
     "text": [
      "(199, 11)\n"
     ]
    },
    {
     "data": {
      "text/plain": [
       "(40, 6)"
      ]
     },
     "execution_count": 13,
     "metadata": {},
     "output_type": "execute_result"
    }
   ],
   "source": [
    "# Strides can be used in every dimension:\n",
    "print(array.shape)\n",
    "array[::5, ::2].shape"
   ]
  },
  {
   "cell_type": "code",
   "execution_count": 14,
   "id": "1ae49298-cba1-4885-93b5-4cc7cfaab095",
   "metadata": {},
   "outputs": [
    {
     "data": {
      "text/plain": [
       "(100, 11)"
      ]
     },
     "execution_count": 14,
     "metadata": {},
     "output_type": "execute_result"
    }
   ],
   "source": [
    "array[:100, :100].shape"
   ]
  },
  {
   "cell_type": "code",
   "execution_count": 15,
   "id": "01f8a423-ab6c-4085-8453-cbe8604c1b11",
   "metadata": {},
   "outputs": [
    {
     "data": {
      "text/plain": [
       "array([[[[ 0.  ,  0.  ,  2.  , ...,  3.  ,  2.67,  1.67],\n",
       "         [ 1.  ,  0.  ,  4.  , ...,  2.  ,  2.33, -0.33],\n",
       "         [ 2.  ,  0.  ,  3.  , ...,  4.  ,  4.  ,  2.33],\n",
       "         [ 3.  ,  0.  ,  2.  , ...,  5.  ,  4.67,  3.33]],\n",
       "\n",
       "        [[ 4.  ,  0.  ,  3.  , ...,  5.  ,  4.33,  2.  ],\n",
       "         [ 5.  ,  0.  ,  2.  , ...,  4.  ,  4.  ,  2.67],\n",
       "         [ 6.  ,  0.  ,  3.  , ...,  2.  ,  2.33,  0.  ],\n",
       "         [ 7.  ,  0.  ,  4.  , ...,  3.  ,  3.33,  1.67]],\n",
       "\n",
       "        [[ 8.  ,  0.  ,  2.  , ...,  3.  ,  3.  ,  1.67],\n",
       "         [ 9.  ,  0.  ,  3.  , ...,  5.  ,  4.  ,  2.  ],\n",
       "         [10.  ,  0.  ,  3.  , ...,  5.  ,  4.33,  3.  ],\n",
       "         [11.  ,  0.  ,  2.  , ...,  2.  ,  2.67,  1.67]],\n",
       "\n",
       "        [[12.  ,  0.  ,  3.  , ...,  4.  ,  3.33,  1.67],\n",
       "         [13.  ,  0.  ,  2.  , ...,  3.  ,  2.  ,  0.67],\n",
       "         [14.  ,  0.  ,  1.  , ...,  2.  ,  2.33,  1.33],\n",
       "         [15.  ,  0.  ,  3.  , ...,  5.  ,  4.67,  3.33]],\n",
       "\n",
       "        [[16.  ,  0.  ,  4.  , ...,  5.  ,  4.67,  3.  ],\n",
       "         [17.  ,  0.  ,  2.  , ...,  3.  ,  3.  ,  2.  ],\n",
       "         [18.  ,  0.  ,  4.  , ...,  5.  ,  3.67,  1.33],\n",
       "         [19.  ,  0.  ,  4.  , ...,  3.  ,  3.33,  1.33]]],\n",
       "\n",
       "\n",
       "       [[[20.  ,  0.  ,  4.  , ...,  4.  ,  4.  ,  2.  ],\n",
       "         [21.  ,  0.  ,  4.  , ...,  5.  ,  4.  ,  1.  ],\n",
       "         [22.  ,  0.  ,  3.  , ...,  4.  ,  3.67,  1.67],\n",
       "         [23.  ,  0.  ,  4.  , ...,  5.  ,  3.33,  1.33]],\n",
       "\n",
       "        [[24.  ,  0.  ,  3.  , ...,  3.  ,  2.67,  1.  ],\n",
       "         [25.  ,  0.  ,  4.  , ...,  5.  ,  4.67,  2.33],\n",
       "         [26.  ,  0.  ,  5.  , ...,  2.  ,  3.  ,  0.67],\n",
       "         [27.  ,  0.  ,  2.  , ...,  2.  ,  3.  ,  2.  ]],\n",
       "\n",
       "        [[28.  ,  0.  ,   nan, ...,   nan,   nan,   nan],\n",
       "         [29.  ,  0.  ,   nan, ...,   nan,   nan,   nan],\n",
       "         [30.  ,  0.  ,   nan, ...,   nan,   nan,   nan],\n",
       "         [31.  ,  0.  ,   nan, ...,   nan,   nan,   nan]],\n",
       "\n",
       "        [[32.  ,  0.  ,   nan, ...,   nan,   nan,   nan],\n",
       "         [33.  ,  1.  ,  4.  , ...,  4.  ,  3.33,  1.  ],\n",
       "         [34.  ,  1.  ,  4.  , ...,  1.  ,  2.  , -0.67],\n",
       "         [35.  ,  1.  ,  4.  , ...,  3.  ,  3.33,  0.67]],\n",
       "\n",
       "        [[36.  ,  1.  ,  2.  , ...,  2.  ,  2.67,  1.  ],\n",
       "         [37.  ,  1.  ,  3.  , ...,  3.  ,  3.67,  0.67],\n",
       "         [38.  ,  1.  ,  4.  , ...,  3.  ,  3.  ,  0.67],\n",
       "         [39.  ,  1.  ,  3.  , ...,  2.  ,  2.67,  0.67]]],\n",
       "\n",
       "\n",
       "       [[[40.  ,  1.  ,  3.  , ...,  1.  ,  2.33,  0.67],\n",
       "         [41.  ,  1.  ,  4.  , ...,  4.  ,  3.  ,  1.  ],\n",
       "         [42.  ,  1.  ,  3.  , ...,  2.  ,  2.33,  0.67],\n",
       "         [43.  ,  1.  ,  4.  , ...,  1.  ,  3.  ,  0.  ]],\n",
       "\n",
       "        [[44.  ,  1.  ,  2.  , ...,  1.  ,  2.33,  0.67],\n",
       "         [45.  ,  1.  ,  1.  , ...,  2.  ,  2.  ,  0.67],\n",
       "         [46.  ,  1.  ,  5.  , ...,  4.  ,  4.67,  1.  ],\n",
       "         [47.  ,  1.  ,  5.  , ...,  2.  ,  2.67, -0.67]],\n",
       "\n",
       "        [[48.  ,  1.  ,  4.  , ...,  4.  ,  3.  ,  0.67],\n",
       "         [49.  ,  1.  ,  5.  , ...,  3.  ,  3.33,  0.  ],\n",
       "         [50.  ,  1.  ,  5.  , ...,  3.  ,  2.  , -0.33],\n",
       "         [51.  ,  1.  ,  3.  , ...,  1.  ,  3.  ,  0.33]],\n",
       "\n",
       "        [[52.  ,  1.  ,  3.  , ...,  1.  ,  2.33,  0.  ],\n",
       "         [53.  ,  1.  ,  4.  , ...,  3.  ,  4.33,  0.33],\n",
       "         [54.  ,  1.  ,  3.  , ...,  2.  ,  2.  ,  0.33],\n",
       "         [55.  ,  1.  ,  3.  , ...,  2.  ,  2.33,  0.33]],\n",
       "\n",
       "        [[56.  ,  1.  ,  4.  , ...,  4.  ,  3.33,  1.33],\n",
       "         [57.  ,  1.  ,  3.  , ...,  4.  ,  2.67,  1.  ],\n",
       "         [58.  ,  1.  ,  3.  , ...,  2.  ,  2.  ,  0.33],\n",
       "         [59.  ,  1.  ,  4.  , ...,  4.  ,  4.  ,  1.33]]],\n",
       "\n",
       "\n",
       "       [[[60.  ,  1.  ,  4.  , ...,  4.  ,  3.33,  1.33],\n",
       "         [61.  ,  1.  ,  3.  , ...,  3.  ,  3.33,  0.67],\n",
       "         [62.  ,  1.  ,  4.  , ...,  3.  ,  3.33,  0.  ],\n",
       "         [63.  ,  1.  ,  5.  , ...,  4.  ,  3.  ,  0.67]],\n",
       "\n",
       "        [[64.  ,  1.  ,  4.  , ...,  4.  ,  3.33,  0.67],\n",
       "         [65.  ,  1.  ,  2.  , ...,  4.  ,  4.33,  1.33],\n",
       "         [66.  ,  1.  ,  3.  , ...,  2.  ,  2.33, -0.33],\n",
       "         [67.  ,  1.  ,  3.  , ...,  3.  ,  3.  ,  1.  ]],\n",
       "\n",
       "        [[68.  ,  1.  ,  3.  , ...,  4.  ,  3.33,  0.33],\n",
       "         [69.  ,  1.  ,  2.  , ...,  3.  ,  2.67,  0.67],\n",
       "         [70.  ,  1.  ,  2.  , ...,  3.  ,  2.33,  0.  ],\n",
       "         [71.  ,  1.  ,  4.  , ...,  3.  ,  3.33,  1.  ]],\n",
       "\n",
       "        [[72.  ,  1.  ,  2.  , ...,  4.  ,  3.33,  1.33],\n",
       "         [73.  ,  1.  ,  3.  , ...,  2.  ,  2.67,  0.33],\n",
       "         [74.  ,  1.  ,  3.  , ...,  4.  ,  3.67,  1.  ],\n",
       "         [75.  ,  1.  ,  4.  , ...,  3.  ,  2.67,  0.33]],\n",
       "\n",
       "        [[76.  ,  1.  ,  4.  , ...,  4.  ,  4.  ,  0.  ],\n",
       "         [77.  ,  1.  ,  3.  , ...,  2.  ,  2.33,  0.33],\n",
       "         [78.  ,  1.  ,  3.  , ...,  3.  ,  3.  ,  1.  ],\n",
       "         [79.  ,  1.  ,  2.  , ...,  2.  ,  2.67,  1.  ]]],\n",
       "\n",
       "\n",
       "       [[[80.  ,  1.  ,  4.  , ...,  3.  ,  2.67, -0.33],\n",
       "         [81.  ,  1.  ,  4.  , ...,  4.  ,  4.  ,  1.33],\n",
       "         [82.  ,  1.  ,  3.  , ...,  3.  ,  3.33,  0.  ],\n",
       "         [83.  ,  1.  ,  3.  , ...,  3.  ,  3.  ,  1.  ]],\n",
       "\n",
       "        [[84.  ,  1.  ,  3.  , ...,  1.  ,  2.  ,  0.33],\n",
       "         [85.  ,  1.  ,  3.  , ...,  4.  ,  3.67,  1.67],\n",
       "         [86.  ,  1.  ,  4.  , ...,  2.  ,  2.67,  0.33],\n",
       "         [87.  ,  1.  ,  2.  , ...,  2.  ,  2.67,  1.  ]],\n",
       "\n",
       "        [[88.  ,  1.  ,  2.  , ...,  4.  ,  3.  ,  1.33],\n",
       "         [89.  ,  1.  ,  3.  , ...,  2.  ,  2.  ,  0.  ],\n",
       "         [90.  ,  1.  ,  3.  , ...,  3.  ,  2.67,  0.33],\n",
       "         [91.  ,  1.  ,  5.  , ...,  2.  ,  2.33,  0.  ]],\n",
       "\n",
       "        [[92.  ,  1.  ,  3.  , ...,  1.  ,  1.67, -0.33],\n",
       "         [93.  ,  1.  ,  4.  , ...,  1.  ,  2.33,  0.33],\n",
       "         [94.  ,  1.  ,  3.  , ...,  3.  ,  3.  ,  0.  ],\n",
       "         [95.  ,  1.  ,  4.  , ...,  2.  ,  3.  ,  0.33]],\n",
       "\n",
       "        [[96.  ,  1.  ,  2.  , ...,  3.  ,  3.  ,  1.33],\n",
       "         [97.  ,  1.  ,  4.  , ...,  3.  ,  2.33,  0.33],\n",
       "         [98.  ,  1.  ,  4.  , ...,  4.  ,  3.67,  1.33],\n",
       "         [99.  ,  1.  ,  4.  , ...,  4.  ,  3.33,  1.  ]]]],\n",
       "      shape=(5, 5, 4, 11))"
      ]
     },
     "execution_count": 15,
     "metadata": {},
     "output_type": "execute_result"
    }
   ],
   "source": [
    "array[:100, :100].reshape(5, 5, 4, 11)"
   ]
  },
  {
   "cell_type": "code",
   "execution_count": 16,
   "id": "920812f5-3d11-4c8a-838f-ac2b658629e8",
   "metadata": {},
   "outputs": [
    {
     "data": {
      "text/plain": [
       "np.True_"
      ]
     },
     "execution_count": 16,
     "metadata": {},
     "output_type": "execute_result"
    }
   ],
   "source": [
    "# We can index using tuples:\n",
    "array[(1,2)] == array[1, 2]"
   ]
  },
  {
   "cell_type": "code",
   "execution_count": 17,
   "id": "f16833a3-8920-430c-98a4-38191f01283c",
   "metadata": {},
   "outputs": [
    {
     "data": {
      "text/plain": [
       "array([[3.  , 0.  , 2.  , 0.  , 2.  , 1.33, 5.  , 4.  , 5.  , 4.67, 3.33],\n",
       "       [4.  , 0.  , 3.  , 1.  , 3.  , 2.33, 4.  , 4.  , 5.  , 4.33, 2.  ]])"
      ]
     },
     "execution_count": 17,
     "metadata": {},
     "output_type": "execute_result"
    }
   ],
   "source": [
    "# We can index rows (and columns) using numpy arrays:\n",
    "array[np.array([3, 4])]"
   ]
  },
  {
   "cell_type": "markdown",
   "id": "b6426758-c384-4986-9382-a3de7fee8a73",
   "metadata": {},
   "source": [
    "## Boolean masks"
   ]
  },
  {
   "cell_type": "code",
   "execution_count": 18,
   "id": "3d8b0b86-e4fd-4aa0-ad2e-f6d4fdee9863",
   "metadata": {},
   "outputs": [
    {
     "data": {
      "text/plain": [
       "array([[ True,  True,  True,  True,  True,  True,  True,  True,  True,\n",
       "         True,  True],\n",
       "       [ True,  True,  True,  True,  True,  True,  True,  True,  True,\n",
       "         True,  True]])"
      ]
     },
     "execution_count": 18,
     "metadata": {},
     "output_type": "execute_result"
    }
   ],
   "source": [
    "array[np.array([2, 3])] == np.array([array[2], array[3]])"
   ]
  },
  {
   "cell_type": "code",
   "execution_count": 19,
   "id": "3e011476-5dfa-4cc7-b992-1805293b1a30",
   "metadata": {},
   "outputs": [
    {
     "data": {
      "text/plain": [
       "array([[0., 0., 2.],\n",
       "       [1., 0., 4.],\n",
       "       [2., 0., 3.]])"
      ]
     },
     "execution_count": 19,
     "metadata": {},
     "output_type": "execute_result"
    }
   ],
   "source": [
    "small_array = array[:3, :3].astype(float)\n",
    "small_array"
   ]
  },
  {
   "cell_type": "code",
   "execution_count": 20,
   "id": "62c32911-9d49-42b0-a01e-85a3af3bc9ab",
   "metadata": {},
   "outputs": [
    {
     "data": {
      "text/plain": [
       "(array([1, 2]), array([2, 2]))"
      ]
     },
     "execution_count": 20,
     "metadata": {},
     "output_type": "execute_result"
    }
   ],
   "source": [
    "index = np.where(small_array > 2)\n",
    "index"
   ]
  },
  {
   "cell_type": "code",
   "execution_count": 21,
   "id": "6d9328dd-0f34-4194-939e-cf60af8c05d4",
   "metadata": {},
   "outputs": [
    {
     "data": {
      "text/plain": [
       "array([4., 3.])"
      ]
     },
     "execution_count": 21,
     "metadata": {},
     "output_type": "execute_result"
    }
   ],
   "source": [
    "small_array[index]"
   ]
  },
  {
   "cell_type": "code",
   "execution_count": 22,
   "id": "fbf14043-5fe0-4801-805a-7519cb925ec6",
   "metadata": {},
   "outputs": [
    {
     "data": {
      "text/plain": [
       "array([4., 3.])"
      ]
     },
     "execution_count": 22,
     "metadata": {},
     "output_type": "execute_result"
    }
   ],
   "source": [
    "small_array[small_array > 2]"
   ]
  },
  {
   "cell_type": "code",
   "execution_count": 23,
   "id": "7318dc11-5926-4cdf-8927-c69e78b1cfdc",
   "metadata": {},
   "outputs": [
    {
     "data": {
      "text/plain": [
       "array([[0., 0., 2.],\n",
       "       [1., 0., 4.],\n",
       "       [2., 0., 3.]])"
      ]
     },
     "execution_count": 23,
     "metadata": {},
     "output_type": "execute_result"
    }
   ],
   "source": [
    "small_array"
   ]
  },
  {
   "cell_type": "code",
   "execution_count": 24,
   "id": "bc9ceb44-87fa-4842-8784-2a42a5141d1a",
   "metadata": {},
   "outputs": [
    {
     "data": {
      "text/plain": [
       "array([0., 1., 0., 4., 2., 0., 3.])"
      ]
     },
     "execution_count": 24,
     "metadata": {},
     "output_type": "execute_result"
    }
   ],
   "source": [
    "np.delete(small_array, index)"
   ]
  },
  {
   "cell_type": "code",
   "execution_count": 25,
   "id": "932a5a76-711f-4f76-86a8-7bc3512ecbfa",
   "metadata": {},
   "outputs": [
    {
     "data": {
      "text/plain": [
       "array([0., 1., 0., 4., 2., 0., 3.])"
      ]
     },
     "execution_count": 25,
     "metadata": {},
     "output_type": "execute_result"
    }
   ],
   "source": [
    "# Index carries a tupple of lists:\n",
    "np.delete(small_array, ([1,2],[2,2]))"
   ]
  },
  {
   "cell_type": "code",
   "execution_count": 26,
   "id": "2157af44-3160-4fd9-9462-bd5d8cfdd87f",
   "metadata": {},
   "outputs": [
    {
     "data": {
      "text/plain": [
       "array([0., 1., 0., 4., 2., 0., 3.])"
      ]
     },
     "execution_count": 26,
     "metadata": {},
     "output_type": "execute_result"
    }
   ],
   "source": [
    "# It looks like the object (tupple of lists) is flattened and used as a set of indexes to delete:\n",
    "np.delete(small_array, [1, 2])"
   ]
  },
  {
   "cell_type": "code",
   "execution_count": 27,
   "id": "264c9cea-6eb5-4279-8f85-fb1afe35ce51",
   "metadata": {},
   "outputs": [
    {
     "data": {
      "text/plain": [
       "array([[False, False, False],\n",
       "       [False, False,  True],\n",
       "       [False, False,  True]])"
      ]
     },
     "execution_count": 27,
     "metadata": {},
     "output_type": "execute_result"
    }
   ],
   "source": [
    "small_array > 2"
   ]
  },
  {
   "cell_type": "code",
   "execution_count": 28,
   "id": "05d828d1-795d-48a3-a9fd-c0f2eb80cce7",
   "metadata": {},
   "outputs": [
    {
     "data": {
      "text/plain": [
       "array([4., 3.])"
      ]
     },
     "execution_count": 28,
     "metadata": {},
     "output_type": "execute_result"
    }
   ],
   "source": [
    "small_array[small_array > 2]"
   ]
  },
  {
   "cell_type": "code",
   "execution_count": 29,
   "id": "3286f03f-7266-4cfb-95b5-6e0fac33f637",
   "metadata": {},
   "outputs": [
    {
     "data": {
      "text/plain": [
       "array([2., 1., 2., 3.])"
      ]
     },
     "execution_count": 29,
     "metadata": {},
     "output_type": "execute_result"
    }
   ],
   "source": [
    "small_array[(small_array > 0) & (small_array < 4)]"
   ]
  },
  {
   "cell_type": "code",
   "execution_count": 30,
   "id": "35141078-7a86-4a06-8963-91eeffca7ce3",
   "metadata": {},
   "outputs": [
    {
     "data": {
      "text/plain": [
       "np.True_"
      ]
     },
     "execution_count": 30,
     "metadata": {},
     "output_type": "execute_result"
    }
   ],
   "source": [
    "np.isnan(array).any()"
   ]
  },
  {
   "cell_type": "code",
   "execution_count": 31,
   "id": "8ab6b987-3d2b-40cf-9013-b69ccaa7beed",
   "metadata": {},
   "outputs": [
    {
     "data": {
      "text/plain": [
       "np.False_"
      ]
     },
     "execution_count": 31,
     "metadata": {},
     "output_type": "execute_result"
    }
   ],
   "source": [
    "array[np.isnan(array)] = 0\n",
    "np.isnan(array).any()"
   ]
  },
  {
   "cell_type": "code",
   "execution_count": 32,
   "id": "409c8c5e-473b-4619-b215-56deb14ba88c",
   "metadata": {},
   "outputs": [
    {
     "data": {
      "text/plain": [
       "array([[ 0,  1,  2,  3,  4,  5,  6,  7,  8,  9],\n",
       "       [10, 11, 12, 13, 14, 15, 16, 17, 18, 19],\n",
       "       [20, 21, 22, 23, 24, 25, 26, 27, 28, 29],\n",
       "       [30, 31, 32, 33, 34, 35, 36, 37, 38, 39],\n",
       "       [40, 41, 42, 43, 44, 45, 46, 47, 48, 49]])"
      ]
     },
     "execution_count": 32,
     "metadata": {},
     "output_type": "execute_result"
    }
   ],
   "source": [
    "new_array = np.arange(50).reshape(5, 10)\n",
    "new_array"
   ]
  },
  {
   "cell_type": "code",
   "execution_count": 33,
   "id": "63b6ad42-3f91-43fb-ad18-3d5f262567e8",
   "metadata": {},
   "outputs": [
    {
     "data": {
      "text/plain": [
       "array([[False, False, False, False, False, False, False, False, False,\n",
       "        False],\n",
       "       [False, False, False, False, False, False,  True,  True,  True,\n",
       "         True],\n",
       "       [ True,  True,  True,  True,  True,  True,  True,  True,  True,\n",
       "         True],\n",
       "       [ True,  True,  True,  True,  True, False, False, False, False,\n",
       "        False],\n",
       "       [False, False, False, False, False, False, False, False, False,\n",
       "        False]])"
      ]
     },
     "execution_count": 33,
     "metadata": {},
     "output_type": "execute_result"
    }
   ],
   "source": [
    "mask = (new_array > 15) & (new_array < 35)\n",
    "mask"
   ]
  },
  {
   "cell_type": "code",
   "execution_count": 34,
   "id": "941f7067-6c85-4d76-a3d4-ce678c73c84b",
   "metadata": {},
   "outputs": [
    {
     "data": {
      "text/plain": [
       "array([False, False,  True, False, False])"
      ]
     },
     "execution_count": 34,
     "metadata": {},
     "output_type": "execute_result"
    }
   ],
   "source": [
    "mask[:, 5]"
   ]
  },
  {
   "cell_type": "code",
   "execution_count": 35,
   "id": "a8e6210b-eb45-4528-98a1-d592536d9214",
   "metadata": {},
   "outputs": [
    {
     "data": {
      "text/plain": [
       "array([[22, 24, 26]])"
      ]
     },
     "execution_count": 35,
     "metadata": {},
     "output_type": "execute_result"
    }
   ],
   "source": [
    "new_array[mask[:, 5], 2:8:2]"
   ]
  },
  {
   "cell_type": "markdown",
   "id": "d23a9b19-7e94-4182-bfcd-2bf7d64a6c65",
   "metadata": {},
   "source": [
    "## Broadcasting"
   ]
  },
  {
   "cell_type": "code",
   "execution_count": 36,
   "id": "b083aa78-c30d-4de1-85a3-1800dd6eb334",
   "metadata": {},
   "outputs": [
    {
     "name": "stdout",
     "output_type": "stream",
     "text": [
      "operands could not be broadcast together with shapes (4,) (4,5) \n"
     ]
    }
   ],
   "source": [
    "a = np.arange(4)\n",
    "b = np.arange(20).reshape(4, 5)\n",
    "try:\n",
    "  a * b\n",
    "except Exception as e:\n",
    "  print(e)"
   ]
  },
  {
   "cell_type": "code",
   "execution_count": 37,
   "id": "1788833e-db07-4468-b526-b37ec6bd88ec",
   "metadata": {},
   "outputs": [
    {
     "data": {
      "text/plain": [
       "array([[ 0,  1,  2,  3,  4],\n",
       "       [ 6,  7,  8,  9, 10],\n",
       "       [12, 13, 14, 15, 16],\n",
       "       [18, 19, 20, 21, 22]])"
      ]
     },
     "execution_count": 37,
     "metadata": {},
     "output_type": "execute_result"
    }
   ],
   "source": [
    "a.reshape(4, 1) + b"
   ]
  },
  {
   "cell_type": "code",
   "execution_count": 38,
   "id": "ce293ae2-4cb6-4985-9868-f9ed2bb9ecd1",
   "metadata": {},
   "outputs": [
    {
     "data": {
      "text/plain": [
       "array([[10],\n",
       "       [20],\n",
       "       [30],\n",
       "       [40],\n",
       "       [50]])"
      ]
     },
     "execution_count": 38,
     "metadata": {},
     "output_type": "execute_result"
    }
   ],
   "source": [
    "a = np.arange(10, 51, 10).reshape(5, 1)\n",
    "a"
   ]
  },
  {
   "cell_type": "code",
   "execution_count": 39,
   "id": "cac17ba4-41b8-45c2-a492-3417f4b5935e",
   "metadata": {},
   "outputs": [
    {
     "data": {
      "text/plain": [
       "array([[0, 1, 2]])"
      ]
     },
     "execution_count": 39,
     "metadata": {},
     "output_type": "execute_result"
    }
   ],
   "source": [
    "b = np.arange(3).reshape(1, 3)\n",
    "b"
   ]
  },
  {
   "cell_type": "code",
   "execution_count": 40,
   "id": "3e2f0a7c-ada6-4800-883c-9f2b7965c414",
   "metadata": {},
   "outputs": [
    {
     "data": {
      "text/plain": [
       "array([[10, 11, 12],\n",
       "       [20, 21, 22],\n",
       "       [30, 31, 32],\n",
       "       [40, 41, 42],\n",
       "       [50, 51, 52]])"
      ]
     },
     "execution_count": 40,
     "metadata": {},
     "output_type": "execute_result"
    }
   ],
   "source": [
    "a + b"
   ]
  },
  {
   "cell_type": "markdown",
   "id": "a0cde475-f564-4db0-b60f-07dcb1e5d628",
   "metadata": {},
   "source": [
    "## Operations"
   ]
  },
  {
   "cell_type": "code",
   "execution_count": 41,
   "id": "d51755f6-91cc-4374-a9a0-4738c0fa22d6",
   "metadata": {},
   "outputs": [
    {
     "data": {
      "text/plain": [
       "array([[  0.  ,   0.  ,   2.  , ...,   3.  ,   2.67,   1.67],\n",
       "       [  1.  ,   0.  ,   4.  , ...,   2.  ,   2.33,  -0.33],\n",
       "       [  2.  ,   0.  ,   3.  , ...,   4.  ,   4.  ,   2.33],\n",
       "       ...,\n",
       "       [196.  ,   2.  ,    nan, ...,    nan,    nan,    nan],\n",
       "       [197.  ,   2.  ,    nan, ...,    nan,    nan,    nan],\n",
       "       [198.  ,   2.  ,    nan, ...,    nan,    nan,    nan]],\n",
       "      shape=(199, 11))"
      ]
     },
     "execution_count": 41,
     "metadata": {},
     "output_type": "execute_result"
    }
   ],
   "source": [
    "array = np.genfromtxt('dataset.csv', delimiter=',')\n",
    "array"
   ]
  },
  {
   "cell_type": "code",
   "execution_count": 42,
   "id": "e8156622-4dae-4f49-85ba-fbfa7497683c",
   "metadata": {},
   "outputs": [
    {
     "data": {
      "text/plain": [
       "array([[  0.  ,   0.  ,   2.  , ...,   3.  ,   2.67,   1.67],\n",
       "       [  1.  ,   0.  ,   4.  , ...,   2.  ,   2.33,  -0.33],\n",
       "       [  2.  ,   0.  ,   3.  , ...,   4.  ,   4.  ,   2.33],\n",
       "       ...,\n",
       "       [178.  ,   2.  ,   4.  , ...,   1.  ,   2.  ,   0.  ],\n",
       "       [179.  ,   2.  ,   4.  , ...,   1.  ,   1.33,  -1.  ],\n",
       "       [180.  ,   2.  ,   1.  , ...,   2.  ,   2.67,   0.67]],\n",
       "      shape=(151, 11))"
      ]
     },
     "execution_count": 42,
     "metadata": {},
     "output_type": "execute_result"
    }
   ],
   "source": [
    "# Select rows that have no NAN values only:\n",
    "clean_array = array[~np.isnan(array).any(axis=1), :]\n",
    "clean_array"
   ]
  },
  {
   "cell_type": "code",
   "execution_count": 43,
   "id": "2f6a5ab0-5d96-4f04-b3f6-781c180af667",
   "metadata": {},
   "outputs": [
    {
     "data": {
      "text/plain": [
       "np.float64(16658.97)"
      ]
     },
     "execution_count": 43,
     "metadata": {},
     "output_type": "execute_result"
    }
   ],
   "source": [
    "# Sum all the elements:\n",
    "clean_array.sum()"
   ]
  },
  {
   "cell_type": "code",
   "execution_count": 44,
   "id": "34d42fe0-88dc-46f1-8e80-9f82fa59fecf",
   "metadata": {},
   "outputs": [
    {
     "data": {
      "text/plain": [
       "array([13215.  ,   174.  ,   478.  ,   203.  ,   294.  ,   324.99,\n",
       "         441.  ,   491.  ,   445.  ,   458.98,   134.  ])"
      ]
     },
     "execution_count": 44,
     "metadata": {},
     "output_type": "execute_result"
    }
   ],
   "source": [
    "# Sum along rows, vertically, results count equals column count\n",
    "clean_array.sum(axis=0)"
   ]
  },
  {
   "cell_type": "code",
   "execution_count": 45,
   "id": "b6f11da1-3111-4ee2-8a86-38e2d4ab5a98",
   "metadata": {},
   "outputs": [
    {
     "data": {
      "text/plain": [
       "array([ 16.34,  20.67,  27.  ,  30.33,  32.66,  29.  ,  24.66,  28.67,\n",
       "        27.  ,  35.  ,  35.66,  27.34,  33.67,  27.  ,  28.66,  42.33,\n",
       "        44.34,  35.  ,  43.33,  41.66,  46.  ,  50.  ,  46.34,  45.66,\n",
       "        42.34,  55.33,  48.  ,  45.  ,  57.66,  53.  ,  60.67,  55.34,\n",
       "        65.34,  61.  ,  59.34,  57.67,  63.  ,  59.67,  68.  ,  61.67,\n",
       "        60.  ,  81.34,  71.33,  71.  ,  76.66,  68.  ,  75.  ,  71.66,\n",
       "        87.66,  70.  ,  73.66,  79.66,  76.34,  74.  ,  88.  ,  83.66,\n",
       "        86.67,  89.66,  86.  ,  89.67,  96.66,  86.67,  89.  ,  94.66,\n",
       "        89.34,  89.66,  95.66,  95.66,  94.33, 101.34,  96.33, 109.  ,\n",
       "        95.66, 100.  ,  98.34, 103.34, 110.  , 109.66, 105.  , 100.  ,\n",
       "       110.34, 107.33, 106.34, 109.  , 106.  , 111.33, 110.66, 107.34,\n",
       "       111.66, 119.  , 119.  , 117.  , 115.66, 124.33, 123.66, 123.  ,\n",
       "       118.67, 125.  , 123.67, 118.34, 151.67, 152.34, 154.  , 159.34,\n",
       "       157.67, 162.33, 156.34, 157.66, 162.66, 162.34, 166.34, 166.  ,\n",
       "       169.33, 166.  , 170.34, 168.34, 164.  , 176.33, 165.  , 167.  ,\n",
       "       174.  , 177.67, 169.66, 182.67, 188.34, 176.34, 173.  , 176.66,\n",
       "       182.34, 187.34, 183.  , 188.66, 178.  , 188.66, 195.  , 184.33,\n",
       "       192.34, 191.66, 192.66, 191.  , 187.66, 198.  , 201.66, 201.  ,\n",
       "       198.33, 193.67, 195.  , 204.33, 196.  , 194.66, 201.34])"
      ]
     },
     "execution_count": 45,
     "metadata": {},
     "output_type": "execute_result"
    }
   ],
   "source": [
    "# Sum along columns, horizontally, results count equals row count\n",
    "clean_array.sum(axis=1)"
   ]
  },
  {
   "cell_type": "code",
   "execution_count": 46,
   "id": "1d0cb5b9-2509-4aae-b881-956f1e49a52a",
   "metadata": {},
   "outputs": [
    {
     "data": {
      "text/plain": [
       "np.float64(1.126373066250029)"
      ]
     },
     "execution_count": 46,
     "metadata": {},
     "output_type": "execute_result"
    }
   ],
   "source": [
    "np.std(clean_array[:, 8])"
   ]
  },
  {
   "cell_type": "code",
   "execution_count": 47,
   "id": "e5aa50ca-bbda-491a-9205-71a6b243e153",
   "metadata": {},
   "outputs": [
    {
     "data": {
      "text/plain": [
       "array([[ 25,  28,  31,  34,  37],\n",
       "       [ 70,  82,  94, 106, 118],\n",
       "       [115, 136, 157, 178, 199],\n",
       "       [160, 190, 220, 250, 280]])"
      ]
     },
     "execution_count": 47,
     "metadata": {},
     "output_type": "execute_result"
    }
   ],
   "source": [
    "# Matrix multiplication:\n",
    "A = np.arange(12).reshape(4,3)\n",
    "B = np.arange(15).reshape(3,5)\n",
    "A.dot(B)"
   ]
  },
  {
   "cell_type": "code",
   "execution_count": 48,
   "id": "35d9a187-3133-405e-8ab6-75a91ef99793",
   "metadata": {},
   "outputs": [
    {
     "data": {
      "text/plain": [
       "array([[ 25,  28,  31,  34,  37],\n",
       "       [ 70,  82,  94, 106, 118],\n",
       "       [115, 136, 157, 178, 199],\n",
       "       [160, 190, 220, 250, 280]])"
      ]
     },
     "execution_count": 48,
     "metadata": {},
     "output_type": "execute_result"
    }
   ],
   "source": [
    "# Another notation for matrix multiplication:\n",
    "A @ B"
   ]
  },
  {
   "cell_type": "markdown",
   "id": "39810278-e98d-4eda-ad9d-34de93c46aeb",
   "metadata": {},
   "source": [
    "## Sorting"
   ]
  },
  {
   "cell_type": "code",
   "execution_count": 49,
   "id": "92830939-e145-42f6-8561-e4f99aa8f480",
   "metadata": {},
   "outputs": [
    {
     "data": {
      "text/plain": [
       "array([3.  , 0.  , 2.  , 0.  , 2.  , 1.33, 5.  , 4.  , 5.  , 4.67, 3.33])"
      ]
     },
     "execution_count": 49,
     "metadata": {},
     "output_type": "execute_result"
    }
   ],
   "source": [
    "a = array[3]\n",
    "a"
   ]
  },
  {
   "cell_type": "code",
   "execution_count": 50,
   "id": "77aa706b-4c58-4480-9a95-4e69f91440b6",
   "metadata": {},
   "outputs": [
    {
     "data": {
      "text/plain": [
       "array([0.  , 0.  , 1.33, 2.  , 2.  , 3.  , 3.33, 4.  , 4.67, 5.  , 5.  ])"
      ]
     },
     "execution_count": 50,
     "metadata": {},
     "output_type": "execute_result"
    }
   ],
   "source": [
    "# Create a sorted copy of an array:\n",
    "np.sort(a)"
   ]
  },
  {
   "cell_type": "code",
   "execution_count": 51,
   "id": "74f31ef1-82d6-4541-9d87-f6ae23a4f3e3",
   "metadata": {},
   "outputs": [
    {
     "data": {
      "text/plain": [
       "array([3.  , 0.  , 2.  , 0.  , 2.  , 1.33, 5.  , 4.  , 5.  , 4.67, 3.33])"
      ]
     },
     "execution_count": 51,
     "metadata": {},
     "output_type": "execute_result"
    }
   ],
   "source": [
    "a"
   ]
  },
  {
   "cell_type": "code",
   "execution_count": 52,
   "id": "ffbf0ada-4200-4b42-9cfc-ec369b30f533",
   "metadata": {},
   "outputs": [
    {
     "data": {
      "text/plain": [
       "array([0.  , 0.  , 1.33, 2.  , 2.  , 3.  , 3.33, 4.  , 4.67, 5.  , 5.  ])"
      ]
     },
     "execution_count": 52,
     "metadata": {},
     "output_type": "execute_result"
    }
   ],
   "source": [
    "# Sort the original array:\n",
    "a.sort()\n",
    "a"
   ]
  },
  {
   "cell_type": "code",
   "execution_count": 56,
   "id": "b8df032e-3417-4f44-8029-98a4778194fe",
   "metadata": {},
   "outputs": [
    {
     "data": {
      "text/plain": [
       "array([0.  , 0.  , 1.33, 2.  , 2.  , 3.  , 3.33, 4.  , 4.67, 5.  , 5.  ])"
      ]
     },
     "execution_count": 56,
     "metadata": {},
     "output_type": "execute_result"
    }
   ],
   "source": [
    "# And because a is a slice of array, it also gets sorted:\n",
    "array[3]"
   ]
  },
  {
   "cell_type": "code",
   "execution_count": 57,
   "id": "9d9b39f8-5025-494e-8d93-8b2d6d52940c",
   "metadata": {},
   "outputs": [
    {
     "data": {
      "text/plain": [
       "array([[1.  , 0.  , 4.  , 0.  , 4.  , 2.67, 3.  , 2.  , 2.  , 2.33],\n",
       "       [2.  , 0.  , 3.  , 0.  , 2.  , 1.67, 4.  , 4.  , 4.  , 4.  ],\n",
       "       [3.  , 0.  , 2.  , 0.  , 2.  , 1.33, 5.  , 4.  , 5.  , 4.67]])"
      ]
     },
     "execution_count": 57,
     "metadata": {},
     "output_type": "execute_result"
    }
   ],
   "source": [
    "array = np.genfromtxt('dataset.csv', delimiter=',')\n",
    "b = array[1:4, :10]\n",
    "b"
   ]
  },
  {
   "cell_type": "code",
   "execution_count": 59,
   "id": "2137dbd2-88a5-4cbb-950e-d1d79fa93b42",
   "metadata": {},
   "outputs": [
    {
     "data": {
      "text/plain": [
       "array([[0.  , 0.  , 1.  , 2.  , 2.  , 2.33, 2.67, 3.  , 4.  , 4.  ],\n",
       "       [0.  , 0.  , 1.67, 2.  , 2.  , 3.  , 4.  , 4.  , 4.  , 4.  ],\n",
       "       [0.  , 0.  , 1.33, 2.  , 2.  , 3.  , 4.  , 4.67, 5.  , 5.  ]])"
      ]
     },
     "execution_count": 59,
     "metadata": {},
     "output_type": "execute_result"
    }
   ],
   "source": [
    "np.sort(b)"
   ]
  },
  {
   "cell_type": "code",
   "execution_count": 60,
   "id": "523a3f89-3da4-4463-af0d-211b7fbc8a8a",
   "metadata": {},
   "outputs": [
    {
     "data": {
      "text/plain": [
       "array([[0.  , 0.  , 1.  , 2.  , 2.  , 2.33, 2.67, 3.  , 4.  , 4.  ],\n",
       "       [0.  , 0.  , 1.67, 2.  , 2.  , 3.  , 4.  , 4.  , 4.  , 4.  ],\n",
       "       [0.  , 0.  , 1.33, 2.  , 2.  , 3.  , 4.  , 4.67, 5.  , 5.  ]])"
      ]
     },
     "execution_count": 60,
     "metadata": {},
     "output_type": "execute_result"
    }
   ],
   "source": [
    "np.sort(b, axis=-1)"
   ]
  },
  {
   "cell_type": "code",
   "execution_count": 62,
   "id": "44b7e269-db60-4e56-9898-b99fc62edf9b",
   "metadata": {},
   "outputs": [
    {
     "data": {
      "text/plain": [
       "array([[0.  , 0.  , 1.  , 2.  , 2.  , 2.33, 2.67, 3.  , 4.  , 4.  ],\n",
       "       [0.  , 0.  , 1.67, 2.  , 2.  , 3.  , 4.  , 4.  , 4.  , 4.  ],\n",
       "       [0.  , 0.  , 1.33, 2.  , 2.  , 3.  , 4.  , 4.67, 5.  , 5.  ]])"
      ]
     },
     "execution_count": 62,
     "metadata": {},
     "output_type": "execute_result"
    }
   ],
   "source": [
    "np.sort(b, axis=1)"
   ]
  },
  {
   "cell_type": "code",
   "execution_count": 63,
   "id": "d750c6ad-fcbf-4b25-ae75-71b4a0136c11",
   "metadata": {},
   "outputs": [
    {
     "data": {
      "text/plain": [
       "array([[1.  , 0.  , 2.  , 0.  , 2.  , 1.33, 3.  , 2.  , 2.  , 2.33],\n",
       "       [2.  , 0.  , 3.  , 0.  , 2.  , 1.67, 4.  , 4.  , 4.  , 4.  ],\n",
       "       [3.  , 0.  , 4.  , 0.  , 4.  , 2.67, 5.  , 4.  , 5.  , 4.67]])"
      ]
     },
     "execution_count": 63,
     "metadata": {},
     "output_type": "execute_result"
    }
   ],
   "source": [
    "np.sort(b, axis=0)"
   ]
  },
  {
   "cell_type": "code",
   "execution_count": 68,
   "id": "293eed59-a457-4ad0-8ac0-f69f855e4c95",
   "metadata": {},
   "outputs": [
    {
     "data": {
      "text/plain": [
       "array([3.  , 0.  , 2.  , 0.  , 2.  , 1.33, 5.  , 4.  , 5.  , 4.67, 3.33])"
      ]
     },
     "execution_count": 68,
     "metadata": {},
     "output_type": "execute_result"
    }
   ],
   "source": [
    "a = array[3]\n",
    "a"
   ]
  },
  {
   "cell_type": "code",
   "execution_count": 69,
   "id": "16affffa-c7cb-43d9-a1f5-a8623dd8f2cc",
   "metadata": {},
   "outputs": [
    {
     "data": {
      "text/plain": [
       "array([ 1,  3,  5,  2,  4,  0, 10,  7,  9,  6,  8])"
      ]
     },
     "execution_count": 69,
     "metadata": {},
     "output_type": "execute_result"
    }
   ],
   "source": [
    "np.argsort(a)"
   ]
  },
  {
   "cell_type": "code",
   "execution_count": 70,
   "id": "a990407a-6ccb-4cfc-9795-82d475c68f71",
   "metadata": {},
   "outputs": [
    {
     "data": {
      "text/plain": [
       "array([0.  , 0.  , 1.33, 2.  , 2.  , 3.  , 3.33, 4.  , 4.67, 5.  , 5.  ])"
      ]
     },
     "execution_count": 70,
     "metadata": {},
     "output_type": "execute_result"
    }
   ],
   "source": [
    "a[np.argsort(a)]"
   ]
  },
  {
   "cell_type": "code",
   "execution_count": 72,
   "id": "1230ccc4-a618-4686-ae1a-46ed0a1e0ee7",
   "metadata": {},
   "outputs": [
    {
     "data": {
      "text/plain": [
       "array([0.  , 0.  , 1.33, 2.  , 2.  , 3.  , 3.33, 4.  , 4.67, 5.  , 5.  ])"
      ]
     },
     "execution_count": 72,
     "metadata": {},
     "output_type": "execute_result"
    }
   ],
   "source": [
    "np.sort(a)"
   ]
  },
  {
   "cell_type": "markdown",
   "id": "5ce56577-1b0d-49fc-9a1f-5b2f71fe4cd8",
   "metadata": {},
   "source": [
    "## Searching"
   ]
  },
  {
   "cell_type": "code",
   "execution_count": 77,
   "id": "dd006b81-b27c-4ab9-beae-61ce06a5bb41",
   "metadata": {},
   "outputs": [
    {
     "data": {
      "text/plain": [
       "array([ 1.  ,  0.  ,  4.  ,  0.  ,  4.  ,  2.67,  3.  ,  2.  ,  2.  ,\n",
       "        2.33, -0.33])"
      ]
     },
     "execution_count": 77,
     "metadata": {},
     "output_type": "execute_result"
    }
   ],
   "source": [
    "a = array[1]\n",
    "a"
   ]
  },
  {
   "cell_type": "code",
   "execution_count": 78,
   "id": "93aacd8e-3622-42a5-9a0e-5aba9d5909f2",
   "metadata": {},
   "outputs": [
    {
     "data": {
      "text/plain": [
       "(array([2, 4]),)"
      ]
     },
     "execution_count": 78,
     "metadata": {},
     "output_type": "execute_result"
    }
   ],
   "source": [
    "np.where(a == 4)"
   ]
  },
  {
   "cell_type": "code",
   "execution_count": 79,
   "id": "1778d842-6ddc-40ac-ac5e-f8e5d0430502",
   "metadata": {},
   "outputs": [
    {
     "data": {
      "text/plain": [
       "array([4., 4.])"
      ]
     },
     "execution_count": 79,
     "metadata": {},
     "output_type": "execute_result"
    }
   ],
   "source": [
    "a[np.where(a == 4)]"
   ]
  },
  {
   "cell_type": "code",
   "execution_count": 80,
   "id": "614d8d28-740d-496f-b8e6-a68291014aec",
   "metadata": {},
   "outputs": [
    {
     "data": {
      "text/plain": [
       "array([[2.  , 0.  , 3.  , 0.  , 2.  , 1.67, 4.  , 4.  , 4.  , 4.  , 2.33],\n",
       "       [3.  , 0.  , 2.  , 0.  , 2.  , 1.33, 5.  , 4.  , 5.  , 4.67, 3.33],\n",
       "       [4.  , 0.  , 3.  , 1.  , 3.  , 2.33, 4.  , 4.  , 5.  , 4.33, 2.  ]])"
      ]
     },
     "execution_count": 80,
     "metadata": {},
     "output_type": "execute_result"
    }
   ],
   "source": [
    "a = array[2:5]\n",
    "a"
   ]
  },
  {
   "cell_type": "code",
   "execution_count": 91,
   "id": "418f98e0-c8aa-4637-93c2-453df64458d1",
   "metadata": {},
   "outputs": [
    {
     "data": {
      "text/plain": [
       "(array([0, 0, 0, 0, 0, 0, 0, 1, 1, 1, 1, 1, 1, 1, 2, 2, 2, 2, 2, 2]),\n",
       " array([ 0,  1,  2,  3,  4,  5, 10,  0,  1,  2,  3,  4,  5, 10,  1,  2,  3,\n",
       "         4,  5, 10]))"
      ]
     },
     "execution_count": 91,
     "metadata": {},
     "output_type": "execute_result"
    }
   ],
   "source": [
    "# Finds the indexes of the elements that are less than 4,\n",
    "# and returns the result as a touple of two arrays,\n",
    "# the first one contains row indexes and the second one column indexes:\n",
    "np.where(a < 4)"
   ]
  },
  {
   "cell_type": "code",
   "execution_count": 95,
   "id": "9db216d9-111a-4e73-aafe-21fdbbf89b8d",
   "metadata": {},
   "outputs": [
    {
     "data": {
      "text/plain": [
       "array([[   2.  ,    0.  ,    3.  ,    0.  ,    2.  ,    1.67, -100.  ,\n",
       "        -100.  , -100.  , -100.  ,    2.33],\n",
       "       [   3.  ,    0.  ,    2.  ,    0.  ,    2.  ,    1.33, -100.  ,\n",
       "        -100.  , -100.  , -100.  ,    3.33],\n",
       "       [-100.  ,    0.  ,    3.  ,    1.  ,    3.  ,    2.33, -100.  ,\n",
       "        -100.  , -100.  , -100.  ,    2.  ]])"
      ]
     },
     "execution_count": 95,
     "metadata": {},
     "output_type": "execute_result"
    }
   ],
   "source": [
    "np.where(a < 4, a, -100)"
   ]
  },
  {
   "cell_type": "code",
   "execution_count": 97,
   "id": "9458668f-ba3f-4431-b4c4-35a3891252fb",
   "metadata": {},
   "outputs": [
    {
     "data": {
      "text/plain": [
       "array([4.  , 0.  , 3.  , 1.  , 3.  , 2.33, 4.  , 4.  , 5.  , 4.33, 2.  ])"
      ]
     },
     "execution_count": 97,
     "metadata": {},
     "output_type": "execute_result"
    }
   ],
   "source": [
    "a = array[4]\n",
    "a"
   ]
  },
  {
   "cell_type": "code",
   "execution_count": 99,
   "id": "e309899c-97df-4d69-a88c-fa0d05c49cc5",
   "metadata": {},
   "outputs": [
    {
     "data": {
      "text/plain": [
       "(array([ 1,  2,  3,  4,  5, 10]),)"
      ]
     },
     "execution_count": 99,
     "metadata": {},
     "output_type": "execute_result"
    }
   ],
   "source": [
    "def lessThan4(x):\n",
    "  return x < 4\n",
    "np.where(lessThan4(a))"
   ]
  },
  {
   "cell_type": "code",
   "execution_count": 100,
   "id": "c50cb4b6-e9b1-43a5-981c-c3b1c9423f12",
   "metadata": {},
   "outputs": [
    {
     "data": {
      "text/plain": [
       "(array([ 1,  2,  3,  4,  5, 10]),)"
      ]
     },
     "execution_count": 100,
     "metadata": {},
     "output_type": "execute_result"
    }
   ],
   "source": [
    "np.where(a < 4)"
   ]
  },
  {
   "cell_type": "code",
   "execution_count": 104,
   "id": "bd11062b-d6ce-4b0d-8ccf-1bcef9cc5b52",
   "metadata": {},
   "outputs": [
    {
     "data": {
      "text/plain": [
       "np.float64(5.0)"
      ]
     },
     "execution_count": 104,
     "metadata": {},
     "output_type": "execute_result"
    }
   ],
   "source": [
    "# Find max value without sorting:\n",
    "a[np.argmax(a)]"
   ]
  },
  {
   "cell_type": "markdown",
   "id": "b9b47ddc-44f5-479e-b05d-83b242ddd218",
   "metadata": {},
   "source": [
    "## Byte swapping"
   ]
  },
  {
   "cell_type": "code",
   "execution_count": 150,
   "id": "f9669001-2a76-48a7-b342-e950e9aaa63b",
   "metadata": {},
   "outputs": [
    {
     "data": {
      "text/plain": [
       "['0x1', '0x100', '0x2233']"
      ]
     },
     "execution_count": 150,
     "metadata": {},
     "output_type": "execute_result"
    }
   ],
   "source": [
    "a = np.array([1, 256, 8755])\n",
    "list(map(hex, a))"
   ]
  },
  {
   "cell_type": "code",
   "execution_count": 151,
   "id": "97ec9029-b445-45dc-918f-69b9aef4fca1",
   "metadata": {},
   "outputs": [
    {
     "data": {
      "text/plain": [
       "['00000000 00000000 00000000 00000000 00000000 00000000 00000000 00000001',\n",
       " '00000000 00000000 00000000 00000000 00000000 00000000 00000001 00000000',\n",
       " '00000000 00000000 00000000 00000000 00000000 00000000 00100010 00110011']"
      ]
     },
     "execution_count": 151,
     "metadata": {},
     "output_type": "execute_result"
    }
   ],
   "source": [
    "def toBytes(x):\n",
    "  bits = f'{x:0{64}b}'\n",
    "  return ' '.join([bits[i:i+8] for i in range(0, len(bits), 8)])\n",
    "\n",
    "list(map(toBytes, a))"
   ]
  },
  {
   "cell_type": "code",
   "execution_count": 152,
   "id": "185782b7-321d-4a5e-8790-cf505820d894",
   "metadata": {},
   "outputs": [
    {
     "data": {
      "text/plain": [
       "['00000001 00000000 00000000 00000000 00000000 00000000 00000000 00000000',\n",
       " '00000000 00000001 00000000 00000000 00000000 00000000 00000000 00000000',\n",
       " '00110011 00100010 00000000 00000000 00000000 00000000 00000000 00000000']"
      ]
     },
     "execution_count": 152,
     "metadata": {},
     "output_type": "execute_result"
    }
   ],
   "source": [
    "list(map(toBytes, a.byteswap()))"
   ]
  },
  {
   "cell_type": "code",
   "execution_count": 153,
   "id": "ae739e8f-7d1a-4c1d-9f63-f0f6a6655b21",
   "metadata": {},
   "outputs": [
    {
     "data": {
      "text/plain": [
       "['0x100000000000000', '0x1000000000000', '0x3322000000000000']"
      ]
     },
     "execution_count": 153,
     "metadata": {},
     "output_type": "execute_result"
    }
   ],
   "source": [
    "list(map(hex, a.byteswap()))"
   ]
  },
  {
   "cell_type": "code",
   "execution_count": 154,
   "id": "525063ed-06b3-4d20-a78c-c62d7c39feb5",
   "metadata": {},
   "outputs": [
    {
     "data": {
      "text/plain": [
       "array([  72057594037927936,     281474976710656, 3684507445142487040])"
      ]
     },
     "execution_count": 154,
     "metadata": {},
     "output_type": "execute_result"
    }
   ],
   "source": [
    "a.byteswap()"
   ]
  }
 ],
 "metadata": {
  "kernelspec": {
   "display_name": "Python 3 (ipykernel)",
   "language": "python",
   "name": "python3"
  },
  "language_info": {
   "codemirror_mode": {
    "name": "ipython",
    "version": 3
   },
   "file_extension": ".py",
   "mimetype": "text/x-python",
   "name": "python",
   "nbconvert_exporter": "python",
   "pygments_lexer": "ipython3",
   "version": "3.13.2"
  }
 },
 "nbformat": 4,
 "nbformat_minor": 5
}
