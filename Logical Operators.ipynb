{
 "cells": [
  {
   "cell_type": "markdown",
   "id": "bf010feb-9ce5-480e-9b0c-62301d224e7c",
   "metadata": {},
   "source": [
    "## Logical AND"
   ]
  },
  {
   "cell_type": "code",
   "execution_count": 1,
   "id": "4d50b9a0-c687-4831-af78-a2836a1bfb9a",
   "metadata": {},
   "outputs": [
    {
     "name": "stdout",
     "output_type": "stream",
     "text": [
      "True\n",
      "False\n",
      "False\n",
      "False\n"
     ]
    }
   ],
   "source": [
    "print(True and True)\n",
    "print(True and False)\n",
    "print(False and True)\n",
    "print(False and False)"
   ]
  },
  {
   "cell_type": "markdown",
   "id": "67c85387-9e46-4c99-b4b1-12a5593345fb",
   "metadata": {},
   "source": [
    "## Logical OR"
   ]
  },
  {
   "cell_type": "code",
   "execution_count": 2,
   "id": "3fcdcc15-9471-46be-b816-3123b71e2bca",
   "metadata": {},
   "outputs": [
    {
     "name": "stdout",
     "output_type": "stream",
     "text": [
      "True\n",
      "True\n",
      "True\n",
      "False\n"
     ]
    }
   ],
   "source": [
    "print(True or True)\n",
    "print(True or False)\n",
    "print(False or True)\n",
    "print(False or False)"
   ]
  },
  {
   "cell_type": "markdown",
   "id": "3a19ab10-082d-4dc3-ac43-911ff5c0e2c6",
   "metadata": {},
   "source": [
    "## Logical NOT"
   ]
  },
  {
   "cell_type": "code",
   "execution_count": 3,
   "id": "3bec52f9-d38e-4709-9223-3c93018c7bca",
   "metadata": {},
   "outputs": [
    {
     "name": "stdout",
     "output_type": "stream",
     "text": [
      "False\n",
      "True\n"
     ]
    }
   ],
   "source": [
    "print(not True)\n",
    "print(not False)"
   ]
  },
  {
   "cell_type": "code",
   "execution_count": null,
   "id": "c9016c10-8191-4cf6-b1ca-201883120e71",
   "metadata": {},
   "outputs": [],
   "source": []
  }
 ],
 "metadata": {
  "kernelspec": {
   "display_name": "Python 3 (ipykernel)",
   "language": "python",
   "name": "python3"
  },
  "language_info": {
   "codemirror_mode": {
    "name": "ipython",
    "version": 3
   },
   "file_extension": ".py",
   "mimetype": "text/x-python",
   "name": "python",
   "nbconvert_exporter": "python",
   "pygments_lexer": "ipython3",
   "version": "3.12.3"
  },
  "widgets": {
   "application/vnd.jupyter.widget-state+json": {
    "state": {},
    "version_major": 2,
    "version_minor": 0
   }
  }
 },
 "nbformat": 4,
 "nbformat_minor": 5
}
